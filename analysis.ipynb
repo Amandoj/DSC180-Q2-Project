{
 "cells": [
  {
   "cell_type": "markdown",
   "metadata": {},
   "source": [
    "## Importing Packages and Source Code"
   ]
  },
  {
   "cell_type": "code",
   "execution_count": 1,
   "metadata": {},
   "outputs": [],
   "source": [
    "import json\n",
    "import os\n",
    "import sys\n",
    "## biom used to view Qiime Artifacts\n",
    "import biom"
   ]
  },
  {
   "cell_type": "code",
   "execution_count": 2,
   "metadata": {},
   "outputs": [],
   "source": [
    "## Import Source Code\n",
    "from src.data import make_dataset\n",
    "from src.features import build_features"
   ]
  },
  {
   "cell_type": "code",
   "execution_count": 3,
   "metadata": {},
   "outputs": [],
   "source": [
    "## Creating paths to store temp and out data\n",
    "if not os.path.exists(\"data/temp\"):\n",
    "    os.makedirs(\"data/temp\")\n",
    "if not os.path.exists(\"data/out\"):\n",
    "    os.makedirs(\"data/out\")\n"
   ]
  },
  {
   "cell_type": "code",
   "execution_count": 4,
   "metadata": {},
   "outputs": [],
   "source": [
    "## Used to format graph\n",
    "import matplotlib.pyplot as plt\n",
    "plt.rcParams['figure.figsize'] = [10, 5]"
   ]
  },
  {
   "cell_type": "markdown",
   "metadata": {},
   "source": [
    "## Reading Data"
   ]
  },
  {
   "cell_type": "code",
   "execution_count": 5,
   "metadata": {},
   "outputs": [],
   "source": [
    "## Obtaining file paths\n",
    "with open(\"config/data-params.json\") as fh:\n",
    "    file_paths = json.load(fh)"
   ]
  },
  {
   "cell_type": "code",
   "execution_count": 6,
   "metadata": {},
   "outputs": [
    {
     "name": "stderr",
     "output_type": "stream",
     "text": [
      "/home/ajimenez/DSC180-Q2-Project/src/data/make_dataset.py:25: DtypeWarning: Columns (1,2,3,4,6,7,8,10,11,12,13,14,17,18,19,20,25,26,27,29,30,31,32,33,34,35,36,37,38,40,41,42,43,44,45,46,55,56,57,61,62,63,64,65,66,67,69,70,71,72,73,75,76,78,80,82,83,84,85,86,87,88,89,90,91,92,95,98,99,102,103,104,105,106,107,108,109,111,119,121,122,123,124,125,126,127,128,129,130,131,132,133,134,136,138,139,141,142,143,144,145,146,147,148,152,153,155,156,157,160,164,165,168,169,170,172,173,174,175) have mixed types. Specify dtype option on import or set low_memory=False.\n",
      "  metadata = pd.read_csv(path, sep='\\t', index_col=0)\n"
     ]
    }
   ],
   "source": [
    "feature_table = make_dataset.read_feature_table(file_paths[\"feature_table_path\"])\n",
    "metadata = make_dataset.read_metadata(file_paths[\"metadata_path\"])"
   ]
  },
  {
   "cell_type": "code",
   "execution_count": 7,
   "metadata": {},
   "outputs": [
    {
     "name": "stdout",
     "output_type": "stream",
     "text": [
      "# Constructed from biom file\n",
      "#OTU ID\t11666.BLANK7.7B\t11666.BLANK5.5B\t11666.G0341A\t11666.BLANK3.3A\t11666.BLANK5.5E\n",
      "AACATAAGGGGCAAGCGTTGTCCGGAATCACTGGGCGTAAAGGGCGCGTAGGTGGTCTGTTAAGTCAGATGTGAAATGTAAGGGCTCAACCCTTAACGTGCATCTGATACTGGCAGACTTGAGTGCGGAAGAGGCAAGTGGAATTCCTAG\t0.0\t0.0\t0.0\t0.0\t0.0\n",
      "AACATAGGGGGCAAGCGTTGCCCGGAATCACTGGGCGTAAAGGGCGCGTAGGTGGTCTGTTAAGTCAGATGTGAAATGTAAGGGCTCAACCCTTAACGTGCATCTGATACTGGCAGACTTGAGTGCGGAAGAGGCAAGTGGAATTCCTAG\t0.0\t0.0\t0.0\t0.0\t0.0\n",
      "AACATAGGGGGCAAGCGTTGTCCGGAAACACTGGGCGTAAAGGGCGCGTAGGCGGTCTGTTAAGTCGGATGTGAAATGTAAGGGCTCAACCCTTAACGTGCATCTGATACTGGCAGACTTGAGTGCGGAAGAGGCAAGTGGAATTCCTAG\t0.0\t0.0\t0.0\t0.0\t0.0\n",
      "AACATAGGGGGCAAGCGTTGTCCGGAATCACTGGGCATAAAGGGCGCGTAGGTGGTTTGTTAAGTCAGATGTGAAATGTAGGGGCTCAACCCCTAACGTGCATCTGATACTGGCAGACTTGAGTGCGGAAGAGGCAAGTGGAATTCCTAG\t0.0\t0.0\t0.0\t0.0\t0.0\n",
      "AACATAGGGGGCAAGCGTTGTCCGGAATCACTGGGCGTAAAGAGCGCGTAGGTGGTCTGTTAAGTCAGATGTGAAATGTAAGGGCTCAACCCTTAACGTGCATCTGATACTGGCAGACTTGAGTGCGGAAGAGGCAAGTGGAATTCCTAG\t0.0\t0.0\t0.0\t0.0\t0.0\n"
     ]
    }
   ],
   "source": [
    "biom_table = feature_table.view(biom.Table)\n",
    "print(biom_table.head())"
   ]
  },
  {
   "cell_type": "code",
   "execution_count": 8,
   "metadata": {},
   "outputs": [
    {
     "data": {
      "text/html": [
       "<div>\n",
       "<style scoped>\n",
       "    .dataframe tbody tr th:only-of-type {\n",
       "        vertical-align: middle;\n",
       "    }\n",
       "\n",
       "    .dataframe tbody tr th {\n",
       "        vertical-align: top;\n",
       "    }\n",
       "\n",
       "    .dataframe thead th {\n",
       "        text-align: right;\n",
       "    }\n",
       "</style>\n",
       "<table border=\"1\" class=\"dataframe\">\n",
       "  <thead>\n",
       "    <tr style=\"text-align: right;\">\n",
       "      <th></th>\n",
       "      <th>abdominal_obesity_idf_v2</th>\n",
       "      <th>abdominal_obesity_ncep_v2</th>\n",
       "      <th>ac_ratio_gt30</th>\n",
       "      <th>ac_ratio_gt30_v2</th>\n",
       "      <th>age_units</th>\n",
       "      <th>age_v2</th>\n",
       "      <th>agegroup_c6_nhanes_v2</th>\n",
       "      <th>agegroup_c6_v2</th>\n",
       "      <th>anonymized_name</th>\n",
       "      <th>antibiotic</th>\n",
       "      <th>...</th>\n",
       "      <th>taxon_id</th>\n",
       "      <th>title</th>\n",
       "      <th>type_stool</th>\n",
       "      <th>us_born_v2</th>\n",
       "      <th>weight_norm_overall_v2</th>\n",
       "      <th>weight_units</th>\n",
       "      <th>yes_no</th>\n",
       "      <th>yogurt</th>\n",
       "      <th>yrs_btwn_viv2</th>\n",
       "      <th>yrsus_c2_v2</th>\n",
       "    </tr>\n",
       "    <tr>\n",
       "      <th>sample_name</th>\n",
       "      <th></th>\n",
       "      <th></th>\n",
       "      <th></th>\n",
       "      <th></th>\n",
       "      <th></th>\n",
       "      <th></th>\n",
       "      <th></th>\n",
       "      <th></th>\n",
       "      <th></th>\n",
       "      <th></th>\n",
       "      <th></th>\n",
       "      <th></th>\n",
       "      <th></th>\n",
       "      <th></th>\n",
       "      <th></th>\n",
       "      <th></th>\n",
       "      <th></th>\n",
       "      <th></th>\n",
       "      <th></th>\n",
       "      <th></th>\n",
       "      <th></th>\n",
       "    </tr>\n",
       "  </thead>\n",
       "  <tbody>\n",
       "    <tr>\n",
       "      <th>11666.BLANK1.1A</th>\n",
       "      <td>not applicable</td>\n",
       "      <td>not applicable</td>\n",
       "      <td>not applicable</td>\n",
       "      <td>not applicable</td>\n",
       "      <td>not applicable</td>\n",
       "      <td>not applicable</td>\n",
       "      <td>not applicable</td>\n",
       "      <td>not applicable</td>\n",
       "      <td>BLANK1.1A</td>\n",
       "      <td>not applicable</td>\n",
       "      <td>...</td>\n",
       "      <td>256318.0</td>\n",
       "      <td>GOLD study</td>\n",
       "      <td>not applicable</td>\n",
       "      <td>not applicable</td>\n",
       "      <td>not applicable</td>\n",
       "      <td>not applicable</td>\n",
       "      <td>NaN</td>\n",
       "      <td>not applicable</td>\n",
       "      <td>not applicable</td>\n",
       "      <td>not applicable</td>\n",
       "    </tr>\n",
       "    <tr>\n",
       "      <th>11666.BLANK1.1A.ITS</th>\n",
       "      <td>not applicable</td>\n",
       "      <td>not applicable</td>\n",
       "      <td>not applicable</td>\n",
       "      <td>not applicable</td>\n",
       "      <td>not applicable</td>\n",
       "      <td>not applicable</td>\n",
       "      <td>not applicable</td>\n",
       "      <td>not applicable</td>\n",
       "      <td>BLANK1.1A.ITS</td>\n",
       "      <td>not applicable</td>\n",
       "      <td>...</td>\n",
       "      <td>256318.0</td>\n",
       "      <td>GOLD study</td>\n",
       "      <td>not applicable</td>\n",
       "      <td>not applicable</td>\n",
       "      <td>not applicable</td>\n",
       "      <td>not applicable</td>\n",
       "      <td>NaN</td>\n",
       "      <td>not applicable</td>\n",
       "      <td>not applicable</td>\n",
       "      <td>not applicable</td>\n",
       "    </tr>\n",
       "    <tr>\n",
       "      <th>11666.BLANK1.1B</th>\n",
       "      <td>not applicable</td>\n",
       "      <td>not applicable</td>\n",
       "      <td>not applicable</td>\n",
       "      <td>not applicable</td>\n",
       "      <td>not applicable</td>\n",
       "      <td>not applicable</td>\n",
       "      <td>not applicable</td>\n",
       "      <td>not applicable</td>\n",
       "      <td>BLANK1.1B</td>\n",
       "      <td>not applicable</td>\n",
       "      <td>...</td>\n",
       "      <td>256318.0</td>\n",
       "      <td>GOLD study</td>\n",
       "      <td>not applicable</td>\n",
       "      <td>not applicable</td>\n",
       "      <td>not applicable</td>\n",
       "      <td>not applicable</td>\n",
       "      <td>NaN</td>\n",
       "      <td>not applicable</td>\n",
       "      <td>not applicable</td>\n",
       "      <td>not applicable</td>\n",
       "    </tr>\n",
       "    <tr>\n",
       "      <th>11666.BLANK1.1B.ITS</th>\n",
       "      <td>not applicable</td>\n",
       "      <td>not applicable</td>\n",
       "      <td>not applicable</td>\n",
       "      <td>not applicable</td>\n",
       "      <td>not applicable</td>\n",
       "      <td>not applicable</td>\n",
       "      <td>not applicable</td>\n",
       "      <td>not applicable</td>\n",
       "      <td>BLANK1.1B.ITS</td>\n",
       "      <td>not applicable</td>\n",
       "      <td>...</td>\n",
       "      <td>256318.0</td>\n",
       "      <td>GOLD study</td>\n",
       "      <td>not applicable</td>\n",
       "      <td>not applicable</td>\n",
       "      <td>not applicable</td>\n",
       "      <td>not applicable</td>\n",
       "      <td>NaN</td>\n",
       "      <td>not applicable</td>\n",
       "      <td>not applicable</td>\n",
       "      <td>not applicable</td>\n",
       "    </tr>\n",
       "    <tr>\n",
       "      <th>11666.BLANK1.1C</th>\n",
       "      <td>not applicable</td>\n",
       "      <td>not applicable</td>\n",
       "      <td>not applicable</td>\n",
       "      <td>not applicable</td>\n",
       "      <td>not applicable</td>\n",
       "      <td>not applicable</td>\n",
       "      <td>not applicable</td>\n",
       "      <td>not applicable</td>\n",
       "      <td>BLANK1.1C</td>\n",
       "      <td>not applicable</td>\n",
       "      <td>...</td>\n",
       "      <td>256318.0</td>\n",
       "      <td>GOLD study</td>\n",
       "      <td>not applicable</td>\n",
       "      <td>not applicable</td>\n",
       "      <td>not applicable</td>\n",
       "      <td>not applicable</td>\n",
       "      <td>NaN</td>\n",
       "      <td>not applicable</td>\n",
       "      <td>not applicable</td>\n",
       "      <td>not applicable</td>\n",
       "    </tr>\n",
       "  </tbody>\n",
       "</table>\n",
       "<p>5 rows × 175 columns</p>\n",
       "</div>"
      ],
      "text/plain": [
       "                    abdominal_obesity_idf_v2 abdominal_obesity_ncep_v2  \\\n",
       "sample_name                                                              \n",
       "11666.BLANK1.1A               not applicable            not applicable   \n",
       "11666.BLANK1.1A.ITS           not applicable            not applicable   \n",
       "11666.BLANK1.1B               not applicable            not applicable   \n",
       "11666.BLANK1.1B.ITS           not applicable            not applicable   \n",
       "11666.BLANK1.1C               not applicable            not applicable   \n",
       "\n",
       "                      ac_ratio_gt30 ac_ratio_gt30_v2       age_units  \\\n",
       "sample_name                                                            \n",
       "11666.BLANK1.1A      not applicable   not applicable  not applicable   \n",
       "11666.BLANK1.1A.ITS  not applicable   not applicable  not applicable   \n",
       "11666.BLANK1.1B      not applicable   not applicable  not applicable   \n",
       "11666.BLANK1.1B.ITS  not applicable   not applicable  not applicable   \n",
       "11666.BLANK1.1C      not applicable   not applicable  not applicable   \n",
       "\n",
       "                             age_v2 agegroup_c6_nhanes_v2  agegroup_c6_v2  \\\n",
       "sample_name                                                                 \n",
       "11666.BLANK1.1A      not applicable        not applicable  not applicable   \n",
       "11666.BLANK1.1A.ITS  not applicable        not applicable  not applicable   \n",
       "11666.BLANK1.1B      not applicable        not applicable  not applicable   \n",
       "11666.BLANK1.1B.ITS  not applicable        not applicable  not applicable   \n",
       "11666.BLANK1.1C      not applicable        not applicable  not applicable   \n",
       "\n",
       "                    anonymized_name      antibiotic  ...  taxon_id  \\\n",
       "sample_name                                          ...             \n",
       "11666.BLANK1.1A           BLANK1.1A  not applicable  ...  256318.0   \n",
       "11666.BLANK1.1A.ITS   BLANK1.1A.ITS  not applicable  ...  256318.0   \n",
       "11666.BLANK1.1B           BLANK1.1B  not applicable  ...  256318.0   \n",
       "11666.BLANK1.1B.ITS   BLANK1.1B.ITS  not applicable  ...  256318.0   \n",
       "11666.BLANK1.1C           BLANK1.1C  not applicable  ...  256318.0   \n",
       "\n",
       "                          title      type_stool      us_born_v2  \\\n",
       "sample_name                                                       \n",
       "11666.BLANK1.1A      GOLD study  not applicable  not applicable   \n",
       "11666.BLANK1.1A.ITS  GOLD study  not applicable  not applicable   \n",
       "11666.BLANK1.1B      GOLD study  not applicable  not applicable   \n",
       "11666.BLANK1.1B.ITS  GOLD study  not applicable  not applicable   \n",
       "11666.BLANK1.1C      GOLD study  not applicable  not applicable   \n",
       "\n",
       "                    weight_norm_overall_v2    weight_units yes_no  \\\n",
       "sample_name                                                         \n",
       "11666.BLANK1.1A             not applicable  not applicable    NaN   \n",
       "11666.BLANK1.1A.ITS         not applicable  not applicable    NaN   \n",
       "11666.BLANK1.1B             not applicable  not applicable    NaN   \n",
       "11666.BLANK1.1B.ITS         not applicable  not applicable    NaN   \n",
       "11666.BLANK1.1C             not applicable  not applicable    NaN   \n",
       "\n",
       "                             yogurt   yrs_btwn_viv2     yrsus_c2_v2  \n",
       "sample_name                                                          \n",
       "11666.BLANK1.1A      not applicable  not applicable  not applicable  \n",
       "11666.BLANK1.1A.ITS  not applicable  not applicable  not applicable  \n",
       "11666.BLANK1.1B      not applicable  not applicable  not applicable  \n",
       "11666.BLANK1.1B.ITS  not applicable  not applicable  not applicable  \n",
       "11666.BLANK1.1C      not applicable  not applicable  not applicable  \n",
       "\n",
       "[5 rows x 175 columns]"
      ]
     },
     "execution_count": 8,
     "metadata": {},
     "output_type": "execute_result"
    }
   ],
   "source": [
    "metadata.head()"
   ]
  },
  {
   "cell_type": "markdown",
   "metadata": {},
   "source": [
    "# Create Features"
   ]
  },
  {
   "cell_type": "code",
   "execution_count": 12,
   "metadata": {},
   "outputs": [],
   "source": [
    "## Obtaining file paths\n",
    "with open(\"config/feature-params.json\") as fh:\n",
    "    feature_params = json.load(fh)"
   ]
  },
  {
   "cell_type": "code",
   "execution_count": 15,
   "metadata": {},
   "outputs": [
    {
     "data": {
      "text/plain": [
       "{'disease_cols': ['abdominal_obesity_ncep_v2',\n",
       "  'ckd_v2',\n",
       "  'diabetes2_v2',\n",
       "  'hypertension2_v2',\n",
       "  'precvd_v2',\n",
       "  'elevated_bp_selfmeds_v2'],\n",
       " 'additional_info_cols': ['gender_v2',\n",
       "  'agegroup_c6_v2',\n",
       "  'bmigrp_c6_v2',\n",
       "  'center',\n",
       "  'us_born_v2',\n",
       "  'income_c5_v2'],\n",
       " 'diabetes_biary': '{1.0:0.0,2.0:0.0,3.0:1.0}',\n",
       " 'ckd_binary': '{1.0:0.0, 2.0:1.0,3.0:1.0,4.0:1.0,5.0:1.0}'}"
      ]
     },
     "execution_count": 15,
     "metadata": {},
     "output_type": "execute_result"
    }
   ],
   "source": [
    "feature_params"
   ]
  },
  {
   "cell_type": "code",
   "execution_count": null,
   "metadata": {},
   "outputs": [],
   "source": [
    "build_features.subset_metadata(metadata, **feature_params)"
   ]
  },
  {
   "cell_type": "code",
   "execution_count": null,
   "metadata": {},
   "outputs": [],
   "source": [
    "feature_params"
   ]
  },
  {
   "cell_type": "markdown",
   "metadata": {},
   "source": [
    "## Missing Data"
   ]
  },
  {
   "cell_type": "code",
   "execution_count": null,
   "metadata": {},
   "outputs": [],
   "source": [
    "metadata['abdominal_obesity_ncep_v2'].value_counts()"
   ]
  },
  {
   "cell_type": "code",
   "execution_count": null,
   "metadata": {},
   "outputs": [],
   "source": [
    "build_features"
   ]
  },
  {
   "cell_type": "code",
   "execution_count": null,
   "metadata": {},
   "outputs": [],
   "source": []
  },
  {
   "cell_type": "code",
   "execution_count": null,
   "metadata": {},
   "outputs": [],
   "source": []
  },
  {
   "cell_type": "code",
   "execution_count": null,
   "metadata": {},
   "outputs": [],
   "source": []
  }
 ],
 "metadata": {
  "kernelspec": {
   "display_name": "qiime2-2022.11",
   "language": "python",
   "name": "qiime2-2022.11"
  },
  "language_info": {
   "codemirror_mode": {
    "name": "ipython",
    "version": 3
   },
   "file_extension": ".py",
   "mimetype": "text/x-python",
   "name": "python",
   "nbconvert_exporter": "python",
   "pygments_lexer": "ipython3",
   "version": "3.8.15"
  },
  "vscode": {
   "interpreter": {
    "hash": "2f3eb80ecefa8a2bb623a916cf91dd59a834c9ebe3cfa6e57c9edbb4634331c0"
   }
  }
 },
 "nbformat": 4,
 "nbformat_minor": 2
}
