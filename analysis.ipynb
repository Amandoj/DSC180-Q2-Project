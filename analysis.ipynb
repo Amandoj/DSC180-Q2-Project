{
 "cells": [
  {
   "cell_type": "markdown",
   "metadata": {},
   "source": [
    "## Importing Packages and Source Code"
   ]
  },
  {
   "cell_type": "code",
   "execution_count": null,
   "metadata": {},
   "outputs": [],
   "source": [
    "import json\n",
    "import os\n",
    "import sys\n",
    "## biom used to view Qiime Artifacts\n",
    "import biom\n",
    "%matplotlib inline "
   ]
  },
  {
   "cell_type": "code",
   "execution_count": null,
   "metadata": {},
   "outputs": [],
   "source": [
    "## Import Source Code\n",
    "from src.data import make_dataset\n",
    "from src.features import build_features, metrics_analysis\n",
    "from src.models import make_models, evaluate_models\n",
    "from src.visualizations import make_visualizations"
   ]
  },
  {
   "cell_type": "code",
   "execution_count": null,
   "metadata": {},
   "outputs": [],
   "source": [
    "## Creating paths to store temp and out data\n",
    "if not os.path.exists(\"data/temp\"):\n",
    "    os.makedirs(\"data/temp\")\n",
    "if not os.path.exists(\"data/out\"):\n",
    "    os.makedirs(\"data/out\")"
   ]
  },
  {
   "cell_type": "code",
   "execution_count": null,
   "metadata": {},
   "outputs": [],
   "source": [
    "## Used to format graph\n",
    "import matplotlib.pyplot as plt"
   ]
  },
  {
   "cell_type": "markdown",
   "metadata": {},
   "source": [
    "## Reading Data"
   ]
  },
  {
   "cell_type": "code",
   "execution_count": null,
   "metadata": {},
   "outputs": [],
   "source": [
    "## Obtaining file paths\n",
    "with open(\"config/data-params.json\") as fh:\n",
    "    file_paths = json.load(fh)"
   ]
  },
  {
   "cell_type": "code",
   "execution_count": null,
   "metadata": {},
   "outputs": [],
   "source": [
    "feature_table = make_dataset.read_feature_table(file_paths[\"feature_table_path\"])\n",
    "metadata = make_dataset.read_metadata(file_paths[\"metadata_path\"])"
   ]
  },
  {
   "cell_type": "code",
   "execution_count": null,
   "metadata": {},
   "outputs": [],
   "source": [
    "biom_table = make_dataset.feature_table_biom_view(feature_table)\n",
    "print(biom_table.head())"
   ]
  },
  {
   "cell_type": "code",
   "execution_count": null,
   "metadata": {},
   "outputs": [],
   "source": [
    "metadata.head()"
   ]
  },
  {
   "cell_type": "markdown",
   "metadata": {},
   "source": [
    "# Create Features"
   ]
  },
  {
   "cell_type": "code",
   "execution_count": null,
   "metadata": {},
   "outputs": [],
   "source": [
    "## Obtaining file paths\n",
    "with open(\"config/feature-params.json\") as fh:\n",
    "    feature_params = json.load(fh)"
   ]
  },
  {
   "cell_type": "code",
   "execution_count": null,
   "metadata": {},
   "outputs": [],
   "source": [
    "organized_metadata = build_features.organize_metadata(metadata, biom_table.ids(), **feature_params)"
   ]
  },
  {
   "cell_type": "code",
   "execution_count": null,
   "metadata": {},
   "outputs": [],
   "source": [
    "organized_metadata[0]"
   ]
  },
  {
   "cell_type": "code",
   "execution_count": null,
   "metadata": {},
   "outputs": [],
   "source": [
    "organized_metadata[1]"
   ]
  },
  {
   "cell_type": "markdown",
   "metadata": {},
   "source": [
    "# EDA"
   ]
  },
  {
   "cell_type": "code",
   "execution_count": null,
   "metadata": {},
   "outputs": [],
   "source": [
    "make_visualizations.create_bar_col_binary(organized_metadata[1], 'ckd_v2')"
   ]
  },
  {
   "cell_type": "code",
   "execution_count": null,
   "metadata": {},
   "outputs": [],
   "source": [
    "diseases_cols = {\n",
    "    'abdominal_obesity_ncep_v2': 'Obesity',\n",
    "    'ckd_v2': 'Chronic Kidney Disease',\n",
    "    'diabetes2_v2': 'Diabetes',\n",
    "    'precvd_v2': 'Pre-CVD',\n",
    "    'elevated_bp_selfmeds_v2': 'Elevated Blood Pressure',\n",
    "    'dyslipidemia_v2': 'Dyslipidemia'\n",
    "}"
   ]
  },
  {
   "cell_type": "code",
   "execution_count": null,
   "metadata": {},
   "outputs": [],
   "source": [
    "make_visualizations.disease_counts_graph(organized_metadata[0].rename(columns=diseases_cols), disease_cols=diseases_cols.values())"
   ]
  },
  {
   "cell_type": "code",
   "execution_count": null,
   "metadata": {},
   "outputs": [],
   "source": [
    "organized_metadata[0][feature_params['disease_cols']].sum(axis=1).value_counts().sort_values(ascending=False)"
   ]
  },
  {
   "cell_type": "code",
   "execution_count": null,
   "metadata": {},
   "outputs": [],
   "source": [
    "make_visualizations.total_disease_count_graph(organized_metadata[0],feature_params['disease_cols'])"
   ]
  },
  {
   "cell_type": "markdown",
   "metadata": {},
   "source": [
    "# Model Building"
   ]
  },
  {
   "cell_type": "code",
   "execution_count": null,
   "metadata": {},
   "outputs": [],
   "source": [
    "## Obtaining model params\n",
    "with open(\"config/model-params.json\") as fh:\n",
    "    model_params = json.load(fh)"
   ]
  },
  {
   "cell_type": "code",
   "execution_count": null,
   "metadata": {},
   "outputs": [],
   "source": [
    "precvd_undersample = organized_metadata[1][['precvd_v2']]\n",
    "precvd_undersample"
   ]
  },
  {
   "cell_type": "code",
   "execution_count": null,
   "metadata": {},
   "outputs": [],
   "source": [
    "# balanced_precvd_df = pd.concat([precvd_undersample[precvd_undersample['precvd_v2'] == 'T'],precvd_undersample[precvd_undersample['precvd_v2'] == 'F'].sample(precvd_undersample.value_counts().min(), random_state=2)])\n",
    "# balanced_precvd_df = qiime2.Metadata(balanced_precvd_df)\n",
    "# balanced_precvd_df"
   ]
  },
  {
   "cell_type": "code",
   "execution_count": null,
   "metadata": {},
   "outputs": [],
   "source": [
    "# need to return updated metadata path\n",
    "qiime_metadata_tf = make_dataset.read_qiime_metadata(\"data/temp/final_metadata_tf.tsv\")\n",
    "qiime_metadata_tf"
   ]
  },
  {
   "cell_type": "code",
   "execution_count": null,
   "metadata": {},
   "outputs": [],
   "source": [
    "filtered_table = make_dataset.filter_feature_table(feature_table, 4, qiime_metadata_tf)\n",
    "filtered_table.view(biom.Table)"
   ]
  },
  {
   "cell_type": "code",
   "execution_count": null,
   "metadata": {},
   "outputs": [],
   "source": [
    "binary_relevance_model = make_models.binary_relevance_model(filtered_table, qiime_metadata_tf, model_params['disease_targets'],precvd_data=balanced_precvd_df)"
   ]
  },
  {
   "cell_type": "code",
   "execution_count": null,
   "metadata": {},
   "outputs": [],
   "source": [
    "disease_accuracy_scores = evaluate_models.binary_relevance_accuracy_scores(binary_relevance_model, feature_params['disease_cols'])"
   ]
  },
  {
   "cell_type": "code",
   "execution_count": null,
   "metadata": {},
   "outputs": [],
   "source": [
    "disease_accuracy_scores"
   ]
  },
  {
   "cell_type": "code",
   "execution_count": null,
   "metadata": {},
   "outputs": [],
   "source": [
    "make_visualizations.binary_relevance_accuracy_scores_graph(disease_accuracy_scores)"
   ]
  },
  {
   "cell_type": "code",
   "execution_count": null,
   "metadata": {},
   "outputs": [],
   "source": [
    "aucs = {'abdominal_obesity_ncep_v2':[0.70,0.52],'ckd_v2':[0.57,0.56],\n",
    "'diabetes2_v2':[0.73,0.61],'precvd_v2':[0.55,0.56],\n",
    "'elevated_bp_selfmeds_v2':[0.63,0.61],'dyslipidemia_v2':[0.67,0.55]} #micro,macro"
   ]
  },
  {
   "cell_type": "code",
   "execution_count": null,
   "metadata": {},
   "outputs": [],
   "source": [
    "micro = {}\n",
    "macro = {}\n",
    "for i in aucs.keys():\n",
    "    micro[i] = aucs[i][0]\n",
    "    macro[i] = aucs[i][1]"
   ]
  },
  {
   "cell_type": "code",
   "execution_count": null,
   "metadata": {},
   "outputs": [],
   "source": [
    "import matplotlib.pyplot as plt\n",
    "import seaborn as sns\n",
    "import pandas as pd"
   ]
  },
  {
   "cell_type": "code",
   "execution_count": null,
   "metadata": {},
   "outputs": [],
   "source": [
    "micro_average = pd.Series(micro, name='Percentage')\n",
    "macro_average = pd.Series(macro, name='Percentage')\n",
    "disease_accuracy_scores_series = pd.Series(disease_accuracy_scores, name='Percentage')"
   ]
  },
  {
   "cell_type": "code",
   "execution_count": null,
   "metadata": {},
   "outputs": [],
   "source": [
    "micro_average = micro_average.reset_index().assign(metric_type=['micro-average AUC' for x in range(6)])\n",
    "macro_average = macro_average.reset_index().assign(metric_type=['macro-average AUC' for x in range(6)])\n",
    "disease_accuracy_scores_series = disease_accuracy_scores_series.reset_index().assign(metric_type=['Overall Accuracy' for x in range(6)])"
   ]
  },
  {
   "cell_type": "code",
   "execution_count": null,
   "metadata": {},
   "outputs": [],
   "source": [
    "performance_metrics_seaborn = pd.concat([disease_accuracy_scores_series,micro_average,macro_average ])\n",
    "performance_metrics_seaborn = performance_metrics_seaborn.rename(columns={'index':'Disease Type'})\n",
    "performance_metrics_seaborn['Disease Type'] = performance_metrics_seaborn['Disease Type'].replace(diseases_cols)"
   ]
  },
  {
   "cell_type": "code",
   "execution_count": null,
   "metadata": {},
   "outputs": [],
   "source": [
    "import numpy as np"
   ]
  },
  {
   "cell_type": "code",
   "execution_count": null,
   "metadata": {},
   "outputs": [],
   "source": [
    "plt.figure(figsize=(22,10))\n",
    "sns.set(font_scale=2)\n",
    "ax = sns.barplot(data=performance_metrics_seaborn, x='Disease Type',y='Percentage',hue='metric_type')\n",
    "ax.legend(loc='upper center', title ='Metric Type')\n",
    "sns.move_legend(\n",
    "    ax, \"lower center\",\n",
    "    bbox_to_anchor=(.5, 1), ncol=3, title=None, frameon=False,\n",
    ")\n",
    "plt.title('Gradient Boosting Classifier Performance',y=1.1)\n",
    "plt.savefig('performance_metrics_seaborn.png',dpi=300,bbox_inches='tight')"
   ]
  },
  {
   "cell_type": "code",
   "execution_count": null,
   "metadata": {},
   "outputs": [],
   "source": [
    "from sklearn.metrics import roc_auc_score"
   ]
  },
  {
   "cell_type": "code",
   "execution_count": null,
   "metadata": {},
   "outputs": [],
   "source": [
    "test_targets = binary_relevance_model['abdominal_obesity_ncep_v2'].test_targets.view(pd.Series)\n",
    "predictions = binary_relevance_model['abdominal_obesity_ncep_v2'].predictions.view(pd.Series)\n",
    "probabilities =  binary_relevance_model['abdominal_obesity_ncep_v2'].probabilities.view(pd.DataFrame)"
   ]
  },
  {
   "cell_type": "code",
   "execution_count": null,
   "metadata": {},
   "outputs": [],
   "source": [
    "print(roc_auc_score(test_targets, probabilities.to_numpy()[:,1],average='micro'))\n",
    "roc_auc_score(test_targets, probabilities.to_numpy()[:,1])"
   ]
  },
  {
   "attachments": {},
   "cell_type": "markdown",
   "metadata": {},
   "source": [
    "# Permanova test"
   ]
  },
  {
   "cell_type": "code",
   "execution_count": null,
   "metadata": {},
   "outputs": [],
   "source": [
    "from qiime2 import Artifact"
   ]
  },
  {
   "cell_type": "code",
   "execution_count": null,
   "metadata": {},
   "outputs": [],
   "source": [
    "tree_artifact = Artifact.load('data/raw/tree_file.qza')"
   ]
  },
  {
   "cell_type": "code",
   "execution_count": null,
   "metadata": {},
   "outputs": [],
   "source": [
    "metrics = metrics_analysis.extract_core_metrics(filtered_table, 7930, metadata = qiime_metadata_tf, phylogeny = tree_artifact)"
   ]
  },
  {
   "cell_type": "code",
   "execution_count": null,
   "metadata": {},
   "outputs": [],
   "source": [
    "from qiime2.plugins.diversity.pipelines import core_metrics_phylogenetic"
   ]
  },
  {
   "cell_type": "code",
   "execution_count": null,
   "metadata": {},
   "outputs": [],
   "source": [
    "from qiime2.plugins.feature_table.methods import filter_samples"
   ]
  },
  {
   "cell_type": "code",
   "execution_count": null,
   "metadata": {},
   "outputs": [],
   "source": [
    "filtered_table_precvd = filter_samples(feature_table,metadata=balanced_precvd_df).filtered_table"
   ]
  },
  {
   "cell_type": "code",
   "execution_count": null,
   "metadata": {},
   "outputs": [],
   "source": [
    "precvd_metrics=core_metrics_phylogenetic(filtered_table_precvd, sampling_depth=10, metadata = balanced_precvd_df, phylogeny = tree_artifact)"
   ]
  },
  {
   "cell_type": "code",
   "execution_count": null,
   "metadata": {},
   "outputs": [],
   "source": [
    "metrics_analysis.permanova_test_all_diseases(precvd_metrics.unweighted_unifrac_distance_matrix,precvd_metrics.weighted_unifrac_distance_matrix,balanced_precvd_df,['precvd_v2'])"
   ]
  },
  {
   "attachments": {},
   "cell_type": "markdown",
   "metadata": {},
   "source": [
    "# rarerfied results"
   ]
  },
  {
   "cell_type": "code",
   "execution_count": null,
   "metadata": {},
   "outputs": [],
   "source": [
    "metrics.rarefied_table"
   ]
  },
  {
   "cell_type": "code",
   "execution_count": null,
   "metadata": {},
   "outputs": [],
   "source": [
    "rarefied_results = make_models.binary_relevance_model(metrics.rarefied_table, qiime_metadata_tf, feature_params['disease_cols'],precvd_col=balanced_precvd_df.get_column('precvd_v2'))"
   ]
  },
  {
   "cell_type": "code",
   "execution_count": null,
   "metadata": {},
   "outputs": [],
   "source": []
  }
 ],
 "metadata": {
  "kernelspec": {
   "display_name": "qiime2-2022.8",
   "language": "python",
   "name": "python3"
  },
  "language_info": {
   "codemirror_mode": {
    "name": "ipython",
    "version": 3
   },
   "file_extension": ".py",
   "mimetype": "text/x-python",
   "name": "python",
   "nbconvert_exporter": "python",
   "pygments_lexer": "ipython3",
   "version": "3.8.15"
  },
  "vscode": {
   "interpreter": {
    "hash": "2f3eb80ecefa8a2bb623a916cf91dd59a834c9ebe3cfa6e57c9edbb4634331c0"
   }
  }
 },
 "nbformat": 4,
 "nbformat_minor": 2
}
