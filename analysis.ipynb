{
 "cells": [
  {
   "cell_type": "markdown",
   "metadata": {},
   "source": [
    "## Importing Packages and Source Code"
   ]
  },
  {
   "cell_type": "code",
   "execution_count": 3,
   "metadata": {},
   "outputs": [],
   "source": [
    "import json\n",
    "import os\n",
    "import sys\n",
    "## biom used to view Qiime Artifacts\n",
    "import biom\n",
    "%matplotlib inline "
   ]
  },
  {
   "cell_type": "code",
   "execution_count": null,
   "metadata": {},
   "outputs": [],
   "source": []
  },
  {
   "cell_type": "code",
   "execution_count": 4,
   "metadata": {},
   "outputs": [
    {
     "ename": "ModuleNotFoundError",
     "evalue": "No module named 'src'",
     "output_type": "error",
     "traceback": [
      "\u001b[0;31m---------------------------------------------------------------------------\u001b[0m",
      "\u001b[0;31mModuleNotFoundError\u001b[0m                       Traceback (most recent call last)",
      "Cell \u001b[0;32mIn [4], line 2\u001b[0m\n\u001b[1;32m      1\u001b[0m \u001b[39m## Import Source Code\u001b[39;00m\n\u001b[0;32m----> 2\u001b[0m \u001b[39mfrom\u001b[39;00m \u001b[39msrc\u001b[39;00m\u001b[39m.\u001b[39;00m\u001b[39mdata\u001b[39;00m \u001b[39mimport\u001b[39;00m make_dataset\n\u001b[1;32m      3\u001b[0m \u001b[39mfrom\u001b[39;00m \u001b[39msrc\u001b[39;00m\u001b[39m.\u001b[39;00m\u001b[39mfeatures\u001b[39;00m \u001b[39mimport\u001b[39;00m build_features\n\u001b[1;32m      4\u001b[0m \u001b[39mfrom\u001b[39;00m \u001b[39msrc\u001b[39;00m\u001b[39m.\u001b[39;00m\u001b[39mmodels\u001b[39;00m \u001b[39mimport\u001b[39;00m make_models\n",
      "\u001b[0;31mModuleNotFoundError\u001b[0m: No module named 'src'"
     ]
    }
   ],
   "source": [
    "## Import Source Code\n",
    "from src.data import make_dataset\n",
    "from src.features import build_features\n",
    "from src.models import make_models\n",
    "from src.visualizations import make_visualizations"
   ]
  },
  {
   "cell_type": "code",
   "execution_count": null,
   "metadata": {},
   "outputs": [],
   "source": [
    "## Creating paths to store temp and out data\n",
    "if not os.path.exists(\"data/temp\"):\n",
    "    os.makedirs(\"data/temp\")\n",
    "if not os.path.exists(\"data/out\"):\n",
    "    os.makedirs(\"data/out\")"
   ]
  },
  {
   "cell_type": "code",
   "execution_count": null,
   "metadata": {},
   "outputs": [],
   "source": [
    "## Used to format graph\n",
    "import matplotlib.pyplot as plt\n",
    "plt.rcParams['figure.figsize'] = [10, 5]"
   ]
  },
  {
   "cell_type": "markdown",
   "metadata": {},
   "source": [
    "## Reading Data"
   ]
  },
  {
   "cell_type": "code",
   "execution_count": null,
   "metadata": {},
   "outputs": [],
   "source": [
    "## Obtaining file paths\n",
    "with open(\"config/data-params.json\") as fh:\n",
    "    file_paths = json.load(fh)"
   ]
  },
  {
   "cell_type": "code",
   "execution_count": null,
   "metadata": {},
   "outputs": [
    {
     "name": "stderr",
     "output_type": "stream",
     "text": [
      "/Users/amando/Desktop/DSC180-Q2-Project/src/data/make_dataset.py:28: DtypeWarning: Columns (1,2,3,4,6,7,8,10,11,12,13,14,17,18,19,20,25,26,27,29,30,31,32,33,34,35,36,37,38,40,41,42,43,44,45,46,55,56,57,61,62,63,64,65,66,67,69,70,71,72,73,75,76,78,80,82,83,84,85,86,87,88,89,90,91,92,95,98,99,102,103,104,105,106,107,108,109,111,119,121,122,123,124,125,126,127,128,129,130,131,132,133,134,136,138,139,141,142,143,144,145,146,147,148,152,153,155,156,157,160,164,165,168,169,170,172,173,174,175) have mixed types. Specify dtype option on import or set low_memory=False.\n",
      "  metadata = pd.read_csv(path, sep='\\t', index_col=0)\n"
     ]
    }
   ],
   "source": [
    "feature_table = make_dataset.read_feature_table(file_paths[\"feature_table_path\"])\n",
    "metadata = make_dataset.read_metadata(file_paths[\"metadata_path\"])"
   ]
  },
  {
   "cell_type": "code",
   "execution_count": null,
   "metadata": {},
   "outputs": [
    {
     "name": "stdout",
     "output_type": "stream",
     "text": [
      "# Constructed from biom file\n",
      "#OTU ID\t11666.BLANK7.7B\t11666.BLANK5.5B\t11666.G0341A\t11666.BLANK3.3A\t11666.BLANK5.5E\n",
      "AACATAAGGGGCAAGCGTTGTCCGGAATCACTGGGCGTAAAGGGCGCGTAGGTGGTCTGTTAAGTCAGATGTGAAATGTAAGGGCTCAACCCTTAACGTGCATCTGATACTGGCAGACTTGAGTGCGGAAGAGGCAAGTGGAATTCCTAG\t0.0\t0.0\t0.0\t0.0\t0.0\n",
      "AACATAGGGGGCAAGCGTTGCCCGGAATCACTGGGCGTAAAGGGCGCGTAGGTGGTCTGTTAAGTCAGATGTGAAATGTAAGGGCTCAACCCTTAACGTGCATCTGATACTGGCAGACTTGAGTGCGGAAGAGGCAAGTGGAATTCCTAG\t0.0\t0.0\t0.0\t0.0\t0.0\n",
      "AACATAGGGGGCAAGCGTTGTCCGGAAACACTGGGCGTAAAGGGCGCGTAGGCGGTCTGTTAAGTCGGATGTGAAATGTAAGGGCTCAACCCTTAACGTGCATCTGATACTGGCAGACTTGAGTGCGGAAGAGGCAAGTGGAATTCCTAG\t0.0\t0.0\t0.0\t0.0\t0.0\n",
      "AACATAGGGGGCAAGCGTTGTCCGGAATCACTGGGCATAAAGGGCGCGTAGGTGGTTTGTTAAGTCAGATGTGAAATGTAGGGGCTCAACCCCTAACGTGCATCTGATACTGGCAGACTTGAGTGCGGAAGAGGCAAGTGGAATTCCTAG\t0.0\t0.0\t0.0\t0.0\t0.0\n",
      "AACATAGGGGGCAAGCGTTGTCCGGAATCACTGGGCGTAAAGAGCGCGTAGGTGGTCTGTTAAGTCAGATGTGAAATGTAAGGGCTCAACCCTTAACGTGCATCTGATACTGGCAGACTTGAGTGCGGAAGAGGCAAGTGGAATTCCTAG\t0.0\t0.0\t0.0\t0.0\t0.0\n"
     ]
    }
   ],
   "source": [
    "biom_table = feature_table.view(biom.Table)\n",
    "print(biom_table.head())"
   ]
  },
  {
   "cell_type": "code",
   "execution_count": null,
   "metadata": {},
   "outputs": [
    {
     "data": {
      "text/html": [
       "<div>\n",
       "<style scoped>\n",
       "    .dataframe tbody tr th:only-of-type {\n",
       "        vertical-align: middle;\n",
       "    }\n",
       "\n",
       "    .dataframe tbody tr th {\n",
       "        vertical-align: top;\n",
       "    }\n",
       "\n",
       "    .dataframe thead th {\n",
       "        text-align: right;\n",
       "    }\n",
       "</style>\n",
       "<table border=\"1\" class=\"dataframe\">\n",
       "  <thead>\n",
       "    <tr style=\"text-align: right;\">\n",
       "      <th></th>\n",
       "      <th>abdominal_obesity_idf_v2</th>\n",
       "      <th>abdominal_obesity_ncep_v2</th>\n",
       "      <th>ac_ratio_gt30</th>\n",
       "      <th>ac_ratio_gt30_v2</th>\n",
       "      <th>age_units</th>\n",
       "      <th>age_v2</th>\n",
       "      <th>agegroup_c6_nhanes_v2</th>\n",
       "      <th>agegroup_c6_v2</th>\n",
       "      <th>anonymized_name</th>\n",
       "      <th>antibiotic</th>\n",
       "      <th>...</th>\n",
       "      <th>taxon_id</th>\n",
       "      <th>title</th>\n",
       "      <th>type_stool</th>\n",
       "      <th>us_born_v2</th>\n",
       "      <th>weight_norm_overall_v2</th>\n",
       "      <th>weight_units</th>\n",
       "      <th>yes_no</th>\n",
       "      <th>yogurt</th>\n",
       "      <th>yrs_btwn_viv2</th>\n",
       "      <th>yrsus_c2_v2</th>\n",
       "    </tr>\n",
       "    <tr>\n",
       "      <th>sample_name</th>\n",
       "      <th></th>\n",
       "      <th></th>\n",
       "      <th></th>\n",
       "      <th></th>\n",
       "      <th></th>\n",
       "      <th></th>\n",
       "      <th></th>\n",
       "      <th></th>\n",
       "      <th></th>\n",
       "      <th></th>\n",
       "      <th></th>\n",
       "      <th></th>\n",
       "      <th></th>\n",
       "      <th></th>\n",
       "      <th></th>\n",
       "      <th></th>\n",
       "      <th></th>\n",
       "      <th></th>\n",
       "      <th></th>\n",
       "      <th></th>\n",
       "      <th></th>\n",
       "    </tr>\n",
       "  </thead>\n",
       "  <tbody>\n",
       "    <tr>\n",
       "      <th>11666.BLANK1.1A</th>\n",
       "      <td>not applicable</td>\n",
       "      <td>not applicable</td>\n",
       "      <td>not applicable</td>\n",
       "      <td>not applicable</td>\n",
       "      <td>not applicable</td>\n",
       "      <td>not applicable</td>\n",
       "      <td>not applicable</td>\n",
       "      <td>not applicable</td>\n",
       "      <td>BLANK1.1A</td>\n",
       "      <td>not applicable</td>\n",
       "      <td>...</td>\n",
       "      <td>256318.0</td>\n",
       "      <td>GOLD study</td>\n",
       "      <td>not applicable</td>\n",
       "      <td>not applicable</td>\n",
       "      <td>not applicable</td>\n",
       "      <td>not applicable</td>\n",
       "      <td>NaN</td>\n",
       "      <td>not applicable</td>\n",
       "      <td>not applicable</td>\n",
       "      <td>not applicable</td>\n",
       "    </tr>\n",
       "    <tr>\n",
       "      <th>11666.BLANK1.1A.ITS</th>\n",
       "      <td>not applicable</td>\n",
       "      <td>not applicable</td>\n",
       "      <td>not applicable</td>\n",
       "      <td>not applicable</td>\n",
       "      <td>not applicable</td>\n",
       "      <td>not applicable</td>\n",
       "      <td>not applicable</td>\n",
       "      <td>not applicable</td>\n",
       "      <td>BLANK1.1A.ITS</td>\n",
       "      <td>not applicable</td>\n",
       "      <td>...</td>\n",
       "      <td>256318.0</td>\n",
       "      <td>GOLD study</td>\n",
       "      <td>not applicable</td>\n",
       "      <td>not applicable</td>\n",
       "      <td>not applicable</td>\n",
       "      <td>not applicable</td>\n",
       "      <td>NaN</td>\n",
       "      <td>not applicable</td>\n",
       "      <td>not applicable</td>\n",
       "      <td>not applicable</td>\n",
       "    </tr>\n",
       "    <tr>\n",
       "      <th>11666.BLANK1.1B</th>\n",
       "      <td>not applicable</td>\n",
       "      <td>not applicable</td>\n",
       "      <td>not applicable</td>\n",
       "      <td>not applicable</td>\n",
       "      <td>not applicable</td>\n",
       "      <td>not applicable</td>\n",
       "      <td>not applicable</td>\n",
       "      <td>not applicable</td>\n",
       "      <td>BLANK1.1B</td>\n",
       "      <td>not applicable</td>\n",
       "      <td>...</td>\n",
       "      <td>256318.0</td>\n",
       "      <td>GOLD study</td>\n",
       "      <td>not applicable</td>\n",
       "      <td>not applicable</td>\n",
       "      <td>not applicable</td>\n",
       "      <td>not applicable</td>\n",
       "      <td>NaN</td>\n",
       "      <td>not applicable</td>\n",
       "      <td>not applicable</td>\n",
       "      <td>not applicable</td>\n",
       "    </tr>\n",
       "    <tr>\n",
       "      <th>11666.BLANK1.1B.ITS</th>\n",
       "      <td>not applicable</td>\n",
       "      <td>not applicable</td>\n",
       "      <td>not applicable</td>\n",
       "      <td>not applicable</td>\n",
       "      <td>not applicable</td>\n",
       "      <td>not applicable</td>\n",
       "      <td>not applicable</td>\n",
       "      <td>not applicable</td>\n",
       "      <td>BLANK1.1B.ITS</td>\n",
       "      <td>not applicable</td>\n",
       "      <td>...</td>\n",
       "      <td>256318.0</td>\n",
       "      <td>GOLD study</td>\n",
       "      <td>not applicable</td>\n",
       "      <td>not applicable</td>\n",
       "      <td>not applicable</td>\n",
       "      <td>not applicable</td>\n",
       "      <td>NaN</td>\n",
       "      <td>not applicable</td>\n",
       "      <td>not applicable</td>\n",
       "      <td>not applicable</td>\n",
       "    </tr>\n",
       "    <tr>\n",
       "      <th>11666.BLANK1.1C</th>\n",
       "      <td>not applicable</td>\n",
       "      <td>not applicable</td>\n",
       "      <td>not applicable</td>\n",
       "      <td>not applicable</td>\n",
       "      <td>not applicable</td>\n",
       "      <td>not applicable</td>\n",
       "      <td>not applicable</td>\n",
       "      <td>not applicable</td>\n",
       "      <td>BLANK1.1C</td>\n",
       "      <td>not applicable</td>\n",
       "      <td>...</td>\n",
       "      <td>256318.0</td>\n",
       "      <td>GOLD study</td>\n",
       "      <td>not applicable</td>\n",
       "      <td>not applicable</td>\n",
       "      <td>not applicable</td>\n",
       "      <td>not applicable</td>\n",
       "      <td>NaN</td>\n",
       "      <td>not applicable</td>\n",
       "      <td>not applicable</td>\n",
       "      <td>not applicable</td>\n",
       "    </tr>\n",
       "  </tbody>\n",
       "</table>\n",
       "<p>5 rows × 175 columns</p>\n",
       "</div>"
      ],
      "text/plain": [
       "                    abdominal_obesity_idf_v2 abdominal_obesity_ncep_v2  \\\n",
       "sample_name                                                              \n",
       "11666.BLANK1.1A               not applicable            not applicable   \n",
       "11666.BLANK1.1A.ITS           not applicable            not applicable   \n",
       "11666.BLANK1.1B               not applicable            not applicable   \n",
       "11666.BLANK1.1B.ITS           not applicable            not applicable   \n",
       "11666.BLANK1.1C               not applicable            not applicable   \n",
       "\n",
       "                      ac_ratio_gt30 ac_ratio_gt30_v2       age_units  \\\n",
       "sample_name                                                            \n",
       "11666.BLANK1.1A      not applicable   not applicable  not applicable   \n",
       "11666.BLANK1.1A.ITS  not applicable   not applicable  not applicable   \n",
       "11666.BLANK1.1B      not applicable   not applicable  not applicable   \n",
       "11666.BLANK1.1B.ITS  not applicable   not applicable  not applicable   \n",
       "11666.BLANK1.1C      not applicable   not applicable  not applicable   \n",
       "\n",
       "                             age_v2 agegroup_c6_nhanes_v2  agegroup_c6_v2  \\\n",
       "sample_name                                                                 \n",
       "11666.BLANK1.1A      not applicable        not applicable  not applicable   \n",
       "11666.BLANK1.1A.ITS  not applicable        not applicable  not applicable   \n",
       "11666.BLANK1.1B      not applicable        not applicable  not applicable   \n",
       "11666.BLANK1.1B.ITS  not applicable        not applicable  not applicable   \n",
       "11666.BLANK1.1C      not applicable        not applicable  not applicable   \n",
       "\n",
       "                    anonymized_name      antibiotic  ...  taxon_id  \\\n",
       "sample_name                                          ...             \n",
       "11666.BLANK1.1A           BLANK1.1A  not applicable  ...  256318.0   \n",
       "11666.BLANK1.1A.ITS   BLANK1.1A.ITS  not applicable  ...  256318.0   \n",
       "11666.BLANK1.1B           BLANK1.1B  not applicable  ...  256318.0   \n",
       "11666.BLANK1.1B.ITS   BLANK1.1B.ITS  not applicable  ...  256318.0   \n",
       "11666.BLANK1.1C           BLANK1.1C  not applicable  ...  256318.0   \n",
       "\n",
       "                          title      type_stool      us_born_v2  \\\n",
       "sample_name                                                       \n",
       "11666.BLANK1.1A      GOLD study  not applicable  not applicable   \n",
       "11666.BLANK1.1A.ITS  GOLD study  not applicable  not applicable   \n",
       "11666.BLANK1.1B      GOLD study  not applicable  not applicable   \n",
       "11666.BLANK1.1B.ITS  GOLD study  not applicable  not applicable   \n",
       "11666.BLANK1.1C      GOLD study  not applicable  not applicable   \n",
       "\n",
       "                    weight_norm_overall_v2    weight_units yes_no  \\\n",
       "sample_name                                                         \n",
       "11666.BLANK1.1A             not applicable  not applicable    NaN   \n",
       "11666.BLANK1.1A.ITS         not applicable  not applicable    NaN   \n",
       "11666.BLANK1.1B             not applicable  not applicable    NaN   \n",
       "11666.BLANK1.1B.ITS         not applicable  not applicable    NaN   \n",
       "11666.BLANK1.1C             not applicable  not applicable    NaN   \n",
       "\n",
       "                             yogurt   yrs_btwn_viv2     yrsus_c2_v2  \n",
       "sample_name                                                          \n",
       "11666.BLANK1.1A      not applicable  not applicable  not applicable  \n",
       "11666.BLANK1.1A.ITS  not applicable  not applicable  not applicable  \n",
       "11666.BLANK1.1B      not applicable  not applicable  not applicable  \n",
       "11666.BLANK1.1B.ITS  not applicable  not applicable  not applicable  \n",
       "11666.BLANK1.1C      not applicable  not applicable  not applicable  \n",
       "\n",
       "[5 rows x 175 columns]"
      ]
     },
     "execution_count": 29,
     "metadata": {},
     "output_type": "execute_result"
    }
   ],
   "source": [
    "metadata.head()"
   ]
  },
  {
   "cell_type": "markdown",
   "metadata": {},
   "source": [
    "# Create Features"
   ]
  },
  {
   "cell_type": "code",
   "execution_count": null,
   "metadata": {},
   "outputs": [],
   "source": [
    "## Obtaining file paths\n",
    "with open(\"config/feature-params.json\") as fh:\n",
    "    feature_params = json.load(fh)"
   ]
  },
  {
   "cell_type": "code",
   "execution_count": null,
   "metadata": {},
   "outputs": [],
   "source": [
    "organized_metadata = build_features.organize_metadata(metadata, **feature_params)"
   ]
  },
  {
   "cell_type": "code",
   "execution_count": null,
   "metadata": {},
   "outputs": [],
   "source": [
    "from qiime2.plugins.feature_table.methods import rarefy"
   ]
  },
  {
   "cell_type": "code",
   "execution_count": null,
   "metadata": {},
   "outputs": [
    {
     "data": {
      "text/html": [
       "<div>\n",
       "<style scoped>\n",
       "    .dataframe tbody tr th:only-of-type {\n",
       "        vertical-align: middle;\n",
       "    }\n",
       "\n",
       "    .dataframe tbody tr th {\n",
       "        vertical-align: top;\n",
       "    }\n",
       "\n",
       "    .dataframe thead th {\n",
       "        text-align: right;\n",
       "    }\n",
       "</style>\n",
       "<table border=\"1\" class=\"dataframe\">\n",
       "  <thead>\n",
       "    <tr style=\"text-align: right;\">\n",
       "      <th></th>\n",
       "      <th>abdominal_obesity_ncep_v2</th>\n",
       "      <th>ckd_v2</th>\n",
       "      <th>diabetes2_v2</th>\n",
       "      <th>hypertension2_v2</th>\n",
       "      <th>precvd_v2</th>\n",
       "      <th>elevated_bp_selfmeds_v2</th>\n",
       "      <th>dyslipidemia_v2</th>\n",
       "    </tr>\n",
       "    <tr>\n",
       "      <th>sample_name</th>\n",
       "      <th></th>\n",
       "      <th></th>\n",
       "      <th></th>\n",
       "      <th></th>\n",
       "      <th></th>\n",
       "      <th></th>\n",
       "      <th></th>\n",
       "    </tr>\n",
       "  </thead>\n",
       "  <tbody>\n",
       "    <tr>\n",
       "      <th>11666.G0001A</th>\n",
       "      <td>1.0</td>\n",
       "      <td>0.0</td>\n",
       "      <td>0.0</td>\n",
       "      <td>1.0</td>\n",
       "      <td>0.0</td>\n",
       "      <td>1.0</td>\n",
       "      <td>0.0</td>\n",
       "    </tr>\n",
       "    <tr>\n",
       "      <th>11666.G0001L</th>\n",
       "      <td>1.0</td>\n",
       "      <td>0.0</td>\n",
       "      <td>0.0</td>\n",
       "      <td>1.0</td>\n",
       "      <td>0.0</td>\n",
       "      <td>1.0</td>\n",
       "      <td>0.0</td>\n",
       "    </tr>\n",
       "    <tr>\n",
       "      <th>11666.G0002A</th>\n",
       "      <td>1.0</td>\n",
       "      <td>0.0</td>\n",
       "      <td>1.0</td>\n",
       "      <td>1.0</td>\n",
       "      <td>1.0</td>\n",
       "      <td>1.0</td>\n",
       "      <td>0.0</td>\n",
       "    </tr>\n",
       "    <tr>\n",
       "      <th>11666.G0002R</th>\n",
       "      <td>1.0</td>\n",
       "      <td>0.0</td>\n",
       "      <td>1.0</td>\n",
       "      <td>1.0</td>\n",
       "      <td>1.0</td>\n",
       "      <td>1.0</td>\n",
       "      <td>0.0</td>\n",
       "    </tr>\n",
       "    <tr>\n",
       "      <th>11666.G0003A</th>\n",
       "      <td>1.0</td>\n",
       "      <td>0.0</td>\n",
       "      <td>0.0</td>\n",
       "      <td>0.0</td>\n",
       "      <td>0.0</td>\n",
       "      <td>0.0</td>\n",
       "      <td>0.0</td>\n",
       "    </tr>\n",
       "    <tr>\n",
       "      <th>...</th>\n",
       "      <td>...</td>\n",
       "      <td>...</td>\n",
       "      <td>...</td>\n",
       "      <td>...</td>\n",
       "      <td>...</td>\n",
       "      <td>...</td>\n",
       "      <td>...</td>\n",
       "    </tr>\n",
       "    <tr>\n",
       "      <th>11666.G1777A</th>\n",
       "      <td>0.0</td>\n",
       "      <td>1.0</td>\n",
       "      <td>0.0</td>\n",
       "      <td>1.0</td>\n",
       "      <td>0.0</td>\n",
       "      <td>1.0</td>\n",
       "      <td>1.0</td>\n",
       "    </tr>\n",
       "    <tr>\n",
       "      <th>11666.G1778A</th>\n",
       "      <td>1.0</td>\n",
       "      <td>1.0</td>\n",
       "      <td>0.0</td>\n",
       "      <td>1.0</td>\n",
       "      <td>1.0</td>\n",
       "      <td>1.0</td>\n",
       "      <td>0.0</td>\n",
       "    </tr>\n",
       "    <tr>\n",
       "      <th>11666.G1779A</th>\n",
       "      <td>1.0</td>\n",
       "      <td>0.0</td>\n",
       "      <td>1.0</td>\n",
       "      <td>1.0</td>\n",
       "      <td>0.0</td>\n",
       "      <td>1.0</td>\n",
       "      <td>0.0</td>\n",
       "    </tr>\n",
       "    <tr>\n",
       "      <th>11666.G1780A</th>\n",
       "      <td>1.0</td>\n",
       "      <td>1.0</td>\n",
       "      <td>1.0</td>\n",
       "      <td>1.0</td>\n",
       "      <td>0.0</td>\n",
       "      <td>1.0</td>\n",
       "      <td>1.0</td>\n",
       "    </tr>\n",
       "    <tr>\n",
       "      <th>11666.G1781A</th>\n",
       "      <td>1.0</td>\n",
       "      <td>1.0</td>\n",
       "      <td>0.0</td>\n",
       "      <td>1.0</td>\n",
       "      <td>0.0</td>\n",
       "      <td>1.0</td>\n",
       "      <td>0.0</td>\n",
       "    </tr>\n",
       "  </tbody>\n",
       "</table>\n",
       "<p>3136 rows × 7 columns</p>\n",
       "</div>"
      ],
      "text/plain": [
       "              abdominal_obesity_ncep_v2  ckd_v2  diabetes2_v2  \\\n",
       "sample_name                                                     \n",
       "11666.G0001A                        1.0     0.0           0.0   \n",
       "11666.G0001L                        1.0     0.0           0.0   \n",
       "11666.G0002A                        1.0     0.0           1.0   \n",
       "11666.G0002R                        1.0     0.0           1.0   \n",
       "11666.G0003A                        1.0     0.0           0.0   \n",
       "...                                 ...     ...           ...   \n",
       "11666.G1777A                        0.0     1.0           0.0   \n",
       "11666.G1778A                        1.0     1.0           0.0   \n",
       "11666.G1779A                        1.0     0.0           1.0   \n",
       "11666.G1780A                        1.0     1.0           1.0   \n",
       "11666.G1781A                        1.0     1.0           0.0   \n",
       "\n",
       "              hypertension2_v2  precvd_v2  elevated_bp_selfmeds_v2  \\\n",
       "sample_name                                                          \n",
       "11666.G0001A               1.0        0.0                      1.0   \n",
       "11666.G0001L               1.0        0.0                      1.0   \n",
       "11666.G0002A               1.0        1.0                      1.0   \n",
       "11666.G0002R               1.0        1.0                      1.0   \n",
       "11666.G0003A               0.0        0.0                      0.0   \n",
       "...                        ...        ...                      ...   \n",
       "11666.G1777A               1.0        0.0                      1.0   \n",
       "11666.G1778A               1.0        1.0                      1.0   \n",
       "11666.G1779A               1.0        0.0                      1.0   \n",
       "11666.G1780A               1.0        0.0                      1.0   \n",
       "11666.G1781A               1.0        0.0                      1.0   \n",
       "\n",
       "              dyslipidemia_v2  \n",
       "sample_name                    \n",
       "11666.G0001A              0.0  \n",
       "11666.G0001L              0.0  \n",
       "11666.G0002A              0.0  \n",
       "11666.G0002R              0.0  \n",
       "11666.G0003A              0.0  \n",
       "...                       ...  \n",
       "11666.G1777A              1.0  \n",
       "11666.G1778A              0.0  \n",
       "11666.G1779A              0.0  \n",
       "11666.G1780A              1.0  \n",
       "11666.G1781A              0.0  \n",
       "\n",
       "[3136 rows x 7 columns]"
      ]
     },
     "execution_count": 33,
     "metadata": {},
     "output_type": "execute_result"
    }
   ],
   "source": [
    "organized_metadata[0]"
   ]
  },
  {
   "cell_type": "code",
   "execution_count": null,
   "metadata": {},
   "outputs": [
    {
     "data": {
      "text/html": [
       "<div>\n",
       "<style scoped>\n",
       "    .dataframe tbody tr th:only-of-type {\n",
       "        vertical-align: middle;\n",
       "    }\n",
       "\n",
       "    .dataframe tbody tr th {\n",
       "        vertical-align: top;\n",
       "    }\n",
       "\n",
       "    .dataframe thead th {\n",
       "        text-align: right;\n",
       "    }\n",
       "</style>\n",
       "<table border=\"1\" class=\"dataframe\">\n",
       "  <thead>\n",
       "    <tr style=\"text-align: right;\">\n",
       "      <th></th>\n",
       "      <th>abdominal_obesity_ncep_v2</th>\n",
       "      <th>ckd_v2</th>\n",
       "      <th>diabetes2_v2</th>\n",
       "      <th>hypertension2_v2</th>\n",
       "      <th>precvd_v2</th>\n",
       "      <th>elevated_bp_selfmeds_v2</th>\n",
       "      <th>dyslipidemia_v2</th>\n",
       "    </tr>\n",
       "    <tr>\n",
       "      <th>sample_name</th>\n",
       "      <th></th>\n",
       "      <th></th>\n",
       "      <th></th>\n",
       "      <th></th>\n",
       "      <th></th>\n",
       "      <th></th>\n",
       "      <th></th>\n",
       "    </tr>\n",
       "  </thead>\n",
       "  <tbody>\n",
       "    <tr>\n",
       "      <th>11666.G0001A</th>\n",
       "      <td>T</td>\n",
       "      <td>F</td>\n",
       "      <td>F</td>\n",
       "      <td>T</td>\n",
       "      <td>F</td>\n",
       "      <td>T</td>\n",
       "      <td>F</td>\n",
       "    </tr>\n",
       "    <tr>\n",
       "      <th>11666.G0001L</th>\n",
       "      <td>T</td>\n",
       "      <td>F</td>\n",
       "      <td>F</td>\n",
       "      <td>T</td>\n",
       "      <td>F</td>\n",
       "      <td>T</td>\n",
       "      <td>F</td>\n",
       "    </tr>\n",
       "    <tr>\n",
       "      <th>11666.G0002A</th>\n",
       "      <td>T</td>\n",
       "      <td>F</td>\n",
       "      <td>T</td>\n",
       "      <td>T</td>\n",
       "      <td>T</td>\n",
       "      <td>T</td>\n",
       "      <td>F</td>\n",
       "    </tr>\n",
       "    <tr>\n",
       "      <th>11666.G0002R</th>\n",
       "      <td>T</td>\n",
       "      <td>F</td>\n",
       "      <td>T</td>\n",
       "      <td>T</td>\n",
       "      <td>T</td>\n",
       "      <td>T</td>\n",
       "      <td>F</td>\n",
       "    </tr>\n",
       "    <tr>\n",
       "      <th>11666.G0003A</th>\n",
       "      <td>T</td>\n",
       "      <td>F</td>\n",
       "      <td>F</td>\n",
       "      <td>F</td>\n",
       "      <td>F</td>\n",
       "      <td>F</td>\n",
       "      <td>F</td>\n",
       "    </tr>\n",
       "    <tr>\n",
       "      <th>...</th>\n",
       "      <td>...</td>\n",
       "      <td>...</td>\n",
       "      <td>...</td>\n",
       "      <td>...</td>\n",
       "      <td>...</td>\n",
       "      <td>...</td>\n",
       "      <td>...</td>\n",
       "    </tr>\n",
       "    <tr>\n",
       "      <th>11666.G1777A</th>\n",
       "      <td>F</td>\n",
       "      <td>T</td>\n",
       "      <td>F</td>\n",
       "      <td>T</td>\n",
       "      <td>F</td>\n",
       "      <td>T</td>\n",
       "      <td>T</td>\n",
       "    </tr>\n",
       "    <tr>\n",
       "      <th>11666.G1778A</th>\n",
       "      <td>T</td>\n",
       "      <td>T</td>\n",
       "      <td>F</td>\n",
       "      <td>T</td>\n",
       "      <td>T</td>\n",
       "      <td>T</td>\n",
       "      <td>F</td>\n",
       "    </tr>\n",
       "    <tr>\n",
       "      <th>11666.G1779A</th>\n",
       "      <td>T</td>\n",
       "      <td>F</td>\n",
       "      <td>T</td>\n",
       "      <td>T</td>\n",
       "      <td>F</td>\n",
       "      <td>T</td>\n",
       "      <td>F</td>\n",
       "    </tr>\n",
       "    <tr>\n",
       "      <th>11666.G1780A</th>\n",
       "      <td>T</td>\n",
       "      <td>T</td>\n",
       "      <td>T</td>\n",
       "      <td>T</td>\n",
       "      <td>F</td>\n",
       "      <td>T</td>\n",
       "      <td>T</td>\n",
       "    </tr>\n",
       "    <tr>\n",
       "      <th>11666.G1781A</th>\n",
       "      <td>T</td>\n",
       "      <td>T</td>\n",
       "      <td>F</td>\n",
       "      <td>T</td>\n",
       "      <td>F</td>\n",
       "      <td>T</td>\n",
       "      <td>F</td>\n",
       "    </tr>\n",
       "  </tbody>\n",
       "</table>\n",
       "<p>3136 rows × 7 columns</p>\n",
       "</div>"
      ],
      "text/plain": [
       "             abdominal_obesity_ncep_v2 ckd_v2 diabetes2_v2 hypertension2_v2  \\\n",
       "sample_name                                                                   \n",
       "11666.G0001A                         T      F            F                T   \n",
       "11666.G0001L                         T      F            F                T   \n",
       "11666.G0002A                         T      F            T                T   \n",
       "11666.G0002R                         T      F            T                T   \n",
       "11666.G0003A                         T      F            F                F   \n",
       "...                                ...    ...          ...              ...   \n",
       "11666.G1777A                         F      T            F                T   \n",
       "11666.G1778A                         T      T            F                T   \n",
       "11666.G1779A                         T      F            T                T   \n",
       "11666.G1780A                         T      T            T                T   \n",
       "11666.G1781A                         T      T            F                T   \n",
       "\n",
       "             precvd_v2 elevated_bp_selfmeds_v2 dyslipidemia_v2  \n",
       "sample_name                                                     \n",
       "11666.G0001A         F                       T               F  \n",
       "11666.G0001L         F                       T               F  \n",
       "11666.G0002A         T                       T               F  \n",
       "11666.G0002R         T                       T               F  \n",
       "11666.G0003A         F                       F               F  \n",
       "...                ...                     ...             ...  \n",
       "11666.G1777A         F                       T               T  \n",
       "11666.G1778A         T                       T               F  \n",
       "11666.G1779A         F                       T               F  \n",
       "11666.G1780A         F                       T               T  \n",
       "11666.G1781A         F                       T               F  \n",
       "\n",
       "[3136 rows x 7 columns]"
      ]
     },
     "execution_count": 34,
     "metadata": {},
     "output_type": "execute_result"
    }
   ],
   "source": [
    "organized_metadata[1]"
   ]
  },
  {
   "cell_type": "markdown",
   "metadata": {},
   "source": [
    "# EDA"
   ]
  },
  {
   "cell_type": "code",
   "execution_count": null,
   "metadata": {},
   "outputs": [
    {
     "data": {
      "image/png": "[encoded data removed]",
      "text/plain": [
       "<Figure size 1000x500 with 1 Axes>"
      ]
     },
     "metadata": {},
     "output_type": "display_data"
    }
   ],
   "source": [
    "make_visualizations.create_bar_col_binary(organized_metadata[0], 'ckd_v2')"
   ]
  },
  {
   "cell_type": "code",
   "execution_count": null,
   "metadata": {},
   "outputs": [
    {
     "data": {
      "image/png": "[encoded data removed]",
      "text/plain": [
       "<Figure size 1000x500 with 1 Axes>"
      ]
     },
     "metadata": {},
     "output_type": "display_data"
    }
   ],
   "source": [
    "make_visualizations.disease_counts_graph(organized_metadata[0], feature_params['disease_cols'])"
   ]
  },
  {
   "cell_type": "code",
   "execution_count": null,
   "metadata": {},
   "outputs": [
    {
     "data": {
      "image/png": "[encoded data removed]",
      "text/plain": [
       "<Figure size 1000x500 with 2 Axes>"
      ]
     },
     "metadata": {},
     "output_type": "display_data"
    }
   ],
   "source": [
    "make_visualizations.co_occurence_graph(organized_metadata[0], feature_params['disease_cols'])"
   ]
  },
  {
   "cell_type": "code",
   "execution_count": null,
   "metadata": {},
   "outputs": [
    {
     "data": {
      "text/plain": [
       "2.0    354\n",
       "4.0    334\n",
       "3.0    314\n",
       "1.0    295\n",
       "5.0    230\n",
       "0.0    120\n",
       "6.0     91\n",
       "7.0     12\n",
       "dtype: int64"
      ]
     },
     "execution_count": 38,
     "metadata": {},
     "output_type": "execute_result"
    }
   ],
   "source": [
    "filtered_metadata = organized_metadata[0].loc[organized_metadata[0].index.isin(biom_table.ids())]\n",
    "filtered_metadata[feature_params['disease_cols']].sum(axis=1).value_counts()"
   ]
  },
  {
   "cell_type": "code",
   "execution_count": null,
   "metadata": {},
   "outputs": [
    {
     "data": {
      "image/png": "[encoded data removed]",
      "text/plain": [
       "<Figure size 1000x500 with 1 Axes>"
      ]
     },
     "metadata": {},
     "output_type": "display_data"
    }
   ],
   "source": [
    "make_visualizations.total_disease_count_graphs(organized_metadata[0],feature_params['disease_cols'])"
   ]
  },
  {
   "cell_type": "markdown",
   "metadata": {},
   "source": [
    "# Model Building"
   ]
  },
  {
   "cell_type": "code",
   "execution_count": null,
   "metadata": {},
   "outputs": [],
   "source": [
    "## Obtaining model params\n",
    "with open(\"config/model-params.json\") as fh:\n",
    "    model_params = json.load(fh)"
   ]
  },
  {
   "cell_type": "code",
   "execution_count": null,
   "metadata": {},
   "outputs": [
    {
     "data": {
      "text/plain": [
       "Metadata\n",
       "--------\n",
       "3136 IDs x 7 columns\n",
       "abdominal_obesity_ncep_v2: ColumnProperties(type='categorical', missing_scheme='blank')\n",
       "ckd_v2:                    ColumnProperties(type='categorical', missing_scheme='blank')\n",
       "diabetes2_v2:              ColumnProperties(type='categorical', missing_scheme='blank')\n",
       "hypertension2_v2:          ColumnProperties(type='categorical', missing_scheme='blank')\n",
       "precvd_v2:                 ColumnProperties(type='categorical', missing_scheme='blank')\n",
       "elevated_bp_selfmeds_v2:   ColumnProperties(type='categorical', missing_scheme='blank')\n",
       "dyslipidemia_v2:           ColumnProperties(type='categorical', missing_scheme='blank')\n",
       "\n",
       "Call to_dataframe() for a tabular representation."
      ]
     },
     "execution_count": 41,
     "metadata": {},
     "output_type": "execute_result"
    }
   ],
   "source": [
    "# need to return updated metadata path\n",
    "qiime_metadata_tf = make_dataset.read_qiime_metadata(\"data/temp/final_metadata_tf.tsv\")\n",
    "qiime_metadata_tf"
   ]
  },
  {
   "cell_type": "code",
   "execution_count": null,
   "metadata": {},
   "outputs": [],
   "source": [
    "rarefied_table = rarefy(feature_table, 10000).rarefied_table\n",
    "ckd_v2_model = make_models.sample_classifier_single_disease(rarefied_table, qiime_metadata_tf.get_column('ckd_v2'))\n",
    "ckd_v2_model"
   ]
  },
  {
   "cell_type": "code",
   "execution_count": null,
   "metadata": {},
   "outputs": [],
   "source": []
  }
 ],
 "metadata": {
  "kernelspec": {
   "display_name": "qiime2-2022.8",
   "language": "python",
   "name": "python3"
  },
  "language_info": {
   "codemirror_mode": {
    "name": "ipython",
    "version": 3
   },
   "file_extension": ".py",
   "mimetype": "text/x-python",
   "name": "python",
   "nbconvert_exporter": "python",
   "pygments_lexer": "ipython3",
   "version": "3.8.13"
  },
  "vscode": {
   "interpreter": {
    "hash": "2f3eb80ecefa8a2bb623a916cf91dd59a834c9ebe3cfa6e57c9edbb4634331c0"
   }
  }
 },
 "nbformat": 4,
 "nbformat_minor": 2
}
