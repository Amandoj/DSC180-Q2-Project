{
 "cells": [
  {
   "cell_type": "markdown",
   "metadata": {},
   "source": [
    "## Importing Packages and Source Code"
   ]
  },
  {
   "cell_type": "code",
   "execution_count": 1,
   "metadata": {},
   "outputs": [],
   "source": [
    "import json\n",
    "import os\n",
    "import sys\n",
    "## biom used to view Qiime Artifacts\n",
    "import biom\n",
    "%matplotlib inline "
   ]
  },
  {
   "cell_type": "code",
   "execution_count": 2,
   "metadata": {},
   "outputs": [],
   "source": [
    "## Import Source Code\n",
    "from src.data import make_dataset\n",
    "from src.features import build_features, metrics_analysis\n",
    "from src.models import make_models, evaluate_models\n",
    "from src.visualizations import make_visualizations"
   ]
  },
  {
   "cell_type": "code",
   "execution_count": 3,
   "metadata": {},
   "outputs": [],
   "source": [
    "## Creating paths to store temp and out data\n",
    "if not os.path.exists(\"data/temp\"):\n",
    "    os.makedirs(\"data/temp\")\n",
    "if not os.path.exists(\"data/out\"):\n",
    "    os.makedirs(\"data/out\")"
   ]
  },
  {
   "cell_type": "code",
   "execution_count": 4,
   "metadata": {},
   "outputs": [],
   "source": [
    "## Used to format graph\n",
    "import matplotlib.pyplot as plt"
   ]
  },
  {
   "cell_type": "markdown",
   "metadata": {},
   "source": [
    "## Reading Data"
   ]
  },
  {
   "cell_type": "code",
   "execution_count": 5,
   "metadata": {},
   "outputs": [],
   "source": [
    "## Obtaining file paths\n",
    "with open(\"config/data-params.json\") as fh:\n",
    "    file_paths = json.load(fh)"
   ]
  },
  {
   "cell_type": "code",
   "execution_count": 6,
   "metadata": {},
   "outputs": [
    {
     "name": "stderr",
     "output_type": "stream",
     "text": [
      "/home/rherlim/DSC180-Q2-Project/src/data/make_dataset.py:29: DtypeWarning: Columns (1,2,3,4,6,7,8,10,11,12,13,14,17,18,19,20,25,26,27,29,30,31,32,33,34,35,36,37,38,40,41,42,43,44,45,46,55,56,57,61,62,63,64,65,66,67,69,70,71,72,73,75,76,78,80,82,83,84,85,86,87,88,89,90,91,92,95,98,99,102,103,104,105,106,107,108,109,111,119,121,122,123,124,125,126,127,128,129,130,131,132,133,134,136,138,139,141,142,143,144,145,146,147,148,152,153,155,156,157,160,164,165,168,169,170,172,173,174,175) have mixed types. Specify dtype option on import or set low_memory=False.\n",
      "  metadata = pd.read_csv(path, sep='\\t', index_col=0)\n"
     ]
    }
   ],
   "source": [
    "feature_table = make_dataset.read_feature_table(file_paths[\"feature_table_path\"])\n",
    "metadata = make_dataset.read_metadata(file_paths[\"metadata_path\"])"
   ]
  },
  {
   "cell_type": "code",
   "execution_count": 7,
   "metadata": {},
   "outputs": [
    {
     "name": "stdout",
     "output_type": "stream",
     "text": [
      "# Constructed from biom file\n",
      "#OTU ID\t11666.BLANK7.7B\t11666.BLANK5.5B\t11666.G0341A\t11666.BLANK3.3A\t11666.BLANK5.5E\n",
      "AACATAAGGGGCAAGCGTTGTCCGGAATCACTGGGCGTAAAGGGCGCGTAGGTGGTCTGTTAAGTCAGATGTGAAATGTAAGGGCTCAACCCTTAACGTGCATCTGATACTGGCAGACTTGAGTGCGGAAGAGGCAAGTGGAATTCCTAG\t0.0\t0.0\t0.0\t0.0\t0.0\n",
      "AACATAGGGGGCAAGCGTTGCCCGGAATCACTGGGCGTAAAGGGCGCGTAGGTGGTCTGTTAAGTCAGATGTGAAATGTAAGGGCTCAACCCTTAACGTGCATCTGATACTGGCAGACTTGAGTGCGGAAGAGGCAAGTGGAATTCCTAG\t0.0\t0.0\t0.0\t0.0\t0.0\n",
      "AACATAGGGGGCAAGCGTTGTCCGGAAACACTGGGCGTAAAGGGCGCGTAGGCGGTCTGTTAAGTCGGATGTGAAATGTAAGGGCTCAACCCTTAACGTGCATCTGATACTGGCAGACTTGAGTGCGGAAGAGGCAAGTGGAATTCCTAG\t0.0\t0.0\t0.0\t0.0\t0.0\n",
      "AACATAGGGGGCAAGCGTTGTCCGGAATCACTGGGCATAAAGGGCGCGTAGGTGGTTTGTTAAGTCAGATGTGAAATGTAGGGGCTCAACCCCTAACGTGCATCTGATACTGGCAGACTTGAGTGCGGAAGAGGCAAGTGGAATTCCTAG\t0.0\t0.0\t0.0\t0.0\t0.0\n",
      "AACATAGGGGGCAAGCGTTGTCCGGAATCACTGGGCGTAAAGAGCGCGTAGGTGGTCTGTTAAGTCAGATGTGAAATGTAAGGGCTCAACCCTTAACGTGCATCTGATACTGGCAGACTTGAGTGCGGAAGAGGCAAGTGGAATTCCTAG\t0.0\t0.0\t0.0\t0.0\t0.0\n"
     ]
    }
   ],
   "source": [
    "biom_table = make_dataset.feature_table_biom_view(feature_table)\n",
    "print(biom_table.head())"
   ]
  },
  {
   "cell_type": "code",
   "execution_count": 8,
   "metadata": {},
   "outputs": [
    {
     "data": {
      "text/html": [
       "<div>\n",
       "<style scoped>\n",
       "    .dataframe tbody tr th:only-of-type {\n",
       "        vertical-align: middle;\n",
       "    }\n",
       "\n",
       "    .dataframe tbody tr th {\n",
       "        vertical-align: top;\n",
       "    }\n",
       "\n",
       "    .dataframe thead th {\n",
       "        text-align: right;\n",
       "    }\n",
       "</style>\n",
       "<table border=\"1\" class=\"dataframe\">\n",
       "  <thead>\n",
       "    <tr style=\"text-align: right;\">\n",
       "      <th></th>\n",
       "      <th>abdominal_obesity_idf_v2</th>\n",
       "      <th>abdominal_obesity_ncep_v2</th>\n",
       "      <th>ac_ratio_gt30</th>\n",
       "      <th>ac_ratio_gt30_v2</th>\n",
       "      <th>age_units</th>\n",
       "      <th>age_v2</th>\n",
       "      <th>agegroup_c6_nhanes_v2</th>\n",
       "      <th>agegroup_c6_v2</th>\n",
       "      <th>anonymized_name</th>\n",
       "      <th>antibiotic</th>\n",
       "      <th>...</th>\n",
       "      <th>taxon_id</th>\n",
       "      <th>title</th>\n",
       "      <th>type_stool</th>\n",
       "      <th>us_born_v2</th>\n",
       "      <th>weight_norm_overall_v2</th>\n",
       "      <th>weight_units</th>\n",
       "      <th>yes_no</th>\n",
       "      <th>yogurt</th>\n",
       "      <th>yrs_btwn_viv2</th>\n",
       "      <th>yrsus_c2_v2</th>\n",
       "    </tr>\n",
       "    <tr>\n",
       "      <th>sample_name</th>\n",
       "      <th></th>\n",
       "      <th></th>\n",
       "      <th></th>\n",
       "      <th></th>\n",
       "      <th></th>\n",
       "      <th></th>\n",
       "      <th></th>\n",
       "      <th></th>\n",
       "      <th></th>\n",
       "      <th></th>\n",
       "      <th></th>\n",
       "      <th></th>\n",
       "      <th></th>\n",
       "      <th></th>\n",
       "      <th></th>\n",
       "      <th></th>\n",
       "      <th></th>\n",
       "      <th></th>\n",
       "      <th></th>\n",
       "      <th></th>\n",
       "      <th></th>\n",
       "    </tr>\n",
       "  </thead>\n",
       "  <tbody>\n",
       "    <tr>\n",
       "      <th>11666.BLANK1.1A</th>\n",
       "      <td>not applicable</td>\n",
       "      <td>not applicable</td>\n",
       "      <td>not applicable</td>\n",
       "      <td>not applicable</td>\n",
       "      <td>not applicable</td>\n",
       "      <td>not applicable</td>\n",
       "      <td>not applicable</td>\n",
       "      <td>not applicable</td>\n",
       "      <td>BLANK1.1A</td>\n",
       "      <td>not applicable</td>\n",
       "      <td>...</td>\n",
       "      <td>256318.0</td>\n",
       "      <td>GOLD study</td>\n",
       "      <td>not applicable</td>\n",
       "      <td>not applicable</td>\n",
       "      <td>not applicable</td>\n",
       "      <td>not applicable</td>\n",
       "      <td>NaN</td>\n",
       "      <td>not applicable</td>\n",
       "      <td>not applicable</td>\n",
       "      <td>not applicable</td>\n",
       "    </tr>\n",
       "    <tr>\n",
       "      <th>11666.BLANK1.1A.ITS</th>\n",
       "      <td>not applicable</td>\n",
       "      <td>not applicable</td>\n",
       "      <td>not applicable</td>\n",
       "      <td>not applicable</td>\n",
       "      <td>not applicable</td>\n",
       "      <td>not applicable</td>\n",
       "      <td>not applicable</td>\n",
       "      <td>not applicable</td>\n",
       "      <td>BLANK1.1A.ITS</td>\n",
       "      <td>not applicable</td>\n",
       "      <td>...</td>\n",
       "      <td>256318.0</td>\n",
       "      <td>GOLD study</td>\n",
       "      <td>not applicable</td>\n",
       "      <td>not applicable</td>\n",
       "      <td>not applicable</td>\n",
       "      <td>not applicable</td>\n",
       "      <td>NaN</td>\n",
       "      <td>not applicable</td>\n",
       "      <td>not applicable</td>\n",
       "      <td>not applicable</td>\n",
       "    </tr>\n",
       "    <tr>\n",
       "      <th>11666.BLANK1.1B</th>\n",
       "      <td>not applicable</td>\n",
       "      <td>not applicable</td>\n",
       "      <td>not applicable</td>\n",
       "      <td>not applicable</td>\n",
       "      <td>not applicable</td>\n",
       "      <td>not applicable</td>\n",
       "      <td>not applicable</td>\n",
       "      <td>not applicable</td>\n",
       "      <td>BLANK1.1B</td>\n",
       "      <td>not applicable</td>\n",
       "      <td>...</td>\n",
       "      <td>256318.0</td>\n",
       "      <td>GOLD study</td>\n",
       "      <td>not applicable</td>\n",
       "      <td>not applicable</td>\n",
       "      <td>not applicable</td>\n",
       "      <td>not applicable</td>\n",
       "      <td>NaN</td>\n",
       "      <td>not applicable</td>\n",
       "      <td>not applicable</td>\n",
       "      <td>not applicable</td>\n",
       "    </tr>\n",
       "    <tr>\n",
       "      <th>11666.BLANK1.1B.ITS</th>\n",
       "      <td>not applicable</td>\n",
       "      <td>not applicable</td>\n",
       "      <td>not applicable</td>\n",
       "      <td>not applicable</td>\n",
       "      <td>not applicable</td>\n",
       "      <td>not applicable</td>\n",
       "      <td>not applicable</td>\n",
       "      <td>not applicable</td>\n",
       "      <td>BLANK1.1B.ITS</td>\n",
       "      <td>not applicable</td>\n",
       "      <td>...</td>\n",
       "      <td>256318.0</td>\n",
       "      <td>GOLD study</td>\n",
       "      <td>not applicable</td>\n",
       "      <td>not applicable</td>\n",
       "      <td>not applicable</td>\n",
       "      <td>not applicable</td>\n",
       "      <td>NaN</td>\n",
       "      <td>not applicable</td>\n",
       "      <td>not applicable</td>\n",
       "      <td>not applicable</td>\n",
       "    </tr>\n",
       "    <tr>\n",
       "      <th>11666.BLANK1.1C</th>\n",
       "      <td>not applicable</td>\n",
       "      <td>not applicable</td>\n",
       "      <td>not applicable</td>\n",
       "      <td>not applicable</td>\n",
       "      <td>not applicable</td>\n",
       "      <td>not applicable</td>\n",
       "      <td>not applicable</td>\n",
       "      <td>not applicable</td>\n",
       "      <td>BLANK1.1C</td>\n",
       "      <td>not applicable</td>\n",
       "      <td>...</td>\n",
       "      <td>256318.0</td>\n",
       "      <td>GOLD study</td>\n",
       "      <td>not applicable</td>\n",
       "      <td>not applicable</td>\n",
       "      <td>not applicable</td>\n",
       "      <td>not applicable</td>\n",
       "      <td>NaN</td>\n",
       "      <td>not applicable</td>\n",
       "      <td>not applicable</td>\n",
       "      <td>not applicable</td>\n",
       "    </tr>\n",
       "  </tbody>\n",
       "</table>\n",
       "<p>5 rows × 175 columns</p>\n",
       "</div>"
      ],
      "text/plain": [
       "                    abdominal_obesity_idf_v2 abdominal_obesity_ncep_v2  \\\n",
       "sample_name                                                              \n",
       "11666.BLANK1.1A               not applicable            not applicable   \n",
       "11666.BLANK1.1A.ITS           not applicable            not applicable   \n",
       "11666.BLANK1.1B               not applicable            not applicable   \n",
       "11666.BLANK1.1B.ITS           not applicable            not applicable   \n",
       "11666.BLANK1.1C               not applicable            not applicable   \n",
       "\n",
       "                      ac_ratio_gt30 ac_ratio_gt30_v2       age_units  \\\n",
       "sample_name                                                            \n",
       "11666.BLANK1.1A      not applicable   not applicable  not applicable   \n",
       "11666.BLANK1.1A.ITS  not applicable   not applicable  not applicable   \n",
       "11666.BLANK1.1B      not applicable   not applicable  not applicable   \n",
       "11666.BLANK1.1B.ITS  not applicable   not applicable  not applicable   \n",
       "11666.BLANK1.1C      not applicable   not applicable  not applicable   \n",
       "\n",
       "                             age_v2 agegroup_c6_nhanes_v2  agegroup_c6_v2  \\\n",
       "sample_name                                                                 \n",
       "11666.BLANK1.1A      not applicable        not applicable  not applicable   \n",
       "11666.BLANK1.1A.ITS  not applicable        not applicable  not applicable   \n",
       "11666.BLANK1.1B      not applicable        not applicable  not applicable   \n",
       "11666.BLANK1.1B.ITS  not applicable        not applicable  not applicable   \n",
       "11666.BLANK1.1C      not applicable        not applicable  not applicable   \n",
       "\n",
       "                    anonymized_name      antibiotic  ...  taxon_id  \\\n",
       "sample_name                                          ...             \n",
       "11666.BLANK1.1A           BLANK1.1A  not applicable  ...  256318.0   \n",
       "11666.BLANK1.1A.ITS   BLANK1.1A.ITS  not applicable  ...  256318.0   \n",
       "11666.BLANK1.1B           BLANK1.1B  not applicable  ...  256318.0   \n",
       "11666.BLANK1.1B.ITS   BLANK1.1B.ITS  not applicable  ...  256318.0   \n",
       "11666.BLANK1.1C           BLANK1.1C  not applicable  ...  256318.0   \n",
       "\n",
       "                          title      type_stool      us_born_v2  \\\n",
       "sample_name                                                       \n",
       "11666.BLANK1.1A      GOLD study  not applicable  not applicable   \n",
       "11666.BLANK1.1A.ITS  GOLD study  not applicable  not applicable   \n",
       "11666.BLANK1.1B      GOLD study  not applicable  not applicable   \n",
       "11666.BLANK1.1B.ITS  GOLD study  not applicable  not applicable   \n",
       "11666.BLANK1.1C      GOLD study  not applicable  not applicable   \n",
       "\n",
       "                    weight_norm_overall_v2    weight_units yes_no  \\\n",
       "sample_name                                                         \n",
       "11666.BLANK1.1A             not applicable  not applicable    NaN   \n",
       "11666.BLANK1.1A.ITS         not applicable  not applicable    NaN   \n",
       "11666.BLANK1.1B             not applicable  not applicable    NaN   \n",
       "11666.BLANK1.1B.ITS         not applicable  not applicable    NaN   \n",
       "11666.BLANK1.1C             not applicable  not applicable    NaN   \n",
       "\n",
       "                             yogurt   yrs_btwn_viv2     yrsus_c2_v2  \n",
       "sample_name                                                          \n",
       "11666.BLANK1.1A      not applicable  not applicable  not applicable  \n",
       "11666.BLANK1.1A.ITS  not applicable  not applicable  not applicable  \n",
       "11666.BLANK1.1B      not applicable  not applicable  not applicable  \n",
       "11666.BLANK1.1B.ITS  not applicable  not applicable  not applicable  \n",
       "11666.BLANK1.1C      not applicable  not applicable  not applicable  \n",
       "\n",
       "[5 rows x 175 columns]"
      ]
     },
     "execution_count": 8,
     "metadata": {},
     "output_type": "execute_result"
    }
   ],
   "source": [
    "metadata.head()"
   ]
  },
  {
   "cell_type": "markdown",
   "metadata": {},
   "source": [
    "# Create Features"
   ]
  },
  {
   "cell_type": "code",
   "execution_count": 9,
   "metadata": {},
   "outputs": [],
   "source": [
    "## Obtaining file paths\n",
    "with open(\"config/feature-params.json\") as fh:\n",
    "    feature_params = json.load(fh)"
   ]
  },
  {
   "cell_type": "code",
   "execution_count": 10,
   "metadata": {},
   "outputs": [],
   "source": [
    "organized_metadata = build_features.organize_metadata(metadata, biom_table.ids(), **feature_params)"
   ]
  },
  {
   "cell_type": "code",
   "execution_count": 11,
   "metadata": {},
   "outputs": [
    {
     "data": {
      "text/html": [
       "<div>\n",
       "<style scoped>\n",
       "    .dataframe tbody tr th:only-of-type {\n",
       "        vertical-align: middle;\n",
       "    }\n",
       "\n",
       "    .dataframe tbody tr th {\n",
       "        vertical-align: top;\n",
       "    }\n",
       "\n",
       "    .dataframe thead th {\n",
       "        text-align: right;\n",
       "    }\n",
       "</style>\n",
       "<table border=\"1\" class=\"dataframe\">\n",
       "  <thead>\n",
       "    <tr style=\"text-align: right;\">\n",
       "      <th></th>\n",
       "      <th>abdominal_obesity_ncep_v2</th>\n",
       "      <th>ckd_v2</th>\n",
       "      <th>diabetes2_v2</th>\n",
       "      <th>hypertension2_v2</th>\n",
       "      <th>precvd_v2</th>\n",
       "      <th>elevated_bp_selfmeds_v2</th>\n",
       "      <th>dyslipidemia_v2</th>\n",
       "      <th>hispanic_origin</th>\n",
       "    </tr>\n",
       "    <tr>\n",
       "      <th>sample_name</th>\n",
       "      <th></th>\n",
       "      <th></th>\n",
       "      <th></th>\n",
       "      <th></th>\n",
       "      <th></th>\n",
       "      <th></th>\n",
       "      <th></th>\n",
       "      <th></th>\n",
       "    </tr>\n",
       "  </thead>\n",
       "  <tbody>\n",
       "    <tr>\n",
       "      <th>11666.G0001A</th>\n",
       "      <td>1.0</td>\n",
       "      <td>0.0</td>\n",
       "      <td>0.0</td>\n",
       "      <td>1.0</td>\n",
       "      <td>0.0</td>\n",
       "      <td>1.0</td>\n",
       "      <td>0.0</td>\n",
       "      <td>3.0</td>\n",
       "    </tr>\n",
       "    <tr>\n",
       "      <th>11666.G0002A</th>\n",
       "      <td>1.0</td>\n",
       "      <td>0.0</td>\n",
       "      <td>1.0</td>\n",
       "      <td>1.0</td>\n",
       "      <td>1.0</td>\n",
       "      <td>1.0</td>\n",
       "      <td>0.0</td>\n",
       "      <td>3.0</td>\n",
       "    </tr>\n",
       "    <tr>\n",
       "      <th>11666.G0003A</th>\n",
       "      <td>1.0</td>\n",
       "      <td>0.0</td>\n",
       "      <td>0.0</td>\n",
       "      <td>0.0</td>\n",
       "      <td>0.0</td>\n",
       "      <td>0.0</td>\n",
       "      <td>0.0</td>\n",
       "      <td>1.0</td>\n",
       "    </tr>\n",
       "    <tr>\n",
       "      <th>11666.G0004A</th>\n",
       "      <td>0.0</td>\n",
       "      <td>1.0</td>\n",
       "      <td>0.0</td>\n",
       "      <td>1.0</td>\n",
       "      <td>0.0</td>\n",
       "      <td>1.0</td>\n",
       "      <td>0.0</td>\n",
       "      <td>1.0</td>\n",
       "    </tr>\n",
       "    <tr>\n",
       "      <th>11666.G0005A</th>\n",
       "      <td>1.0</td>\n",
       "      <td>0.0</td>\n",
       "      <td>0.0</td>\n",
       "      <td>1.0</td>\n",
       "      <td>0.0</td>\n",
       "      <td>1.0</td>\n",
       "      <td>0.0</td>\n",
       "      <td>1.0</td>\n",
       "    </tr>\n",
       "    <tr>\n",
       "      <th>...</th>\n",
       "      <td>...</td>\n",
       "      <td>...</td>\n",
       "      <td>...</td>\n",
       "      <td>...</td>\n",
       "      <td>...</td>\n",
       "      <td>...</td>\n",
       "      <td>...</td>\n",
       "      <td>...</td>\n",
       "    </tr>\n",
       "    <tr>\n",
       "      <th>11666.G1777A</th>\n",
       "      <td>0.0</td>\n",
       "      <td>1.0</td>\n",
       "      <td>0.0</td>\n",
       "      <td>1.0</td>\n",
       "      <td>0.0</td>\n",
       "      <td>1.0</td>\n",
       "      <td>1.0</td>\n",
       "      <td>4.0</td>\n",
       "    </tr>\n",
       "    <tr>\n",
       "      <th>11666.G1778A</th>\n",
       "      <td>1.0</td>\n",
       "      <td>1.0</td>\n",
       "      <td>0.0</td>\n",
       "      <td>1.0</td>\n",
       "      <td>1.0</td>\n",
       "      <td>1.0</td>\n",
       "      <td>0.0</td>\n",
       "      <td>4.0</td>\n",
       "    </tr>\n",
       "    <tr>\n",
       "      <th>11666.G1779A</th>\n",
       "      <td>1.0</td>\n",
       "      <td>0.0</td>\n",
       "      <td>1.0</td>\n",
       "      <td>1.0</td>\n",
       "      <td>0.0</td>\n",
       "      <td>1.0</td>\n",
       "      <td>0.0</td>\n",
       "      <td>4.0</td>\n",
       "    </tr>\n",
       "    <tr>\n",
       "      <th>11666.G1780A</th>\n",
       "      <td>1.0</td>\n",
       "      <td>1.0</td>\n",
       "      <td>1.0</td>\n",
       "      <td>1.0</td>\n",
       "      <td>0.0</td>\n",
       "      <td>1.0</td>\n",
       "      <td>1.0</td>\n",
       "      <td>4.0</td>\n",
       "    </tr>\n",
       "    <tr>\n",
       "      <th>11666.G1781A</th>\n",
       "      <td>1.0</td>\n",
       "      <td>1.0</td>\n",
       "      <td>0.0</td>\n",
       "      <td>1.0</td>\n",
       "      <td>0.0</td>\n",
       "      <td>1.0</td>\n",
       "      <td>0.0</td>\n",
       "      <td>2.0</td>\n",
       "    </tr>\n",
       "  </tbody>\n",
       "</table>\n",
       "<p>1747 rows × 8 columns</p>\n",
       "</div>"
      ],
      "text/plain": [
       "              abdominal_obesity_ncep_v2  ckd_v2  diabetes2_v2  \\\n",
       "sample_name                                                     \n",
       "11666.G0001A                        1.0     0.0           0.0   \n",
       "11666.G0002A                        1.0     0.0           1.0   \n",
       "11666.G0003A                        1.0     0.0           0.0   \n",
       "11666.G0004A                        0.0     1.0           0.0   \n",
       "11666.G0005A                        1.0     0.0           0.0   \n",
       "...                                 ...     ...           ...   \n",
       "11666.G1777A                        0.0     1.0           0.0   \n",
       "11666.G1778A                        1.0     1.0           0.0   \n",
       "11666.G1779A                        1.0     0.0           1.0   \n",
       "11666.G1780A                        1.0     1.0           1.0   \n",
       "11666.G1781A                        1.0     1.0           0.0   \n",
       "\n",
       "              hypertension2_v2  precvd_v2  elevated_bp_selfmeds_v2  \\\n",
       "sample_name                                                          \n",
       "11666.G0001A               1.0        0.0                      1.0   \n",
       "11666.G0002A               1.0        1.0                      1.0   \n",
       "11666.G0003A               0.0        0.0                      0.0   \n",
       "11666.G0004A               1.0        0.0                      1.0   \n",
       "11666.G0005A               1.0        0.0                      1.0   \n",
       "...                        ...        ...                      ...   \n",
       "11666.G1777A               1.0        0.0                      1.0   \n",
       "11666.G1778A               1.0        1.0                      1.0   \n",
       "11666.G1779A               1.0        0.0                      1.0   \n",
       "11666.G1780A               1.0        0.0                      1.0   \n",
       "11666.G1781A               1.0        0.0                      1.0   \n",
       "\n",
       "              dyslipidemia_v2  hispanic_origin  \n",
       "sample_name                                     \n",
       "11666.G0001A              0.0              3.0  \n",
       "11666.G0002A              0.0              3.0  \n",
       "11666.G0003A              0.0              1.0  \n",
       "11666.G0004A              0.0              1.0  \n",
       "11666.G0005A              0.0              1.0  \n",
       "...                       ...              ...  \n",
       "11666.G1777A              1.0              4.0  \n",
       "11666.G1778A              0.0              4.0  \n",
       "11666.G1779A              0.0              4.0  \n",
       "11666.G1780A              1.0              4.0  \n",
       "11666.G1781A              0.0              2.0  \n",
       "\n",
       "[1747 rows x 8 columns]"
      ]
     },
     "execution_count": 11,
     "metadata": {},
     "output_type": "execute_result"
    }
   ],
   "source": [
    "organized_metadata[0]"
   ]
  },
  {
   "cell_type": "code",
   "execution_count": 12,
   "metadata": {},
   "outputs": [
    {
     "data": {
      "text/html": [
       "<div>\n",
       "<style scoped>\n",
       "    .dataframe tbody tr th:only-of-type {\n",
       "        vertical-align: middle;\n",
       "    }\n",
       "\n",
       "    .dataframe tbody tr th {\n",
       "        vertical-align: top;\n",
       "    }\n",
       "\n",
       "    .dataframe thead th {\n",
       "        text-align: right;\n",
       "    }\n",
       "</style>\n",
       "<table border=\"1\" class=\"dataframe\">\n",
       "  <thead>\n",
       "    <tr style=\"text-align: right;\">\n",
       "      <th></th>\n",
       "      <th>abdominal_obesity_ncep_v2</th>\n",
       "      <th>ckd_v2</th>\n",
       "      <th>diabetes2_v2</th>\n",
       "      <th>hypertension2_v2</th>\n",
       "      <th>precvd_v2</th>\n",
       "      <th>elevated_bp_selfmeds_v2</th>\n",
       "      <th>dyslipidemia_v2</th>\n",
       "      <th>hispanic_origin</th>\n",
       "    </tr>\n",
       "    <tr>\n",
       "      <th>sample_name</th>\n",
       "      <th></th>\n",
       "      <th></th>\n",
       "      <th></th>\n",
       "      <th></th>\n",
       "      <th></th>\n",
       "      <th></th>\n",
       "      <th></th>\n",
       "      <th></th>\n",
       "    </tr>\n",
       "  </thead>\n",
       "  <tbody>\n",
       "    <tr>\n",
       "      <th>11666.G0001A</th>\n",
       "      <td>T</td>\n",
       "      <td>F</td>\n",
       "      <td>F</td>\n",
       "      <td>T</td>\n",
       "      <td>F</td>\n",
       "      <td>T</td>\n",
       "      <td>F</td>\n",
       "      <td>3.0</td>\n",
       "    </tr>\n",
       "    <tr>\n",
       "      <th>11666.G0002A</th>\n",
       "      <td>T</td>\n",
       "      <td>F</td>\n",
       "      <td>T</td>\n",
       "      <td>T</td>\n",
       "      <td>T</td>\n",
       "      <td>T</td>\n",
       "      <td>F</td>\n",
       "      <td>3.0</td>\n",
       "    </tr>\n",
       "    <tr>\n",
       "      <th>11666.G0003A</th>\n",
       "      <td>T</td>\n",
       "      <td>F</td>\n",
       "      <td>F</td>\n",
       "      <td>F</td>\n",
       "      <td>F</td>\n",
       "      <td>F</td>\n",
       "      <td>F</td>\n",
       "      <td>1.0</td>\n",
       "    </tr>\n",
       "    <tr>\n",
       "      <th>11666.G0004A</th>\n",
       "      <td>F</td>\n",
       "      <td>T</td>\n",
       "      <td>F</td>\n",
       "      <td>T</td>\n",
       "      <td>F</td>\n",
       "      <td>T</td>\n",
       "      <td>F</td>\n",
       "      <td>1.0</td>\n",
       "    </tr>\n",
       "    <tr>\n",
       "      <th>11666.G0005A</th>\n",
       "      <td>T</td>\n",
       "      <td>F</td>\n",
       "      <td>F</td>\n",
       "      <td>T</td>\n",
       "      <td>F</td>\n",
       "      <td>T</td>\n",
       "      <td>F</td>\n",
       "      <td>1.0</td>\n",
       "    </tr>\n",
       "    <tr>\n",
       "      <th>...</th>\n",
       "      <td>...</td>\n",
       "      <td>...</td>\n",
       "      <td>...</td>\n",
       "      <td>...</td>\n",
       "      <td>...</td>\n",
       "      <td>...</td>\n",
       "      <td>...</td>\n",
       "      <td>...</td>\n",
       "    </tr>\n",
       "    <tr>\n",
       "      <th>11666.G1777A</th>\n",
       "      <td>F</td>\n",
       "      <td>T</td>\n",
       "      <td>F</td>\n",
       "      <td>T</td>\n",
       "      <td>F</td>\n",
       "      <td>T</td>\n",
       "      <td>T</td>\n",
       "      <td>4.0</td>\n",
       "    </tr>\n",
       "    <tr>\n",
       "      <th>11666.G1778A</th>\n",
       "      <td>T</td>\n",
       "      <td>T</td>\n",
       "      <td>F</td>\n",
       "      <td>T</td>\n",
       "      <td>T</td>\n",
       "      <td>T</td>\n",
       "      <td>F</td>\n",
       "      <td>4.0</td>\n",
       "    </tr>\n",
       "    <tr>\n",
       "      <th>11666.G1779A</th>\n",
       "      <td>T</td>\n",
       "      <td>F</td>\n",
       "      <td>T</td>\n",
       "      <td>T</td>\n",
       "      <td>F</td>\n",
       "      <td>T</td>\n",
       "      <td>F</td>\n",
       "      <td>4.0</td>\n",
       "    </tr>\n",
       "    <tr>\n",
       "      <th>11666.G1780A</th>\n",
       "      <td>T</td>\n",
       "      <td>T</td>\n",
       "      <td>T</td>\n",
       "      <td>T</td>\n",
       "      <td>F</td>\n",
       "      <td>T</td>\n",
       "      <td>T</td>\n",
       "      <td>4.0</td>\n",
       "    </tr>\n",
       "    <tr>\n",
       "      <th>11666.G1781A</th>\n",
       "      <td>T</td>\n",
       "      <td>T</td>\n",
       "      <td>F</td>\n",
       "      <td>T</td>\n",
       "      <td>F</td>\n",
       "      <td>T</td>\n",
       "      <td>F</td>\n",
       "      <td>2.0</td>\n",
       "    </tr>\n",
       "  </tbody>\n",
       "</table>\n",
       "<p>1747 rows × 8 columns</p>\n",
       "</div>"
      ],
      "text/plain": [
       "             abdominal_obesity_ncep_v2 ckd_v2 diabetes2_v2 hypertension2_v2  \\\n",
       "sample_name                                                                   \n",
       "11666.G0001A                         T      F            F                T   \n",
       "11666.G0002A                         T      F            T                T   \n",
       "11666.G0003A                         T      F            F                F   \n",
       "11666.G0004A                         F      T            F                T   \n",
       "11666.G0005A                         T      F            F                T   \n",
       "...                                ...    ...          ...              ...   \n",
       "11666.G1777A                         F      T            F                T   \n",
       "11666.G1778A                         T      T            F                T   \n",
       "11666.G1779A                         T      F            T                T   \n",
       "11666.G1780A                         T      T            T                T   \n",
       "11666.G1781A                         T      T            F                T   \n",
       "\n",
       "             precvd_v2 elevated_bp_selfmeds_v2 dyslipidemia_v2  \\\n",
       "sample_name                                                      \n",
       "11666.G0001A         F                       T               F   \n",
       "11666.G0002A         T                       T               F   \n",
       "11666.G0003A         F                       F               F   \n",
       "11666.G0004A         F                       T               F   \n",
       "11666.G0005A         F                       T               F   \n",
       "...                ...                     ...             ...   \n",
       "11666.G1777A         F                       T               T   \n",
       "11666.G1778A         T                       T               F   \n",
       "11666.G1779A         F                       T               F   \n",
       "11666.G1780A         F                       T               T   \n",
       "11666.G1781A         F                       T               F   \n",
       "\n",
       "              hispanic_origin  \n",
       "sample_name                    \n",
       "11666.G0001A              3.0  \n",
       "11666.G0002A              3.0  \n",
       "11666.G0003A              1.0  \n",
       "11666.G0004A              1.0  \n",
       "11666.G0005A              1.0  \n",
       "...                       ...  \n",
       "11666.G1777A              4.0  \n",
       "11666.G1778A              4.0  \n",
       "11666.G1779A              4.0  \n",
       "11666.G1780A              4.0  \n",
       "11666.G1781A              2.0  \n",
       "\n",
       "[1747 rows x 8 columns]"
      ]
     },
     "execution_count": 12,
     "metadata": {},
     "output_type": "execute_result"
    }
   ],
   "source": [
    "organized_metadata[1]"
   ]
  },
  {
   "cell_type": "markdown",
   "metadata": {},
   "source": [
    "# EDA"
   ]
  },
  {
   "cell_type": "code",
   "execution_count": null,
   "metadata": {},
   "outputs": [],
   "source": [
    "make_visualizations.create_bar_col_binary(organized_metadata[1], 'ckd_v2')"
   ]
  },
  {
   "cell_type": "code",
   "execution_count": null,
   "metadata": {},
   "outputs": [],
   "source": [
    "diseases_cols = {\n",
    "    'abdominal_obesity_ncep_v2': 'Obesity',\n",
    "    'ckd_v2': 'Chronic Kidney Disease',\n",
    "    'diabetes2_v2': 'Diabetes',\n",
    "    'precvd_v2': 'Pre-CVD',\n",
    "    'elevated_bp_selfmeds_v2': 'Elevated Blood Pressure',\n",
    "    'dyslipidemia_v2': 'Dyslipidemia'\n",
    "}"
   ]
  },
  {
   "cell_type": "code",
   "execution_count": null,
   "metadata": {},
   "outputs": [],
   "source": [
    "make_visualizations.disease_counts_graph(organized_metadata[0].rename(columns=diseases_cols), disease_cols=diseases_cols.values())"
   ]
  },
  {
   "cell_type": "code",
   "execution_count": null,
   "metadata": {},
   "outputs": [],
   "source": [
    "organized_metadata[0][feature_params['disease_cols']].sum(axis=1).value_counts().sort_values(ascending=False)"
   ]
  },
  {
   "cell_type": "code",
   "execution_count": null,
   "metadata": {},
   "outputs": [],
   "source": [
    "make_visualizations.total_disease_count_graph(organized_metadata[0],feature_params['disease_cols'])"
   ]
  },
  {
   "cell_type": "markdown",
   "metadata": {},
   "source": [
    "# Model Building"
   ]
  },
  {
   "cell_type": "code",
   "execution_count": null,
   "metadata": {},
   "outputs": [],
   "source": [
    "## Obtaining model params\n",
    "with open(\"config/model-params.json\") as fh:\n",
    "    model_params = json.load(fh)"
   ]
  },
  {
   "cell_type": "code",
   "execution_count": 13,
   "metadata": {},
   "outputs": [
    {
     "data": {
      "text/plain": [
       "Metadata\n",
       "--------\n",
       "1747 IDs x 8 columns\n",
       "abdominal_obesity_ncep_v2: ColumnProperties(type='categorical', missing_scheme='blank')\n",
       "ckd_v2:                    ColumnProperties(type='categorical', missing_scheme='blank')\n",
       "diabetes2_v2:              ColumnProperties(type='categorical', missing_scheme='blank')\n",
       "hypertension2_v2:          ColumnProperties(type='categorical', missing_scheme='blank')\n",
       "precvd_v2:                 ColumnProperties(type='categorical', missing_scheme='blank')\n",
       "elevated_bp_selfmeds_v2:   ColumnProperties(type='categorical', missing_scheme='blank')\n",
       "dyslipidemia_v2:           ColumnProperties(type='categorical', missing_scheme='blank')\n",
       "hispanic_origin:           ColumnProperties(type='numeric', missing_scheme='blank')\n",
       "\n",
       "Call to_dataframe() for a tabular representation."
      ]
     },
     "execution_count": 13,
     "metadata": {},
     "output_type": "execute_result"
    }
   ],
   "source": [
    "precvd_undersample = organized_metadata[1][['precvd_v2']]\n",
    "precvd_undersample"
   ]
  },
  {
   "cell_type": "code",
   "execution_count": null,
   "metadata": {},
   "outputs": [],
   "source": [
    "balanced_precvd_df = build_features.balance_precvd(organized_metadata[1])"
   ]
  },
  {
   "cell_type": "code",
   "execution_count": null,
   "metadata": {},
   "outputs": [],
   "source": [
    "# need to return updated metadata path\n",
    "qiime_metadata_tf = make_dataset.read_qiime_metadata(\"data/temp/final_metadata_tf.tsv\")\n",
    "qiime_metadata_tf"
   ]
  },
  {
   "cell_type": "code",
   "execution_count": null,
   "metadata": {},
   "outputs": [],
   "source": [
    "filtered_table = make_dataset.filter_feature_table(feature_table, 4, qiime_metadata_tf)\n",
    "filtered_table.view(biom.Table)"
   ]
  },
  {
   "cell_type": "code",
   "execution_count": null,
   "metadata": {},
   "outputs": [],
   "source": [
    "binary_relevance_model = make_models.binary_relevance_model(filtered_table, qiime_metadata_tf, model_params['disease_targets'],precvd_data=balanced_precvd_df)"
   ]
  },
  {
   "cell_type": "code",
   "execution_count": null,
   "metadata": {},
   "outputs": [],
   "source": [
    "disease_accuracy_scores = evaluate_models.binary_relevance_accuracy_scores(binary_relevance_model, feature_params['disease_cols'])"
   ]
  },
  {
   "cell_type": "code",
   "execution_count": null,
   "metadata": {},
   "outputs": [],
   "source": [
    "disease_accuracy_scores"
   ]
  },
  {
   "cell_type": "code",
   "execution_count": null,
   "metadata": {},
   "outputs": [],
   "source": [
    "make_visualizations.binary_relevance_accuracy_scores_graph(disease_accuracy_scores)"
   ]
  },
  {
   "cell_type": "code",
   "execution_count": null,
   "metadata": {},
   "outputs": [],
   "source": [
    "aucs = {'abdominal_obesity_ncep_v2':[0.70,0.52],'ckd_v2':[0.57,0.56],\n",
    "'diabetes2_v2':[0.73,0.61],'precvd_v2':[0.55,0.56],\n",
    "'elevated_bp_selfmeds_v2':[0.63,0.61],'dyslipidemia_v2':[0.67,0.55]} #micro,macro"
   ]
  },
  {
   "cell_type": "code",
   "execution_count": null,
   "metadata": {},
   "outputs": [],
   "source": [
    "micro = {}\n",
    "macro = {}\n",
    "for i in aucs.keys():\n",
    "    micro[i] = aucs[i][0]\n",
    "    macro[i] = aucs[i][1]"
   ]
  },
  {
   "cell_type": "code",
   "execution_count": null,
   "metadata": {},
   "outputs": [],
   "source": [
    "import matplotlib.pyplot as plt\n",
    "import seaborn as sns\n",
    "import pandas as pd"
   ]
  },
  {
   "cell_type": "code",
   "execution_count": null,
   "metadata": {},
   "outputs": [],
   "source": [
    "micro_average = pd.Series(micro, name='Percentage')\n",
    "macro_average = pd.Series(macro, name='Percentage')\n",
    "disease_accuracy_scores_series = pd.Series(disease_accuracy_scores, name='Percentage')"
   ]
  },
  {
   "cell_type": "code",
   "execution_count": null,
   "metadata": {},
   "outputs": [],
   "source": [
    "micro_average = micro_average.reset_index().assign(metric_type=['micro-average AUC' for x in range(6)])\n",
    "macro_average = macro_average.reset_index().assign(metric_type=['macro-average AUC' for x in range(6)])\n",
    "disease_accuracy_scores_series = disease_accuracy_scores_series.reset_index().assign(metric_type=['Overall Accuracy' for x in range(6)])"
   ]
  },
  {
   "cell_type": "code",
   "execution_count": null,
   "metadata": {},
   "outputs": [],
   "source": [
    "performance_metrics_seaborn = pd.concat([disease_accuracy_scores_series,micro_average,macro_average ])\n",
    "performance_metrics_seaborn = performance_metrics_seaborn.rename(columns={'index':'Disease Type'})\n",
    "performance_metrics_seaborn['Disease Type'] = performance_metrics_seaborn['Disease Type'].replace(diseases_cols)"
   ]
  },
  {
   "cell_type": "code",
   "execution_count": null,
   "metadata": {},
   "outputs": [],
   "source": [
    "import numpy as np"
   ]
  },
  {
   "cell_type": "code",
   "execution_count": null,
   "metadata": {},
   "outputs": [],
   "source": [
    "plt.figure(figsize=(22,10))\n",
    "sns.set(font_scale=2)\n",
    "ax = sns.barplot(data=performance_metrics_seaborn, x='Disease Type',y='Percentage',hue='metric_type')\n",
    "ax.legend(loc='upper center', title ='Metric Type')\n",
    "sns.move_legend(\n",
    "    ax, \"lower center\",\n",
    "    bbox_to_anchor=(.5, 1), ncol=3, title=None, frameon=False,\n",
    ")\n",
    "plt.title('Gradient Boosting Classifier Performance',y=1.1)\n",
    "plt.savefig('performance_metrics_seaborn.png',dpi=300,bbox_inches='tight')"
   ]
  },
  {
   "cell_type": "code",
   "execution_count": null,
   "metadata": {},
   "outputs": [],
   "source": [
    "from sklearn.metrics import roc_auc_score"
   ]
  },
  {
   "cell_type": "code",
   "execution_count": null,
   "metadata": {},
   "outputs": [],
   "source": [
    "test_targets = binary_relevance_model['abdominal_obesity_ncep_v2'].test_targets.view(pd.Series)\n",
    "predictions = binary_relevance_model['abdominal_obesity_ncep_v2'].predictions.view(pd.Series)\n",
    "probabilities =  binary_relevance_model['abdominal_obesity_ncep_v2'].probabilities.view(pd.DataFrame)"
   ]
  },
  {
   "cell_type": "code",
   "execution_count": null,
   "metadata": {},
   "outputs": [],
   "source": [
    "print(roc_auc_score(test_targets, probabilities.to_numpy()[:,1],average='micro'))\n",
    "roc_auc_score(test_targets, probabilities.to_numpy()[:,1])"
   ]
  },
  {
   "attachments": {},
   "cell_type": "markdown",
   "metadata": {},
   "source": [
    "# Permanova test"
   ]
  },
  {
   "cell_type": "code",
   "execution_count": null,
   "metadata": {},
   "outputs": [],
   "source": [
    "from qiime2 import Artifact"
   ]
  },
  {
   "cell_type": "code",
   "execution_count": null,
   "metadata": {},
   "outputs": [],
   "source": [
    "tree_artifact = Artifact.load('data/raw/tree_file.qza')"
   ]
  },
  {
   "cell_type": "code",
   "execution_count": null,
   "metadata": {},
   "outputs": [],
   "source": [
    "metrics = metrics_analysis.extract_core_metrics(filtered_table, 7930, metadata = qiime_metadata_tf, phylogeny = tree_artifact)"
   ]
  },
  {
   "cell_type": "code",
   "execution_count": null,
   "metadata": {},
   "outputs": [],
   "source": [
    "from qiime2.plugins.diversity.pipelines import core_metrics_phylogenetic"
   ]
  },
  {
   "cell_type": "code",
   "execution_count": null,
   "metadata": {},
   "outputs": [],
   "source": [
    "from qiime2.plugins.feature_table.methods import filter_samples"
   ]
  },
  {
   "cell_type": "code",
   "execution_count": null,
   "metadata": {},
   "outputs": [],
   "source": [
    "filtered_table_precvd = filter_samples(feature_table,metadata=balanced_precvd_df).filtered_table"
   ]
  },
  {
   "cell_type": "code",
   "execution_count": null,
   "metadata": {},
   "outputs": [],
   "source": [
    "precvd_metrics=core_metrics_phylogenetic(filtered_table_precvd, sampling_depth=10, metadata = balanced_precvd_df, phylogeny = tree_artifact)"
   ]
  },
  {
   "cell_type": "code",
   "execution_count": null,
   "metadata": {},
   "outputs": [],
   "source": [
    "metrics_analysis.permanova_test_all_diseases(precvd_metrics.unweighted_unifrac_distance_matrix,precvd_metrics.weighted_unifrac_distance_matrix,balanced_precvd_df,['precvd_v2'])"
   ]
  },
  {
   "attachments": {},
   "cell_type": "markdown",
   "metadata": {},
   "source": [
    "# rarerfied results"
   ]
  },
  {
   "cell_type": "code",
   "execution_count": null,
   "metadata": {},
   "outputs": [],
   "source": [
    "metrics.rarefied_table"
   ]
  },
  {
   "cell_type": "code",
   "execution_count": null,
   "metadata": {},
   "outputs": [],
   "source": [
    "rarefied_results = make_models.binary_relevance_model(metrics.rarefied_table, qiime_metadata_tf, feature_params['disease_cols'],precvd_col=balanced_precvd_df.get_column('precvd_v2'))"
   ]
  },
  {
   "cell_type": "code",
   "execution_count": null,
   "metadata": {},
   "outputs": [],
   "source": []
  }
 ],
 "metadata": {
  "kernelspec": {
   "display_name": "qiime2-2022.8",
   "language": "python",
   "name": "python3"
  },
  "language_info": {
   "codemirror_mode": {
    "name": "ipython",
    "version": 3
   },
   "file_extension": ".py",
   "mimetype": "text/x-python",
   "name": "python",
   "nbconvert_exporter": "python",
   "pygments_lexer": "ipython3",
   "version": "3.8.15"
  },
  "vscode": {
   "interpreter": {
    "hash": "2f3eb80ecefa8a2bb623a916cf91dd59a834c9ebe3cfa6e57c9edbb4634331c0"
   }
  }
 },
 "nbformat": 4,
 "nbformat_minor": 2
}
