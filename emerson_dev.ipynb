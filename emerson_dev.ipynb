{
 "cells": [
  {
   "cell_type": "markdown",
   "metadata": {},
   "source": [
    "# DSC180b Capstone Project"
   ]
  },
  {
   "cell_type": "markdown",
   "metadata": {},
   "source": [
    "## Importing Packages"
   ]
  },
  {
   "cell_type": "code",
   "execution_count": 1,
   "metadata": {},
   "outputs": [],
   "source": [
    "import json\n",
    "import os"
   ]
  },
  {
   "cell_type": "code",
   "execution_count": 2,
   "metadata": {},
   "outputs": [],
   "source": [
    "import pandas as pd\n",
    "import numpy as np\n",
    "import matplotlib.pyplot as plt\n",
    "import seaborn as sns\n",
    "import sklearn\n",
    "\n",
    "import torch as t\n",
    "\n",
    "# import biom\n",
    "# from qiime2.plugins import feature_table\n",
    "# from qiime2 import Artifact\n",
    "# from qiime2.plugins.metadata.methods import distance_matrix\n"
   ]
  },
  {
   "cell_type": "markdown",
   "metadata": {},
   "source": [
    "## Loading Data"
   ]
  },
  {
   "cell_type": "code",
   "execution_count": 3,
   "metadata": {},
   "outputs": [],
   "source": [
    "## Obtaining file paths\n",
    "with open(\"config/data-params.json\") as fh:\n",
    "    file_paths = json.load(fh)"
   ]
  },
  {
   "cell_type": "code",
   "execution_count": 4,
   "metadata": {},
   "outputs": [
    {
     "data": {
      "text/html": [
       "<div>\n",
       "<style scoped>\n",
       "    .dataframe tbody tr th:only-of-type {\n",
       "        vertical-align: middle;\n",
       "    }\n",
       "\n",
       "    .dataframe tbody tr th {\n",
       "        vertical-align: top;\n",
       "    }\n",
       "\n",
       "    .dataframe thead th {\n",
       "        text-align: right;\n",
       "    }\n",
       "</style>\n",
       "<table border=\"1\" class=\"dataframe\">\n",
       "  <thead>\n",
       "    <tr style=\"text-align: right;\">\n",
       "      <th></th>\n",
       "      <th>AACATAAGGGGCAAGCGTTGTCCGGAATCACTGGGCGTAAAGGGCGCGTAGGTGGTCTGTTAAGTCAGATGTGAAATGTAAGGGCTCAACCCTTAACGTGCATCTGATACTGGCAGACTTGAGTGCGGAAGAGGCAAGTGGAATTCCTAG</th>\n",
       "      <th>AACATAGGGGGCAAGCGTTGCCCGGAATCACTGGGCGTAAAGGGCGCGTAGGTGGTCTGTTAAGTCAGATGTGAAATGTAAGGGCTCAACCCTTAACGTGCATCTGATACTGGCAGACTTGAGTGCGGAAGAGGCAAGTGGAATTCCTAG</th>\n",
       "      <th>AACATAGGGGGCAAGCGTTGTCCGGAAACACTGGGCGTAAAGGGCGCGTAGGCGGTCTGTTAAGTCGGATGTGAAATGTAAGGGCTCAACCCTTAACGTGCATCTGATACTGGCAGACTTGAGTGCGGAAGAGGCAAGTGGAATTCCTAG</th>\n",
       "      <th>AACATAGGGGGCAAGCGTTGTCCGGAATCACTGGGCATAAAGGGCGCGTAGGTGGTTTGTTAAGTCAGATGTGAAATGTAGGGGCTCAACCCCTAACGTGCATCTGATACTGGCAGACTTGAGTGCGGAAGAGGCAAGTGGAATTCCTAG</th>\n",
       "      <th>AACATAGGGGGCAAGCGTTGTCCGGAATCACTGGGCGTAAAGAGCGCGTAGGTGGTCTGTTAAGTCAGATGTGAAATGTAAGGGCTCAACCCTTAACGTGCATCTGATACTGGCAGACTTGAGTGCGGAAGAGGCAAGTGGAATTCCTAG</th>\n",
       "      <th>AACATAGGGGGCAAGCGTTGTCCGGAATCACTGGGCGTAAAGGGCGCGCAGGCGGTCTGTTAAGTCAGATGTGAAAGGTTAGGGCTCAACCCTGAACGTGCATCTGATACTGGCAGACTTGAGTATGGAAGAGGTAAGTGGAATTCCTAG</th>\n",
       "      <th>AACATAGGGGGCAAGCGTTGTCCGGAATCACTGGGCGTAAAGGGCGCGTAGGCAGTTTGTTAAGTCGGATGTGAAATGTAAGGGCTCAACCCTTAACGTGCATCTGATACTGGCAGACTTGAGTGCGGAAGAGGCAAGTGGAATTCCTAG</th>\n",
       "      <th>AACATAGGGGGCAAGCGTTGTCCGGAATCACTGGGCGTAAAGGGCGCGTAGGCGGCCTGTTAAGTCGGATGTGAAATGTAAGGGCTCAACCCTTAACGTGCATCTGATACTGGCAGACTTGAGTGCGGAAGAGGCAAGTGGAATTCCTAG</th>\n",
       "      <th>AACATAGGGGGCAAGCGTTGTCCGGAATCACTGGGCGTAAAGGGCGCGTAGGCGGTCTGTTAAGTCAGATGTGAAATGTAAGGGCTCAACCCTTAACGTGCATCTGATACTGGCAGACTTGAGTGCGGAAGAGGCAAGTGGAATTCCTAG</th>\n",
       "      <th>AACATAGGGGGCAAGCGTTGTCCGGAATCACTGGGCGTAAAGGGCGCGTAGGCGGTCTGTTAAGTCGGATGTGAAATGTAAGGGCTCAACCCTTAACGTGCATCCGATACTGGCAGACTTGAGTGCGGAAGAGGCAAGTGGAATTCCTAG</th>\n",
       "      <th>...</th>\n",
       "      <th>TTCGTAGGGGGCAAGCGTTATCCGGATTTACTGGGTGTAAAGGGATCGTAGACGGCGAGACAAGTCTGAAGTGAAAGCCCGGGGCTCAACCCCGGGACTGCTTTGGAAACTGCCTTGCTAGAGTGCTGGAGAGGTAAGTGGAATTCCTAG</th>\n",
       "      <th>TTCGTAGGGGGCAAGCGTTGTCCGGAATGACTGGGCGTAAAGGGCGTGTAGGCGGCCTGATAAGTATGAAGTGAAAGTCCTGCTTTCAAGGTGGGAATTGCTTTGTAGACTGTCGGGCTTGAGTGCGGAAGAGGTAAGTGGAATTCCCAG</th>\n",
       "      <th>TTCGTAGGGGGCAAGCGTTGTCCGGAATGATTGGGCGTAAAGGGCGCGTAGGCGGCCTGCTAAGTCTGGAGTGAAAGTCCTGCTTTCAAGGTGGGAATTGCTTTGGATACTGGTGGGCTGGAGTGCAGGAGAGGAAAGCGGAATTACCGG</th>\n",
       "      <th>TTCGTAGGGGGCGAGCGTTATCCGGATTTATTGGGCGTAAAGCGTGCGTAGGCGGTTTATTAAGTCTAGAATTAAAGCCCGAGGCTTAACCTCGGTTCGTTCTAGATACTGGTTGACTAGAGTACAGTAGAGGCAAATGGAATTCCTAGT</th>\n",
       "      <th>TTCGTAGGTGGCAAGCGTTGTCCGGATTTACTGGGTGTAAAGGGCGTGTAGGCGGAGCAGCAAGTCAGAAGTGAAATCTCTGGGCTCAACCCAGAAACTGCTTTTGAAACTGTTGCCCTTGAGTATCGGAGAGGCAGGCGGAATTCCTAG</th>\n",
       "      <th>TTCGTAGGTGGCAAGCGTTGTCCGGATTTACTGGGTGTAAAGGGCGTGTAGGCGGGACGGCAAGTCAGGCGTGAAAACCATGGGCTCAACCCATGGCCTGCGTTTGAAACTGTTGTTCTTGAGTACTGGAGAGGTTGGCGGAATTCCTAG</th>\n",
       "      <th>TTCGTAGGTGGCGAGCGTTATCCGGATTTACTGGGTGTAAAGGGCGCGTAGGCGGGAATGCAAGTCAGATGTGAAATCCAGGGGCTTAACTCTTGAACTGCATTTGAAACTGTATTTCTTGAGTGTCGGAGAGGTTGACGGAATTCCTAG</th>\n",
       "      <th>TTCGTAGGTGGCGAGCGTTGTCCGGAATGACTGGGCGTAAAGGGAGCGTAGGCGGCACAACAAGTTAGGAGTGAAATACCGTGGCTTAACCACGGAACTGCTTTTAAAACTGTTGAGCTAGAGTGATGGAGAGGAAAGCGGAATTCCTAG</th>\n",
       "      <th>TTCGTATGGAGCAAGCGTTATCCGGATTTACTGGGTGTAAAGGGTGCGTAGGTGGCAGTGCAAGTCAGATGTGAAAGGCCGGGGCTCAACCCCGGAGCTGCATTTGAAACTGCATAGCTAGAGTACAGGAGAGGCAGGCGGAATTCCTAG</th>\n",
       "      <th>TTCGTATGGTGCAAGCGTTATCCGGATTTACTGGGTGTAAAGGGAGCGTAGACGGCTGTGTAAGTCTGAAGTGAAAGCCCGGGGCTCAACCCCGGGACTGCTTTGGAAACTATGCAGCTAGAGTGTCGGAGAGGTAAGTGGAATTCCCAG</th>\n",
       "    </tr>\n",
       "    <tr>\n",
       "      <th>Unnamed: 0</th>\n",
       "      <th></th>\n",
       "      <th></th>\n",
       "      <th></th>\n",
       "      <th></th>\n",
       "      <th></th>\n",
       "      <th></th>\n",
       "      <th></th>\n",
       "      <th></th>\n",
       "      <th></th>\n",
       "      <th></th>\n",
       "      <th></th>\n",
       "      <th></th>\n",
       "      <th></th>\n",
       "      <th></th>\n",
       "      <th></th>\n",
       "      <th></th>\n",
       "      <th></th>\n",
       "      <th></th>\n",
       "      <th></th>\n",
       "      <th></th>\n",
       "      <th></th>\n",
       "    </tr>\n",
       "  </thead>\n",
       "  <tbody>\n",
       "    <tr>\n",
       "      <th>11666.BLANK7.7B</th>\n",
       "      <td>0.0</td>\n",
       "      <td>0.0</td>\n",
       "      <td>0.0</td>\n",
       "      <td>0.0</td>\n",
       "      <td>0.0</td>\n",
       "      <td>0.0</td>\n",
       "      <td>0.0</td>\n",
       "      <td>0.0</td>\n",
       "      <td>0.0</td>\n",
       "      <td>0.0</td>\n",
       "      <td>...</td>\n",
       "      <td>0.0</td>\n",
       "      <td>0.0</td>\n",
       "      <td>0.0</td>\n",
       "      <td>0.0</td>\n",
       "      <td>0.0</td>\n",
       "      <td>0.0</td>\n",
       "      <td>0.0</td>\n",
       "      <td>0.0</td>\n",
       "      <td>0.0</td>\n",
       "      <td>0.0</td>\n",
       "    </tr>\n",
       "    <tr>\n",
       "      <th>11666.BLANK5.5B</th>\n",
       "      <td>0.0</td>\n",
       "      <td>0.0</td>\n",
       "      <td>0.0</td>\n",
       "      <td>0.0</td>\n",
       "      <td>0.0</td>\n",
       "      <td>0.0</td>\n",
       "      <td>0.0</td>\n",
       "      <td>0.0</td>\n",
       "      <td>0.0</td>\n",
       "      <td>0.0</td>\n",
       "      <td>...</td>\n",
       "      <td>0.0</td>\n",
       "      <td>0.0</td>\n",
       "      <td>0.0</td>\n",
       "      <td>0.0</td>\n",
       "      <td>0.0</td>\n",
       "      <td>0.0</td>\n",
       "      <td>0.0</td>\n",
       "      <td>0.0</td>\n",
       "      <td>0.0</td>\n",
       "      <td>0.0</td>\n",
       "    </tr>\n",
       "    <tr>\n",
       "      <th>11666.G0341A</th>\n",
       "      <td>0.0</td>\n",
       "      <td>0.0</td>\n",
       "      <td>0.0</td>\n",
       "      <td>0.0</td>\n",
       "      <td>0.0</td>\n",
       "      <td>0.0</td>\n",
       "      <td>0.0</td>\n",
       "      <td>0.0</td>\n",
       "      <td>0.0</td>\n",
       "      <td>0.0</td>\n",
       "      <td>...</td>\n",
       "      <td>0.0</td>\n",
       "      <td>0.0</td>\n",
       "      <td>0.0</td>\n",
       "      <td>0.0</td>\n",
       "      <td>0.0</td>\n",
       "      <td>0.0</td>\n",
       "      <td>0.0</td>\n",
       "      <td>0.0</td>\n",
       "      <td>0.0</td>\n",
       "      <td>0.0</td>\n",
       "    </tr>\n",
       "    <tr>\n",
       "      <th>11666.BLANK3.3A</th>\n",
       "      <td>0.0</td>\n",
       "      <td>0.0</td>\n",
       "      <td>0.0</td>\n",
       "      <td>0.0</td>\n",
       "      <td>0.0</td>\n",
       "      <td>0.0</td>\n",
       "      <td>0.0</td>\n",
       "      <td>0.0</td>\n",
       "      <td>0.0</td>\n",
       "      <td>0.0</td>\n",
       "      <td>...</td>\n",
       "      <td>0.0</td>\n",
       "      <td>0.0</td>\n",
       "      <td>0.0</td>\n",
       "      <td>0.0</td>\n",
       "      <td>0.0</td>\n",
       "      <td>0.0</td>\n",
       "      <td>0.0</td>\n",
       "      <td>0.0</td>\n",
       "      <td>0.0</td>\n",
       "      <td>0.0</td>\n",
       "    </tr>\n",
       "    <tr>\n",
       "      <th>11666.BLANK5.5E</th>\n",
       "      <td>0.0</td>\n",
       "      <td>0.0</td>\n",
       "      <td>0.0</td>\n",
       "      <td>0.0</td>\n",
       "      <td>0.0</td>\n",
       "      <td>0.0</td>\n",
       "      <td>0.0</td>\n",
       "      <td>0.0</td>\n",
       "      <td>0.0</td>\n",
       "      <td>0.0</td>\n",
       "      <td>...</td>\n",
       "      <td>0.0</td>\n",
       "      <td>0.0</td>\n",
       "      <td>0.0</td>\n",
       "      <td>0.0</td>\n",
       "      <td>0.0</td>\n",
       "      <td>0.0</td>\n",
       "      <td>0.0</td>\n",
       "      <td>0.0</td>\n",
       "      <td>0.0</td>\n",
       "      <td>0.0</td>\n",
       "    </tr>\n",
       "  </tbody>\n",
       "</table>\n",
       "<p>5 rows × 58436 columns</p>\n",
       "</div>"
      ],
      "text/plain": [
       "                 AACATAAGGGGCAAGCGTTGTCCGGAATCACTGGGCGTAAAGGGCGCGTAGGTGGTCTGTTAAGTCAGATGTGAAATGTAAGGGCTCAACCCTTAACGTGCATCTGATACTGGCAGACTTGAGTGCGGAAGAGGCAAGTGGAATTCCTAG  \\\n",
       "Unnamed: 0                                                                                                                                                                \n",
       "11666.BLANK7.7B                                                0.0                                                                                                        \n",
       "11666.BLANK5.5B                                                0.0                                                                                                        \n",
       "11666.G0341A                                                   0.0                                                                                                        \n",
       "11666.BLANK3.3A                                                0.0                                                                                                        \n",
       "11666.BLANK5.5E                                                0.0                                                                                                        \n",
       "\n",
       "                 AACATAGGGGGCAAGCGTTGCCCGGAATCACTGGGCGTAAAGGGCGCGTAGGTGGTCTGTTAAGTCAGATGTGAAATGTAAGGGCTCAACCCTTAACGTGCATCTGATACTGGCAGACTTGAGTGCGGAAGAGGCAAGTGGAATTCCTAG  \\\n",
       "Unnamed: 0                                                                                                                                                                \n",
       "11666.BLANK7.7B                                                0.0                                                                                                        \n",
       "11666.BLANK5.5B                                                0.0                                                                                                        \n",
       "11666.G0341A                                                   0.0                                                                                                        \n",
       "11666.BLANK3.3A                                                0.0                                                                                                        \n",
       "11666.BLANK5.5E                                                0.0                                                                                                        \n",
       "\n",
       "                 AACATAGGGGGCAAGCGTTGTCCGGAAACACTGGGCGTAAAGGGCGCGTAGGCGGTCTGTTAAGTCGGATGTGAAATGTAAGGGCTCAACCCTTAACGTGCATCTGATACTGGCAGACTTGAGTGCGGAAGAGGCAAGTGGAATTCCTAG  \\\n",
       "Unnamed: 0                                                                                                                                                                \n",
       "11666.BLANK7.7B                                                0.0                                                                                                        \n",
       "11666.BLANK5.5B                                                0.0                                                                                                        \n",
       "11666.G0341A                                                   0.0                                                                                                        \n",
       "11666.BLANK3.3A                                                0.0                                                                                                        \n",
       "11666.BLANK5.5E                                                0.0                                                                                                        \n",
       "\n",
       "                 AACATAGGGGGCAAGCGTTGTCCGGAATCACTGGGCATAAAGGGCGCGTAGGTGGTTTGTTAAGTCAGATGTGAAATGTAGGGGCTCAACCCCTAACGTGCATCTGATACTGGCAGACTTGAGTGCGGAAGAGGCAAGTGGAATTCCTAG  \\\n",
       "Unnamed: 0                                                                                                                                                                \n",
       "11666.BLANK7.7B                                                0.0                                                                                                        \n",
       "11666.BLANK5.5B                                                0.0                                                                                                        \n",
       "11666.G0341A                                                   0.0                                                                                                        \n",
       "11666.BLANK3.3A                                                0.0                                                                                                        \n",
       "11666.BLANK5.5E                                                0.0                                                                                                        \n",
       "\n",
       "                 AACATAGGGGGCAAGCGTTGTCCGGAATCACTGGGCGTAAAGAGCGCGTAGGTGGTCTGTTAAGTCAGATGTGAAATGTAAGGGCTCAACCCTTAACGTGCATCTGATACTGGCAGACTTGAGTGCGGAAGAGGCAAGTGGAATTCCTAG  \\\n",
       "Unnamed: 0                                                                                                                                                                \n",
       "11666.BLANK7.7B                                                0.0                                                                                                        \n",
       "11666.BLANK5.5B                                                0.0                                                                                                        \n",
       "11666.G0341A                                                   0.0                                                                                                        \n",
       "11666.BLANK3.3A                                                0.0                                                                                                        \n",
       "11666.BLANK5.5E                                                0.0                                                                                                        \n",
       "\n",
       "                 AACATAGGGGGCAAGCGTTGTCCGGAATCACTGGGCGTAAAGGGCGCGCAGGCGGTCTGTTAAGTCAGATGTGAAAGGTTAGGGCTCAACCCTGAACGTGCATCTGATACTGGCAGACTTGAGTATGGAAGAGGTAAGTGGAATTCCTAG  \\\n",
       "Unnamed: 0                                                                                                                                                                \n",
       "11666.BLANK7.7B                                                0.0                                                                                                        \n",
       "11666.BLANK5.5B                                                0.0                                                                                                        \n",
       "11666.G0341A                                                   0.0                                                                                                        \n",
       "11666.BLANK3.3A                                                0.0                                                                                                        \n",
       "11666.BLANK5.5E                                                0.0                                                                                                        \n",
       "\n",
       "                 AACATAGGGGGCAAGCGTTGTCCGGAATCACTGGGCGTAAAGGGCGCGTAGGCAGTTTGTTAAGTCGGATGTGAAATGTAAGGGCTCAACCCTTAACGTGCATCTGATACTGGCAGACTTGAGTGCGGAAGAGGCAAGTGGAATTCCTAG  \\\n",
       "Unnamed: 0                                                                                                                                                                \n",
       "11666.BLANK7.7B                                                0.0                                                                                                        \n",
       "11666.BLANK5.5B                                                0.0                                                                                                        \n",
       "11666.G0341A                                                   0.0                                                                                                        \n",
       "11666.BLANK3.3A                                                0.0                                                                                                        \n",
       "11666.BLANK5.5E                                                0.0                                                                                                        \n",
       "\n",
       "                 AACATAGGGGGCAAGCGTTGTCCGGAATCACTGGGCGTAAAGGGCGCGTAGGCGGCCTGTTAAGTCGGATGTGAAATGTAAGGGCTCAACCCTTAACGTGCATCTGATACTGGCAGACTTGAGTGCGGAAGAGGCAAGTGGAATTCCTAG  \\\n",
       "Unnamed: 0                                                                                                                                                                \n",
       "11666.BLANK7.7B                                                0.0                                                                                                        \n",
       "11666.BLANK5.5B                                                0.0                                                                                                        \n",
       "11666.G0341A                                                   0.0                                                                                                        \n",
       "11666.BLANK3.3A                                                0.0                                                                                                        \n",
       "11666.BLANK5.5E                                                0.0                                                                                                        \n",
       "\n",
       "                 AACATAGGGGGCAAGCGTTGTCCGGAATCACTGGGCGTAAAGGGCGCGTAGGCGGTCTGTTAAGTCAGATGTGAAATGTAAGGGCTCAACCCTTAACGTGCATCTGATACTGGCAGACTTGAGTGCGGAAGAGGCAAGTGGAATTCCTAG  \\\n",
       "Unnamed: 0                                                                                                                                                                \n",
       "11666.BLANK7.7B                                                0.0                                                                                                        \n",
       "11666.BLANK5.5B                                                0.0                                                                                                        \n",
       "11666.G0341A                                                   0.0                                                                                                        \n",
       "11666.BLANK3.3A                                                0.0                                                                                                        \n",
       "11666.BLANK5.5E                                                0.0                                                                                                        \n",
       "\n",
       "                 AACATAGGGGGCAAGCGTTGTCCGGAATCACTGGGCGTAAAGGGCGCGTAGGCGGTCTGTTAAGTCGGATGTGAAATGTAAGGGCTCAACCCTTAACGTGCATCCGATACTGGCAGACTTGAGTGCGGAAGAGGCAAGTGGAATTCCTAG  \\\n",
       "Unnamed: 0                                                                                                                                                                \n",
       "11666.BLANK7.7B                                                0.0                                                                                                        \n",
       "11666.BLANK5.5B                                                0.0                                                                                                        \n",
       "11666.G0341A                                                   0.0                                                                                                        \n",
       "11666.BLANK3.3A                                                0.0                                                                                                        \n",
       "11666.BLANK5.5E                                                0.0                                                                                                        \n",
       "\n",
       "                 ...  \\\n",
       "Unnamed: 0       ...   \n",
       "11666.BLANK7.7B  ...   \n",
       "11666.BLANK5.5B  ...   \n",
       "11666.G0341A     ...   \n",
       "11666.BLANK3.3A  ...   \n",
       "11666.BLANK5.5E  ...   \n",
       "\n",
       "                 TTCGTAGGGGGCAAGCGTTATCCGGATTTACTGGGTGTAAAGGGATCGTAGACGGCGAGACAAGTCTGAAGTGAAAGCCCGGGGCTCAACCCCGGGACTGCTTTGGAAACTGCCTTGCTAGAGTGCTGGAGAGGTAAGTGGAATTCCTAG  \\\n",
       "Unnamed: 0                                                                                                                                                                \n",
       "11666.BLANK7.7B                                                0.0                                                                                                        \n",
       "11666.BLANK5.5B                                                0.0                                                                                                        \n",
       "11666.G0341A                                                   0.0                                                                                                        \n",
       "11666.BLANK3.3A                                                0.0                                                                                                        \n",
       "11666.BLANK5.5E                                                0.0                                                                                                        \n",
       "\n",
       "                 TTCGTAGGGGGCAAGCGTTGTCCGGAATGACTGGGCGTAAAGGGCGTGTAGGCGGCCTGATAAGTATGAAGTGAAAGTCCTGCTTTCAAGGTGGGAATTGCTTTGTAGACTGTCGGGCTTGAGTGCGGAAGAGGTAAGTGGAATTCCCAG  \\\n",
       "Unnamed: 0                                                                                                                                                                \n",
       "11666.BLANK7.7B                                                0.0                                                                                                        \n",
       "11666.BLANK5.5B                                                0.0                                                                                                        \n",
       "11666.G0341A                                                   0.0                                                                                                        \n",
       "11666.BLANK3.3A                                                0.0                                                                                                        \n",
       "11666.BLANK5.5E                                                0.0                                                                                                        \n",
       "\n",
       "                 TTCGTAGGGGGCAAGCGTTGTCCGGAATGATTGGGCGTAAAGGGCGCGTAGGCGGCCTGCTAAGTCTGGAGTGAAAGTCCTGCTTTCAAGGTGGGAATTGCTTTGGATACTGGTGGGCTGGAGTGCAGGAGAGGAAAGCGGAATTACCGG  \\\n",
       "Unnamed: 0                                                                                                                                                                \n",
       "11666.BLANK7.7B                                                0.0                                                                                                        \n",
       "11666.BLANK5.5B                                                0.0                                                                                                        \n",
       "11666.G0341A                                                   0.0                                                                                                        \n",
       "11666.BLANK3.3A                                                0.0                                                                                                        \n",
       "11666.BLANK5.5E                                                0.0                                                                                                        \n",
       "\n",
       "                 TTCGTAGGGGGCGAGCGTTATCCGGATTTATTGGGCGTAAAGCGTGCGTAGGCGGTTTATTAAGTCTAGAATTAAAGCCCGAGGCTTAACCTCGGTTCGTTCTAGATACTGGTTGACTAGAGTACAGTAGAGGCAAATGGAATTCCTAGT  \\\n",
       "Unnamed: 0                                                                                                                                                                \n",
       "11666.BLANK7.7B                                                0.0                                                                                                        \n",
       "11666.BLANK5.5B                                                0.0                                                                                                        \n",
       "11666.G0341A                                                   0.0                                                                                                        \n",
       "11666.BLANK3.3A                                                0.0                                                                                                        \n",
       "11666.BLANK5.5E                                                0.0                                                                                                        \n",
       "\n",
       "                 TTCGTAGGTGGCAAGCGTTGTCCGGATTTACTGGGTGTAAAGGGCGTGTAGGCGGAGCAGCAAGTCAGAAGTGAAATCTCTGGGCTCAACCCAGAAACTGCTTTTGAAACTGTTGCCCTTGAGTATCGGAGAGGCAGGCGGAATTCCTAG  \\\n",
       "Unnamed: 0                                                                                                                                                                \n",
       "11666.BLANK7.7B                                                0.0                                                                                                        \n",
       "11666.BLANK5.5B                                                0.0                                                                                                        \n",
       "11666.G0341A                                                   0.0                                                                                                        \n",
       "11666.BLANK3.3A                                                0.0                                                                                                        \n",
       "11666.BLANK5.5E                                                0.0                                                                                                        \n",
       "\n",
       "                 TTCGTAGGTGGCAAGCGTTGTCCGGATTTACTGGGTGTAAAGGGCGTGTAGGCGGGACGGCAAGTCAGGCGTGAAAACCATGGGCTCAACCCATGGCCTGCGTTTGAAACTGTTGTTCTTGAGTACTGGAGAGGTTGGCGGAATTCCTAG  \\\n",
       "Unnamed: 0                                                                                                                                                                \n",
       "11666.BLANK7.7B                                                0.0                                                                                                        \n",
       "11666.BLANK5.5B                                                0.0                                                                                                        \n",
       "11666.G0341A                                                   0.0                                                                                                        \n",
       "11666.BLANK3.3A                                                0.0                                                                                                        \n",
       "11666.BLANK5.5E                                                0.0                                                                                                        \n",
       "\n",
       "                 TTCGTAGGTGGCGAGCGTTATCCGGATTTACTGGGTGTAAAGGGCGCGTAGGCGGGAATGCAAGTCAGATGTGAAATCCAGGGGCTTAACTCTTGAACTGCATTTGAAACTGTATTTCTTGAGTGTCGGAGAGGTTGACGGAATTCCTAG  \\\n",
       "Unnamed: 0                                                                                                                                                                \n",
       "11666.BLANK7.7B                                                0.0                                                                                                        \n",
       "11666.BLANK5.5B                                                0.0                                                                                                        \n",
       "11666.G0341A                                                   0.0                                                                                                        \n",
       "11666.BLANK3.3A                                                0.0                                                                                                        \n",
       "11666.BLANK5.5E                                                0.0                                                                                                        \n",
       "\n",
       "                 TTCGTAGGTGGCGAGCGTTGTCCGGAATGACTGGGCGTAAAGGGAGCGTAGGCGGCACAACAAGTTAGGAGTGAAATACCGTGGCTTAACCACGGAACTGCTTTTAAAACTGTTGAGCTAGAGTGATGGAGAGGAAAGCGGAATTCCTAG  \\\n",
       "Unnamed: 0                                                                                                                                                                \n",
       "11666.BLANK7.7B                                                0.0                                                                                                        \n",
       "11666.BLANK5.5B                                                0.0                                                                                                        \n",
       "11666.G0341A                                                   0.0                                                                                                        \n",
       "11666.BLANK3.3A                                                0.0                                                                                                        \n",
       "11666.BLANK5.5E                                                0.0                                                                                                        \n",
       "\n",
       "                 TTCGTATGGAGCAAGCGTTATCCGGATTTACTGGGTGTAAAGGGTGCGTAGGTGGCAGTGCAAGTCAGATGTGAAAGGCCGGGGCTCAACCCCGGAGCTGCATTTGAAACTGCATAGCTAGAGTACAGGAGAGGCAGGCGGAATTCCTAG  \\\n",
       "Unnamed: 0                                                                                                                                                                \n",
       "11666.BLANK7.7B                                                0.0                                                                                                        \n",
       "11666.BLANK5.5B                                                0.0                                                                                                        \n",
       "11666.G0341A                                                   0.0                                                                                                        \n",
       "11666.BLANK3.3A                                                0.0                                                                                                        \n",
       "11666.BLANK5.5E                                                0.0                                                                                                        \n",
       "\n",
       "                 TTCGTATGGTGCAAGCGTTATCCGGATTTACTGGGTGTAAAGGGAGCGTAGACGGCTGTGTAAGTCTGAAGTGAAAGCCCGGGGCTCAACCCCGGGACTGCTTTGGAAACTATGCAGCTAGAGTGTCGGAGAGGTAAGTGGAATTCCCAG  \n",
       "Unnamed: 0                                                                                                                                                               \n",
       "11666.BLANK7.7B                                                0.0                                                                                                       \n",
       "11666.BLANK5.5B                                                0.0                                                                                                       \n",
       "11666.G0341A                                                   0.0                                                                                                       \n",
       "11666.BLANK3.3A                                                0.0                                                                                                       \n",
       "11666.BLANK5.5E                                                0.0                                                                                                       \n",
       "\n",
       "[5 rows x 58436 columns]"
      ]
     },
     "execution_count": 4,
     "metadata": {},
     "output_type": "execute_result"
    }
   ],
   "source": [
    "raw_feature_table = pd.read_csv('data/raw/feature_table.csv').set_index('Unnamed: 0')\n",
    "raw_feature_table.head()"
   ]
  },
  {
   "cell_type": "code",
   "execution_count": 5,
   "metadata": {},
   "outputs": [
    {
     "name": "stderr",
     "output_type": "stream",
     "text": [
      "/tmp/ipykernel_664/1082994228.py:1: DtypeWarning: Columns (1,2,3,4,6,7,8,10,11,12,13,14,17,18,19,20,25,26,27,29,30,31,32,33,34,35,36,37,38,40,41,42,43,44,45,46,55,56,57,61,62,63,64,65,66,67,69,70,71,72,73,75,76,78,80,82,83,84,85,86,87,88,89,90,91,92,95,98,99,102,103,104,105,106,107,108,109,111,119,121,122,123,124,125,126,127,128,129,130,131,132,133,134,136,138,139,141,142,143,144,145,146,147,148,152,153,155,156,157,160,164,165,168,169,170,172,173,174,175) have mixed types. Specify dtype option on import or set low_memory=False.\n",
      "  raw_metadata = pd.read_csv('data/raw/11666_metadata.txt', sep='\\t', index_col=0)\n"
     ]
    },
    {
     "data": {
      "text/html": [
       "<div>\n",
       "<style scoped>\n",
       "    .dataframe tbody tr th:only-of-type {\n",
       "        vertical-align: middle;\n",
       "    }\n",
       "\n",
       "    .dataframe tbody tr th {\n",
       "        vertical-align: top;\n",
       "    }\n",
       "\n",
       "    .dataframe thead th {\n",
       "        text-align: right;\n",
       "    }\n",
       "</style>\n",
       "<table border=\"1\" class=\"dataframe\">\n",
       "  <thead>\n",
       "    <tr style=\"text-align: right;\">\n",
       "      <th></th>\n",
       "      <th>abdominal_obesity_idf_v2</th>\n",
       "      <th>abdominal_obesity_ncep_v2</th>\n",
       "      <th>ac_ratio_gt30</th>\n",
       "      <th>ac_ratio_gt30_v2</th>\n",
       "      <th>age_units</th>\n",
       "      <th>age_v2</th>\n",
       "      <th>agegroup_c6_nhanes_v2</th>\n",
       "      <th>agegroup_c6_v2</th>\n",
       "      <th>anonymized_name</th>\n",
       "      <th>antibiotic</th>\n",
       "      <th>...</th>\n",
       "      <th>taxon_id</th>\n",
       "      <th>title</th>\n",
       "      <th>type_stool</th>\n",
       "      <th>us_born_v2</th>\n",
       "      <th>weight_norm_overall_v2</th>\n",
       "      <th>weight_units</th>\n",
       "      <th>yes_no</th>\n",
       "      <th>yogurt</th>\n",
       "      <th>yrs_btwn_viv2</th>\n",
       "      <th>yrsus_c2_v2</th>\n",
       "    </tr>\n",
       "    <tr>\n",
       "      <th>sample_name</th>\n",
       "      <th></th>\n",
       "      <th></th>\n",
       "      <th></th>\n",
       "      <th></th>\n",
       "      <th></th>\n",
       "      <th></th>\n",
       "      <th></th>\n",
       "      <th></th>\n",
       "      <th></th>\n",
       "      <th></th>\n",
       "      <th></th>\n",
       "      <th></th>\n",
       "      <th></th>\n",
       "      <th></th>\n",
       "      <th></th>\n",
       "      <th></th>\n",
       "      <th></th>\n",
       "      <th></th>\n",
       "      <th></th>\n",
       "      <th></th>\n",
       "      <th></th>\n",
       "    </tr>\n",
       "  </thead>\n",
       "  <tbody>\n",
       "    <tr>\n",
       "      <th>11666.BLANK1.1A</th>\n",
       "      <td>not applicable</td>\n",
       "      <td>not applicable</td>\n",
       "      <td>not applicable</td>\n",
       "      <td>not applicable</td>\n",
       "      <td>not applicable</td>\n",
       "      <td>not applicable</td>\n",
       "      <td>not applicable</td>\n",
       "      <td>not applicable</td>\n",
       "      <td>BLANK1.1A</td>\n",
       "      <td>not applicable</td>\n",
       "      <td>...</td>\n",
       "      <td>256318.0</td>\n",
       "      <td>GOLD study</td>\n",
       "      <td>not applicable</td>\n",
       "      <td>not applicable</td>\n",
       "      <td>not applicable</td>\n",
       "      <td>not applicable</td>\n",
       "      <td>NaN</td>\n",
       "      <td>not applicable</td>\n",
       "      <td>not applicable</td>\n",
       "      <td>not applicable</td>\n",
       "    </tr>\n",
       "    <tr>\n",
       "      <th>11666.BLANK1.1A.ITS</th>\n",
       "      <td>not applicable</td>\n",
       "      <td>not applicable</td>\n",
       "      <td>not applicable</td>\n",
       "      <td>not applicable</td>\n",
       "      <td>not applicable</td>\n",
       "      <td>not applicable</td>\n",
       "      <td>not applicable</td>\n",
       "      <td>not applicable</td>\n",
       "      <td>BLANK1.1A.ITS</td>\n",
       "      <td>not applicable</td>\n",
       "      <td>...</td>\n",
       "      <td>256318.0</td>\n",
       "      <td>GOLD study</td>\n",
       "      <td>not applicable</td>\n",
       "      <td>not applicable</td>\n",
       "      <td>not applicable</td>\n",
       "      <td>not applicable</td>\n",
       "      <td>NaN</td>\n",
       "      <td>not applicable</td>\n",
       "      <td>not applicable</td>\n",
       "      <td>not applicable</td>\n",
       "    </tr>\n",
       "    <tr>\n",
       "      <th>11666.BLANK1.1B</th>\n",
       "      <td>not applicable</td>\n",
       "      <td>not applicable</td>\n",
       "      <td>not applicable</td>\n",
       "      <td>not applicable</td>\n",
       "      <td>not applicable</td>\n",
       "      <td>not applicable</td>\n",
       "      <td>not applicable</td>\n",
       "      <td>not applicable</td>\n",
       "      <td>BLANK1.1B</td>\n",
       "      <td>not applicable</td>\n",
       "      <td>...</td>\n",
       "      <td>256318.0</td>\n",
       "      <td>GOLD study</td>\n",
       "      <td>not applicable</td>\n",
       "      <td>not applicable</td>\n",
       "      <td>not applicable</td>\n",
       "      <td>not applicable</td>\n",
       "      <td>NaN</td>\n",
       "      <td>not applicable</td>\n",
       "      <td>not applicable</td>\n",
       "      <td>not applicable</td>\n",
       "    </tr>\n",
       "    <tr>\n",
       "      <th>11666.BLANK1.1B.ITS</th>\n",
       "      <td>not applicable</td>\n",
       "      <td>not applicable</td>\n",
       "      <td>not applicable</td>\n",
       "      <td>not applicable</td>\n",
       "      <td>not applicable</td>\n",
       "      <td>not applicable</td>\n",
       "      <td>not applicable</td>\n",
       "      <td>not applicable</td>\n",
       "      <td>BLANK1.1B.ITS</td>\n",
       "      <td>not applicable</td>\n",
       "      <td>...</td>\n",
       "      <td>256318.0</td>\n",
       "      <td>GOLD study</td>\n",
       "      <td>not applicable</td>\n",
       "      <td>not applicable</td>\n",
       "      <td>not applicable</td>\n",
       "      <td>not applicable</td>\n",
       "      <td>NaN</td>\n",
       "      <td>not applicable</td>\n",
       "      <td>not applicable</td>\n",
       "      <td>not applicable</td>\n",
       "    </tr>\n",
       "    <tr>\n",
       "      <th>11666.BLANK1.1C</th>\n",
       "      <td>not applicable</td>\n",
       "      <td>not applicable</td>\n",
       "      <td>not applicable</td>\n",
       "      <td>not applicable</td>\n",
       "      <td>not applicable</td>\n",
       "      <td>not applicable</td>\n",
       "      <td>not applicable</td>\n",
       "      <td>not applicable</td>\n",
       "      <td>BLANK1.1C</td>\n",
       "      <td>not applicable</td>\n",
       "      <td>...</td>\n",
       "      <td>256318.0</td>\n",
       "      <td>GOLD study</td>\n",
       "      <td>not applicable</td>\n",
       "      <td>not applicable</td>\n",
       "      <td>not applicable</td>\n",
       "      <td>not applicable</td>\n",
       "      <td>NaN</td>\n",
       "      <td>not applicable</td>\n",
       "      <td>not applicable</td>\n",
       "      <td>not applicable</td>\n",
       "    </tr>\n",
       "  </tbody>\n",
       "</table>\n",
       "<p>5 rows × 175 columns</p>\n",
       "</div>"
      ],
      "text/plain": [
       "                    abdominal_obesity_idf_v2 abdominal_obesity_ncep_v2  \\\n",
       "sample_name                                                              \n",
       "11666.BLANK1.1A               not applicable            not applicable   \n",
       "11666.BLANK1.1A.ITS           not applicable            not applicable   \n",
       "11666.BLANK1.1B               not applicable            not applicable   \n",
       "11666.BLANK1.1B.ITS           not applicable            not applicable   \n",
       "11666.BLANK1.1C               not applicable            not applicable   \n",
       "\n",
       "                      ac_ratio_gt30 ac_ratio_gt30_v2       age_units  \\\n",
       "sample_name                                                            \n",
       "11666.BLANK1.1A      not applicable   not applicable  not applicable   \n",
       "11666.BLANK1.1A.ITS  not applicable   not applicable  not applicable   \n",
       "11666.BLANK1.1B      not applicable   not applicable  not applicable   \n",
       "11666.BLANK1.1B.ITS  not applicable   not applicable  not applicable   \n",
       "11666.BLANK1.1C      not applicable   not applicable  not applicable   \n",
       "\n",
       "                             age_v2 agegroup_c6_nhanes_v2  agegroup_c6_v2  \\\n",
       "sample_name                                                                 \n",
       "11666.BLANK1.1A      not applicable        not applicable  not applicable   \n",
       "11666.BLANK1.1A.ITS  not applicable        not applicable  not applicable   \n",
       "11666.BLANK1.1B      not applicable        not applicable  not applicable   \n",
       "11666.BLANK1.1B.ITS  not applicable        not applicable  not applicable   \n",
       "11666.BLANK1.1C      not applicable        not applicable  not applicable   \n",
       "\n",
       "                    anonymized_name      antibiotic  ...  taxon_id  \\\n",
       "sample_name                                          ...             \n",
       "11666.BLANK1.1A           BLANK1.1A  not applicable  ...  256318.0   \n",
       "11666.BLANK1.1A.ITS   BLANK1.1A.ITS  not applicable  ...  256318.0   \n",
       "11666.BLANK1.1B           BLANK1.1B  not applicable  ...  256318.0   \n",
       "11666.BLANK1.1B.ITS   BLANK1.1B.ITS  not applicable  ...  256318.0   \n",
       "11666.BLANK1.1C           BLANK1.1C  not applicable  ...  256318.0   \n",
       "\n",
       "                          title      type_stool      us_born_v2  \\\n",
       "sample_name                                                       \n",
       "11666.BLANK1.1A      GOLD study  not applicable  not applicable   \n",
       "11666.BLANK1.1A.ITS  GOLD study  not applicable  not applicable   \n",
       "11666.BLANK1.1B      GOLD study  not applicable  not applicable   \n",
       "11666.BLANK1.1B.ITS  GOLD study  not applicable  not applicable   \n",
       "11666.BLANK1.1C      GOLD study  not applicable  not applicable   \n",
       "\n",
       "                    weight_norm_overall_v2    weight_units yes_no  \\\n",
       "sample_name                                                         \n",
       "11666.BLANK1.1A             not applicable  not applicable    NaN   \n",
       "11666.BLANK1.1A.ITS         not applicable  not applicable    NaN   \n",
       "11666.BLANK1.1B             not applicable  not applicable    NaN   \n",
       "11666.BLANK1.1B.ITS         not applicable  not applicable    NaN   \n",
       "11666.BLANK1.1C             not applicable  not applicable    NaN   \n",
       "\n",
       "                             yogurt   yrs_btwn_viv2     yrsus_c2_v2  \n",
       "sample_name                                                          \n",
       "11666.BLANK1.1A      not applicable  not applicable  not applicable  \n",
       "11666.BLANK1.1A.ITS  not applicable  not applicable  not applicable  \n",
       "11666.BLANK1.1B      not applicable  not applicable  not applicable  \n",
       "11666.BLANK1.1B.ITS  not applicable  not applicable  not applicable  \n",
       "11666.BLANK1.1C      not applicable  not applicable  not applicable  \n",
       "\n",
       "[5 rows x 175 columns]"
      ]
     },
     "execution_count": 5,
     "metadata": {},
     "output_type": "execute_result"
    }
   ],
   "source": [
    "raw_metadata = pd.read_csv('data/raw/11666_metadata.txt', sep='\\t', index_col=0)\n",
    "raw_metadata.head()"
   ]
  },
  {
   "cell_type": "markdown",
   "metadata": {},
   "source": [
    "## Cleaning Metadata"
   ]
  },
  {
   "cell_type": "markdown",
   "metadata": {},
   "source": [
    "Subset metadata based on existing samples in feature table"
   ]
  },
  {
   "cell_type": "code",
   "execution_count": 6,
   "metadata": {},
   "outputs": [],
   "source": [
    "raw_metadata = raw_metadata.loc[raw_feature_table.index]"
   ]
  },
  {
   "cell_type": "markdown",
   "metadata": {},
   "source": [
    "Keep relevant diseases (classes) and features in metadata"
   ]
  },
  {
   "cell_type": "code",
   "execution_count": 7,
   "metadata": {},
   "outputs": [
    {
     "data": {
      "text/html": [
       "<div>\n",
       "<style scoped>\n",
       "    .dataframe tbody tr th:only-of-type {\n",
       "        vertical-align: middle;\n",
       "    }\n",
       "\n",
       "    .dataframe tbody tr th {\n",
       "        vertical-align: top;\n",
       "    }\n",
       "\n",
       "    .dataframe thead th {\n",
       "        text-align: right;\n",
       "    }\n",
       "</style>\n",
       "<table border=\"1\" class=\"dataframe\">\n",
       "  <thead>\n",
       "    <tr style=\"text-align: right;\">\n",
       "      <th></th>\n",
       "      <th>obesity</th>\n",
       "      <th>diabetes</th>\n",
       "      <th>dyslipidemia</th>\n",
       "      <th>ckd</th>\n",
       "      <th>precvd</th>\n",
       "      <th>elevated_bp</th>\n",
       "      <th>age</th>\n",
       "      <th>center</th>\n",
       "      <th>gender</th>\n",
       "      <th>BMI</th>\n",
       "    </tr>\n",
       "    <tr>\n",
       "      <th>Unnamed: 0</th>\n",
       "      <th></th>\n",
       "      <th></th>\n",
       "      <th></th>\n",
       "      <th></th>\n",
       "      <th></th>\n",
       "      <th></th>\n",
       "      <th></th>\n",
       "      <th></th>\n",
       "      <th></th>\n",
       "      <th></th>\n",
       "    </tr>\n",
       "  </thead>\n",
       "  <tbody>\n",
       "    <tr>\n",
       "      <th>11666.BLANK7.7B</th>\n",
       "      <td>not applicable</td>\n",
       "      <td>not applicable</td>\n",
       "      <td>not applicable</td>\n",
       "      <td>not applicable</td>\n",
       "      <td>not applicable</td>\n",
       "      <td>not applicable</td>\n",
       "      <td>not applicable</td>\n",
       "      <td>not applicable</td>\n",
       "      <td>not applicable</td>\n",
       "      <td>not applicable</td>\n",
       "    </tr>\n",
       "    <tr>\n",
       "      <th>11666.BLANK5.5B</th>\n",
       "      <td>not applicable</td>\n",
       "      <td>not applicable</td>\n",
       "      <td>not applicable</td>\n",
       "      <td>not applicable</td>\n",
       "      <td>not applicable</td>\n",
       "      <td>not applicable</td>\n",
       "      <td>not applicable</td>\n",
       "      <td>not applicable</td>\n",
       "      <td>not applicable</td>\n",
       "      <td>not applicable</td>\n",
       "    </tr>\n",
       "    <tr>\n",
       "      <th>11666.G0341A</th>\n",
       "      <td>1</td>\n",
       "      <td>3</td>\n",
       "      <td>0</td>\n",
       "      <td>1</td>\n",
       "      <td>0</td>\n",
       "      <td>1</td>\n",
       "      <td>60</td>\n",
       "      <td>S</td>\n",
       "      <td>F</td>\n",
       "      <td>30.91403302</td>\n",
       "    </tr>\n",
       "    <tr>\n",
       "      <th>11666.BLANK3.3A</th>\n",
       "      <td>not applicable</td>\n",
       "      <td>not applicable</td>\n",
       "      <td>not applicable</td>\n",
       "      <td>not applicable</td>\n",
       "      <td>not applicable</td>\n",
       "      <td>not applicable</td>\n",
       "      <td>not applicable</td>\n",
       "      <td>not applicable</td>\n",
       "      <td>not applicable</td>\n",
       "      <td>not applicable</td>\n",
       "    </tr>\n",
       "    <tr>\n",
       "      <th>11666.BLANK5.5E</th>\n",
       "      <td>not applicable</td>\n",
       "      <td>not applicable</td>\n",
       "      <td>not applicable</td>\n",
       "      <td>not applicable</td>\n",
       "      <td>not applicable</td>\n",
       "      <td>not applicable</td>\n",
       "      <td>not applicable</td>\n",
       "      <td>not applicable</td>\n",
       "      <td>not applicable</td>\n",
       "      <td>not applicable</td>\n",
       "    </tr>\n",
       "    <tr>\n",
       "      <th>...</th>\n",
       "      <td>...</td>\n",
       "      <td>...</td>\n",
       "      <td>...</td>\n",
       "      <td>...</td>\n",
       "      <td>...</td>\n",
       "      <td>...</td>\n",
       "      <td>...</td>\n",
       "      <td>...</td>\n",
       "      <td>...</td>\n",
       "      <td>...</td>\n",
       "    </tr>\n",
       "    <tr>\n",
       "      <th>11666.G1518B</th>\n",
       "      <td>1</td>\n",
       "      <td>3</td>\n",
       "      <td>0</td>\n",
       "      <td>1</td>\n",
       "      <td>0</td>\n",
       "      <td>1</td>\n",
       "      <td>55</td>\n",
       "      <td>S</td>\n",
       "      <td>F</td>\n",
       "      <td>28.83057985</td>\n",
       "    </tr>\n",
       "    <tr>\n",
       "      <th>11666.G1501A</th>\n",
       "      <td>0</td>\n",
       "      <td>3</td>\n",
       "      <td>1</td>\n",
       "      <td>3</td>\n",
       "      <td>0</td>\n",
       "      <td>1</td>\n",
       "      <td>63</td>\n",
       "      <td>C</td>\n",
       "      <td>M</td>\n",
       "      <td>27.14416896</td>\n",
       "    </tr>\n",
       "    <tr>\n",
       "      <th>11666.G1685A</th>\n",
       "      <td>1</td>\n",
       "      <td>2</td>\n",
       "      <td>0</td>\n",
       "      <td>1</td>\n",
       "      <td>0</td>\n",
       "      <td>0</td>\n",
       "      <td>51</td>\n",
       "      <td>C</td>\n",
       "      <td>F</td>\n",
       "      <td>30.61587754</td>\n",
       "    </tr>\n",
       "    <tr>\n",
       "      <th>11666.G1536A</th>\n",
       "      <td>1</td>\n",
       "      <td>3</td>\n",
       "      <td>0</td>\n",
       "      <td>2</td>\n",
       "      <td>1</td>\n",
       "      <td>1</td>\n",
       "      <td>55</td>\n",
       "      <td>B</td>\n",
       "      <td>M</td>\n",
       "      <td>41.31508</td>\n",
       "    </tr>\n",
       "    <tr>\n",
       "      <th>11666.G1519B</th>\n",
       "      <td>0</td>\n",
       "      <td>3</td>\n",
       "      <td>0</td>\n",
       "      <td>1</td>\n",
       "      <td>0</td>\n",
       "      <td>1</td>\n",
       "      <td>60</td>\n",
       "      <td>S</td>\n",
       "      <td>M</td>\n",
       "      <td>24.54395854</td>\n",
       "    </tr>\n",
       "  </tbody>\n",
       "</table>\n",
       "<p>1835 rows × 10 columns</p>\n",
       "</div>"
      ],
      "text/plain": [
       "                        obesity        diabetes    dyslipidemia  \\\n",
       "Unnamed: 0                                                        \n",
       "11666.BLANK7.7B  not applicable  not applicable  not applicable   \n",
       "11666.BLANK5.5B  not applicable  not applicable  not applicable   \n",
       "11666.G0341A                  1               3               0   \n",
       "11666.BLANK3.3A  not applicable  not applicable  not applicable   \n",
       "11666.BLANK5.5E  not applicable  not applicable  not applicable   \n",
       "...                         ...             ...             ...   \n",
       "11666.G1518B                  1               3               0   \n",
       "11666.G1501A                  0               3               1   \n",
       "11666.G1685A                  1               2               0   \n",
       "11666.G1536A                  1               3               0   \n",
       "11666.G1519B                  0               3               0   \n",
       "\n",
       "                            ckd          precvd     elevated_bp  \\\n",
       "Unnamed: 0                                                        \n",
       "11666.BLANK7.7B  not applicable  not applicable  not applicable   \n",
       "11666.BLANK5.5B  not applicable  not applicable  not applicable   \n",
       "11666.G0341A                  1               0               1   \n",
       "11666.BLANK3.3A  not applicable  not applicable  not applicable   \n",
       "11666.BLANK5.5E  not applicable  not applicable  not applicable   \n",
       "...                         ...             ...             ...   \n",
       "11666.G1518B                  1               0               1   \n",
       "11666.G1501A                  3               0               1   \n",
       "11666.G1685A                  1               0               0   \n",
       "11666.G1536A                  2               1               1   \n",
       "11666.G1519B                  1               0               1   \n",
       "\n",
       "                            age          center          gender  \\\n",
       "Unnamed: 0                                                        \n",
       "11666.BLANK7.7B  not applicable  not applicable  not applicable   \n",
       "11666.BLANK5.5B  not applicable  not applicable  not applicable   \n",
       "11666.G0341A                 60               S               F   \n",
       "11666.BLANK3.3A  not applicable  not applicable  not applicable   \n",
       "11666.BLANK5.5E  not applicable  not applicable  not applicable   \n",
       "...                         ...             ...             ...   \n",
       "11666.G1518B                 55               S               F   \n",
       "11666.G1501A                 63               C               M   \n",
       "11666.G1685A                 51               C               F   \n",
       "11666.G1536A                 55               B               M   \n",
       "11666.G1519B                 60               S               M   \n",
       "\n",
       "                            BMI  \n",
       "Unnamed: 0                       \n",
       "11666.BLANK7.7B  not applicable  \n",
       "11666.BLANK5.5B  not applicable  \n",
       "11666.G0341A        30.91403302  \n",
       "11666.BLANK3.3A  not applicable  \n",
       "11666.BLANK5.5E  not applicable  \n",
       "...                         ...  \n",
       "11666.G1518B        28.83057985  \n",
       "11666.G1501A        27.14416896  \n",
       "11666.G1685A        30.61587754  \n",
       "11666.G1536A           41.31508  \n",
       "11666.G1519B        24.54395854  \n",
       "\n",
       "[1835 rows x 10 columns]"
      ]
     },
     "execution_count": 7,
     "metadata": {},
     "output_type": "execute_result"
    }
   ],
   "source": [
    "diseases_cols = {\n",
    "    'abdominal_obesity_ncep_v2': 'obesity',\n",
    "    'diabetes2_v2': 'diabetes',\n",
    "    'dyslipidemia_v2': 'dyslipidemia',\n",
    "#     'hypertension2_v2': 'hypertension',\n",
    "    'ckd_v2': 'ckd',\n",
    "    'precvd_v2': 'precvd',\n",
    "    'elevated_bp_selfmeds_v2': 'elevated_bp',\n",
    "}\n",
    "           \n",
    "other_feature_cols = {\n",
    "    'age_v2': 'age',\n",
    "    'center': 'center',\n",
    "    'gender': 'gender',\n",
    "    'host_body_mass_index': 'BMI'\n",
    "}\n",
    "\n",
    "subset_cols = diseases_cols | other_feature_cols\n",
    "\n",
    "metadata = raw_metadata[subset_cols.keys()].rename(columns=subset_cols)\n",
    "metadata"
   ]
  },
  {
   "cell_type": "markdown",
   "metadata": {},
   "source": [
    "Remove missing values"
   ]
  },
  {
   "cell_type": "code",
   "execution_count": 8,
   "metadata": {},
   "outputs": [
    {
     "data": {
      "text/html": [
       "<div>\n",
       "<style scoped>\n",
       "    .dataframe tbody tr th:only-of-type {\n",
       "        vertical-align: middle;\n",
       "    }\n",
       "\n",
       "    .dataframe tbody tr th {\n",
       "        vertical-align: top;\n",
       "    }\n",
       "\n",
       "    .dataframe thead th {\n",
       "        text-align: right;\n",
       "    }\n",
       "</style>\n",
       "<table border=\"1\" class=\"dataframe\">\n",
       "  <thead>\n",
       "    <tr style=\"text-align: right;\">\n",
       "      <th></th>\n",
       "      <th>obesity</th>\n",
       "      <th>diabetes</th>\n",
       "      <th>dyslipidemia</th>\n",
       "      <th>ckd</th>\n",
       "      <th>precvd</th>\n",
       "      <th>elevated_bp</th>\n",
       "      <th>age</th>\n",
       "      <th>center</th>\n",
       "      <th>gender</th>\n",
       "      <th>BMI</th>\n",
       "    </tr>\n",
       "    <tr>\n",
       "      <th>Unnamed: 0</th>\n",
       "      <th></th>\n",
       "      <th></th>\n",
       "      <th></th>\n",
       "      <th></th>\n",
       "      <th></th>\n",
       "      <th></th>\n",
       "      <th></th>\n",
       "      <th></th>\n",
       "      <th></th>\n",
       "      <th></th>\n",
       "    </tr>\n",
       "  </thead>\n",
       "  <tbody>\n",
       "    <tr>\n",
       "      <th>11666.G0341A</th>\n",
       "      <td>1</td>\n",
       "      <td>3</td>\n",
       "      <td>0</td>\n",
       "      <td>1</td>\n",
       "      <td>0</td>\n",
       "      <td>1</td>\n",
       "      <td>60</td>\n",
       "      <td>S</td>\n",
       "      <td>F</td>\n",
       "      <td>30.91403302</td>\n",
       "    </tr>\n",
       "    <tr>\n",
       "      <th>11666.G0393A</th>\n",
       "      <td>1</td>\n",
       "      <td>2</td>\n",
       "      <td>0</td>\n",
       "      <td>1</td>\n",
       "      <td>0</td>\n",
       "      <td>1</td>\n",
       "      <td>68</td>\n",
       "      <td>C</td>\n",
       "      <td>F</td>\n",
       "      <td>23.44620183</td>\n",
       "    </tr>\n",
       "    <tr>\n",
       "      <th>11666.G0149A</th>\n",
       "      <td>0</td>\n",
       "      <td>1</td>\n",
       "      <td>0</td>\n",
       "      <td>1</td>\n",
       "      <td>0</td>\n",
       "      <td>0</td>\n",
       "      <td>50</td>\n",
       "      <td>S</td>\n",
       "      <td>F</td>\n",
       "      <td>23.75</td>\n",
       "    </tr>\n",
       "    <tr>\n",
       "      <th>11666.G0091A</th>\n",
       "      <td>1</td>\n",
       "      <td>2</td>\n",
       "      <td>0</td>\n",
       "      <td>2</td>\n",
       "      <td>0</td>\n",
       "      <td>1</td>\n",
       "      <td>69</td>\n",
       "      <td>S</td>\n",
       "      <td>F</td>\n",
       "      <td>25.859375</td>\n",
       "    </tr>\n",
       "    <tr>\n",
       "      <th>11666.G0377A</th>\n",
       "      <td>1</td>\n",
       "      <td>3</td>\n",
       "      <td>0</td>\n",
       "      <td>1</td>\n",
       "      <td>0</td>\n",
       "      <td>1</td>\n",
       "      <td>47</td>\n",
       "      <td>S</td>\n",
       "      <td>F</td>\n",
       "      <td>29.8684069</td>\n",
       "    </tr>\n",
       "    <tr>\n",
       "      <th>...</th>\n",
       "      <td>...</td>\n",
       "      <td>...</td>\n",
       "      <td>...</td>\n",
       "      <td>...</td>\n",
       "      <td>...</td>\n",
       "      <td>...</td>\n",
       "      <td>...</td>\n",
       "      <td>...</td>\n",
       "      <td>...</td>\n",
       "      <td>...</td>\n",
       "    </tr>\n",
       "    <tr>\n",
       "      <th>11666.G1518B</th>\n",
       "      <td>1</td>\n",
       "      <td>3</td>\n",
       "      <td>0</td>\n",
       "      <td>1</td>\n",
       "      <td>0</td>\n",
       "      <td>1</td>\n",
       "      <td>55</td>\n",
       "      <td>S</td>\n",
       "      <td>F</td>\n",
       "      <td>28.83057985</td>\n",
       "    </tr>\n",
       "    <tr>\n",
       "      <th>11666.G1501A</th>\n",
       "      <td>0</td>\n",
       "      <td>3</td>\n",
       "      <td>1</td>\n",
       "      <td>3</td>\n",
       "      <td>0</td>\n",
       "      <td>1</td>\n",
       "      <td>63</td>\n",
       "      <td>C</td>\n",
       "      <td>M</td>\n",
       "      <td>27.14416896</td>\n",
       "    </tr>\n",
       "    <tr>\n",
       "      <th>11666.G1685A</th>\n",
       "      <td>1</td>\n",
       "      <td>2</td>\n",
       "      <td>0</td>\n",
       "      <td>1</td>\n",
       "      <td>0</td>\n",
       "      <td>0</td>\n",
       "      <td>51</td>\n",
       "      <td>C</td>\n",
       "      <td>F</td>\n",
       "      <td>30.61587754</td>\n",
       "    </tr>\n",
       "    <tr>\n",
       "      <th>11666.G1536A</th>\n",
       "      <td>1</td>\n",
       "      <td>3</td>\n",
       "      <td>0</td>\n",
       "      <td>2</td>\n",
       "      <td>1</td>\n",
       "      <td>1</td>\n",
       "      <td>55</td>\n",
       "      <td>B</td>\n",
       "      <td>M</td>\n",
       "      <td>41.31508</td>\n",
       "    </tr>\n",
       "    <tr>\n",
       "      <th>11666.G1519B</th>\n",
       "      <td>0</td>\n",
       "      <td>3</td>\n",
       "      <td>0</td>\n",
       "      <td>1</td>\n",
       "      <td>0</td>\n",
       "      <td>1</td>\n",
       "      <td>60</td>\n",
       "      <td>S</td>\n",
       "      <td>M</td>\n",
       "      <td>24.54395854</td>\n",
       "    </tr>\n",
       "  </tbody>\n",
       "</table>\n",
       "<p>1747 rows × 10 columns</p>\n",
       "</div>"
      ],
      "text/plain": [
       "             obesity diabetes dyslipidemia ckd precvd elevated_bp age center  \\\n",
       "Unnamed: 0                                                                     \n",
       "11666.G0341A       1        3            0   1      0           1  60      S   \n",
       "11666.G0393A       1        2            0   1      0           1  68      C   \n",
       "11666.G0149A       0        1            0   1      0           0  50      S   \n",
       "11666.G0091A       1        2            0   2      0           1  69      S   \n",
       "11666.G0377A       1        3            0   1      0           1  47      S   \n",
       "...              ...      ...          ...  ..    ...         ...  ..    ...   \n",
       "11666.G1518B       1        3            0   1      0           1  55      S   \n",
       "11666.G1501A       0        3            1   3      0           1  63      C   \n",
       "11666.G1685A       1        2            0   1      0           0  51      C   \n",
       "11666.G1536A       1        3            0   2      1           1  55      B   \n",
       "11666.G1519B       0        3            0   1      0           1  60      S   \n",
       "\n",
       "             gender          BMI  \n",
       "Unnamed: 0                        \n",
       "11666.G0341A      F  30.91403302  \n",
       "11666.G0393A      F  23.44620183  \n",
       "11666.G0149A      F        23.75  \n",
       "11666.G0091A      F    25.859375  \n",
       "11666.G0377A      F   29.8684069  \n",
       "...             ...          ...  \n",
       "11666.G1518B      F  28.83057985  \n",
       "11666.G1501A      M  27.14416896  \n",
       "11666.G1685A      F  30.61587754  \n",
       "11666.G1536A      M     41.31508  \n",
       "11666.G1519B      M  24.54395854  \n",
       "\n",
       "[1747 rows x 10 columns]"
      ]
     },
     "execution_count": 8,
     "metadata": {},
     "output_type": "execute_result"
    }
   ],
   "source": [
    "nan_rows = metadata[metadata.isna().any(axis=1)].index\n",
    "na_rows = metadata[(metadata == 'not applicable').all(axis=1)].index\n",
    "np_rows = metadata[(metadata == 'not provided').all(axis=1)].index\n",
    "drop_rows = np.concatenate((nan_rows, na_rows, np_rows))\n",
    "\n",
    "filtered_metadata = metadata.drop(drop_rows)\n",
    "filtered_metadata"
   ]
  },
  {
   "cell_type": "markdown",
   "metadata": {},
   "source": [
    "Map values in each class to binary. 1 in a column means a sample contains the corresponding disease, and 0 means it does not."
   ]
  },
  {
   "cell_type": "code",
   "execution_count": 9,
   "metadata": {
    "scrolled": true
   },
   "outputs": [
    {
     "name": "stdout",
     "output_type": "stream",
     "text": [
      "obesity [1 0]\n",
      "diabetes [3 2 1]\n",
      "dyslipidemia [0 1]\n",
      "ckd [1 2 3 5 4]\n",
      "precvd [0 1]\n",
      "elevated_bp [1 0]\n"
     ]
    }
   ],
   "source": [
    "disease_metadata = filtered_metadata[diseases_cols.values()].astype(int)\n",
    "\n",
    "for col in disease_metadata:\n",
    "    print(col, disease_metadata[col].unique())"
   ]
  },
  {
   "cell_type": "code",
   "execution_count": 10,
   "metadata": {},
   "outputs": [
    {
     "data": {
      "text/html": [
       "<div>\n",
       "<style scoped>\n",
       "    .dataframe tbody tr th:only-of-type {\n",
       "        vertical-align: middle;\n",
       "    }\n",
       "\n",
       "    .dataframe tbody tr th {\n",
       "        vertical-align: top;\n",
       "    }\n",
       "\n",
       "    .dataframe thead th {\n",
       "        text-align: right;\n",
       "    }\n",
       "</style>\n",
       "<table border=\"1\" class=\"dataframe\">\n",
       "  <thead>\n",
       "    <tr style=\"text-align: right;\">\n",
       "      <th></th>\n",
       "      <th>obesity</th>\n",
       "      <th>diabetes</th>\n",
       "      <th>dyslipidemia</th>\n",
       "      <th>ckd</th>\n",
       "      <th>precvd</th>\n",
       "      <th>elevated_bp</th>\n",
       "    </tr>\n",
       "    <tr>\n",
       "      <th>Unnamed: 0</th>\n",
       "      <th></th>\n",
       "      <th></th>\n",
       "      <th></th>\n",
       "      <th></th>\n",
       "      <th></th>\n",
       "      <th></th>\n",
       "    </tr>\n",
       "  </thead>\n",
       "  <tbody>\n",
       "    <tr>\n",
       "      <th>11666.G0341A</th>\n",
       "      <td>1</td>\n",
       "      <td>1</td>\n",
       "      <td>0</td>\n",
       "      <td>0</td>\n",
       "      <td>0</td>\n",
       "      <td>1</td>\n",
       "    </tr>\n",
       "    <tr>\n",
       "      <th>11666.G0393A</th>\n",
       "      <td>1</td>\n",
       "      <td>0</td>\n",
       "      <td>0</td>\n",
       "      <td>0</td>\n",
       "      <td>0</td>\n",
       "      <td>1</td>\n",
       "    </tr>\n",
       "    <tr>\n",
       "      <th>11666.G0149A</th>\n",
       "      <td>0</td>\n",
       "      <td>0</td>\n",
       "      <td>0</td>\n",
       "      <td>0</td>\n",
       "      <td>0</td>\n",
       "      <td>0</td>\n",
       "    </tr>\n",
       "    <tr>\n",
       "      <th>11666.G0091A</th>\n",
       "      <td>1</td>\n",
       "      <td>0</td>\n",
       "      <td>0</td>\n",
       "      <td>1</td>\n",
       "      <td>0</td>\n",
       "      <td>1</td>\n",
       "    </tr>\n",
       "    <tr>\n",
       "      <th>11666.G0377A</th>\n",
       "      <td>1</td>\n",
       "      <td>1</td>\n",
       "      <td>0</td>\n",
       "      <td>0</td>\n",
       "      <td>0</td>\n",
       "      <td>1</td>\n",
       "    </tr>\n",
       "  </tbody>\n",
       "</table>\n",
       "</div>"
      ],
      "text/plain": [
       "              obesity  diabetes  dyslipidemia  ckd  precvd  elevated_bp\n",
       "Unnamed: 0                                                             \n",
       "11666.G0341A        1         1             0    0       0            1\n",
       "11666.G0393A        1         0             0    0       0            1\n",
       "11666.G0149A        0         0             0    0       0            0\n",
       "11666.G0091A        1         0             0    1       0            1\n",
       "11666.G0377A        1         1             0    0       0            1"
      ]
     },
     "execution_count": 10,
     "metadata": {},
     "output_type": "execute_result"
    }
   ],
   "source": [
    "## DISEASE VALUE MAPS\n",
    "\n",
    "diabetes_binary = {1: 0,\n",
    "                   2: 0,\n",
    "                   3: 1}\n",
    "ckd_binary = {1: 0,\n",
    "             2: 1,\n",
    "             3: 1,\n",
    "             4: 1,\n",
    "             5: 1}\n",
    "\n",
    "disease_metadata['diabetes'] = disease_metadata['diabetes'].map(diabetes_binary)\n",
    "disease_metadata['ckd'] = disease_metadata['ckd'].map(ckd_binary)\n",
    "\n",
    "diseases = disease_metadata\n",
    "diseases.head()"
   ]
  },
  {
   "cell_type": "markdown",
   "metadata": {},
   "source": [
    "## Cleaning Feature Table"
   ]
  },
  {
   "cell_type": "markdown",
   "metadata": {},
   "source": [
    "Subset feature table based on existing samples in cleaned metadata"
   ]
  },
  {
   "cell_type": "code",
   "execution_count": 11,
   "metadata": {},
   "outputs": [],
   "source": [
    "raw_feature_table = raw_feature_table.loc[diseases.index]"
   ]
  },
  {
   "cell_type": "code",
   "execution_count": 12,
   "metadata": {},
   "outputs": [
    {
     "data": {
      "text/plain": [
       "2.0       22484\n",
       "1.0       19571\n",
       "3.0        5057\n",
       "4.0        1605\n",
       "0.0        1213\n",
       "          ...  \n",
       "3521.0        1\n",
       "870.0         1\n",
       "2500.0        1\n",
       "1040.0        1\n",
       "4341.0        1\n",
       "Length: 1399, dtype: int64"
      ]
     },
     "execution_count": 12,
     "metadata": {},
     "output_type": "execute_result"
    }
   ],
   "source": [
    "raw_feature_table.sum(axis=0).value_counts()"
   ]
  },
  {
   "cell_type": "markdown",
   "metadata": {},
   "source": [
    "Remove noise by filtering out sequences that have fewer than 100,000 reads"
   ]
  },
  {
   "cell_type": "code",
   "execution_count": 13,
   "metadata": {},
   "outputs": [
    {
     "data": {
      "text/html": [
       "<div>\n",
       "<style scoped>\n",
       "    .dataframe tbody tr th:only-of-type {\n",
       "        vertical-align: middle;\n",
       "    }\n",
       "\n",
       "    .dataframe tbody tr th {\n",
       "        vertical-align: top;\n",
       "    }\n",
       "\n",
       "    .dataframe thead th {\n",
       "        text-align: right;\n",
       "    }\n",
       "</style>\n",
       "<table border=\"1\" class=\"dataframe\">\n",
       "  <thead>\n",
       "    <tr style=\"text-align: right;\">\n",
       "      <th></th>\n",
       "      <th>AACGTAGGGTGCAAGCGTTGTCCGGAATTACTGGGTGTAAAGGGAGCGCAGGCGGACCGGCAAGTTGGAAGTGAAAACTATGGGCTCAACCCATAAATTGCTTTCAAAACTGCTGGCCTTGAGTAGTGCAGAGGTAGGTGGAATTCCCGG</th>\n",
       "      <th>AACGTAGGTCACAAGCGTTGTCCGGAATTACTGGGTGTAAAGGGAGCGCAGGCGGGAAGACAAGTTGGAAGTGAAATCCATGGGCTCAACCCATGAACTGCTTTCAAAACTGTTTTTCTTGAGTAGTGCAGAGGTAGGCGGAATTCCCGG</th>\n",
       "      <th>AACGTAGGTCACAAGCGTTGTCCGGAATTACTGGGTGTAAAGGGAGCGCAGGCGGGAAGACAAGTTGGAAGTGAAATCTATGGGCTCAACCCATAAACTGCTTTCAAAACTGTTTTTCTTGAGTAGTGCAGAGGTAGGCGGAATTCCCGG</th>\n",
       "      <th>AACGTAGGTCACAAGCGTTGTCCGGAATTACTGGGTGTAAAGGGAGCGCAGGCGGGAGAACAAGTTGGAAGTGAAATCCATGGGCTCAACCCATGAACTGCTTTCAAAACTGTTTTTCTTGAGTAGTGCAGAGGTAGGCGGAATTCCCGG</th>\n",
       "      <th>TACAGAGGTCTCAAGCGTTGTTCGGAATCACTGGGCGTAAAGCGTGCGTAGGCTGTTTCGTAAGTCGTGTGTGAAAGGCGCGGGCTCAACCCGCGGACGGCACATGATACTGCGAGACTAGAGTAATGGAGGGGGAACCGGAATTCTCGG</th>\n",
       "      <th>TACGGAAGATGCGAGCGTTATCCGGATTTATTGGGTTTAAAGGGAGCGTAGGCGGGCTTTTAAGTCAGCGGTCAAATGTCGTGGCTCAACCATGTCAAGCCGTTGAAACTGTAAGCCTTGAGTCTGCACAGGGCACATGGAATTCGTGGT</th>\n",
       "      <th>TACGGAAGGTCCGGGCGTTATCCGGATTTATTGGGTTTAAAGGGAGCGTAGGCCGCAGGTTAAGCGTGTTGTGAAATGTAGGGGCTCAACCTCTGCACTGCAGCGCGAACTGGCTTGCTTGAGTACGCACAACGTGGGCGGAATTCGTGG</th>\n",
       "      <th>TACGGAAGGTCCGGGCGTTATCCGGATTTATTGGGTTTAAAGGGAGCGTAGGCCGGAGATTAAGCGTGTTGTGAAATGTAGACGCTCAACGTCTGCACTGCAGCGCGAACTGGTTTCCTTGAGTACGCACAAAGTGGGCGGAATTCGTGG</th>\n",
       "      <th>TACGGAAGGTCCGGGCGTTATCCGGATTTATTGGGTTTAAAGGGAGCGTAGGCCGGAGATTAAGCGTGTTGTGAAATGTAGAGGCTCAACCTCTGCACTGCAGCGCGAACTGGTCTTCTTGAGTACGCACAACGTGGGCGGAATTCGTGG</th>\n",
       "      <th>TACGGAAGGTCCGGGCGTTATCCGGATTTATTGGGTTTAAAGGGAGCGTAGGCCGGAGATTAAGCGTGTTGTGAAATGTAGATGCTCAACATCTGAACTGCAGCGCGAACTGGTTTCCTTGAGTACGCACAAAGTGGGCGGAATTCGTGG</th>\n",
       "      <th>...</th>\n",
       "      <th>TACGTAGGTGGCAAGCGTTGTCCGGATTTACTGGGTGTAAAGGGCGTGCAGCCGGGTCTGCAAGTCAGATGTGAAATCCATGGGCTCAACCCATGAACTGCATTTGAAACTGTAGATCTTGAGTGTCGGAGGGGCAATCGGAATTCCTAG</th>\n",
       "      <th>TACGTAGGTGGCAAGCGTTGTCCGGATTTACTGGGTGTAAAGGGCGTGTAGCCGGGAGGGCAAGTCAGATGTGAAATCCACGGGCTCAACTCGTGAACTGCATTTGAAACTACTCTTCTTGAGTATCGGAGAGGCAATCGGAATTCCTAG</th>\n",
       "      <th>TACGTAGGTGGCGAGCGTTGTCCGGAATTATTGGGCGTAAAGAGCATGTAGGCGGCTTAATAAGTCGAGCGTGAAAATGCGGGGCTCAACCCCGTATGGCGCTGGAAACTGTTAGGCTTGAGTGCAGGAGAGGAAAGGGGAATTCCCAGT</th>\n",
       "      <th>TACGTATGGAGCAAGCGTTATCCGGATTTACTGGGTGTAAAGGGAGTGTAGGTGGCCAGGCAAGTCAGAAGTGAAAGCCCGGGGCTCAACCCCGGGACTGCTTTTGAAACTGCAGGGCTAGAGTGCAGGAGGGGCAAGTGGAATTCCTAG</th>\n",
       "      <th>TACGTATGGAGCAAGCGTTATCCGGATTTACTGGGTGTAAAGGGAGTGTAGGTGGCCATGCAAGTCAGAAGTGAAAATCCGGGGCTCAACCCCGGAACTGCTTTTGAAACTGTAAGGCTAGAGTGCAGGAGGGGTGAGTGGAATTCCTAG</th>\n",
       "      <th>TACGTATGGAGCAAGCGTTATCCGGATTTACTGGGTGTAAAGGGAGTGTAGGTGGCCATGCAAGTCAGAAGTGAAAATCCGGGGCTCAACCCCGGAACTGCTTTTGAAACTGTAAGGCTGGAGTGCAGGAGGGGTGAGTGGAATTCCTAG</th>\n",
       "      <th>TACGTATGGTGCAAGCGTTATCCGGATTTACTGGGTGTAAAGGGAGCGCAGGCGGAAGGCTAAGTCTGATGTGAAAGCCCGGGGCTCAACCCCGGTACTGCATTGGAAACTGGTCATCTAGAGTGTCGGAGGGGTAAGTGGAATTCCTAG</th>\n",
       "      <th>TACGTATGGTGCAAGCGTTATCCGGATTTACTGGGTGTAAAGGGAGCGCAGGCGGTACGGCAAGTCTGATGTGAAAGCCCGGGGCTCAACCCCGGTACTGCATTGGAAACTGTCGGACTAGAGTGTCGGAGGGGTAAGTGGAATTCCTAG</th>\n",
       "      <th>TACGTATGGTGCAAGCGTTATCCGGATTTACTGGGTGTAAAGGGAGCGCAGGCGGTGCGGCAAGTCTGATGTGAAAGCCCGGGGCTCAACCCCGGTACTGCATTGGAAACTGTCGTACTAGAGTGTCGGAGGGGTAAGCGGAATTCCTAG</th>\n",
       "      <th>TACGTATGGTGCAAGCGTTATCCGGATTTACTGGGTGTAAAGGGAGCGCAGGCGGTGCGGCAAGTCTGATGTGAAAGCCCGGGGCTCAACCCCGGTACTGCATTGGAAACTGTCGTACTAGAGTGTCGGAGGGGTAAGTGGAATTCCTAG</th>\n",
       "    </tr>\n",
       "    <tr>\n",
       "      <th>Unnamed: 0</th>\n",
       "      <th></th>\n",
       "      <th></th>\n",
       "      <th></th>\n",
       "      <th></th>\n",
       "      <th></th>\n",
       "      <th></th>\n",
       "      <th></th>\n",
       "      <th></th>\n",
       "      <th></th>\n",
       "      <th></th>\n",
       "      <th></th>\n",
       "      <th></th>\n",
       "      <th></th>\n",
       "      <th></th>\n",
       "      <th></th>\n",
       "      <th></th>\n",
       "      <th></th>\n",
       "      <th></th>\n",
       "      <th></th>\n",
       "      <th></th>\n",
       "      <th></th>\n",
       "    </tr>\n",
       "  </thead>\n",
       "  <tbody>\n",
       "    <tr>\n",
       "      <th>11666.G0341A</th>\n",
       "      <td>0.0</td>\n",
       "      <td>0.0</td>\n",
       "      <td>17.0</td>\n",
       "      <td>39.0</td>\n",
       "      <td>287.0</td>\n",
       "      <td>0.0</td>\n",
       "      <td>0.0</td>\n",
       "      <td>5.0</td>\n",
       "      <td>0.0</td>\n",
       "      <td>4.0</td>\n",
       "      <td>...</td>\n",
       "      <td>2.0</td>\n",
       "      <td>0.0</td>\n",
       "      <td>342.0</td>\n",
       "      <td>0.0</td>\n",
       "      <td>0.0</td>\n",
       "      <td>4.0</td>\n",
       "      <td>2.0</td>\n",
       "      <td>41.0</td>\n",
       "      <td>0.0</td>\n",
       "      <td>0.0</td>\n",
       "    </tr>\n",
       "    <tr>\n",
       "      <th>11666.G0393A</th>\n",
       "      <td>51.0</td>\n",
       "      <td>45.0</td>\n",
       "      <td>267.0</td>\n",
       "      <td>496.0</td>\n",
       "      <td>0.0</td>\n",
       "      <td>228.0</td>\n",
       "      <td>2.0</td>\n",
       "      <td>4.0</td>\n",
       "      <td>0.0</td>\n",
       "      <td>0.0</td>\n",
       "      <td>...</td>\n",
       "      <td>109.0</td>\n",
       "      <td>0.0</td>\n",
       "      <td>0.0</td>\n",
       "      <td>0.0</td>\n",
       "      <td>199.0</td>\n",
       "      <td>337.0</td>\n",
       "      <td>41.0</td>\n",
       "      <td>378.0</td>\n",
       "      <td>841.0</td>\n",
       "      <td>0.0</td>\n",
       "    </tr>\n",
       "    <tr>\n",
       "      <th>11666.G0149A</th>\n",
       "      <td>176.0</td>\n",
       "      <td>221.0</td>\n",
       "      <td>339.0</td>\n",
       "      <td>71.0</td>\n",
       "      <td>0.0</td>\n",
       "      <td>0.0</td>\n",
       "      <td>0.0</td>\n",
       "      <td>2398.0</td>\n",
       "      <td>0.0</td>\n",
       "      <td>3155.0</td>\n",
       "      <td>...</td>\n",
       "      <td>81.0</td>\n",
       "      <td>71.0</td>\n",
       "      <td>236.0</td>\n",
       "      <td>2.0</td>\n",
       "      <td>44.0</td>\n",
       "      <td>50.0</td>\n",
       "      <td>355.0</td>\n",
       "      <td>0.0</td>\n",
       "      <td>1104.0</td>\n",
       "      <td>0.0</td>\n",
       "    </tr>\n",
       "    <tr>\n",
       "      <th>11666.G0091A</th>\n",
       "      <td>22.0</td>\n",
       "      <td>245.0</td>\n",
       "      <td>1315.0</td>\n",
       "      <td>476.0</td>\n",
       "      <td>2.0</td>\n",
       "      <td>0.0</td>\n",
       "      <td>0.0</td>\n",
       "      <td>4.0</td>\n",
       "      <td>0.0</td>\n",
       "      <td>0.0</td>\n",
       "      <td>...</td>\n",
       "      <td>95.0</td>\n",
       "      <td>0.0</td>\n",
       "      <td>5.0</td>\n",
       "      <td>0.0</td>\n",
       "      <td>18.0</td>\n",
       "      <td>164.0</td>\n",
       "      <td>35.0</td>\n",
       "      <td>0.0</td>\n",
       "      <td>2793.0</td>\n",
       "      <td>0.0</td>\n",
       "    </tr>\n",
       "    <tr>\n",
       "      <th>11666.G0377A</th>\n",
       "      <td>3.0</td>\n",
       "      <td>140.0</td>\n",
       "      <td>507.0</td>\n",
       "      <td>65.0</td>\n",
       "      <td>205.0</td>\n",
       "      <td>93.0</td>\n",
       "      <td>0.0</td>\n",
       "      <td>352.0</td>\n",
       "      <td>0.0</td>\n",
       "      <td>185.0</td>\n",
       "      <td>...</td>\n",
       "      <td>161.0</td>\n",
       "      <td>65.0</td>\n",
       "      <td>7.0</td>\n",
       "      <td>0.0</td>\n",
       "      <td>52.0</td>\n",
       "      <td>54.0</td>\n",
       "      <td>115.0</td>\n",
       "      <td>0.0</td>\n",
       "      <td>223.0</td>\n",
       "      <td>0.0</td>\n",
       "    </tr>\n",
       "    <tr>\n",
       "      <th>...</th>\n",
       "      <td>...</td>\n",
       "      <td>...</td>\n",
       "      <td>...</td>\n",
       "      <td>...</td>\n",
       "      <td>...</td>\n",
       "      <td>...</td>\n",
       "      <td>...</td>\n",
       "      <td>...</td>\n",
       "      <td>...</td>\n",
       "      <td>...</td>\n",
       "      <td>...</td>\n",
       "      <td>...</td>\n",
       "      <td>...</td>\n",
       "      <td>...</td>\n",
       "      <td>...</td>\n",
       "      <td>...</td>\n",
       "      <td>...</td>\n",
       "      <td>...</td>\n",
       "      <td>...</td>\n",
       "      <td>...</td>\n",
       "      <td>...</td>\n",
       "    </tr>\n",
       "    <tr>\n",
       "      <th>11666.G1518B</th>\n",
       "      <td>36.0</td>\n",
       "      <td>15.0</td>\n",
       "      <td>113.0</td>\n",
       "      <td>62.0</td>\n",
       "      <td>0.0</td>\n",
       "      <td>0.0</td>\n",
       "      <td>0.0</td>\n",
       "      <td>0.0</td>\n",
       "      <td>0.0</td>\n",
       "      <td>0.0</td>\n",
       "      <td>...</td>\n",
       "      <td>0.0</td>\n",
       "      <td>0.0</td>\n",
       "      <td>0.0</td>\n",
       "      <td>0.0</td>\n",
       "      <td>3.0</td>\n",
       "      <td>6.0</td>\n",
       "      <td>5.0</td>\n",
       "      <td>1.0</td>\n",
       "      <td>16.0</td>\n",
       "      <td>3.0</td>\n",
       "    </tr>\n",
       "    <tr>\n",
       "      <th>11666.G1501A</th>\n",
       "      <td>4.0</td>\n",
       "      <td>34.0</td>\n",
       "      <td>63.0</td>\n",
       "      <td>0.0</td>\n",
       "      <td>0.0</td>\n",
       "      <td>0.0</td>\n",
       "      <td>70.0</td>\n",
       "      <td>3127.0</td>\n",
       "      <td>97.0</td>\n",
       "      <td>53.0</td>\n",
       "      <td>...</td>\n",
       "      <td>287.0</td>\n",
       "      <td>660.0</td>\n",
       "      <td>398.0</td>\n",
       "      <td>11.0</td>\n",
       "      <td>2.0</td>\n",
       "      <td>25.0</td>\n",
       "      <td>6.0</td>\n",
       "      <td>0.0</td>\n",
       "      <td>304.0</td>\n",
       "      <td>0.0</td>\n",
       "    </tr>\n",
       "    <tr>\n",
       "      <th>11666.G1685A</th>\n",
       "      <td>18.0</td>\n",
       "      <td>332.0</td>\n",
       "      <td>215.0</td>\n",
       "      <td>590.0</td>\n",
       "      <td>0.0</td>\n",
       "      <td>0.0</td>\n",
       "      <td>0.0</td>\n",
       "      <td>0.0</td>\n",
       "      <td>0.0</td>\n",
       "      <td>0.0</td>\n",
       "      <td>...</td>\n",
       "      <td>23.0</td>\n",
       "      <td>5.0</td>\n",
       "      <td>24.0</td>\n",
       "      <td>414.0</td>\n",
       "      <td>0.0</td>\n",
       "      <td>253.0</td>\n",
       "      <td>179.0</td>\n",
       "      <td>0.0</td>\n",
       "      <td>947.0</td>\n",
       "      <td>1561.0</td>\n",
       "    </tr>\n",
       "    <tr>\n",
       "      <th>11666.G1536A</th>\n",
       "      <td>10.0</td>\n",
       "      <td>159.0</td>\n",
       "      <td>24.0</td>\n",
       "      <td>0.0</td>\n",
       "      <td>0.0</td>\n",
       "      <td>0.0</td>\n",
       "      <td>0.0</td>\n",
       "      <td>4945.0</td>\n",
       "      <td>0.0</td>\n",
       "      <td>5862.0</td>\n",
       "      <td>...</td>\n",
       "      <td>0.0</td>\n",
       "      <td>0.0</td>\n",
       "      <td>0.0</td>\n",
       "      <td>4.0</td>\n",
       "      <td>0.0</td>\n",
       "      <td>0.0</td>\n",
       "      <td>4.0</td>\n",
       "      <td>0.0</td>\n",
       "      <td>78.0</td>\n",
       "      <td>3.0</td>\n",
       "    </tr>\n",
       "    <tr>\n",
       "      <th>11666.G1519B</th>\n",
       "      <td>0.0</td>\n",
       "      <td>0.0</td>\n",
       "      <td>0.0</td>\n",
       "      <td>0.0</td>\n",
       "      <td>8216.0</td>\n",
       "      <td>0.0</td>\n",
       "      <td>0.0</td>\n",
       "      <td>15.0</td>\n",
       "      <td>0.0</td>\n",
       "      <td>30.0</td>\n",
       "      <td>...</td>\n",
       "      <td>0.0</td>\n",
       "      <td>0.0</td>\n",
       "      <td>0.0</td>\n",
       "      <td>0.0</td>\n",
       "      <td>14.0</td>\n",
       "      <td>11.0</td>\n",
       "      <td>130.0</td>\n",
       "      <td>11.0</td>\n",
       "      <td>4.0</td>\n",
       "      <td>0.0</td>\n",
       "    </tr>\n",
       "  </tbody>\n",
       "</table>\n",
       "<p>1747 rows × 42 columns</p>\n",
       "</div>"
      ],
      "text/plain": [
       "              AACGTAGGGTGCAAGCGTTGTCCGGAATTACTGGGTGTAAAGGGAGCGCAGGCGGACCGGCAAGTTGGAAGTGAAAACTATGGGCTCAACCCATAAATTGCTTTCAAAACTGCTGGCCTTGAGTAGTGCAGAGGTAGGTGGAATTCCCGG  \\\n",
       "Unnamed: 0                                                                                                                                                             \n",
       "11666.G0341A                                                0.0                                                                                                        \n",
       "11666.G0393A                                               51.0                                                                                                        \n",
       "11666.G0149A                                              176.0                                                                                                        \n",
       "11666.G0091A                                               22.0                                                                                                        \n",
       "11666.G0377A                                                3.0                                                                                                        \n",
       "...                                                         ...                                                                                                        \n",
       "11666.G1518B                                               36.0                                                                                                        \n",
       "11666.G1501A                                                4.0                                                                                                        \n",
       "11666.G1685A                                               18.0                                                                                                        \n",
       "11666.G1536A                                               10.0                                                                                                        \n",
       "11666.G1519B                                                0.0                                                                                                        \n",
       "\n",
       "              AACGTAGGTCACAAGCGTTGTCCGGAATTACTGGGTGTAAAGGGAGCGCAGGCGGGAAGACAAGTTGGAAGTGAAATCCATGGGCTCAACCCATGAACTGCTTTCAAAACTGTTTTTCTTGAGTAGTGCAGAGGTAGGCGGAATTCCCGG  \\\n",
       "Unnamed: 0                                                                                                                                                             \n",
       "11666.G0341A                                                0.0                                                                                                        \n",
       "11666.G0393A                                               45.0                                                                                                        \n",
       "11666.G0149A                                              221.0                                                                                                        \n",
       "11666.G0091A                                              245.0                                                                                                        \n",
       "11666.G0377A                                              140.0                                                                                                        \n",
       "...                                                         ...                                                                                                        \n",
       "11666.G1518B                                               15.0                                                                                                        \n",
       "11666.G1501A                                               34.0                                                                                                        \n",
       "11666.G1685A                                              332.0                                                                                                        \n",
       "11666.G1536A                                              159.0                                                                                                        \n",
       "11666.G1519B                                                0.0                                                                                                        \n",
       "\n",
       "              AACGTAGGTCACAAGCGTTGTCCGGAATTACTGGGTGTAAAGGGAGCGCAGGCGGGAAGACAAGTTGGAAGTGAAATCTATGGGCTCAACCCATAAACTGCTTTCAAAACTGTTTTTCTTGAGTAGTGCAGAGGTAGGCGGAATTCCCGG  \\\n",
       "Unnamed: 0                                                                                                                                                             \n",
       "11666.G0341A                                               17.0                                                                                                        \n",
       "11666.G0393A                                              267.0                                                                                                        \n",
       "11666.G0149A                                              339.0                                                                                                        \n",
       "11666.G0091A                                             1315.0                                                                                                        \n",
       "11666.G0377A                                              507.0                                                                                                        \n",
       "...                                                         ...                                                                                                        \n",
       "11666.G1518B                                              113.0                                                                                                        \n",
       "11666.G1501A                                               63.0                                                                                                        \n",
       "11666.G1685A                                              215.0                                                                                                        \n",
       "11666.G1536A                                               24.0                                                                                                        \n",
       "11666.G1519B                                                0.0                                                                                                        \n",
       "\n",
       "              AACGTAGGTCACAAGCGTTGTCCGGAATTACTGGGTGTAAAGGGAGCGCAGGCGGGAGAACAAGTTGGAAGTGAAATCCATGGGCTCAACCCATGAACTGCTTTCAAAACTGTTTTTCTTGAGTAGTGCAGAGGTAGGCGGAATTCCCGG  \\\n",
       "Unnamed: 0                                                                                                                                                             \n",
       "11666.G0341A                                               39.0                                                                                                        \n",
       "11666.G0393A                                              496.0                                                                                                        \n",
       "11666.G0149A                                               71.0                                                                                                        \n",
       "11666.G0091A                                              476.0                                                                                                        \n",
       "11666.G0377A                                               65.0                                                                                                        \n",
       "...                                                         ...                                                                                                        \n",
       "11666.G1518B                                               62.0                                                                                                        \n",
       "11666.G1501A                                                0.0                                                                                                        \n",
       "11666.G1685A                                              590.0                                                                                                        \n",
       "11666.G1536A                                                0.0                                                                                                        \n",
       "11666.G1519B                                                0.0                                                                                                        \n",
       "\n",
       "              TACAGAGGTCTCAAGCGTTGTTCGGAATCACTGGGCGTAAAGCGTGCGTAGGCTGTTTCGTAAGTCGTGTGTGAAAGGCGCGGGCTCAACCCGCGGACGGCACATGATACTGCGAGACTAGAGTAATGGAGGGGGAACCGGAATTCTCGG  \\\n",
       "Unnamed: 0                                                                                                                                                             \n",
       "11666.G0341A                                              287.0                                                                                                        \n",
       "11666.G0393A                                                0.0                                                                                                        \n",
       "11666.G0149A                                                0.0                                                                                                        \n",
       "11666.G0091A                                                2.0                                                                                                        \n",
       "11666.G0377A                                              205.0                                                                                                        \n",
       "...                                                         ...                                                                                                        \n",
       "11666.G1518B                                                0.0                                                                                                        \n",
       "11666.G1501A                                                0.0                                                                                                        \n",
       "11666.G1685A                                                0.0                                                                                                        \n",
       "11666.G1536A                                                0.0                                                                                                        \n",
       "11666.G1519B                                             8216.0                                                                                                        \n",
       "\n",
       "              TACGGAAGATGCGAGCGTTATCCGGATTTATTGGGTTTAAAGGGAGCGTAGGCGGGCTTTTAAGTCAGCGGTCAAATGTCGTGGCTCAACCATGTCAAGCCGTTGAAACTGTAAGCCTTGAGTCTGCACAGGGCACATGGAATTCGTGGT  \\\n",
       "Unnamed: 0                                                                                                                                                             \n",
       "11666.G0341A                                                0.0                                                                                                        \n",
       "11666.G0393A                                              228.0                                                                                                        \n",
       "11666.G0149A                                                0.0                                                                                                        \n",
       "11666.G0091A                                                0.0                                                                                                        \n",
       "11666.G0377A                                               93.0                                                                                                        \n",
       "...                                                         ...                                                                                                        \n",
       "11666.G1518B                                                0.0                                                                                                        \n",
       "11666.G1501A                                                0.0                                                                                                        \n",
       "11666.G1685A                                                0.0                                                                                                        \n",
       "11666.G1536A                                                0.0                                                                                                        \n",
       "11666.G1519B                                                0.0                                                                                                        \n",
       "\n",
       "              TACGGAAGGTCCGGGCGTTATCCGGATTTATTGGGTTTAAAGGGAGCGTAGGCCGCAGGTTAAGCGTGTTGTGAAATGTAGGGGCTCAACCTCTGCACTGCAGCGCGAACTGGCTTGCTTGAGTACGCACAACGTGGGCGGAATTCGTGG  \\\n",
       "Unnamed: 0                                                                                                                                                             \n",
       "11666.G0341A                                                0.0                                                                                                        \n",
       "11666.G0393A                                                2.0                                                                                                        \n",
       "11666.G0149A                                                0.0                                                                                                        \n",
       "11666.G0091A                                                0.0                                                                                                        \n",
       "11666.G0377A                                                0.0                                                                                                        \n",
       "...                                                         ...                                                                                                        \n",
       "11666.G1518B                                                0.0                                                                                                        \n",
       "11666.G1501A                                               70.0                                                                                                        \n",
       "11666.G1685A                                                0.0                                                                                                        \n",
       "11666.G1536A                                                0.0                                                                                                        \n",
       "11666.G1519B                                                0.0                                                                                                        \n",
       "\n",
       "              TACGGAAGGTCCGGGCGTTATCCGGATTTATTGGGTTTAAAGGGAGCGTAGGCCGGAGATTAAGCGTGTTGTGAAATGTAGACGCTCAACGTCTGCACTGCAGCGCGAACTGGTTTCCTTGAGTACGCACAAAGTGGGCGGAATTCGTGG  \\\n",
       "Unnamed: 0                                                                                                                                                             \n",
       "11666.G0341A                                                5.0                                                                                                        \n",
       "11666.G0393A                                                4.0                                                                                                        \n",
       "11666.G0149A                                             2398.0                                                                                                        \n",
       "11666.G0091A                                                4.0                                                                                                        \n",
       "11666.G0377A                                              352.0                                                                                                        \n",
       "...                                                         ...                                                                                                        \n",
       "11666.G1518B                                                0.0                                                                                                        \n",
       "11666.G1501A                                             3127.0                                                                                                        \n",
       "11666.G1685A                                                0.0                                                                                                        \n",
       "11666.G1536A                                             4945.0                                                                                                        \n",
       "11666.G1519B                                               15.0                                                                                                        \n",
       "\n",
       "              TACGGAAGGTCCGGGCGTTATCCGGATTTATTGGGTTTAAAGGGAGCGTAGGCCGGAGATTAAGCGTGTTGTGAAATGTAGAGGCTCAACCTCTGCACTGCAGCGCGAACTGGTCTTCTTGAGTACGCACAACGTGGGCGGAATTCGTGG  \\\n",
       "Unnamed: 0                                                                                                                                                             \n",
       "11666.G0341A                                                0.0                                                                                                        \n",
       "11666.G0393A                                                0.0                                                                                                        \n",
       "11666.G0149A                                                0.0                                                                                                        \n",
       "11666.G0091A                                                0.0                                                                                                        \n",
       "11666.G0377A                                                0.0                                                                                                        \n",
       "...                                                         ...                                                                                                        \n",
       "11666.G1518B                                                0.0                                                                                                        \n",
       "11666.G1501A                                               97.0                                                                                                        \n",
       "11666.G1685A                                                0.0                                                                                                        \n",
       "11666.G1536A                                                0.0                                                                                                        \n",
       "11666.G1519B                                                0.0                                                                                                        \n",
       "\n",
       "              TACGGAAGGTCCGGGCGTTATCCGGATTTATTGGGTTTAAAGGGAGCGTAGGCCGGAGATTAAGCGTGTTGTGAAATGTAGATGCTCAACATCTGAACTGCAGCGCGAACTGGTTTCCTTGAGTACGCACAAAGTGGGCGGAATTCGTGG  \\\n",
       "Unnamed: 0                                                                                                                                                             \n",
       "11666.G0341A                                                4.0                                                                                                        \n",
       "11666.G0393A                                                0.0                                                                                                        \n",
       "11666.G0149A                                             3155.0                                                                                                        \n",
       "11666.G0091A                                                0.0                                                                                                        \n",
       "11666.G0377A                                              185.0                                                                                                        \n",
       "...                                                         ...                                                                                                        \n",
       "11666.G1518B                                                0.0                                                                                                        \n",
       "11666.G1501A                                               53.0                                                                                                        \n",
       "11666.G1685A                                                0.0                                                                                                        \n",
       "11666.G1536A                                             5862.0                                                                                                        \n",
       "11666.G1519B                                               30.0                                                                                                        \n",
       "\n",
       "              ...  \\\n",
       "Unnamed: 0    ...   \n",
       "11666.G0341A  ...   \n",
       "11666.G0393A  ...   \n",
       "11666.G0149A  ...   \n",
       "11666.G0091A  ...   \n",
       "11666.G0377A  ...   \n",
       "...           ...   \n",
       "11666.G1518B  ...   \n",
       "11666.G1501A  ...   \n",
       "11666.G1685A  ...   \n",
       "11666.G1536A  ...   \n",
       "11666.G1519B  ...   \n",
       "\n",
       "              TACGTAGGTGGCAAGCGTTGTCCGGATTTACTGGGTGTAAAGGGCGTGCAGCCGGGTCTGCAAGTCAGATGTGAAATCCATGGGCTCAACCCATGAACTGCATTTGAAACTGTAGATCTTGAGTGTCGGAGGGGCAATCGGAATTCCTAG  \\\n",
       "Unnamed: 0                                                                                                                                                             \n",
       "11666.G0341A                                                2.0                                                                                                        \n",
       "11666.G0393A                                              109.0                                                                                                        \n",
       "11666.G0149A                                               81.0                                                                                                        \n",
       "11666.G0091A                                               95.0                                                                                                        \n",
       "11666.G0377A                                              161.0                                                                                                        \n",
       "...                                                         ...                                                                                                        \n",
       "11666.G1518B                                                0.0                                                                                                        \n",
       "11666.G1501A                                              287.0                                                                                                        \n",
       "11666.G1685A                                               23.0                                                                                                        \n",
       "11666.G1536A                                                0.0                                                                                                        \n",
       "11666.G1519B                                                0.0                                                                                                        \n",
       "\n",
       "              TACGTAGGTGGCAAGCGTTGTCCGGATTTACTGGGTGTAAAGGGCGTGTAGCCGGGAGGGCAAGTCAGATGTGAAATCCACGGGCTCAACTCGTGAACTGCATTTGAAACTACTCTTCTTGAGTATCGGAGAGGCAATCGGAATTCCTAG  \\\n",
       "Unnamed: 0                                                                                                                                                             \n",
       "11666.G0341A                                                0.0                                                                                                        \n",
       "11666.G0393A                                                0.0                                                                                                        \n",
       "11666.G0149A                                               71.0                                                                                                        \n",
       "11666.G0091A                                                0.0                                                                                                        \n",
       "11666.G0377A                                               65.0                                                                                                        \n",
       "...                                                         ...                                                                                                        \n",
       "11666.G1518B                                                0.0                                                                                                        \n",
       "11666.G1501A                                              660.0                                                                                                        \n",
       "11666.G1685A                                                5.0                                                                                                        \n",
       "11666.G1536A                                                0.0                                                                                                        \n",
       "11666.G1519B                                                0.0                                                                                                        \n",
       "\n",
       "              TACGTAGGTGGCGAGCGTTGTCCGGAATTATTGGGCGTAAAGAGCATGTAGGCGGCTTAATAAGTCGAGCGTGAAAATGCGGGGCTCAACCCCGTATGGCGCTGGAAACTGTTAGGCTTGAGTGCAGGAGAGGAAAGGGGAATTCCCAGT  \\\n",
       "Unnamed: 0                                                                                                                                                             \n",
       "11666.G0341A                                              342.0                                                                                                        \n",
       "11666.G0393A                                                0.0                                                                                                        \n",
       "11666.G0149A                                              236.0                                                                                                        \n",
       "11666.G0091A                                                5.0                                                                                                        \n",
       "11666.G0377A                                                7.0                                                                                                        \n",
       "...                                                         ...                                                                                                        \n",
       "11666.G1518B                                                0.0                                                                                                        \n",
       "11666.G1501A                                              398.0                                                                                                        \n",
       "11666.G1685A                                               24.0                                                                                                        \n",
       "11666.G1536A                                                0.0                                                                                                        \n",
       "11666.G1519B                                                0.0                                                                                                        \n",
       "\n",
       "              TACGTATGGAGCAAGCGTTATCCGGATTTACTGGGTGTAAAGGGAGTGTAGGTGGCCAGGCAAGTCAGAAGTGAAAGCCCGGGGCTCAACCCCGGGACTGCTTTTGAAACTGCAGGGCTAGAGTGCAGGAGGGGCAAGTGGAATTCCTAG  \\\n",
       "Unnamed: 0                                                                                                                                                             \n",
       "11666.G0341A                                                0.0                                                                                                        \n",
       "11666.G0393A                                                0.0                                                                                                        \n",
       "11666.G0149A                                                2.0                                                                                                        \n",
       "11666.G0091A                                                0.0                                                                                                        \n",
       "11666.G0377A                                                0.0                                                                                                        \n",
       "...                                                         ...                                                                                                        \n",
       "11666.G1518B                                                0.0                                                                                                        \n",
       "11666.G1501A                                               11.0                                                                                                        \n",
       "11666.G1685A                                              414.0                                                                                                        \n",
       "11666.G1536A                                                4.0                                                                                                        \n",
       "11666.G1519B                                                0.0                                                                                                        \n",
       "\n",
       "              TACGTATGGAGCAAGCGTTATCCGGATTTACTGGGTGTAAAGGGAGTGTAGGTGGCCATGCAAGTCAGAAGTGAAAATCCGGGGCTCAACCCCGGAACTGCTTTTGAAACTGTAAGGCTAGAGTGCAGGAGGGGTGAGTGGAATTCCTAG  \\\n",
       "Unnamed: 0                                                                                                                                                             \n",
       "11666.G0341A                                                0.0                                                                                                        \n",
       "11666.G0393A                                              199.0                                                                                                        \n",
       "11666.G0149A                                               44.0                                                                                                        \n",
       "11666.G0091A                                               18.0                                                                                                        \n",
       "11666.G0377A                                               52.0                                                                                                        \n",
       "...                                                         ...                                                                                                        \n",
       "11666.G1518B                                                3.0                                                                                                        \n",
       "11666.G1501A                                                2.0                                                                                                        \n",
       "11666.G1685A                                                0.0                                                                                                        \n",
       "11666.G1536A                                                0.0                                                                                                        \n",
       "11666.G1519B                                               14.0                                                                                                        \n",
       "\n",
       "              TACGTATGGAGCAAGCGTTATCCGGATTTACTGGGTGTAAAGGGAGTGTAGGTGGCCATGCAAGTCAGAAGTGAAAATCCGGGGCTCAACCCCGGAACTGCTTTTGAAACTGTAAGGCTGGAGTGCAGGAGGGGTGAGTGGAATTCCTAG  \\\n",
       "Unnamed: 0                                                                                                                                                             \n",
       "11666.G0341A                                                4.0                                                                                                        \n",
       "11666.G0393A                                              337.0                                                                                                        \n",
       "11666.G0149A                                               50.0                                                                                                        \n",
       "11666.G0091A                                              164.0                                                                                                        \n",
       "11666.G0377A                                               54.0                                                                                                        \n",
       "...                                                         ...                                                                                                        \n",
       "11666.G1518B                                                6.0                                                                                                        \n",
       "11666.G1501A                                               25.0                                                                                                        \n",
       "11666.G1685A                                              253.0                                                                                                        \n",
       "11666.G1536A                                                0.0                                                                                                        \n",
       "11666.G1519B                                               11.0                                                                                                        \n",
       "\n",
       "              TACGTATGGTGCAAGCGTTATCCGGATTTACTGGGTGTAAAGGGAGCGCAGGCGGAAGGCTAAGTCTGATGTGAAAGCCCGGGGCTCAACCCCGGTACTGCATTGGAAACTGGTCATCTAGAGTGTCGGAGGGGTAAGTGGAATTCCTAG  \\\n",
       "Unnamed: 0                                                                                                                                                             \n",
       "11666.G0341A                                                2.0                                                                                                        \n",
       "11666.G0393A                                               41.0                                                                                                        \n",
       "11666.G0149A                                              355.0                                                                                                        \n",
       "11666.G0091A                                               35.0                                                                                                        \n",
       "11666.G0377A                                              115.0                                                                                                        \n",
       "...                                                         ...                                                                                                        \n",
       "11666.G1518B                                                5.0                                                                                                        \n",
       "11666.G1501A                                                6.0                                                                                                        \n",
       "11666.G1685A                                              179.0                                                                                                        \n",
       "11666.G1536A                                                4.0                                                                                                        \n",
       "11666.G1519B                                              130.0                                                                                                        \n",
       "\n",
       "              TACGTATGGTGCAAGCGTTATCCGGATTTACTGGGTGTAAAGGGAGCGCAGGCGGTACGGCAAGTCTGATGTGAAAGCCCGGGGCTCAACCCCGGTACTGCATTGGAAACTGTCGGACTAGAGTGTCGGAGGGGTAAGTGGAATTCCTAG  \\\n",
       "Unnamed: 0                                                                                                                                                             \n",
       "11666.G0341A                                               41.0                                                                                                        \n",
       "11666.G0393A                                              378.0                                                                                                        \n",
       "11666.G0149A                                                0.0                                                                                                        \n",
       "11666.G0091A                                                0.0                                                                                                        \n",
       "11666.G0377A                                                0.0                                                                                                        \n",
       "...                                                         ...                                                                                                        \n",
       "11666.G1518B                                                1.0                                                                                                        \n",
       "11666.G1501A                                                0.0                                                                                                        \n",
       "11666.G1685A                                                0.0                                                                                                        \n",
       "11666.G1536A                                                0.0                                                                                                        \n",
       "11666.G1519B                                               11.0                                                                                                        \n",
       "\n",
       "              TACGTATGGTGCAAGCGTTATCCGGATTTACTGGGTGTAAAGGGAGCGCAGGCGGTGCGGCAAGTCTGATGTGAAAGCCCGGGGCTCAACCCCGGTACTGCATTGGAAACTGTCGTACTAGAGTGTCGGAGGGGTAAGCGGAATTCCTAG  \\\n",
       "Unnamed: 0                                                                                                                                                             \n",
       "11666.G0341A                                                0.0                                                                                                        \n",
       "11666.G0393A                                              841.0                                                                                                        \n",
       "11666.G0149A                                             1104.0                                                                                                        \n",
       "11666.G0091A                                             2793.0                                                                                                        \n",
       "11666.G0377A                                              223.0                                                                                                        \n",
       "...                                                         ...                                                                                                        \n",
       "11666.G1518B                                               16.0                                                                                                        \n",
       "11666.G1501A                                              304.0                                                                                                        \n",
       "11666.G1685A                                              947.0                                                                                                        \n",
       "11666.G1536A                                               78.0                                                                                                        \n",
       "11666.G1519B                                                4.0                                                                                                        \n",
       "\n",
       "              TACGTATGGTGCAAGCGTTATCCGGATTTACTGGGTGTAAAGGGAGCGCAGGCGGTGCGGCAAGTCTGATGTGAAAGCCCGGGGCTCAACCCCGGTACTGCATTGGAAACTGTCGTACTAGAGTGTCGGAGGGGTAAGTGGAATTCCTAG  \n",
       "Unnamed: 0                                                                                                                                                            \n",
       "11666.G0341A                                                0.0                                                                                                       \n",
       "11666.G0393A                                                0.0                                                                                                       \n",
       "11666.G0149A                                                0.0                                                                                                       \n",
       "11666.G0091A                                                0.0                                                                                                       \n",
       "11666.G0377A                                                0.0                                                                                                       \n",
       "...                                                         ...                                                                                                       \n",
       "11666.G1518B                                                3.0                                                                                                       \n",
       "11666.G1501A                                                0.0                                                                                                       \n",
       "11666.G1685A                                             1561.0                                                                                                       \n",
       "11666.G1536A                                                3.0                                                                                                       \n",
       "11666.G1519B                                                0.0                                                                                                       \n",
       "\n",
       "[1747 rows x 42 columns]"
      ]
     },
     "execution_count": 13,
     "metadata": {},
     "output_type": "execute_result"
    }
   ],
   "source": [
    "threshold = 100_000\n",
    "filtered_cols = raw_feature_table.sum(axis=0) > threshold\n",
    "features = raw_feature_table.T.loc[filtered_cols].T\n",
    "features"
   ]
  },
  {
   "cell_type": "code",
   "execution_count": null,
   "metadata": {},
   "outputs": [],
   "source": []
  },
  {
   "cell_type": "markdown",
   "metadata": {},
   "source": [
    "## Metadata EDA"
   ]
  },
  {
   "cell_type": "code",
   "execution_count": 15,
   "metadata": {},
   "outputs": [
    {
     "data": {
      "text/html": [
       "<div>\n",
       "<style scoped>\n",
       "    .dataframe tbody tr th:only-of-type {\n",
       "        vertical-align: middle;\n",
       "    }\n",
       "\n",
       "    .dataframe tbody tr th {\n",
       "        vertical-align: top;\n",
       "    }\n",
       "\n",
       "    .dataframe thead th {\n",
       "        text-align: right;\n",
       "    }\n",
       "</style>\n",
       "<table border=\"1\" class=\"dataframe\">\n",
       "  <thead>\n",
       "    <tr style=\"text-align: right;\">\n",
       "      <th></th>\n",
       "      <th>obesity</th>\n",
       "      <th>diabetes</th>\n",
       "      <th>dyslipidemia</th>\n",
       "      <th>ckd</th>\n",
       "      <th>precvd</th>\n",
       "      <th>elevated_bp</th>\n",
       "      <th>total_diseases</th>\n",
       "    </tr>\n",
       "    <tr>\n",
       "      <th>Unnamed: 0</th>\n",
       "      <th></th>\n",
       "      <th></th>\n",
       "      <th></th>\n",
       "      <th></th>\n",
       "      <th></th>\n",
       "      <th></th>\n",
       "      <th></th>\n",
       "    </tr>\n",
       "  </thead>\n",
       "  <tbody>\n",
       "    <tr>\n",
       "      <th>11666.G1518B</th>\n",
       "      <td>1</td>\n",
       "      <td>1</td>\n",
       "      <td>0</td>\n",
       "      <td>0</td>\n",
       "      <td>0</td>\n",
       "      <td>1</td>\n",
       "      <td>3</td>\n",
       "    </tr>\n",
       "    <tr>\n",
       "      <th>11666.G1501A</th>\n",
       "      <td>0</td>\n",
       "      <td>1</td>\n",
       "      <td>1</td>\n",
       "      <td>1</td>\n",
       "      <td>0</td>\n",
       "      <td>1</td>\n",
       "      <td>4</td>\n",
       "    </tr>\n",
       "    <tr>\n",
       "      <th>11666.G1685A</th>\n",
       "      <td>1</td>\n",
       "      <td>0</td>\n",
       "      <td>0</td>\n",
       "      <td>0</td>\n",
       "      <td>0</td>\n",
       "      <td>0</td>\n",
       "      <td>1</td>\n",
       "    </tr>\n",
       "    <tr>\n",
       "      <th>11666.G1536A</th>\n",
       "      <td>1</td>\n",
       "      <td>1</td>\n",
       "      <td>0</td>\n",
       "      <td>1</td>\n",
       "      <td>1</td>\n",
       "      <td>1</td>\n",
       "      <td>5</td>\n",
       "    </tr>\n",
       "    <tr>\n",
       "      <th>11666.G1519B</th>\n",
       "      <td>0</td>\n",
       "      <td>1</td>\n",
       "      <td>0</td>\n",
       "      <td>0</td>\n",
       "      <td>0</td>\n",
       "      <td>1</td>\n",
       "      <td>2</td>\n",
       "    </tr>\n",
       "  </tbody>\n",
       "</table>\n",
       "</div>"
      ],
      "text/plain": [
       "              obesity  diabetes  dyslipidemia  ckd  precvd  elevated_bp  \\\n",
       "Unnamed: 0                                                                \n",
       "11666.G1518B        1         1             0    0       0            1   \n",
       "11666.G1501A        0         1             1    1       0            1   \n",
       "11666.G1685A        1         0             0    0       0            0   \n",
       "11666.G1536A        1         1             0    1       1            1   \n",
       "11666.G1519B        0         1             0    0       0            1   \n",
       "\n",
       "              total_diseases  \n",
       "Unnamed: 0                    \n",
       "11666.G1518B               3  \n",
       "11666.G1501A               4  \n",
       "11666.G1685A               1  \n",
       "11666.G1536A               5  \n",
       "11666.G1519B               2  "
      ]
     },
     "execution_count": 15,
     "metadata": {},
     "output_type": "execute_result"
    }
   ],
   "source": [
    "eda_df = diseases.copy()\n",
    "eda_df['total_diseases'] = eda_df.sum(axis=1) #how many diseases each sample has\n",
    "eda_df.tail()"
   ]
  },
  {
   "cell_type": "code",
   "execution_count": 16,
   "metadata": {},
   "outputs": [
    {
     "data": {
      "text/plain": [
       "<BarContainer object of 7 artists>"
      ]
     },
     "execution_count": 16,
     "metadata": {},
     "output_type": "execute_result"
    },
    {
     "data": {
      "image/png": "[encoded data removed]",
      "text/plain": [
       "<Figure size 720x360 with 1 Axes>"
      ]
     },
     "metadata": {
      "needs_background": "light"
     },
     "output_type": "display_data"
    }
   ],
   "source": [
    "## DISEASE PER SAMPLE COUNTS\n",
    "\n",
    "multiple_disease_counts = eda_df['total_diseases'].value_counts()\n",
    "\n",
    "fig, ax = plt.subplots(figsize=(10,5))\n",
    "\n",
    "ax.set_title('Disease per Sample Counts')\n",
    "ax.set_ylabel('Number of Samples')\n",
    "ax.set_xlabel('Number of Diseases')\n",
    "ax.bar(multiple_disease_counts.index, multiple_disease_counts.values)\n"
   ]
  },
  {
   "cell_type": "code",
   "execution_count": 17,
   "metadata": {},
   "outputs": [
    {
     "data": {
      "text/plain": [
       "<BarContainer object of 6 artists>"
      ]
     },
     "execution_count": 17,
     "metadata": {},
     "output_type": "execute_result"
    },
    {
     "data": {
      "image/png": "[encoded data removed]",
      "text/plain": [
       "<Figure size 1080x360 with 1 Axes>"
      ]
     },
     "metadata": {
      "needs_background": "light"
     },
     "output_type": "display_data"
    }
   ],
   "source": [
    "## SIZE OF EACH CLASS (DISEASE)\n",
    "\n",
    "disease_counts = eda_df.drop(columns='total_diseases').sum(axis=0)\n",
    "\n",
    "fig, ax = plt.subplots(figsize=(15, 5))\n",
    "\n",
    "ax.set_title('Samples per Disease')\n",
    "ax.set_ylabel('Number of Samples')\n",
    "ax.set_xlabel('Diseases')\n",
    "ax.bar(disease_counts.index, disease_counts.values)"
   ]
  },
  {
   "cell_type": "markdown",
   "metadata": {},
   "source": [
    "## Data Preparation for Machine Learning"
   ]
  },
  {
   "cell_type": "code",
   "execution_count": 18,
   "metadata": {},
   "outputs": [
    {
     "name": "stdout",
     "output_type": "stream",
     "text": [
      "Using device: cuda\n",
      "\n",
      "GeForce RTX 2080 Ti\n",
      "Memory Usage:\n",
      "Allocated: 0.0 GB\n",
      "Cached:    0.0 GB\n"
     ]
    }
   ],
   "source": [
    "## In case we use pytorch\n",
    "\n",
    "# setting device on GPU if available, else CPU\n",
    "device = t.device('cuda' if t.cuda.is_available() else 'cpu')\n",
    "print('Using device:', device)\n",
    "print()\n",
    "\n",
    "#Additional Info when using cuda\n",
    "if device.type == 'cuda':\n",
    "    print(t.cuda.get_device_name(0))\n",
    "    print('Memory Usage:')\n",
    "    print('Allocated:', round(t.cuda.memory_allocated(0)/1024**3,1), 'GB')\n",
    "    print('Cached:   ', round(t.cuda.memory_reserved(0)/1024**3,1), 'GB')"
   ]
  },
  {
   "cell_type": "code",
   "execution_count": null,
   "metadata": {},
   "outputs": [],
   "source": []
  },
  {
   "cell_type": "code",
   "execution_count": 129,
   "metadata": {},
   "outputs": [],
   "source": [
    "microbiome_ft = features\n",
    "diseases = diseases"
   ]
  },
  {
   "cell_type": "code",
   "execution_count": 130,
   "metadata": {},
   "outputs": [],
   "source": [
    "from torch.utils.data import Dataset\n",
    "import torch.nn as nn\n",
    "import torch.nn.functional as F\n",
    "\n",
    "from sklearn.model_selection import StratifiedKFold\n"
   ]
  },
  {
   "cell_type": "code",
   "execution_count": 232,
   "metadata": {},
   "outputs": [],
   "source": [
    "def init_skf():\n",
    "    \"\"\"Function for initializing the StratifiedKFold cross-validator\n",
    "\n",
    "    Args:\n",
    "        n_splits (int): Number of splits to seperate data\n",
    "        shuffle (boolean): Wheter to shuffle data\n",
    "        skf_random_state (int): random_state\n",
    "\n",
    "    Returns:\n",
    "        StratifiedKFold: Initialized StratifiedKFold cross-validator\n",
    "    \"\"\"\n",
    "    n_splits=10\n",
    "    random_state=0\n",
    "    shuffle=True\n",
    "    \n",
    "    skf = StratifiedKFold(n_splits=n_splits,shuffle=shuffle, random_state=random_state)\n",
    "    \n",
    "    return skf\n",
    "\n",
    "def make_dataset():\n",
    "    x = t.tensor(microbiome_ft.values)\n",
    "    y = t.tensor(diseases.values)\n",
    "    \n",
    "    for train_index, test_index in skf.split(x, diseases[['precvd']]):\n",
    "        x_train = x[train_index]\n",
    "        y_train = y[train_index]\n",
    "        # use 100 samples for testing\n",
    "        x_test = x[test_index]\n",
    "        y_test = y[test_index]\n",
    "        \n",
    "        return x_train, y_train, x_test, y_test"
   ]
  },
  {
   "cell_type": "code",
   "execution_count": null,
   "metadata": {},
   "outputs": [],
   "source": []
  },
  {
   "cell_type": "code",
   "execution_count": 233,
   "metadata": {},
   "outputs": [],
   "source": [
    "# `BinaryDataset()` class for multi-head binary classification model\n",
    "class BinaryDataset(Dataset):\n",
    "    def __init__(self, x, y):\n",
    "        \n",
    "        self.x = x\n",
    "        self.y = y\n",
    "        \n",
    "    def __len__(self):\n",
    "        return len(self.x)\n",
    "    \n",
    "    def __getitem__(self, index):\n",
    "        features = self.x[index, :]\n",
    "        labels = self.y[index, :]\n",
    "        \n",
    "        # there are 6 classes and each class can have a binary value ...\n",
    "        # ... either 0 or 1\n",
    "        obesity = torch.tensor(labels[0], dtype=torch.float32)\n",
    "        diabetes = torch.tensor(labels[1], dtype=torch.float32)\n",
    "        dyslipidemia = torch.tensor(labels[2], dtype=torch.float32)\n",
    "        ckd = torch.tensor(labels[3], dtype=torch.float32)\n",
    "        precvd = torch.tensor(labels[4], dtype=torch.float32)\n",
    "        elevated_bp = torch.tensor(labels[5], dtype=torch.float32)\n",
    "        \n",
    "        return {\n",
    "            'features': features,\n",
    "            'obesity': obesity,\n",
    "            'diabetes': diabetes,\n",
    "            'dyslipidemia': dyslipidemia,\n",
    "            'ckd': ckd,\n",
    "            'precvd': precvd,\n",
    "            'elevated_bp': elevated_bp\n",
    "        }"
   ]
  },
  {
   "cell_type": "code",
   "execution_count": 234,
   "metadata": {},
   "outputs": [],
   "source": [
    "class MultiHeadBinaryModel(nn.Module):\n",
    "    def __init__(self):\n",
    "        super(MultiHeadBinaryModel, self).__init__()\n",
    "        self.fc1 = nn.Linear(42, 64) # 42 is the number of features\n",
    "        self.fc2 = nn.Linear(64, 128)\n",
    "        self.fc3 = nn.Linear(128, 256)\n",
    "        \n",
    "        # we will treat each head as a binary classifier ...\n",
    "        # ... so the output features will be 1\n",
    "        self.out1 = nn.Linear(256, 1)\n",
    "        self.out2 = nn.Linear(256, 1)\n",
    "        self.out3 = nn.Linear(256, 1)\n",
    "        self.out4 = nn.Linear(256, 1)\n",
    "        self.out5 = nn.Linear(256, 1)\n",
    "        self.out6 = nn.Linear(256, 1)\n",
    "    \n",
    "    def forward(self, x):\n",
    "        x = x.to(torch.float32)\n",
    "        x = F.relu(self.fc1(x))\n",
    "        x = F.relu(self.fc2(x))\n",
    "        x = F.relu(self.fc3(x))\n",
    "        \n",
    "        # each binary classifier head will have its own output\n",
    "        out1 = F.sigmoid(self.out1(x))\n",
    "        out2 = F.sigmoid(self.out2(x))\n",
    "        out3 = F.sigmoid(self.out3(x))\n",
    "        out4 = F.sigmoid(self.out4(x))\n",
    "        out5 = F.sigmoid(self.out5(x))\n",
    "        out6 = F.sigmoid(self.out6(x))\n",
    "        \n",
    "        return out1, out2, out3, out4, out5, out6"
   ]
  },
  {
   "cell_type": "code",
   "execution_count": 258,
   "metadata": {},
   "outputs": [],
   "source": [
    "def binary_loss_fn(outputs, targets):\n",
    "    o1, o2, o3, o4, o5, o6 = outputs\n",
    "    t1, t2, t3, t4, t5, t6 = targets\n",
    "    \n",
    "    l1 = nn.BCELoss()(t.squeeze(o1), t1)\n",
    "    l2 = nn.BCELoss()(t.squeeze(o2), t2)\n",
    "    l3 = nn.BCELoss()(t.squeeze(o3), t3)\n",
    "    l4 = nn.BCELoss()(t.squeeze(o4), t4)\n",
    "    l5 = nn.BCELoss()(t.squeeze(o5), t5)\n",
    "    l6 = nn.BCELoss()(t.squeeze(o6), t6)\n",
    "    return (l1 + l2 + l3 + l4 + l5 + l6) / 6"
   ]
  },
  {
   "cell_type": "code",
   "execution_count": 259,
   "metadata": {},
   "outputs": [
    {
     "data": {
      "text/plain": [
       "torch.Size([2])"
      ]
     },
     "execution_count": 259,
     "metadata": {},
     "output_type": "execute_result"
    }
   ],
   "source": [
    "a = t.tensor([[1], [2]])\n",
    "a.size()\n",
    "t.squeeze(a).size()"
   ]
  },
  {
   "cell_type": "code",
   "execution_count": 260,
   "metadata": {},
   "outputs": [],
   "source": [
    "from torch.utils.data import DataLoader\n",
    "from tqdm import tqdm\n",
    "import torch.optim as optim\n",
    "import torch.nn as nn\n",
    "import torch\n",
    "import matplotlib.pyplot as plt\n",
    "import matplotlib\n",
    "matplotlib.style.use('ggplot')"
   ]
  },
  {
   "cell_type": "code",
   "execution_count": 261,
   "metadata": {},
   "outputs": [
    {
     "name": "stdout",
     "output_type": "stream",
     "text": [
      "[INFO]: Number of training samples: 1572\n",
      "[INFO]: Number of training features: 42\n"
     ]
    }
   ],
   "source": [
    "x_train, y_train, x_test, y_test = make_dataset()\n",
    "# print some info\n",
    "print(f\"[INFO]: Number of training samples: {x_train.shape[0]}\")\n",
    "print(f\"[INFO]: Number of training features: {x_train.shape[1]}\")\n",
    "# train dataset\n",
    "train_dataset = BinaryDataset(x_train, y_train)\n",
    "# train data loader\n",
    "train_dataloader = DataLoader(train_dataset, shuffle=True, batch_size=32)\n",
    "# initialize the model\n",
    "model = MultiHeadBinaryModel()"
   ]
  },
  {
   "cell_type": "code",
   "execution_count": 262,
   "metadata": {},
   "outputs": [],
   "source": [
    "# training function\n",
    "def train(model, dataloader, optimizer, loss_fn, train_dataset, device):\n",
    "    model.train()\n",
    "    counter = 0\n",
    "    train_running_loss = 0.0\n",
    "    for i, data in tqdm(enumerate(dataloader), total=int(len(train_dataset)/dataloader.batch_size)):\n",
    "        counter += 1\n",
    "        \n",
    "        # extract the features and labels\n",
    "        features = data['features'].to(device)\n",
    "        target1 = data['obesity'].to(device)\n",
    "        target2 = data['diabetes'].to(device)\n",
    "        target3 = data['dyslipidemia'].to(device)\n",
    "        target4 = data['ckd'].to(device)\n",
    "        target5 = data['precvd'].to(device)\n",
    "        target6 = data['elevated_bp'].to(device)\n",
    "\n",
    "        # zero-out the optimizer gradients\n",
    "        optimizer.zero_grad()\n",
    "        \n",
    "        outputs = model(features)\n",
    "        targets = (target1, target2, target3, target4, target5, target6)\n",
    "        loss = binary_loss_fn(outputs, targets)\n",
    "        train_running_loss += loss.item()\n",
    "        \n",
    "        # backpropagation\n",
    "        loss.backward()\n",
    "        # update optimizer parameters\n",
    "        optimizer.step()\n",
    "        \n",
    "    train_loss = train_running_loss / counter\n",
    "    return train_loss"
   ]
  },
  {
   "cell_type": "code",
   "execution_count": 271,
   "metadata": {},
   "outputs": [
    {
     "data": {
      "text/plain": [
       "MultiHeadBinaryModel(\n",
       "  (fc1): Linear(in_features=42, out_features=64, bias=True)\n",
       "  (fc2): Linear(in_features=64, out_features=128, bias=True)\n",
       "  (fc3): Linear(in_features=128, out_features=256, bias=True)\n",
       "  (out1): Linear(in_features=256, out_features=1, bias=True)\n",
       "  (out2): Linear(in_features=256, out_features=1, bias=True)\n",
       "  (out3): Linear(in_features=256, out_features=1, bias=True)\n",
       "  (out4): Linear(in_features=256, out_features=1, bias=True)\n",
       "  (out5): Linear(in_features=256, out_features=1, bias=True)\n",
       "  (out6): Linear(in_features=256, out_features=1, bias=True)\n",
       ")"
      ]
     },
     "execution_count": 271,
     "metadata": {},
     "output_type": "execute_result"
    }
   ],
   "source": [
    "# learning parameters\n",
    "optimizer = optim.Adam(params=model.parameters(), lr=0.001)\n",
    "device = torch.device('cuda' if torch.cuda.is_available() else 'cpu')\n",
    "epochs = 100\n",
    "# load the model on to the computation device\n",
    "model.to(device)"
   ]
  },
  {
   "cell_type": "code",
   "execution_count": 272,
   "metadata": {
    "scrolled": true
   },
   "outputs": [
    {
     "name": "stdout",
     "output_type": "stream",
     "text": [
      "Epoch 1 of 100\n"
     ]
    },
    {
     "name": "stderr",
     "output_type": "stream",
     "text": [
      "  0%|          | 0/49 [00:00<?, ?it/s]/tmp/ipykernel_664/2247139169.py:17: UserWarning: To copy construct from a tensor, it is recommended to use sourceTensor.clone().detach() or sourceTensor.clone().detach().requires_grad_(True), rather than torch.tensor(sourceTensor).\n",
      "  obesity = torch.tensor(labels[0], dtype=torch.float32)\n",
      "/tmp/ipykernel_664/2247139169.py:18: UserWarning: To copy construct from a tensor, it is recommended to use sourceTensor.clone().detach() or sourceTensor.clone().detach().requires_grad_(True), rather than torch.tensor(sourceTensor).\n",
      "  diabetes = torch.tensor(labels[1], dtype=torch.float32)\n",
      "/tmp/ipykernel_664/2247139169.py:19: UserWarning: To copy construct from a tensor, it is recommended to use sourceTensor.clone().detach() or sourceTensor.clone().detach().requires_grad_(True), rather than torch.tensor(sourceTensor).\n",
      "  dyslipidemia = torch.tensor(labels[2], dtype=torch.float32)\n",
      "/tmp/ipykernel_664/2247139169.py:20: UserWarning: To copy construct from a tensor, it is recommended to use sourceTensor.clone().detach() or sourceTensor.clone().detach().requires_grad_(True), rather than torch.tensor(sourceTensor).\n",
      "  ckd = torch.tensor(labels[3], dtype=torch.float32)\n",
      "/tmp/ipykernel_664/2247139169.py:21: UserWarning: To copy construct from a tensor, it is recommended to use sourceTensor.clone().detach() or sourceTensor.clone().detach().requires_grad_(True), rather than torch.tensor(sourceTensor).\n",
      "  precvd = torch.tensor(labels[4], dtype=torch.float32)\n",
      "/tmp/ipykernel_664/2247139169.py:22: UserWarning: To copy construct from a tensor, it is recommended to use sourceTensor.clone().detach() or sourceTensor.clone().detach().requires_grad_(True), rather than torch.tensor(sourceTensor).\n",
      "  elevated_bp = torch.tensor(labels[5], dtype=torch.float32)\n",
      "50it [00:00, 99.19it/s]                         \n"
     ]
    },
    {
     "name": "stdout",
     "output_type": "stream",
     "text": [
      "Train Loss: 34.2819\n",
      "Epoch 2 of 100\n"
     ]
    },
    {
     "name": "stderr",
     "output_type": "stream",
     "text": [
      "50it [00:00, 108.24it/s]                        \n"
     ]
    },
    {
     "name": "stdout",
     "output_type": "stream",
     "text": [
      "Train Loss: 34.5007\n",
      "Epoch 3 of 100\n"
     ]
    },
    {
     "name": "stderr",
     "output_type": "stream",
     "text": [
      "50it [00:00, 110.86it/s]                        \n"
     ]
    },
    {
     "name": "stdout",
     "output_type": "stream",
     "text": [
      "Train Loss: 34.2819\n",
      "Epoch 4 of 100\n"
     ]
    },
    {
     "name": "stderr",
     "output_type": "stream",
     "text": [
      "50it [00:00, 114.37it/s]                        \n"
     ]
    },
    {
     "name": "stdout",
     "output_type": "stream",
     "text": [
      "Train Loss: 34.2090\n",
      "Epoch 5 of 100\n"
     ]
    },
    {
     "name": "stderr",
     "output_type": "stream",
     "text": [
      "50it [00:00, 97.84it/s]                         \n"
     ]
    },
    {
     "name": "stdout",
     "output_type": "stream",
     "text": [
      "Train Loss: 34.2819\n",
      "Epoch 6 of 100\n"
     ]
    },
    {
     "name": "stderr",
     "output_type": "stream",
     "text": [
      "50it [00:00, 105.90it/s]                        \n"
     ]
    },
    {
     "name": "stdout",
     "output_type": "stream",
     "text": [
      "Train Loss: 34.2819\n",
      "Epoch 7 of 100\n"
     ]
    },
    {
     "name": "stderr",
     "output_type": "stream",
     "text": [
      "50it [00:00, 102.24it/s]                        \n"
     ]
    },
    {
     "name": "stdout",
     "output_type": "stream",
     "text": [
      "Train Loss: 34.3548\n",
      "Epoch 8 of 100\n"
     ]
    },
    {
     "name": "stderr",
     "output_type": "stream",
     "text": [
      "50it [00:00, 105.56it/s]                        \n"
     ]
    },
    {
     "name": "stdout",
     "output_type": "stream",
     "text": [
      "Train Loss: 34.1361\n",
      "Epoch 9 of 100\n"
     ]
    },
    {
     "name": "stderr",
     "output_type": "stream",
     "text": [
      "50it [00:00, 101.69it/s]                        \n"
     ]
    },
    {
     "name": "stdout",
     "output_type": "stream",
     "text": [
      "Train Loss: 34.2819\n",
      "Epoch 10 of 100\n"
     ]
    },
    {
     "name": "stderr",
     "output_type": "stream",
     "text": [
      "50it [00:00, 99.21it/s]                        \n"
     ]
    },
    {
     "name": "stdout",
     "output_type": "stream",
     "text": [
      "Train Loss: 34.5006\n",
      "Epoch 11 of 100\n"
     ]
    },
    {
     "name": "stderr",
     "output_type": "stream",
     "text": [
      "50it [00:00, 94.84it/s]                        \n"
     ]
    },
    {
     "name": "stdout",
     "output_type": "stream",
     "text": [
      "Train Loss: 34.4277\n",
      "Epoch 12 of 100\n"
     ]
    },
    {
     "name": "stderr",
     "output_type": "stream",
     "text": [
      "50it [00:00, 95.07it/s]                         \n"
     ]
    },
    {
     "name": "stdout",
     "output_type": "stream",
     "text": [
      "Train Loss: 34.2090\n",
      "Epoch 13 of 100\n"
     ]
    },
    {
     "name": "stderr",
     "output_type": "stream",
     "text": [
      "50it [00:00, 109.08it/s]                        \n"
     ]
    },
    {
     "name": "stdout",
     "output_type": "stream",
     "text": [
      "Train Loss: 34.1360\n",
      "Epoch 14 of 100\n"
     ]
    },
    {
     "name": "stderr",
     "output_type": "stream",
     "text": [
      "50it [00:00, 110.28it/s]                        \n"
     ]
    },
    {
     "name": "stdout",
     "output_type": "stream",
     "text": [
      "Train Loss: 34.3548\n",
      "Epoch 15 of 100\n"
     ]
    },
    {
     "name": "stderr",
     "output_type": "stream",
     "text": [
      "50it [00:00, 115.39it/s]                        \n"
     ]
    },
    {
     "name": "stdout",
     "output_type": "stream",
     "text": [
      "Train Loss: 34.2819\n",
      "Epoch 16 of 100\n"
     ]
    },
    {
     "name": "stderr",
     "output_type": "stream",
     "text": [
      "50it [00:00, 106.90it/s]                        \n"
     ]
    },
    {
     "name": "stdout",
     "output_type": "stream",
     "text": [
      "Train Loss: 34.2819\n",
      "Epoch 17 of 100\n"
     ]
    },
    {
     "name": "stderr",
     "output_type": "stream",
     "text": [
      "50it [00:00, 114.80it/s]                        \n"
     ]
    },
    {
     "name": "stdout",
     "output_type": "stream",
     "text": [
      "Train Loss: 34.4277\n",
      "Epoch 18 of 100\n"
     ]
    },
    {
     "name": "stderr",
     "output_type": "stream",
     "text": [
      "50it [00:00, 104.92it/s]                        \n"
     ]
    },
    {
     "name": "stdout",
     "output_type": "stream",
     "text": [
      "Train Loss: 34.1360\n",
      "Epoch 19 of 100\n"
     ]
    },
    {
     "name": "stderr",
     "output_type": "stream",
     "text": [
      "50it [00:00, 104.67it/s]                        \n"
     ]
    },
    {
     "name": "stdout",
     "output_type": "stream",
     "text": [
      "Train Loss: 34.2090\n",
      "Epoch 20 of 100\n"
     ]
    },
    {
     "name": "stderr",
     "output_type": "stream",
     "text": [
      "50it [00:00, 108.76it/s]                        \n"
     ]
    },
    {
     "name": "stdout",
     "output_type": "stream",
     "text": [
      "Train Loss: 34.2090\n",
      "Epoch 21 of 100\n"
     ]
    },
    {
     "name": "stderr",
     "output_type": "stream",
     "text": [
      "50it [00:00, 91.19it/s]                         \n"
     ]
    },
    {
     "name": "stdout",
     "output_type": "stream",
     "text": [
      "Train Loss: 34.3548\n",
      "Epoch 22 of 100\n"
     ]
    },
    {
     "name": "stderr",
     "output_type": "stream",
     "text": [
      "50it [00:00, 110.40it/s]                        \n"
     ]
    },
    {
     "name": "stdout",
     "output_type": "stream",
     "text": [
      "Train Loss: 34.5006\n",
      "Epoch 23 of 100\n"
     ]
    },
    {
     "name": "stderr",
     "output_type": "stream",
     "text": [
      "50it [00:00, 105.82it/s]                        \n"
     ]
    },
    {
     "name": "stdout",
     "output_type": "stream",
     "text": [
      "Train Loss: 34.5006\n",
      "Epoch 24 of 100\n"
     ]
    },
    {
     "name": "stderr",
     "output_type": "stream",
     "text": [
      "50it [00:00, 93.55it/s]                         \n"
     ]
    },
    {
     "name": "stdout",
     "output_type": "stream",
     "text": [
      "Train Loss: 34.4277\n",
      "Epoch 25 of 100\n"
     ]
    },
    {
     "name": "stderr",
     "output_type": "stream",
     "text": [
      "50it [00:00, 96.39it/s]                        \n"
     ]
    },
    {
     "name": "stdout",
     "output_type": "stream",
     "text": [
      "Train Loss: 34.2090\n",
      "Epoch 26 of 100\n"
     ]
    },
    {
     "name": "stderr",
     "output_type": "stream",
     "text": [
      "50it [00:00, 98.86it/s]                         \n"
     ]
    },
    {
     "name": "stdout",
     "output_type": "stream",
     "text": [
      "Train Loss: 34.2819\n",
      "Epoch 27 of 100\n"
     ]
    },
    {
     "name": "stderr",
     "output_type": "stream",
     "text": [
      "50it [00:00, 106.22it/s]                        \n"
     ]
    },
    {
     "name": "stdout",
     "output_type": "stream",
     "text": [
      "Train Loss: 34.2089\n",
      "Epoch 28 of 100\n"
     ]
    },
    {
     "name": "stderr",
     "output_type": "stream",
     "text": [
      "50it [00:00, 104.40it/s]                        \n"
     ]
    },
    {
     "name": "stdout",
     "output_type": "stream",
     "text": [
      "Train Loss: 33.9902\n",
      "Epoch 29 of 100\n"
     ]
    },
    {
     "name": "stderr",
     "output_type": "stream",
     "text": [
      "50it [00:00, 106.56it/s]                        \n"
     ]
    },
    {
     "name": "stdout",
     "output_type": "stream",
     "text": [
      "Train Loss: 34.3548\n",
      "Epoch 30 of 100\n"
     ]
    },
    {
     "name": "stderr",
     "output_type": "stream",
     "text": [
      "50it [00:00, 111.94it/s]                        \n"
     ]
    },
    {
     "name": "stdout",
     "output_type": "stream",
     "text": [
      "Train Loss: 34.3548\n",
      "Epoch 31 of 100\n"
     ]
    },
    {
     "name": "stderr",
     "output_type": "stream",
     "text": [
      "50it [00:00, 100.91it/s]                        \n"
     ]
    },
    {
     "name": "stdout",
     "output_type": "stream",
     "text": [
      "Train Loss: 34.4277\n",
      "Epoch 32 of 100\n"
     ]
    },
    {
     "name": "stderr",
     "output_type": "stream",
     "text": [
      "50it [00:00, 108.93it/s]                        \n"
     ]
    },
    {
     "name": "stdout",
     "output_type": "stream",
     "text": [
      "Train Loss: 34.2089\n",
      "Epoch 33 of 100\n"
     ]
    },
    {
     "name": "stderr",
     "output_type": "stream",
     "text": [
      "50it [00:00, 103.54it/s]                        \n"
     ]
    },
    {
     "name": "stdout",
     "output_type": "stream",
     "text": [
      "Train Loss: 34.4277\n",
      "Epoch 34 of 100\n"
     ]
    },
    {
     "name": "stderr",
     "output_type": "stream",
     "text": [
      "50it [00:00, 97.56it/s]                         \n"
     ]
    },
    {
     "name": "stdout",
     "output_type": "stream",
     "text": [
      "Train Loss: 34.2089\n",
      "Epoch 35 of 100\n"
     ]
    },
    {
     "name": "stderr",
     "output_type": "stream",
     "text": [
      "50it [00:00, 101.33it/s]                        \n"
     ]
    },
    {
     "name": "stdout",
     "output_type": "stream",
     "text": [
      "Train Loss: 34.3548\n",
      "Epoch 36 of 100\n"
     ]
    },
    {
     "name": "stderr",
     "output_type": "stream",
     "text": [
      "50it [00:00, 109.07it/s]                        \n"
     ]
    },
    {
     "name": "stdout",
     "output_type": "stream",
     "text": [
      "Train Loss: 34.2089\n",
      "Epoch 37 of 100\n"
     ]
    },
    {
     "name": "stderr",
     "output_type": "stream",
     "text": [
      "50it [00:00, 109.53it/s]                        \n"
     ]
    },
    {
     "name": "stdout",
     "output_type": "stream",
     "text": [
      "Train Loss: 34.2818\n",
      "Epoch 38 of 100\n"
     ]
    },
    {
     "name": "stderr",
     "output_type": "stream",
     "text": [
      "50it [00:00, 104.53it/s]                        \n"
     ]
    },
    {
     "name": "stdout",
     "output_type": "stream",
     "text": [
      "Train Loss: 34.3548\n",
      "Epoch 39 of 100\n"
     ]
    },
    {
     "name": "stderr",
     "output_type": "stream",
     "text": [
      "50it [00:00, 102.98it/s]                        \n"
     ]
    },
    {
     "name": "stdout",
     "output_type": "stream",
     "text": [
      "Train Loss: 34.3548\n",
      "Epoch 40 of 100\n"
     ]
    },
    {
     "name": "stderr",
     "output_type": "stream",
     "text": [
      "50it [00:00, 99.98it/s]                         \n"
     ]
    },
    {
     "name": "stdout",
     "output_type": "stream",
     "text": [
      "Train Loss: 34.1360\n",
      "Epoch 41 of 100\n"
     ]
    },
    {
     "name": "stderr",
     "output_type": "stream",
     "text": [
      "50it [00:00, 109.90it/s]                        \n"
     ]
    },
    {
     "name": "stdout",
     "output_type": "stream",
     "text": [
      "Train Loss: 34.5839\n",
      "Epoch 42 of 100\n"
     ]
    },
    {
     "name": "stderr",
     "output_type": "stream",
     "text": [
      "50it [00:00, 108.10it/s]                        \n"
     ]
    },
    {
     "name": "stdout",
     "output_type": "stream",
     "text": [
      "Train Loss: 34.4381\n",
      "Epoch 43 of 100\n"
     ]
    },
    {
     "name": "stderr",
     "output_type": "stream",
     "text": [
      "50it [00:00, 105.84it/s]                        \n"
     ]
    },
    {
     "name": "stdout",
     "output_type": "stream",
     "text": [
      "Train Loss: 34.2194\n",
      "Epoch 44 of 100\n"
     ]
    },
    {
     "name": "stderr",
     "output_type": "stream",
     "text": [
      "50it [00:00, 106.11it/s]                        \n"
     ]
    },
    {
     "name": "stdout",
     "output_type": "stream",
     "text": [
      "Train Loss: 34.2923\n",
      "Epoch 45 of 100\n"
     ]
    },
    {
     "name": "stderr",
     "output_type": "stream",
     "text": [
      "50it [00:00, 107.84it/s]                        \n"
     ]
    },
    {
     "name": "stdout",
     "output_type": "stream",
     "text": [
      "Train Loss: 34.3652\n",
      "Epoch 46 of 100\n"
     ]
    },
    {
     "name": "stderr",
     "output_type": "stream",
     "text": [
      "50it [00:00, 112.55it/s]                        \n"
     ]
    },
    {
     "name": "stdout",
     "output_type": "stream",
     "text": [
      "Train Loss: 33.9277\n",
      "Epoch 47 of 100\n"
     ]
    },
    {
     "name": "stderr",
     "output_type": "stream",
     "text": [
      "50it [00:00, 113.15it/s]                        \n"
     ]
    },
    {
     "name": "stdout",
     "output_type": "stream",
     "text": [
      "Train Loss: 34.1464\n",
      "Epoch 48 of 100\n"
     ]
    },
    {
     "name": "stderr",
     "output_type": "stream",
     "text": [
      "50it [00:00, 90.05it/s]                         \n"
     ]
    },
    {
     "name": "stdout",
     "output_type": "stream",
     "text": [
      "Train Loss: 34.2923\n",
      "Epoch 49 of 100\n"
     ]
    },
    {
     "name": "stderr",
     "output_type": "stream",
     "text": [
      "50it [00:00, 106.88it/s]                        \n"
     ]
    },
    {
     "name": "stdout",
     "output_type": "stream",
     "text": [
      "Train Loss: 34.2923\n",
      "Epoch 50 of 100\n"
     ]
    },
    {
     "name": "stderr",
     "output_type": "stream",
     "text": [
      "50it [00:00, 112.76it/s]                        \n"
     ]
    },
    {
     "name": "stdout",
     "output_type": "stream",
     "text": [
      "Train Loss: 34.2923\n",
      "Epoch 51 of 100\n"
     ]
    },
    {
     "name": "stderr",
     "output_type": "stream",
     "text": [
      "50it [00:00, 102.28it/s]                        \n"
     ]
    },
    {
     "name": "stdout",
     "output_type": "stream",
     "text": [
      "Train Loss: 34.4381\n",
      "Epoch 52 of 100\n"
     ]
    },
    {
     "name": "stderr",
     "output_type": "stream",
     "text": [
      "50it [00:00, 105.45it/s]                        \n"
     ]
    },
    {
     "name": "stdout",
     "output_type": "stream",
     "text": [
      "Train Loss: 34.2194\n",
      "Epoch 53 of 100\n"
     ]
    },
    {
     "name": "stderr",
     "output_type": "stream",
     "text": [
      "50it [00:00, 112.31it/s]                        \n"
     ]
    },
    {
     "name": "stdout",
     "output_type": "stream",
     "text": [
      "Train Loss: 34.1464\n",
      "Epoch 54 of 100\n"
     ]
    },
    {
     "name": "stderr",
     "output_type": "stream",
     "text": [
      "50it [00:00, 105.36it/s]                        \n"
     ]
    },
    {
     "name": "stdout",
     "output_type": "stream",
     "text": [
      "Train Loss: 34.2923\n",
      "Epoch 55 of 100\n"
     ]
    },
    {
     "name": "stderr",
     "output_type": "stream",
     "text": [
      "50it [00:00, 107.03it/s]                        \n"
     ]
    },
    {
     "name": "stdout",
     "output_type": "stream",
     "text": [
      "Train Loss: 34.4381\n",
      "Epoch 56 of 100\n"
     ]
    },
    {
     "name": "stderr",
     "output_type": "stream",
     "text": [
      "50it [00:00, 107.71it/s]                        \n"
     ]
    },
    {
     "name": "stdout",
     "output_type": "stream",
     "text": [
      "Train Loss: 34.5110\n",
      "Epoch 57 of 100\n"
     ]
    },
    {
     "name": "stderr",
     "output_type": "stream",
     "text": [
      "50it [00:00, 105.37it/s]                        \n"
     ]
    },
    {
     "name": "stdout",
     "output_type": "stream",
     "text": [
      "Train Loss: 34.4381\n",
      "Epoch 58 of 100\n"
     ]
    },
    {
     "name": "stderr",
     "output_type": "stream",
     "text": [
      "50it [00:00, 105.38it/s]                        \n"
     ]
    },
    {
     "name": "stdout",
     "output_type": "stream",
     "text": [
      "Train Loss: 34.2194\n",
      "Epoch 59 of 100\n"
     ]
    },
    {
     "name": "stderr",
     "output_type": "stream",
     "text": [
      "50it [00:00, 109.94it/s]                        \n"
     ]
    },
    {
     "name": "stdout",
     "output_type": "stream",
     "text": [
      "Train Loss: 34.4381\n",
      "Epoch 60 of 100\n"
     ]
    },
    {
     "name": "stderr",
     "output_type": "stream",
     "text": [
      "50it [00:00, 94.54it/s]                         \n"
     ]
    },
    {
     "name": "stdout",
     "output_type": "stream",
     "text": [
      "Train Loss: 34.2923\n",
      "Epoch 61 of 100\n"
     ]
    },
    {
     "name": "stderr",
     "output_type": "stream",
     "text": [
      "50it [00:00, 101.77it/s]                        \n"
     ]
    },
    {
     "name": "stdout",
     "output_type": "stream",
     "text": [
      "Train Loss: 34.0006\n",
      "Epoch 62 of 100\n"
     ]
    },
    {
     "name": "stderr",
     "output_type": "stream",
     "text": [
      "50it [00:00, 111.08it/s]                        \n"
     ]
    },
    {
     "name": "stdout",
     "output_type": "stream",
     "text": [
      "Train Loss: 34.5839\n",
      "Epoch 63 of 100\n"
     ]
    },
    {
     "name": "stderr",
     "output_type": "stream",
     "text": [
      "50it [00:00, 106.97it/s]                        \n"
     ]
    },
    {
     "name": "stdout",
     "output_type": "stream",
     "text": [
      "Train Loss: 33.8548\n",
      "Epoch 64 of 100\n"
     ]
    },
    {
     "name": "stderr",
     "output_type": "stream",
     "text": [
      "50it [00:00, 99.36it/s]                         \n"
     ]
    },
    {
     "name": "stdout",
     "output_type": "stream",
     "text": [
      "Train Loss: 34.2193\n",
      "Epoch 65 of 100\n"
     ]
    },
    {
     "name": "stderr",
     "output_type": "stream",
     "text": [
      "50it [00:00, 106.88it/s]                        \n"
     ]
    },
    {
     "name": "stdout",
     "output_type": "stream",
     "text": [
      "Train Loss: 34.4381\n",
      "Epoch 66 of 100\n"
     ]
    },
    {
     "name": "stderr",
     "output_type": "stream",
     "text": [
      "50it [00:00, 100.20it/s]                        \n"
     ]
    },
    {
     "name": "stdout",
     "output_type": "stream",
     "text": [
      "Train Loss: 34.2923\n",
      "Epoch 67 of 100\n"
     ]
    },
    {
     "name": "stderr",
     "output_type": "stream",
     "text": [
      "50it [00:00, 111.79it/s]                        \n"
     ]
    },
    {
     "name": "stdout",
     "output_type": "stream",
     "text": [
      "Train Loss: 34.2923\n",
      "Epoch 68 of 100\n"
     ]
    },
    {
     "name": "stderr",
     "output_type": "stream",
     "text": [
      "50it [00:00, 112.72it/s]                        \n"
     ]
    },
    {
     "name": "stdout",
     "output_type": "stream",
     "text": [
      "Train Loss: 34.3652\n",
      "Epoch 69 of 100\n"
     ]
    },
    {
     "name": "stderr",
     "output_type": "stream",
     "text": [
      "50it [00:00, 113.24it/s]                        \n"
     ]
    },
    {
     "name": "stdout",
     "output_type": "stream",
     "text": [
      "Train Loss: 34.2194\n",
      "Epoch 70 of 100\n"
     ]
    },
    {
     "name": "stderr",
     "output_type": "stream",
     "text": [
      "50it [00:00, 92.41it/s]                        \n"
     ]
    },
    {
     "name": "stdout",
     "output_type": "stream",
     "text": [
      "Train Loss: 34.5839\n",
      "Epoch 71 of 100\n"
     ]
    },
    {
     "name": "stderr",
     "output_type": "stream",
     "text": [
      "50it [00:00, 109.02it/s]                        \n"
     ]
    },
    {
     "name": "stdout",
     "output_type": "stream",
     "text": [
      "Train Loss: 34.1464\n",
      "Epoch 72 of 100\n"
     ]
    },
    {
     "name": "stderr",
     "output_type": "stream",
     "text": [
      "50it [00:00, 113.12it/s]                        \n"
     ]
    },
    {
     "name": "stdout",
     "output_type": "stream",
     "text": [
      "Train Loss: 34.4381\n",
      "Epoch 73 of 100\n"
     ]
    },
    {
     "name": "stderr",
     "output_type": "stream",
     "text": [
      "50it [00:00, 104.07it/s]                        \n"
     ]
    },
    {
     "name": "stdout",
     "output_type": "stream",
     "text": [
      "Train Loss: 34.5110\n",
      "Epoch 74 of 100\n"
     ]
    },
    {
     "name": "stderr",
     "output_type": "stream",
     "text": [
      "50it [00:00, 96.67it/s]                         \n"
     ]
    },
    {
     "name": "stdout",
     "output_type": "stream",
     "text": [
      "Train Loss: 34.4381\n",
      "Epoch 75 of 100\n"
     ]
    },
    {
     "name": "stderr",
     "output_type": "stream",
     "text": [
      "50it [00:00, 109.15it/s]                        \n"
     ]
    },
    {
     "name": "stdout",
     "output_type": "stream",
     "text": [
      "Train Loss: 34.0735\n",
      "Epoch 76 of 100\n"
     ]
    },
    {
     "name": "stderr",
     "output_type": "stream",
     "text": [
      "50it [00:00, 101.56it/s]                        \n"
     ]
    },
    {
     "name": "stdout",
     "output_type": "stream",
     "text": [
      "Train Loss: 34.4381\n",
      "Epoch 77 of 100\n"
     ]
    },
    {
     "name": "stderr",
     "output_type": "stream",
     "text": [
      "50it [00:00, 104.22it/s]                        \n"
     ]
    },
    {
     "name": "stdout",
     "output_type": "stream",
     "text": [
      "Train Loss: 34.1464\n",
      "Epoch 78 of 100\n"
     ]
    },
    {
     "name": "stderr",
     "output_type": "stream",
     "text": [
      "50it [00:00, 102.86it/s]                        \n"
     ]
    },
    {
     "name": "stdout",
     "output_type": "stream",
     "text": [
      "Train Loss: 34.3652\n",
      "Epoch 79 of 100\n"
     ]
    },
    {
     "name": "stderr",
     "output_type": "stream",
     "text": [
      "50it [00:00, 99.01it/s]                        \n"
     ]
    },
    {
     "name": "stdout",
     "output_type": "stream",
     "text": [
      "Train Loss: 34.2923\n",
      "Epoch 80 of 100\n"
     ]
    },
    {
     "name": "stderr",
     "output_type": "stream",
     "text": [
      "50it [00:00, 99.12it/s]                         \n"
     ]
    },
    {
     "name": "stdout",
     "output_type": "stream",
     "text": [
      "Train Loss: 34.1464\n",
      "Epoch 81 of 100\n"
     ]
    },
    {
     "name": "stderr",
     "output_type": "stream",
     "text": [
      "50it [00:00, 98.49it/s]                         \n"
     ]
    },
    {
     "name": "stdout",
     "output_type": "stream",
     "text": [
      "Train Loss: 34.0735\n",
      "Epoch 82 of 100\n"
     ]
    },
    {
     "name": "stderr",
     "output_type": "stream",
     "text": [
      "50it [00:00, 106.02it/s]                        \n"
     ]
    },
    {
     "name": "stdout",
     "output_type": "stream",
     "text": [
      "Train Loss: 34.2923\n",
      "Epoch 83 of 100\n"
     ]
    },
    {
     "name": "stderr",
     "output_type": "stream",
     "text": [
      "50it [00:00, 109.78it/s]                        \n"
     ]
    },
    {
     "name": "stdout",
     "output_type": "stream",
     "text": [
      "Train Loss: 34.0735\n",
      "Epoch 84 of 100\n"
     ]
    },
    {
     "name": "stderr",
     "output_type": "stream",
     "text": [
      "50it [00:00, 107.50it/s]                        \n"
     ]
    },
    {
     "name": "stdout",
     "output_type": "stream",
     "text": [
      "Train Loss: 34.1464\n",
      "Epoch 85 of 100\n"
     ]
    },
    {
     "name": "stderr",
     "output_type": "stream",
     "text": [
      "50it [00:00, 100.97it/s]                        \n"
     ]
    },
    {
     "name": "stdout",
     "output_type": "stream",
     "text": [
      "Train Loss: 34.3652\n",
      "Epoch 86 of 100\n"
     ]
    },
    {
     "name": "stderr",
     "output_type": "stream",
     "text": [
      "50it [00:00, 101.44it/s]                        \n"
     ]
    },
    {
     "name": "stdout",
     "output_type": "stream",
     "text": [
      "Train Loss: 34.5110\n",
      "Epoch 87 of 100\n"
     ]
    },
    {
     "name": "stderr",
     "output_type": "stream",
     "text": [
      "50it [00:00, 104.65it/s]                        \n"
     ]
    },
    {
     "name": "stdout",
     "output_type": "stream",
     "text": [
      "Train Loss: 34.4381\n",
      "Epoch 88 of 100\n"
     ]
    },
    {
     "name": "stderr",
     "output_type": "stream",
     "text": [
      "50it [00:00, 107.01it/s]                        \n"
     ]
    },
    {
     "name": "stdout",
     "output_type": "stream",
     "text": [
      "Train Loss: 34.1464\n",
      "Epoch 89 of 100\n"
     ]
    },
    {
     "name": "stderr",
     "output_type": "stream",
     "text": [
      "50it [00:00, 103.98it/s]                        \n"
     ]
    },
    {
     "name": "stdout",
     "output_type": "stream",
     "text": [
      "Train Loss: 34.3652\n",
      "Epoch 90 of 100\n"
     ]
    },
    {
     "name": "stderr",
     "output_type": "stream",
     "text": [
      "50it [00:00, 104.89it/s]                        \n"
     ]
    },
    {
     "name": "stdout",
     "output_type": "stream",
     "text": [
      "Train Loss: 34.1464\n",
      "Epoch 91 of 100\n"
     ]
    },
    {
     "name": "stderr",
     "output_type": "stream",
     "text": [
      "50it [00:00, 104.71it/s]                        \n"
     ]
    },
    {
     "name": "stdout",
     "output_type": "stream",
     "text": [
      "Train Loss: 34.5839\n",
      "Epoch 92 of 100\n"
     ]
    },
    {
     "name": "stderr",
     "output_type": "stream",
     "text": [
      "50it [00:00, 114.22it/s]                        \n"
     ]
    },
    {
     "name": "stdout",
     "output_type": "stream",
     "text": [
      "Train Loss: 34.0735\n",
      "Epoch 93 of 100\n"
     ]
    },
    {
     "name": "stderr",
     "output_type": "stream",
     "text": [
      "50it [00:00, 107.97it/s]                        \n"
     ]
    },
    {
     "name": "stdout",
     "output_type": "stream",
     "text": [
      "Train Loss: 34.5839\n",
      "Epoch 94 of 100\n"
     ]
    },
    {
     "name": "stderr",
     "output_type": "stream",
     "text": [
      "50it [00:00, 110.16it/s]                        \n"
     ]
    },
    {
     "name": "stdout",
     "output_type": "stream",
     "text": [
      "Train Loss: 34.0006\n",
      "Epoch 95 of 100\n"
     ]
    },
    {
     "name": "stderr",
     "output_type": "stream",
     "text": [
      "50it [00:00, 116.03it/s]                        \n"
     ]
    },
    {
     "name": "stdout",
     "output_type": "stream",
     "text": [
      "Train Loss: 34.0735\n",
      "Epoch 96 of 100\n"
     ]
    },
    {
     "name": "stderr",
     "output_type": "stream",
     "text": [
      "50it [00:00, 107.47it/s]                        \n"
     ]
    },
    {
     "name": "stdout",
     "output_type": "stream",
     "text": [
      "Train Loss: 34.0006\n",
      "Epoch 97 of 100\n"
     ]
    },
    {
     "name": "stderr",
     "output_type": "stream",
     "text": [
      "50it [00:00, 109.01it/s]                        \n"
     ]
    },
    {
     "name": "stdout",
     "output_type": "stream",
     "text": [
      "Train Loss: 34.2923\n",
      "Epoch 98 of 100\n"
     ]
    },
    {
     "name": "stderr",
     "output_type": "stream",
     "text": [
      "50it [00:00, 106.94it/s]                        \n"
     ]
    },
    {
     "name": "stdout",
     "output_type": "stream",
     "text": [
      "Train Loss: 34.3652\n",
      "Epoch 99 of 100\n"
     ]
    },
    {
     "name": "stderr",
     "output_type": "stream",
     "text": [
      "50it [00:00, 97.26it/s]                        \n"
     ]
    },
    {
     "name": "stdout",
     "output_type": "stream",
     "text": [
      "Train Loss: 34.0006\n",
      "Epoch 100 of 100\n"
     ]
    },
    {
     "name": "stderr",
     "output_type": "stream",
     "text": [
      "50it [00:00, 111.41it/s]                        "
     ]
    },
    {
     "name": "stdout",
     "output_type": "stream",
     "text": [
      "Train Loss: 34.4381\n"
     ]
    },
    {
     "name": "stderr",
     "output_type": "stream",
     "text": [
      "\n"
     ]
    }
   ],
   "source": [
    "# start the training\n",
    "train_loss = []\n",
    "for epoch in range(epochs):\n",
    "    print(f\"Epoch {epoch+1} of {epochs}\")\n",
    "    train_epoch_loss = train(\n",
    "        model, train_dataloader, optimizer, binary_loss_fn, train_dataset, device\n",
    "    )\n",
    "    train_loss.append(train_epoch_loss)\n",
    "    print(f\"Train Loss: {train_epoch_loss:.4f}\")\n",
    "# torch.save(model.state_dict(), 'multi_head_binary.py')"
   ]
  },
  {
   "cell_type": "code",
   "execution_count": 273,
   "metadata": {},
   "outputs": [
    {
     "data": {
      "image/png": "[encoded data removed]",
      "text/plain": [
       "<Figure size 720x504 with 1 Axes>"
      ]
     },
     "metadata": {},
     "output_type": "display_data"
    }
   ],
   "source": [
    "# plot and save the train loss graph\n",
    "plt.figure(figsize=(10, 7))\n",
    "plt.plot(train_loss, color='orange', label='train loss')\n",
    "plt.xlabel('Epochs')\n",
    "plt.ylabel('Loss')\n",
    "plt.legend()\n",
    "# plt.savefig('outputs/multi_head_binary_loss.png')\n",
    "plt.show()"
   ]
  },
  {
   "cell_type": "code",
   "execution_count": null,
   "metadata": {},
   "outputs": [],
   "source": []
  },
  {
   "cell_type": "markdown",
   "metadata": {},
   "source": [
    "## Machine Learning Models"
   ]
  },
  {
   "cell_type": "code",
   "execution_count": null,
   "metadata": {},
   "outputs": [],
   "source": []
  },
  {
   "cell_type": "code",
   "execution_count": null,
   "metadata": {},
   "outputs": [],
   "source": []
  },
  {
   "cell_type": "markdown",
   "metadata": {},
   "source": [
    "### Binary Relevance"
   ]
  },
  {
   "cell_type": "code",
   "execution_count": 43,
   "metadata": {},
   "outputs": [],
   "source": [
    "from sklearn.model_selection import StratifiedKFold\n",
    "from sklearn.ensemble import GradientBoostingClassifier"
   ]
  },
  {
   "cell_type": "code",
   "execution_count": 44,
   "metadata": {},
   "outputs": [],
   "source": [
    "def init_gbc_model():\n",
    "    loss='exponential'\n",
    "    learning_rate=0.1 \n",
    "    n_estimators=150 \n",
    "    max_depth=3\n",
    "    random_state=0\n",
    "    \n",
    "    clf = GradientBoostingClassifier(loss=loss, \n",
    "                                     learning_rate=learning_rate, \n",
    "                                     n_estimators=n_estimators, \n",
    "                                     max_depth=max_depth, \n",
    "                                     random_state=random_state)\n",
    "    \n",
    "    return clf\n",
    "\n",
    "\n",
    "\n",
    "def init_skf():\n",
    "    \"\"\"Function for initializing the StratifiedKFold cross-validator\n",
    "\n",
    "    Args:\n",
    "        n_splits (int): Number of splits to seperate data\n",
    "        shuffle (boolean): Wheter to shuffle data\n",
    "        skf_random_state (int): random_state\n",
    "\n",
    "    Returns:\n",
    "        StratifiedKFold: Initialized StratifiedKFold cross-validator\n",
    "    \"\"\"\n",
    "    n_splits=10\n",
    "    random_state=0\n",
    "    shuffle=True\n",
    "    \n",
    "    skf = StratifiedKFold(n_splits=n_splits,shuffle=shuffle, random_state=random_state)\n",
    "    \n",
    "    return skf\n",
    "\n",
    "#Maybe build tuning pipeline later on"
   ]
  },
  {
   "cell_type": "code",
   "execution_count": null,
   "metadata": {},
   "outputs": [],
   "source": []
  },
  {
   "cell_type": "code",
   "execution_count": 71,
   "metadata": {},
   "outputs": [],
   "source": [
    "def plot_confidence_interval(x, values, z=1.96, color='#2187bb', horizontal_line_width=0.25, axes=None):\n",
    "    mean = np.mean(values)\n",
    "    stdev = np.std(values)\n",
    "    confidence_interval = z * stdev / (len(values)**(1/2))\n",
    "\n",
    "    left = x - horizontal_line_width / 2\n",
    "    top = mean - confidence_interval\n",
    "    right = x + horizontal_line_width / 2\n",
    "    bottom = mean + confidence_interval\n",
    "    \n",
    "    axes.plot([x, x], [top, bottom], color=color)\n",
    "    axes.plot([left, right], [top, top], color=color)\n",
    "    axes.plot([left, right], [bottom, bottom], color=color)\n",
    "    axes.plot(x, mean, '.', color=color)\n",
    "\n",
    "    return mean, confidence_interval\n",
    "\n",
    "\n",
    "def plot_baseline(proportion, x, color='#2187bb', horizontal_line_width=0.25, axes=None):\n",
    "    left = x - 0.3 - horizontal_line_width / 2\n",
    "    right = x + 0.3 + horizontal_line_width / 2\n",
    "    \n",
    "    axes.plot([left, right], [proportion, proportion], color=color)\n",
    "\n",
    "    return"
   ]
  },
  {
   "cell_type": "code",
   "execution_count": 72,
   "metadata": {},
   "outputs": [
    {
     "data": {
      "text/plain": [
       "Text(0.5, 1.0, 'Accuracy')"
      ]
     },
     "execution_count": 72,
     "metadata": {},
     "output_type": "execute_result"
    },
    {
     "data": {
      "image/png": "[encoded data removed]",
      "text/plain": [
       "<Figure size 720x360 with 1 Axes>"
      ]
     },
     "metadata": {
      "needs_background": "light"
     },
     "output_type": "display_data"
    }
   ],
   "source": [
    "## INITIALIZE PLOT ##\n",
    "fig, ax = plt.subplots(nrows=1,\n",
    "                       ncols=1,\n",
    "                       figsize=(8, 5)\n",
    "#                        sharex=True, \n",
    "#                        sharey=True\n",
    "                      )\n",
    "\n",
    "y_ticks = plt.yticks(np.arange(11)/10)\n",
    "x_ticks = plt.xticks(np.arange(1, len(diseases.columns)+1), [disease for disease in diseases.columns])\n",
    "\n",
    "plt.ylabel('Accuracy', fontsize='large')\n",
    "plt.autoscale(enable = False, tight=False, axis = 'y')\n",
    "ax.set_title('Accuracy')\n",
    "# ax[0].set_title('AUROC')\n",
    "# ax[1].set_title('AUPR')"
   ]
  },
  {
   "cell_type": "code",
   "execution_count": 73,
   "metadata": {},
   "outputs": [
    {
     "name": "stdout",
     "output_type": "stream",
     "text": [
      "Training obesity Classifier...\n",
      "Finished training split 1\n",
      "Finished training split 2\n",
      "Finished training split 3\n",
      "Finished training split 4\n",
      "Finished training split 5\n",
      "Finished training split 6\n",
      "Finished training split 7\n",
      "Finished training split 8\n",
      "Finished training split 9\n",
      "Finished training split 10\n",
      "Training diabetes Classifier...\n",
      "Finished training split 1\n",
      "Finished training split 2\n",
      "Finished training split 3\n",
      "Finished training split 4\n",
      "Finished training split 5\n",
      "Finished training split 6\n",
      "Finished training split 7\n",
      "Finished training split 8\n",
      "Finished training split 9\n",
      "Finished training split 10\n",
      "Training dyslipidemia Classifier...\n",
      "Finished training split 1\n",
      "Finished training split 2\n",
      "Finished training split 3\n",
      "Finished training split 4\n",
      "Finished training split 5\n",
      "Finished training split 6\n",
      "Finished training split 7\n",
      "Finished training split 8\n",
      "Finished training split 9\n",
      "Finished training split 10\n",
      "Training hypertension Classifier...\n",
      "Finished training split 1\n",
      "Finished training split 2\n",
      "Finished training split 3\n",
      "Finished training split 4\n",
      "Finished training split 5\n",
      "Finished training split 6\n",
      "Finished training split 7\n",
      "Finished training split 8\n",
      "Finished training split 9\n",
      "Finished training split 10\n",
      "Training ckd Classifier...\n",
      "Finished training split 1\n",
      "Finished training split 2\n",
      "Finished training split 3\n",
      "Finished training split 4\n",
      "Finished training split 5\n",
      "Finished training split 6\n",
      "Finished training split 7\n",
      "Finished training split 8\n",
      "Finished training split 9\n",
      "Finished training split 10\n",
      "Training precvd Classifier...\n",
      "Finished training split 1\n",
      "Finished training split 2\n",
      "Finished training split 3\n",
      "Finished training split 4\n",
      "Finished training split 5\n",
      "Finished training split 6\n",
      "Finished training split 7\n",
      "Finished training split 8\n",
      "Finished training split 9\n",
      "Finished training split 10\n",
      "Training elevated_bp Classifier...\n",
      "Finished training split 1\n",
      "Finished training split 2\n",
      "Finished training split 3\n",
      "Finished training split 4\n",
      "Finished training split 5\n",
      "Finished training split 6\n",
      "Finished training split 7\n",
      "Finished training split 8\n",
      "Finished training split 9\n",
      "Finished training split 10\n"
     ]
    }
   ],
   "source": [
    "classifiers = {}\n",
    "metrics = {}\n",
    "\n",
    "X = features\n",
    "for i, disease in enumerate(diseases, start=1):\n",
    "    skf = init_skf()\n",
    "    clf = init_gbc_model()\n",
    "    \n",
    "    y = diseases[disease]\n",
    "    \n",
    "    best_acc = float('-inf')\n",
    "    acc_plot_data = []\n",
    "    \n",
    "    print('Training {} Classifier...'.format(disease))\n",
    "    j=1\n",
    "    for train_index, val_index in skf.split(X, y):\n",
    "        \n",
    "        train_X, train_y = X.iloc[train_index], y.iloc[train_index]\n",
    "        val_X, val_y = X.iloc[val_index], y.iloc[val_index]\n",
    "\n",
    "        clf.fit(train_X, train_y)\n",
    "        \n",
    "        preds = clf.predict(val_X)\n",
    "#         preds = clf.predict_proba(val_X)[:,1] #predict probability of positive class predict\n",
    "        \n",
    "        acc = np.mean(preds==val_y)\n",
    "        acc_plot_data.append(acc)\n",
    "        if acc >= best_acc:\n",
    "            best_model = clf\n",
    "            best_acc = acc\n",
    "        \n",
    "        print('finished training split {}'.format(j))\n",
    "        j+=1\n",
    "    \n",
    "    classifiers[disease] = best_model\n",
    "    metrics[disease] = acc_plot_data\n",
    "    \n",
    "    plot_confidence_interval(i, acc_plot_data, axes=ax) #accuracy plot\n"
   ]
  },
  {
   "cell_type": "code",
   "execution_count": 74,
   "metadata": {},
   "outputs": [
    {
     "data": {
      "image/png": "[encoded data removed]",
      "text/plain": [
       "<Figure size 720x360 with 1 Axes>"
      ]
     },
     "execution_count": 74,
     "metadata": {},
     "output_type": "execute_result"
    }
   ],
   "source": [
    "fig"
   ]
  },
  {
   "cell_type": "code",
   "execution_count": null,
   "metadata": {},
   "outputs": [],
   "source": []
  },
  {
   "cell_type": "markdown",
   "metadata": {},
   "source": [
    "### Classifier Chain"
   ]
  },
  {
   "cell_type": "code",
   "execution_count": null,
   "metadata": {},
   "outputs": [],
   "source": []
  },
  {
   "cell_type": "markdown",
   "metadata": {},
   "source": [
    "### Label Powerset"
   ]
  },
  {
   "cell_type": "code",
   "execution_count": null,
   "metadata": {},
   "outputs": [],
   "source": []
  },
  {
   "cell_type": "markdown",
   "metadata": {},
   "source": [
    "### Adapted Algorithms"
   ]
  },
  {
   "cell_type": "code",
   "execution_count": null,
   "metadata": {},
   "outputs": [],
   "source": []
  }
 ],
 "metadata": {
  "kernelspec": {
   "display_name": "Python 3 (ipykernel)",
   "language": "python",
   "name": "python3"
  },
  "language_info": {
   "codemirror_mode": {
    "name": "ipython",
    "version": 3
   },
   "file_extension": ".py",
   "mimetype": "text/x-python",
   "name": "python",
   "nbconvert_exporter": "python",
   "pygments_lexer": "ipython3",
   "version": "3.9.5"
  },
  "vscode": {
   "interpreter": {
    "hash": "2f3eb80ecefa8a2bb623a916cf91dd59a834c9ebe3cfa6e57c9edbb4634331c0"
   }
  }
 },
 "nbformat": 4,
 "nbformat_minor": 2
}
