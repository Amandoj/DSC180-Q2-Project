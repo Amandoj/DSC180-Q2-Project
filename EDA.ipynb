{
 "cells": [
  {
   "attachments": {},
   "cell_type": "markdown",
   "metadata": {},
   "source": [
    "# DSC180B EDA"
   ]
  },
  {
   "attachments": {},
   "cell_type": "markdown",
   "metadata": {},
   "source": [
    "# Importing Packages"
   ]
  },
  {
   "cell_type": "code",
   "execution_count": null,
   "metadata": {},
   "outputs": [],
   "source": [
    "import json\n",
    "from src.data import make_dataset\n",
    "from src.features import build_features\n"
   ]
  },
  {
   "cell_type": "code",
   "execution_count": null,
   "metadata": {},
   "outputs": [],
   "source": [
    "from qiime2.plugins import feature_table\n",
    "from qiime2 import Artifact\n",
    "from qiime2.plugins.sample_classifier.pipelines import classify_samples\n",
    "from qiime2.plugins.feature_table.methods import filter_samples\n",
    "from qiime2 import Metadata\n",
    "import pandas as pd\n",
    "import numpy as np\n",
    "import matplotlib.pyplot as plt\n",
    "import biom\n",
    "import seaborn as sns\n",
    "# %matplotlib inline "
   ]
  },
  {
   "attachments": {},
   "cell_type": "markdown",
   "metadata": {},
   "source": [
    "## Loading Data"
   ]
  },
  {
   "cell_type": "code",
   "execution_count": null,
   "metadata": {},
   "outputs": [],
   "source": [
    "## Obtaining file paths\n",
    "with open(\"config/data-params.json\") as fh:\n",
    "    file_paths = json.load(fh)"
   ]
  },
  {
   "cell_type": "code",
   "execution_count": null,
   "metadata": {},
   "outputs": [],
   "source": [
    "table = make_dataset.read_feature_table(file_paths[\"feature_table_path\"])\n",
    "metadata = make_dataset.read_metadata(file_paths[\"metadata_path\"])"
   ]
  },
  {
   "cell_type": "code",
   "execution_count": null,
   "metadata": {},
   "outputs": [],
   "source": [
    "biom_table = table.view(biom.Table)\n",
    "print(biom_table.head())"
   ]
  },
  {
   "cell_type": "code",
   "execution_count": null,
   "metadata": {},
   "outputs": [],
   "source": [
    "metadata.head()"
   ]
  },
  {
   "attachments": {},
   "cell_type": "markdown",
   "metadata": {},
   "source": [
    "## Subset of Metadata"
   ]
  },
  {
   "cell_type": "code",
   "execution_count": null,
   "metadata": {},
   "outputs": [],
   "source": [
    "# Subset of data\n",
    "disease_cols = ['abdominal_obesity_ncep_v2', 'ckd_v2', 'diabetes2_v2','hypertension2_v2','precvd_v2','elevated_bp_selfmeds_v2','dyslipidemia_v2']\n",
    "features = disease_cols + ['gender_v2','agegroup_c6_v2','bmigrp_c6_v2','center','us_born_v2','income_c5_v2']"
   ]
  },
  {
   "cell_type": "code",
   "execution_count": null,
   "metadata": {},
   "outputs": [],
   "source": [
    "numeric_col = [\n",
    "    'abdominal_obesity_ncep_v2','ckd_v2','diabetes2_v2',\n",
    "    'hypertension2_v2','precvd_v2','elevated_bp_selfmeds_v2',\n",
    "    'dyslipidemia_v2','agegroup_c6_v2',\n",
    "    'bmigrp_c6_v2','us_born_v2','income_c5_v2']\n",
    "categorical_col = ['center','gender_v2']"
   ]
  },
  {
   "cell_type": "code",
   "execution_count": null,
   "metadata": {},
   "outputs": [],
   "source": [
    "sub_metadata = metadata[features]\n",
    "sub_metadata.head()"
   ]
  },
  {
   "attachments": {},
   "cell_type": "markdown",
   "metadata": {},
   "source": [
    "## Missing Data Analysis"
   ]
  },
  {
   "cell_type": "code",
   "execution_count": null,
   "metadata": {},
   "outputs": [],
   "source": [
    "# Function for single representation of missing values\n",
    "def missing_values(col, type='categorical'):\n",
    "    temp = col.apply(lambda x: np.nan if x == 'not applicable' or x == 'not provided' else x)\n",
    "    if type == 'numeric':\n",
    "        temp = temp.apply(lambda x: x if pd.isnull(x) else np.float64(x))\n",
    "    return temp"
   ]
  },
  {
   "cell_type": "code",
   "execution_count": null,
   "metadata": {},
   "outputs": [],
   "source": [
    "metadata['ckd_v2'].value_counts()"
   ]
  },
  {
   "cell_type": "code",
   "execution_count": null,
   "metadata": {},
   "outputs": [],
   "source": [
    "missing_values(metadata['ckd_v2'],'numeric').value_counts()"
   ]
  },
  {
   "attachments": {},
   "cell_type": "markdown",
   "metadata": {},
   "source": [
    "## Replacing missing values in metadata subset"
   ]
  },
  {
   "cell_type": "code",
   "execution_count": null,
   "metadata": {},
   "outputs": [],
   "source": [
    "sub_metadata.loc[:,numeric_col] = sub_metadata.loc[:,numeric_col].apply(lambda x: missing_values(x,'numeric'))\n",
    "sub_metadata.loc[:,categorical_col] = sub_metadata.loc[:,categorical_col].apply(lambda x: missing_values(x,'categorical'))"
   ]
  },
  {
   "cell_type": "code",
   "execution_count": null,
   "metadata": {},
   "outputs": [],
   "source": [
    "sub_metadata.head()"
   ]
  },
  {
   "attachments": {},
   "cell_type": "markdown",
   "metadata": {},
   "source": [
    "## Dropping Missing Data"
   ]
  },
  {
   "cell_type": "code",
   "execution_count": null,
   "metadata": {},
   "outputs": [],
   "source": [
    "sub_metadata_no_nan = sub_metadata.dropna()\n",
    "sub_metadata_no_nan.head()"
   ]
  },
  {
   "attachments": {},
   "cell_type": "markdown",
   "metadata": {},
   "source": [
    "## Converting column dtypes"
   ]
  },
  {
   "cell_type": "code",
   "execution_count": null,
   "metadata": {},
   "outputs": [],
   "source": [
    "convert_dict = {x: np.float64 for x in numeric_col}\n",
    "sub_metadata_no_nan = sub_metadata_no_nan.astype(convert_dict)"
   ]
  },
  {
   "attachments": {},
   "cell_type": "markdown",
   "metadata": {},
   "source": [
    "## Converting diabetes and ckd into binary variables"
   ]
  },
  {
   "cell_type": "code",
   "execution_count": null,
   "metadata": {},
   "outputs": [],
   "source": [
    "diabetes_binary = {1.0:0.0,\n",
    "                   2.0:0.0,\n",
    "                   3.0:1.0}\n",
    "ckd_binary = {1.0:0.0, \n",
    "              2.0:1.0,\n",
    "              3.0:1.0,\n",
    "              4.0:1.0,\n",
    "              5.0:1.0}"
   ]
  },
  {
   "cell_type": "code",
   "execution_count": null,
   "metadata": {},
   "outputs": [],
   "source": [
    "sub_metadata_no_nan['diabetes2_v2'] = sub_metadata_no_nan['diabetes2_v2'].apply(lambda x: diabetes_binary[x])\n",
    "sub_metadata_no_nan['ckd_v2'] = sub_metadata_no_nan['ckd_v2'].apply(lambda x:ckd_binary[x])"
   ]
  },
  {
   "attachments": {},
   "cell_type": "markdown",
   "metadata": {},
   "source": [
    "## Filtering metadata with feature table samples"
   ]
  },
  {
   "cell_type": "code",
   "execution_count": null,
   "metadata": {},
   "outputs": [],
   "source": [
    "sub_metadata_no_nan.head()"
   ]
  },
  {
   "cell_type": "code",
   "execution_count": null,
   "metadata": {},
   "outputs": [],
   "source": [
    "# unsure if i should filter samples in metadata\n",
    "final_metadata = sub_metadata_no_nan.loc[sub_metadata_no_nan.index.isin(biom_table.ids())]\n",
    "final_metadata.head()"
   ]
  },
  {
   "attachments": {},
   "cell_type": "markdown",
   "metadata": {},
   "source": [
    "## Saving final metadata"
   ]
  },
  {
   "cell_type": "code",
   "execution_count": null,
   "metadata": {},
   "outputs": [],
   "source": [
    "# have to convert to T and F for qiime2 models\n",
    "def binary_to_tf(val):\n",
    "    if val == 1.0:\n",
    "        return 'T'\n",
    "    elif val == 0.0:\n",
    "        return 'F'\n",
    "    else:\n",
    "        return 'missing'"
   ]
  },
  {
   "cell_type": "code",
   "execution_count": null,
   "metadata": {},
   "outputs": [],
   "source": [
    "final_metadata.to_csv(\"data/temp/final_metadata.tsv\",sep=\"\\t\")\n",
    "## Loading Metadata as qiime Metadata object\n",
    "qiime_metadata = Metadata.load(\"data/temp/final_metadata.tsv\")"
   ]
  },
  {
   "attachments": {},
   "cell_type": "markdown",
   "metadata": {},
   "source": [
    "## EDA on Subset of Metadata"
   ]
  },
  {
   "attachments": {},
   "cell_type": "markdown",
   "metadata": {},
   "source": [
    "### Disease Counts"
   ]
  },
  {
   "cell_type": "code",
   "execution_count": null,
   "metadata": {},
   "outputs": [],
   "source": [
    "def create_bar_col_binary(df, col_name):\n",
    "    ax = df[col_name].value_counts().sort_index(ascending=False).plot(kind='barh')\n",
    "    ax.set_xlabel('count')\n",
    "    ax.set_ylabel('outcome')\n",
    "    ax.set_title(col_name)"
   ]
  },
  {
   "cell_type": "code",
   "execution_count": null,
   "metadata": {},
   "outputs": [],
   "source": [
    "create_bar_col_binary(final_metadata, 'abdominal_obesity_ncep_v2')"
   ]
  },
  {
   "attachments": {},
   "cell_type": "markdown",
   "metadata": {},
   "source": [
    "### Gender Counts"
   ]
  },
  {
   "cell_type": "code",
   "execution_count": null,
   "metadata": {},
   "outputs": [],
   "source": [
    "final_metadata['gender_v2'].value_counts().plot(kind='barh')"
   ]
  },
  {
   "attachments": {},
   "cell_type": "markdown",
   "metadata": {},
   "source": [
    "### Center Counts"
   ]
  },
  {
   "cell_type": "code",
   "execution_count": null,
   "metadata": {},
   "outputs": [],
   "source": [
    "final_metadata['center'].value_counts().plot(kind='barh')"
   ]
  },
  {
   "attachments": {},
   "cell_type": "markdown",
   "metadata": {},
   "source": [
    "### Count of individual diseases"
   ]
  },
  {
   "cell_type": "code",
   "execution_count": null,
   "metadata": {},
   "outputs": [],
   "source": [
    "final_metadata[disease_cols].sum().sort_values(ascending=False).plot(kind='bar')"
   ]
  },
  {
   "attachments": {},
   "cell_type": "markdown",
   "metadata": {},
   "source": [
    "### Num people who have multiple diseases"
   ]
  },
  {
   "cell_type": "code",
   "execution_count": null,
   "metadata": {},
   "outputs": [],
   "source": [
    "final_metadata['total_diseases'] = final_metadata[disease_cols].sum(axis=1)\n",
    "final_metadata['total_diseases'].value_counts().plot(kind = 'barh')\n",
    "final_metadata['total_diseases'].value_counts()"
   ]
  },
  {
   "attachments": {},
   "cell_type": "markdown",
   "metadata": {},
   "source": [
    "### Co-occurence between disease types"
   ]
  },
  {
   "cell_type": "code",
   "execution_count": null,
   "metadata": {},
   "outputs": [],
   "source": [
    "sns.heatmap(final_metadata[disease_cols].T.dot(final_metadata[disease_cols]))"
   ]
  },
  {
   "attachments": {},
   "cell_type": "markdown",
   "metadata": {},
   "source": [
    "### Filtering feature table samples...Can probably skip this and instead filter features"
   ]
  },
  {
   "cell_type": "code",
   "execution_count": null,
   "metadata": {},
   "outputs": [],
   "source": [
    "updated_feature_table = filter_samples(table, metadata = qiime_metadata).filtered_table\n",
    "updated_feature_table"
   ]
  },
  {
   "cell_type": "code",
   "execution_count": null,
   "metadata": {},
   "outputs": [],
   "source": [
    "biom_table = updated_feature_table.view(biom.Table)\n",
    "print(biom_table.head())"
   ]
  },
  {
   "attachments": {},
   "cell_type": "markdown",
   "metadata": {},
   "source": [
    "# Model Creation"
   ]
  },
  {
   "cell_type": "code",
   "execution_count": null,
   "metadata": {},
   "outputs": [],
   "source": [
    "## Need to switch to T and F for qiime models, need to move this to earlier step\n",
    "final_metadata['ckd_v2'] = final_metadata['ckd_v2'].apply(lambda x: binary_to_tf(x))\n",
    "final_metadata.to_csv(\"data/temp/final_metadata.tsv\",sep=\"\\t\")\n",
    "## Loading Metadata as qiime Metadata object\n",
    "qiime_metadata = Metadata.load(\"data/temp/final_metadata.tsv\")"
   ]
  },
  {
   "cell_type": "code",
   "execution_count": null,
   "metadata": {},
   "outputs": [],
   "source": [
    "qiime_metadata"
   ]
  },
  {
   "attachments": {},
   "cell_type": "markdown",
   "metadata": {},
   "source": [
    "### Qiime model"
   ]
  },
  {
   "cell_type": "code",
   "execution_count": null,
   "metadata": {},
   "outputs": [],
   "source": [
    "classify_samples(updated_feature_table, qiime_metadata.get_column('ckd_v2'), missing_samples='ignore')"
   ]
  },
  {
   "cell_type": "code",
   "execution_count": null,
   "metadata": {},
   "outputs": [],
   "source": []
  },
  {
   "cell_type": "code",
   "execution_count": null,
   "metadata": {},
   "outputs": [],
   "source": []
  }
 ],
 "metadata": {
  "kernelspec": {
   "display_name": "qiime2-2022.8",
   "language": "python",
   "name": "python3"
  },
  "language_info": {
   "codemirror_mode": {
    "name": "ipython",
    "version": 3
   },
   "file_extension": ".py",
   "mimetype": "text/x-python",
   "name": "python",
   "nbconvert_exporter": "python",
   "pygments_lexer": "ipython3",
   "version": "3.8.13"
  },
  "orig_nbformat": 4,
  "vscode": {
   "interpreter": {
    "hash": "2f3eb80ecefa8a2bb623a916cf91dd59a834c9ebe3cfa6e57c9edbb4634331c0"
   }
  }
 },
 "nbformat": 4,
 "nbformat_minor": 2
}
