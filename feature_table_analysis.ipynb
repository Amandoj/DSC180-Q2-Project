{
 "cells": [
  {
   "cell_type": "code",
   "execution_count": null,
   "id": "a48832d3",
   "metadata": {},
   "outputs": [],
   "source": [
    "import json\n",
    "import os\n",
    "import sys\n",
    "import inspect\n",
    "\n",
    "from src.data import make_dataset\n",
    "from src.features import build_features\n",
    "from src.features import metrics_analysis"
   ]
  },
  {
   "cell_type": "code",
   "execution_count": null,
   "id": "ab8c4206",
   "metadata": {},
   "outputs": [],
   "source": [
    "## Creating paths to store temp and out data ##\n",
    "if not os.path.exists(\"data/temp\"):\n",
    "    os.makedirs(\"data/temp\")\n",
    "if not os.path.exists(\"data/out\"):\n",
    "    os.makedirs(\"data/out\")"
   ]
  },
  {
   "cell_type": "code",
   "execution_count": null,
   "id": "1ca66ce5",
   "metadata": {},
   "outputs": [],
   "source": [
    "from qiime2.plugins import feature_table\n",
    "from qiime2 import Artifact\n",
    "from qiime2.plugins.sample_classifier.pipelines import classify_samples\n",
    "from qiime2.plugins.feature_table.methods import filter_samples\n",
    "from qiime2 import Metadata\n",
    "from qiime2.plugins.diversity.pipelines import core_metrics\n",
    "from qiime2.plugins.diversity.pipelines import core_metrics_phylogenetic\n",
    "from qiime2.plugins.feature_table.visualizers import summarize\n",
    "from qiime2.plugins.diversity.methods import umap\n",
    "\n",
    "\n",
    "import pandas as pd\n",
    "import numpy as np\n",
    "import matplotlib.pyplot as plt\n",
    "import biom\n",
    "import skbio\n",
    "\n",
    "import seaborn as sns\n",
    "# %matplotlib inline "
   ]
  },
  {
   "cell_type": "markdown",
   "id": "48925cae",
   "metadata": {},
   "source": [
    "## Loading Data"
   ]
  },
  {
   "cell_type": "code",
   "execution_count": null,
   "id": "7413dc2c",
   "metadata": {},
   "outputs": [],
   "source": [
    "## Obtaining file paths\n",
    "with open(\"config/data-params.json\") as fh:\n",
    "    file_paths = json.load(fh)"
   ]
  },
  {
   "cell_type": "code",
   "execution_count": null,
   "id": "18be6564",
   "metadata": {},
   "outputs": [],
   "source": [
    "table = make_dataset.read_feature_table(file_paths[\"feature_table_path\"])\n",
    "metadata = make_dataset.read_metadata(file_paths[\"metadata_path\"])"
   ]
  },
  {
   "cell_type": "code",
   "execution_count": null,
   "id": "b5d0213c",
   "metadata": {},
   "outputs": [],
   "source": [
    "biom_table = table.view(biom.Table)\n",
    "print(biom_table.head())"
   ]
  },
  {
   "cell_type": "markdown",
   "id": "94e22b89",
   "metadata": {},
   "source": [
    "### Loading the Phylogeny Tree"
   ]
  },
  {
   "cell_type": "code",
   "execution_count": null,
   "id": "686b62eb",
   "metadata": {},
   "outputs": [],
   "source": [
    "# tree_path = file_paths[\"tree_path\"]\n",
    "\n",
    "# tree = skbio.TreeNode.read(tree_path) #READING TREE TAKES VERY LONG, TIMING OUT\n",
    "# tree_artifact = Artifact.import_data('Phylogeny[Rooted]', tree)\n",
    "# tree_artifact"
   ]
  },
  {
   "cell_type": "code",
   "execution_count": null,
   "id": "9fadc8e6",
   "metadata": {},
   "outputs": [],
   "source": [
    "# tree_artifact.save('tree_file')\n",
    "Artifact.load('data/raw/tree_file.qza')"
   ]
  },
  {
   "cell_type": "markdown",
   "id": "2c224977",
   "metadata": {},
   "source": [
    "## Load Metadata"
   ]
  },
  {
   "cell_type": "code",
   "execution_count": null,
   "id": "1ec903b6",
   "metadata": {},
   "outputs": [],
   "source": [
    "qiime_metadata = Metadata.load(\"data/temp/final_metadata.tsv\")\n",
    "qiime_metadata"
   ]
  },
  {
   "cell_type": "code",
   "execution_count": null,
   "id": "0d1d7fd3",
   "metadata": {},
   "outputs": [],
   "source": [
    "#Filter feature table based on cleaned metadata\n",
    "updated_feature_table = filter_samples(table, metadata = qiime_metadata).filtered_table\n",
    "biom_table = updated_feature_table.view(biom.Table)\n",
    "biom_table #around 4000 rows was removed"
   ]
  },
  {
   "cell_type": "markdown",
   "id": "04bbd6de",
   "metadata": {},
   "source": [
    "## Feature Table Exploration"
   ]
  },
  {
   "cell_type": "markdown",
   "id": "ffa1778d",
   "metadata": {},
   "source": [
    "### The analyses below does NOT incorporate a phylogenetic tree for now"
   ]
  },
  {
   "cell_type": "code",
   "execution_count": null,
   "id": "ca1f352e",
   "metadata": {},
   "outputs": [],
   "source": [
    "summary = summarize(updated_feature_table, qiime_metadata)\n",
    "summary.visualization.save('data/out/ft_summary')"
   ]
  },
  {
   "cell_type": "markdown",
   "id": "1f20af0a",
   "metadata": {},
   "source": [
    "From the summary visualizations and statistics, we see that most features only appear in less than 3 samples, therefore we are going to drop the features that appear less than 3 times in order to reduce noise.\n",
    "\n",
    "With the information we gained from the summary, we decided to rarefy the table with a sampling depth of _7930_ we retained _12,489,750 (52.48%) features in 1575 (90.00%) samples_ at the specifed sampling depth. We made this decision to maximize the amount of features while preserving the amount of samples in our data."
   ]
  },
  {
   "cell_type": "code",
   "execution_count": null,
   "id": "a3b1b6be",
   "metadata": {},
   "outputs": [],
   "source": [
    "feat_table = updated_feature_table.view(pd.DataFrame)\n",
    "feat_table.shape"
   ]
  },
  {
   "cell_type": "code",
   "execution_count": null,
   "id": "859fcf2d",
   "metadata": {},
   "outputs": [],
   "source": [
    "#Drop the feature columns that appear in less than 3 samples\n",
    "feat_table_3 = feat_table[feat_table.columns[((feat_table > 0).sum() > 3)]]\n",
    "feat_table_3.shape\n",
    "\n",
    "#Import DataFrame back into FeatureTable artifact and export the summary\n",
    "cleaned_feature_table = Artifact.import_data(\"FeatureTable[Frequency]\", feat_table_3)\n",
    "\n",
    "summary_cleaned = summarize(cleaned_feature_table, qiime_metadata)\n",
    "summary_cleaned.visualization.save('data/out/ft_summary_3')"
   ]
  },
  {
   "cell_type": "code",
   "execution_count": null,
   "id": "560ce95f",
   "metadata": {},
   "outputs": [],
   "source": [
    "#Drop the feature columns that appear in less than 10 samples\n",
    "feat_table_10 = feat_table[feat_table.columns[((feat_table > 0).sum() > 10)]]\n",
    "feat_table_10.shape\n",
    "\n",
    "#Import DataFrame back into FeatureTable artifact and export the summary\n",
    "cleaned_feature_table = Artifact.import_data(\"FeatureTable[Frequency]\", feat_table_10)\n",
    "\n",
    "summary_cleaned = summarize(cleaned_feature_table, qiime_metadata)\n",
    "summary_cleaned.visualization.save('data/out/ft_summary_10')"
   ]
  },
  {
   "cell_type": "markdown",
   "id": "91c32db5",
   "metadata": {},
   "source": [
    "# Feature Table Metrics Analysis\n",
    "\n",
    "First figure out the feature table rarefication, save the plots generated by Qiime2 core_metrics, then create the following:\n",
    "1. Distance matrices: Unifrac distance matrix, Jaccard distance matrix, Bray Curtis distance matrix\n",
    "2. PCOA plots with the different distance matrices\n",
    "    - save the plots for visualization\n",
    "    \n",
    "    \n",
    "3. UMAP plots with the different distance matrices\n",
    "    - save the plots for visualization\n",
    "    \n",
    "    \n",
    "4. Finally follow up with a statistical test or regression\n",
    "    - Ex) PERMANOVA test on PCOA results\n",
    "    - Ex) Use the reduced dimension embeddings to feed into the regression model"
   ]
  },
  {
   "cell_type": "code",
   "execution_count": null,
   "id": "e0b4934e",
   "metadata": {},
   "outputs": [],
   "source": [
    "# Create the feature table metrics object\n",
    "feat_table = cleaned_feature_table\n",
    "depth = 7930\n",
    "metadata = qiime_metadata\n",
    "\n",
    "feature_table_metrics = metrics_analysis.extract_core_metrics(feat_table, depth, metadata)"
   ]
  },
  {
   "cell_type": "code",
   "execution_count": null,
   "id": "c537f1a9",
   "metadata": {},
   "outputs": [],
   "source": [
    "#Exploration of the dataset\n",
    "# Print rarefied table\n",
    "rarefied_table = feature_table_metrics.rarefied_table"
   ]
  },
  {
   "cell_type": "code",
   "execution_count": null,
   "id": "d56b9b48",
   "metadata": {},
   "outputs": [],
   "source": [
    "#Calculate Distance matrices\n",
    "distance_matrices = metrics_analysis.extract_distance_matrices(feature_table_metrics)\n",
    "distance_matrices"
   ]
  },
  {
   "cell_type": "code",
   "execution_count": null,
   "id": "8fe0460c",
   "metadata": {},
   "outputs": [],
   "source": [
    "#Calculate the PCOA matrices\n",
    "pcoa_matrices = metrics_analysis.extract_pcoa_results(feature_table_metrics)\n",
    "pcoa_matrices"
   ]
  },
  {
   "cell_type": "code",
   "execution_count": null,
   "id": "5b3a221e",
   "metadata": {},
   "outputs": [],
   "source": [
    "#Calculate the Emperor visualization and output\n",
    "pcoa_emperor_plots = metrics_analysis.extract_pcoa_emperor_vis(feature_table_metrics)\n",
    "pcoa_emperor_plots"
   ]
  },
  {
   "cell_type": "code",
   "execution_count": null,
   "id": "63b51675",
   "metadata": {},
   "outputs": [],
   "source": [
    "rarefied_df = rarefied_table.view(pd.DataFrame)\n",
    "rarefied_df.shape #Rarefied table dropped some samples that are less than the n=7930 sampling depth"
   ]
  },
  {
   "cell_type": "code",
   "execution_count": null,
   "id": "df368cf8",
   "metadata": {},
   "outputs": [],
   "source": [
    "distance_matrices"
   ]
  },
  {
   "cell_type": "code",
   "execution_count": null,
   "id": "30ba55d8",
   "metadata": {},
   "outputs": [],
   "source": []
  }
 ],
 "metadata": {
  "kernelspec": {
   "display_name": "qiime2-2022.11",
   "language": "python",
   "name": "qiime2-2022.11"
  },
  "language_info": {
   "codemirror_mode": {
    "name": "ipython",
    "version": 3
   },
   "file_extension": ".py",
   "mimetype": "text/x-python",
   "name": "python",
   "nbconvert_exporter": "python",
   "pygments_lexer": "ipython3",
   "version": "3.8.15"
  }
 },
 "nbformat": 4,
 "nbformat_minor": 5
}
