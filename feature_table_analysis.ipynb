{
 "cells": [
  {
   "cell_type": "code",
   "execution_count": 7,
   "id": "a48832d3",
   "metadata": {},
   "outputs": [],
   "source": [
    "import json\n",
    "import os\n",
    "import sys\n",
    "import inspect\n",
    "\n",
    "from src.data import make_dataset\n",
    "from src.features import build_features\n",
    "from src.features import metrics_analysis"
   ]
  },
  {
   "cell_type": "code",
   "execution_count": 38,
   "id": "5ac9b361",
   "metadata": {},
   "outputs": [],
   "source": [
    "import qiime2"
   ]
  },
  {
   "cell_type": "code",
   "execution_count": 39,
   "id": "e83ef6fd",
   "metadata": {},
   "outputs": [
    {
     "name": "stdout",
     "output_type": "stream",
     "text": [
      "/opt/conda/envs/qiime2-2022.11/lib/python3.8/site-packages/qiime2/__init__.py\n"
     ]
    }
   ],
   "source": [
    "print(qiime2.__file__)"
   ]
  },
  {
   "cell_type": "code",
   "execution_count": 8,
   "id": "ab8c4206",
   "metadata": {},
   "outputs": [],
   "source": [
    "## Creating paths to store temp and out data ##\n",
    "if not os.path.exists(\"data/temp\"):\n",
    "    os.makedirs(\"data/temp\")\n",
    "if not os.path.exists(\"data/out\"):\n",
    "    os.makedirs(\"data/out\")"
   ]
  },
  {
   "cell_type": "code",
   "execution_count": 9,
   "id": "1ca66ce5",
   "metadata": {},
   "outputs": [],
   "source": [
    "from qiime2.plugins import feature_table\n",
    "from qiime2 import Artifact\n",
    "from qiime2.plugins.sample_classifier.pipelines import classify_samples\n",
    "from qiime2.plugins.feature_table.methods import filter_samples\n",
    "from qiime2 import Metadata\n",
    "from qiime2.plugins.diversity.pipelines import core_metrics\n",
    "from qiime2.plugins.diversity.pipelines import core_metrics_phylogenetic\n",
    "from qiime2.plugins.feature_table.visualizers import summarize\n",
    "from qiime2.plugins.diversity.methods import umap\n",
    "\n",
    "\n",
    "import pandas as pd\n",
    "import numpy as np\n",
    "import matplotlib.pyplot as plt\n",
    "import biom\n",
    "import skbio\n",
    "\n",
    "import seaborn as sns\n",
    "# %matplotlib inline "
   ]
  },
  {
   "cell_type": "code",
   "execution_count": 10,
   "id": "29afea0d",
   "metadata": {},
   "outputs": [],
   "source": [
    "!which"
   ]
  },
  {
   "cell_type": "markdown",
   "id": "48925cae",
   "metadata": {},
   "source": [
    "## Loading Data"
   ]
  },
  {
   "cell_type": "code",
   "execution_count": 11,
   "id": "7413dc2c",
   "metadata": {},
   "outputs": [],
   "source": [
    "## Obtaining file paths\n",
    "with open(\"config/data-params.json\") as fh:\n",
    "    file_paths = json.load(fh)"
   ]
  },
  {
   "cell_type": "code",
   "execution_count": 12,
   "id": "18be6564",
   "metadata": {},
   "outputs": [
    {
     "name": "stderr",
     "output_type": "stream",
     "text": [
      "/home/rherlim/DSC180-Q2-Project/src/data/make_dataset.py:29: DtypeWarning: Columns (1,2,3,4,6,7,8,10,11,12,13,14,17,18,19,20,25,26,27,29,30,31,32,33,34,35,36,37,38,40,41,42,43,44,45,46,55,56,57,61,62,63,64,65,66,67,69,70,71,72,73,75,76,78,80,82,83,84,85,86,87,88,89,90,91,92,95,98,99,102,103,104,105,106,107,108,109,111,119,121,122,123,124,125,126,127,128,129,130,131,132,133,134,136,138,139,141,142,143,144,145,146,147,148,152,153,155,156,157,160,164,165,168,169,170,172,173,174,175) have mixed types. Specify dtype option on import or set low_memory=False.\n",
      "  metadata = pd.read_csv(path, sep='\\t', index_col=0)\n"
     ]
    }
   ],
   "source": [
    "table = make_dataset.read_feature_table(file_paths[\"feature_table_path\"])\n",
    "metadata = make_dataset.read_metadata(file_paths[\"metadata_path\"])\n",
    "tree = make_dataset.read_tree_table(file_paths[\"tree_path\"])"
   ]
  },
  {
   "cell_type": "code",
   "execution_count": 13,
   "id": "b5d0213c",
   "metadata": {},
   "outputs": [
    {
     "name": "stdout",
     "output_type": "stream",
     "text": [
      "# Constructed from biom file\n",
      "#OTU ID\t11666.BLANK7.7B\t11666.BLANK5.5B\t11666.G0341A\t11666.BLANK3.3A\t11666.BLANK5.5E\n",
      "AACATAAGGGGCAAGCGTTGTCCGGAATCACTGGGCGTAAAGGGCGCGTAGGTGGTCTGTTAAGTCAGATGTGAAATGTAAGGGCTCAACCCTTAACGTGCATCTGATACTGGCAGACTTGAGTGCGGAAGAGGCAAGTGGAATTCCTAG\t0.0\t0.0\t0.0\t0.0\t0.0\n",
      "AACATAGGGGGCAAGCGTTGCCCGGAATCACTGGGCGTAAAGGGCGCGTAGGTGGTCTGTTAAGTCAGATGTGAAATGTAAGGGCTCAACCCTTAACGTGCATCTGATACTGGCAGACTTGAGTGCGGAAGAGGCAAGTGGAATTCCTAG\t0.0\t0.0\t0.0\t0.0\t0.0\n",
      "AACATAGGGGGCAAGCGTTGTCCGGAAACACTGGGCGTAAAGGGCGCGTAGGCGGTCTGTTAAGTCGGATGTGAAATGTAAGGGCTCAACCCTTAACGTGCATCTGATACTGGCAGACTTGAGTGCGGAAGAGGCAAGTGGAATTCCTAG\t0.0\t0.0\t0.0\t0.0\t0.0\n",
      "AACATAGGGGGCAAGCGTTGTCCGGAATCACTGGGCATAAAGGGCGCGTAGGTGGTTTGTTAAGTCAGATGTGAAATGTAGGGGCTCAACCCCTAACGTGCATCTGATACTGGCAGACTTGAGTGCGGAAGAGGCAAGTGGAATTCCTAG\t0.0\t0.0\t0.0\t0.0\t0.0\n",
      "AACATAGGGGGCAAGCGTTGTCCGGAATCACTGGGCGTAAAGAGCGCGTAGGTGGTCTGTTAAGTCAGATGTGAAATGTAAGGGCTCAACCCTTAACGTGCATCTGATACTGGCAGACTTGAGTGCGGAAGAGGCAAGTGGAATTCCTAG\t0.0\t0.0\t0.0\t0.0\t0.0\n"
     ]
    }
   ],
   "source": [
    "biom_table = table.view(biom.Table)\n",
    "print(biom_table.head())"
   ]
  },
  {
   "cell_type": "markdown",
   "id": "2c224977",
   "metadata": {},
   "source": [
    "## Load Metadata"
   ]
  },
  {
   "cell_type": "code",
   "execution_count": 14,
   "id": "1ec903b6",
   "metadata": {},
   "outputs": [
    {
     "data": {
      "text/html": [
       "<div>\n",
       "<style scoped>\n",
       "    .dataframe tbody tr th:only-of-type {\n",
       "        vertical-align: middle;\n",
       "    }\n",
       "\n",
       "    .dataframe tbody tr th {\n",
       "        vertical-align: top;\n",
       "    }\n",
       "\n",
       "    .dataframe thead th {\n",
       "        text-align: right;\n",
       "    }\n",
       "</style>\n",
       "<table border=\"1\" class=\"dataframe\">\n",
       "  <thead>\n",
       "    <tr style=\"text-align: right;\">\n",
       "      <th></th>\n",
       "      <th>abdominal_obesity_ncep_v2</th>\n",
       "      <th>ckd_v2</th>\n",
       "      <th>diabetes2_v2</th>\n",
       "      <th>hypertension2_v2</th>\n",
       "      <th>precvd_v2</th>\n",
       "      <th>elevated_bp_selfmeds_v2</th>\n",
       "      <th>dyslipidemia_v2</th>\n",
       "      <th>hispanic_origin</th>\n",
       "    </tr>\n",
       "    <tr>\n",
       "      <th>sample_name</th>\n",
       "      <th></th>\n",
       "      <th></th>\n",
       "      <th></th>\n",
       "      <th></th>\n",
       "      <th></th>\n",
       "      <th></th>\n",
       "      <th></th>\n",
       "      <th></th>\n",
       "    </tr>\n",
       "  </thead>\n",
       "  <tbody>\n",
       "    <tr>\n",
       "      <th>11666.G0001A</th>\n",
       "      <td>1.0</td>\n",
       "      <td>0.0</td>\n",
       "      <td>0.0</td>\n",
       "      <td>1.0</td>\n",
       "      <td>0.0</td>\n",
       "      <td>1.0</td>\n",
       "      <td>0.0</td>\n",
       "      <td>3.0</td>\n",
       "    </tr>\n",
       "    <tr>\n",
       "      <th>11666.G0002A</th>\n",
       "      <td>1.0</td>\n",
       "      <td>0.0</td>\n",
       "      <td>1.0</td>\n",
       "      <td>1.0</td>\n",
       "      <td>1.0</td>\n",
       "      <td>1.0</td>\n",
       "      <td>0.0</td>\n",
       "      <td>3.0</td>\n",
       "    </tr>\n",
       "    <tr>\n",
       "      <th>11666.G0003A</th>\n",
       "      <td>1.0</td>\n",
       "      <td>0.0</td>\n",
       "      <td>0.0</td>\n",
       "      <td>0.0</td>\n",
       "      <td>0.0</td>\n",
       "      <td>0.0</td>\n",
       "      <td>0.0</td>\n",
       "      <td>1.0</td>\n",
       "    </tr>\n",
       "    <tr>\n",
       "      <th>11666.G0004A</th>\n",
       "      <td>0.0</td>\n",
       "      <td>1.0</td>\n",
       "      <td>0.0</td>\n",
       "      <td>1.0</td>\n",
       "      <td>0.0</td>\n",
       "      <td>1.0</td>\n",
       "      <td>0.0</td>\n",
       "      <td>1.0</td>\n",
       "    </tr>\n",
       "    <tr>\n",
       "      <th>11666.G0005A</th>\n",
       "      <td>1.0</td>\n",
       "      <td>0.0</td>\n",
       "      <td>0.0</td>\n",
       "      <td>1.0</td>\n",
       "      <td>0.0</td>\n",
       "      <td>1.0</td>\n",
       "      <td>0.0</td>\n",
       "      <td>1.0</td>\n",
       "    </tr>\n",
       "    <tr>\n",
       "      <th>...</th>\n",
       "      <td>...</td>\n",
       "      <td>...</td>\n",
       "      <td>...</td>\n",
       "      <td>...</td>\n",
       "      <td>...</td>\n",
       "      <td>...</td>\n",
       "      <td>...</td>\n",
       "      <td>...</td>\n",
       "    </tr>\n",
       "    <tr>\n",
       "      <th>11666.G1777A</th>\n",
       "      <td>0.0</td>\n",
       "      <td>1.0</td>\n",
       "      <td>0.0</td>\n",
       "      <td>1.0</td>\n",
       "      <td>0.0</td>\n",
       "      <td>1.0</td>\n",
       "      <td>1.0</td>\n",
       "      <td>4.0</td>\n",
       "    </tr>\n",
       "    <tr>\n",
       "      <th>11666.G1778A</th>\n",
       "      <td>1.0</td>\n",
       "      <td>1.0</td>\n",
       "      <td>0.0</td>\n",
       "      <td>1.0</td>\n",
       "      <td>1.0</td>\n",
       "      <td>1.0</td>\n",
       "      <td>0.0</td>\n",
       "      <td>4.0</td>\n",
       "    </tr>\n",
       "    <tr>\n",
       "      <th>11666.G1779A</th>\n",
       "      <td>1.0</td>\n",
       "      <td>0.0</td>\n",
       "      <td>1.0</td>\n",
       "      <td>1.0</td>\n",
       "      <td>0.0</td>\n",
       "      <td>1.0</td>\n",
       "      <td>0.0</td>\n",
       "      <td>4.0</td>\n",
       "    </tr>\n",
       "    <tr>\n",
       "      <th>11666.G1780A</th>\n",
       "      <td>1.0</td>\n",
       "      <td>1.0</td>\n",
       "      <td>1.0</td>\n",
       "      <td>1.0</td>\n",
       "      <td>0.0</td>\n",
       "      <td>1.0</td>\n",
       "      <td>1.0</td>\n",
       "      <td>4.0</td>\n",
       "    </tr>\n",
       "    <tr>\n",
       "      <th>11666.G1781A</th>\n",
       "      <td>1.0</td>\n",
       "      <td>1.0</td>\n",
       "      <td>0.0</td>\n",
       "      <td>1.0</td>\n",
       "      <td>0.0</td>\n",
       "      <td>1.0</td>\n",
       "      <td>0.0</td>\n",
       "      <td>2.0</td>\n",
       "    </tr>\n",
       "  </tbody>\n",
       "</table>\n",
       "<p>1747 rows × 8 columns</p>\n",
       "</div>"
      ],
      "text/plain": [
       "              abdominal_obesity_ncep_v2  ckd_v2  diabetes2_v2  \\\n",
       "sample_name                                                     \n",
       "11666.G0001A                        1.0     0.0           0.0   \n",
       "11666.G0002A                        1.0     0.0           1.0   \n",
       "11666.G0003A                        1.0     0.0           0.0   \n",
       "11666.G0004A                        0.0     1.0           0.0   \n",
       "11666.G0005A                        1.0     0.0           0.0   \n",
       "...                                 ...     ...           ...   \n",
       "11666.G1777A                        0.0     1.0           0.0   \n",
       "11666.G1778A                        1.0     1.0           0.0   \n",
       "11666.G1779A                        1.0     0.0           1.0   \n",
       "11666.G1780A                        1.0     1.0           1.0   \n",
       "11666.G1781A                        1.0     1.0           0.0   \n",
       "\n",
       "              hypertension2_v2  precvd_v2  elevated_bp_selfmeds_v2  \\\n",
       "sample_name                                                          \n",
       "11666.G0001A               1.0        0.0                      1.0   \n",
       "11666.G0002A               1.0        1.0                      1.0   \n",
       "11666.G0003A               0.0        0.0                      0.0   \n",
       "11666.G0004A               1.0        0.0                      1.0   \n",
       "11666.G0005A               1.0        0.0                      1.0   \n",
       "...                        ...        ...                      ...   \n",
       "11666.G1777A               1.0        0.0                      1.0   \n",
       "11666.G1778A               1.0        1.0                      1.0   \n",
       "11666.G1779A               1.0        0.0                      1.0   \n",
       "11666.G1780A               1.0        0.0                      1.0   \n",
       "11666.G1781A               1.0        0.0                      1.0   \n",
       "\n",
       "              dyslipidemia_v2  hispanic_origin  \n",
       "sample_name                                     \n",
       "11666.G0001A              0.0              3.0  \n",
       "11666.G0002A              0.0              3.0  \n",
       "11666.G0003A              0.0              1.0  \n",
       "11666.G0004A              0.0              1.0  \n",
       "11666.G0005A              0.0              1.0  \n",
       "...                       ...              ...  \n",
       "11666.G1777A              1.0              4.0  \n",
       "11666.G1778A              0.0              4.0  \n",
       "11666.G1779A              0.0              4.0  \n",
       "11666.G1780A              1.0              4.0  \n",
       "11666.G1781A              0.0              2.0  \n",
       "\n",
       "[1747 rows x 8 columns]"
      ]
     },
     "execution_count": 14,
     "metadata": {},
     "output_type": "execute_result"
    }
   ],
   "source": [
    "qiime_metadata = Metadata.load(\"data/temp/final_metadata.tsv\") #Cleaned metadata\n",
    "qiime_metadata.to_dataframe()"
   ]
  },
  {
   "cell_type": "code",
   "execution_count": 15,
   "id": "0d1d7fd3",
   "metadata": {},
   "outputs": [
    {
     "data": {
      "text/plain": [
       "57181 x 1747 <class 'biom.table.Table'> with 342969 nonzero entries (0% dense)"
      ]
     },
     "execution_count": 15,
     "metadata": {},
     "output_type": "execute_result"
    }
   ],
   "source": [
    "#Filter feature table based on cleaned metadata\n",
    "updated_feature_table = filter_samples(table, metadata = qiime_metadata).filtered_table\n",
    "biom_table = updated_feature_table.view(biom.Table)\n",
    "biom_table #around 4000 rows was removed"
   ]
  },
  {
   "cell_type": "markdown",
   "id": "04bbd6de",
   "metadata": {},
   "source": [
    "## Feature Table Exploration"
   ]
  },
  {
   "cell_type": "markdown",
   "id": "ffa1778d",
   "metadata": {},
   "source": [
    "### The analyses below does NOT incorporate a phylogenetic tree for now"
   ]
  },
  {
   "cell_type": "code",
   "execution_count": 16,
   "id": "ca1f352e",
   "metadata": {},
   "outputs": [
    {
     "data": {
      "text/plain": [
       "'data/out/ft_summary.qzv'"
      ]
     },
     "execution_count": 16,
     "metadata": {},
     "output_type": "execute_result"
    }
   ],
   "source": [
    "summary = summarize(updated_feature_table, qiime_metadata)\n",
    "summary.visualization.save('data/out/ft_summary')"
   ]
  },
  {
   "cell_type": "markdown",
   "id": "1f20af0a",
   "metadata": {},
   "source": [
    "From the summary visualizations and statistics, we see that most features only appear in less than 3 samples, therefore we are going to drop the features that appear less than 3 times in order to reduce noise."
   ]
  },
  {
   "cell_type": "code",
   "execution_count": 17,
   "id": "a3b1b6be",
   "metadata": {},
   "outputs": [
    {
     "data": {
      "text/plain": [
       "(1747, 57181)"
      ]
     },
     "execution_count": 17,
     "metadata": {},
     "output_type": "execute_result"
    }
   ],
   "source": [
    "feat_table = updated_feature_table.view(pd.DataFrame)\n",
    "feat_table.shape"
   ]
  },
  {
   "cell_type": "code",
   "execution_count": 18,
   "id": "859fcf2d",
   "metadata": {},
   "outputs": [
    {
     "data": {
      "text/plain": [
       "'data/out/ft_summary_3.qzv'"
      ]
     },
     "execution_count": 18,
     "metadata": {},
     "output_type": "execute_result"
    }
   ],
   "source": [
    "#Drop the feature columns that appear in less than 3 samples\n",
    "feat_table_3 = feat_table[feat_table.columns[((feat_table > 0).sum() > 3)]]\n",
    "\n",
    "#Import DataFrame back into FeatureTable artifact and export the summary\n",
    "cleaned_feature_table = Artifact.import_data(\"FeatureTable[Frequency]\", feat_table_3)\n",
    "\n",
    "summary_cleaned = summarize(cleaned_feature_table, qiime_metadata)\n",
    "summary_cleaned.visualization.save('data/out/ft_summary_3')"
   ]
  },
  {
   "cell_type": "code",
   "execution_count": 19,
   "id": "99d4531b",
   "metadata": {},
   "outputs": [
    {
     "data": {
      "text/plain": [
       "(1747, 3985)"
      ]
     },
     "execution_count": 19,
     "metadata": {},
     "output_type": "execute_result"
    }
   ],
   "source": [
    "feat_table_3.shape\n"
   ]
  },
  {
   "cell_type": "code",
   "execution_count": 20,
   "id": "560ce95f",
   "metadata": {},
   "outputs": [
    {
     "data": {
      "text/plain": [
       "'data/out/ft_summary_10.qzv'"
      ]
     },
     "execution_count": 20,
     "metadata": {},
     "output_type": "execute_result"
    }
   ],
   "source": [
    "#Drop the feature columns that appear in less than 10 samples\n",
    "feat_table_10 = feat_table[feat_table.columns[((feat_table > 0).sum() > 10)]]\n",
    "\n",
    "#Import DataFrame back into FeatureTable artifact and export the summary\n",
    "cleaned_feature_table = Artifact.import_data(\"FeatureTable[Frequency]\", feat_table_10)\n",
    "\n",
    "summary_cleaned = summarize(cleaned_feature_table, qiime_metadata)\n",
    "summary_cleaned.visualization.save('data/out/ft_summary_10')"
   ]
  },
  {
   "cell_type": "code",
   "execution_count": 21,
   "id": "7d78a3b7",
   "metadata": {},
   "outputs": [
    {
     "data": {
      "text/plain": [
       "(1747, 2002)"
      ]
     },
     "execution_count": 21,
     "metadata": {},
     "output_type": "execute_result"
    }
   ],
   "source": [
    "feat_table_10.shape\n"
   ]
  },
  {
   "cell_type": "markdown",
   "id": "91c32db5",
   "metadata": {},
   "source": [
    "# Feature Table Metrics Analysis\n",
    "\n",
    "First figure out the feature table rarefication, save the plots generated by Qiime2 core_metrics, then create the following:\n",
    "1. Distance matrices: Unifrac distance matrix, Jaccard distance matrix, Bray Curtis distance matrix\n",
    "2. PCOA plots with the different distance matrices\n",
    "    - save the plots for visualization\n",
    "    \n",
    "    \n",
    "3. UMAP plots with the different distance matrices\n",
    "    - save the plots for visualization\n",
    "    \n",
    "    \n",
    "4. Finally follow up with a statistical test or regression\n",
    "    - Ex) PERMANOVA test on PCOA results\n",
    "    - Ex) Use the reduced dimension embeddings to feed into the regression model"
   ]
  },
  {
   "cell_type": "markdown",
   "id": "9e31d222",
   "metadata": {},
   "source": [
    "With the information we gained from the summary, we decided to rarefy the table with a sampling depth of _7930_ we retained _12,489,750 (52.48%) features in 1575 (90.00%) samples_ at the specifed sampling depth. We made this decision to maximize the amount of features while preserving the amount of samples in our data."
   ]
  },
  {
   "cell_type": "code",
   "execution_count": 22,
   "id": "c5930c12",
   "metadata": {},
   "outputs": [
    {
     "name": "stderr",
     "output_type": "stream",
     "text": [
      "/home/rherlim/.local/lib/python3.8/site-packages/sklearn/metrics/pairwise.py:1765: DataConversionWarning: Data was converted to boolean for metric jaccard\n",
      "  warnings.warn(msg, DataConversionWarning)\n",
      "/opt/conda/envs/qiime2-2022.11/lib/python3.8/site-packages/skbio/stats/ordination/_principal_coordinate_analysis.py:143: RuntimeWarning: The result contains negative eigenvalues. Please compare their magnitude with the magnitude of some of the largest positive eigenvalues. If the negative ones are smaller, it's probably safe to ignore them, but if they are large in magnitude, the results won't be useful. See the Notes section for more details. The smallest eigenvalue is -0.06792755593424003 and the largest is 35.174515449120484.\n",
      "  warn(\n",
      "/opt/conda/envs/qiime2-2022.11/lib/python3.8/site-packages/skbio/stats/ordination/_principal_coordinate_analysis.py:143: RuntimeWarning: The result contains negative eigenvalues. Please compare their magnitude with the magnitude of some of the largest positive eigenvalues. If the negative ones are smaller, it's probably safe to ignore them, but if they are large in magnitude, the results won't be useful. See the Notes section for more details. The smallest eigenvalue is -2.1672293637663014 and the largest is 125.23443866647797.\n",
      "  warn(\n"
     ]
    }
   ],
   "source": [
    "# Create the feature table metrics object\n",
    "\n",
    "feat_table = cleaned_feature_table\n",
    "depth = 7930\n",
    "metadata = qiime_metadata\n",
    "feature_table_metrics = metrics_analysis.extract_core_metrics(feat_table, depth, metadata)\n"
   ]
  },
  {
   "cell_type": "code",
   "execution_count": 23,
   "id": "e0b4934e",
   "metadata": {},
   "outputs": [],
   "source": [
    "# # Create the feature table metrics object with tree\n",
    "# feat_table = cleaned_feature_table\n",
    "# depth = 7930\n",
    "# metadata = qiime_metadata\n",
    "# # feature_table_metrics = core_metrics_phylogenetic(feat_table, tree, depth, metadata)\n",
    "\n"
   ]
  },
  {
   "cell_type": "code",
   "execution_count": 41,
   "id": "e874318d",
   "metadata": {},
   "outputs": [
    {
     "name": "stdout",
     "output_type": "stream",
     "text": [
      "Running external command line application. This may print messages to stdout and/or stderr.\n",
      "The command being run is below. This command cannot be manually re-run as it will depend on temporary files that no longer exist.\n",
      "\n",
      "Command:\n",
      "\n",
      "ssu -i /tmp/qiime2/rherlim/data/99f18440-9675-49f8-b834-0ecc0dc9f97b/data/feature-table.biom -t /tmp/qiime2/rherlim/data/89eb2cfa-9e8c-462a-a9a7-93e7812fa767/data/tree.nwk -m unweighted -o /tmp/q2-LSMatFormat-w2f5t4xv\n",
      "\n"
     ]
    },
    {
     "ename": "FileNotFoundError",
     "evalue": "[Errno 2] No such file or directory: 'ssu'",
     "output_type": "error",
     "traceback": [
      "\u001b[0;31m---------------------------------------------------------------------------\u001b[0m",
      "\u001b[0;31mFileNotFoundError\u001b[0m                         Traceback (most recent call last)",
      "Cell \u001b[0;32mIn[41], line 15\u001b[0m\n\u001b[1;32m      1\u001b[0m \u001b[38;5;28;01mfrom\u001b[39;00m \u001b[38;5;21;01mqiime2\u001b[39;00m\u001b[38;5;21;01m.\u001b[39;00m\u001b[38;5;21;01mplugins\u001b[39;00m\u001b[38;5;21;01m.\u001b[39;00m\u001b[38;5;21;01mdiversity_lib\u001b[39;00m\u001b[38;5;21;01m.\u001b[39;00m\u001b[38;5;21;01mmethods\u001b[39;00m \u001b[38;5;28;01mimport\u001b[39;00m unweighted_unifrac\n\u001b[1;32m      2\u001b[0m \u001b[38;5;124;03m'''\u001b[39;00m\n\u001b[1;32m      3\u001b[0m \u001b[38;5;124;03mParameters\u001b[39;00m\n\u001b[1;32m      4\u001b[0m \u001b[38;5;124;03m----------\u001b[39;00m\n\u001b[0;32m   (...)\u001b[0m\n\u001b[1;32m     13\u001b[0m \n\u001b[1;32m     14\u001b[0m \u001b[38;5;124;03m'''\u001b[39;00m\n\u001b[0;32m---> 15\u001b[0m u_unifrac \u001b[38;5;241m=\u001b[39m \u001b[43munweighted_unifrac\u001b[49m\u001b[43m(\u001b[49m\u001b[43mfeat_table\u001b[49m\u001b[43m,\u001b[49m\u001b[43m \u001b[49m\u001b[43mtree\u001b[49m\u001b[43m)\u001b[49m\n\u001b[1;32m     16\u001b[0m u_unifrac\n",
      "File \u001b[0;32m<decorator-gen-186>:2\u001b[0m, in \u001b[0;36munweighted_unifrac\u001b[0;34m(table, phylogeny, threads, bypass_tips)\u001b[0m\n",
      "File \u001b[0;32m/opt/conda/envs/qiime2-2022.11/lib/python3.8/site-packages/qiime2/sdk/action.py:234\u001b[0m, in \u001b[0;36mAction._bind.<locals>.bound_callable\u001b[0;34m(*args, **kwargs)\u001b[0m\n\u001b[1;32m    230\u001b[0m         warn(\u001b[38;5;28mself\u001b[39m\u001b[38;5;241m.\u001b[39m_build_deprecation_message(),\n\u001b[1;32m    231\u001b[0m              \u001b[38;5;167;01mFutureWarning\u001b[39;00m)\n\u001b[1;32m    233\u001b[0m \u001b[38;5;66;03m# Execute\u001b[39;00m\n\u001b[0;32m--> 234\u001b[0m outputs \u001b[38;5;241m=\u001b[39m \u001b[38;5;28;43mself\u001b[39;49m\u001b[38;5;241;43m.\u001b[39;49m\u001b[43m_callable_executor_\u001b[49m\u001b[43m(\u001b[49m\u001b[43mscope\u001b[49m\u001b[43m,\u001b[49m\u001b[43m \u001b[49m\u001b[43mcallable_args\u001b[49m\u001b[43m,\u001b[49m\n\u001b[1;32m    235\u001b[0m \u001b[43m                                   \u001b[49m\u001b[43moutput_types\u001b[49m\u001b[43m,\u001b[49m\u001b[43m \u001b[49m\u001b[43mprovenance\u001b[49m\u001b[43m)\u001b[49m\n\u001b[1;32m    237\u001b[0m \u001b[38;5;28;01mif\u001b[39;00m \u001b[38;5;28mlen\u001b[39m(outputs) \u001b[38;5;241m!=\u001b[39m \u001b[38;5;28mlen\u001b[39m(\u001b[38;5;28mself\u001b[39m\u001b[38;5;241m.\u001b[39msignature\u001b[38;5;241m.\u001b[39moutputs):\n\u001b[1;32m    238\u001b[0m     \u001b[38;5;28;01mraise\u001b[39;00m \u001b[38;5;167;01mValueError\u001b[39;00m(\n\u001b[1;32m    239\u001b[0m         \u001b[38;5;124m\"\u001b[39m\u001b[38;5;124mNumber of callable outputs must match number of \u001b[39m\u001b[38;5;124m\"\u001b[39m\n\u001b[1;32m    240\u001b[0m         \u001b[38;5;124m\"\u001b[39m\u001b[38;5;124moutputs defined in signature: \u001b[39m\u001b[38;5;132;01m%d\u001b[39;00m\u001b[38;5;124m != \u001b[39m\u001b[38;5;132;01m%d\u001b[39;00m\u001b[38;5;124m\"\u001b[39m \u001b[38;5;241m%\u001b[39m\n\u001b[1;32m    241\u001b[0m         (\u001b[38;5;28mlen\u001b[39m(outputs), \u001b[38;5;28mlen\u001b[39m(\u001b[38;5;28mself\u001b[39m\u001b[38;5;241m.\u001b[39msignature\u001b[38;5;241m.\u001b[39moutputs)))\n",
      "File \u001b[0;32m/opt/conda/envs/qiime2-2022.11/lib/python3.8/site-packages/qiime2/sdk/action.py:381\u001b[0m, in \u001b[0;36mMethod._callable_executor_\u001b[0;34m(self, scope, view_args, output_types, provenance)\u001b[0m\n\u001b[1;32m    380\u001b[0m \u001b[38;5;28;01mdef\u001b[39;00m \u001b[38;5;21m_callable_executor_\u001b[39m(\u001b[38;5;28mself\u001b[39m, scope, view_args, output_types, provenance):\n\u001b[0;32m--> 381\u001b[0m     output_views \u001b[38;5;241m=\u001b[39m \u001b[38;5;28;43mself\u001b[39;49m\u001b[38;5;241;43m.\u001b[39;49m\u001b[43m_callable\u001b[49m\u001b[43m(\u001b[49m\u001b[38;5;241;43m*\u001b[39;49m\u001b[38;5;241;43m*\u001b[39;49m\u001b[43mview_args\u001b[49m\u001b[43m)\u001b[49m\n\u001b[1;32m    382\u001b[0m     output_views \u001b[38;5;241m=\u001b[39m tuplize(output_views)\n\u001b[1;32m    384\u001b[0m     \u001b[38;5;66;03m# TODO this won't work if the user has annotated their \"view API\" to\u001b[39;00m\n\u001b[1;32m    385\u001b[0m     \u001b[38;5;66;03m# return a `typing.Tuple` with some number of components. Python will\u001b[39;00m\n\u001b[1;32m    386\u001b[0m     \u001b[38;5;66;03m# return a tuple when there are multiple return values, and this length\u001b[39;00m\n\u001b[0;32m   (...)\u001b[0m\n\u001b[1;32m    389\u001b[0m     \u001b[38;5;66;03m# due to how Python handles multiple returns, and can be worked around\u001b[39;00m\n\u001b[1;32m    390\u001b[0m     \u001b[38;5;66;03m# by using something like `typing.List` instead.\u001b[39;00m\n",
      "File \u001b[0;32m<decorator-gen-99>:2\u001b[0m, in \u001b[0;36munweighted_unifrac\u001b[0;34m(table, phylogeny, threads, bypass_tips)\u001b[0m\n",
      "File \u001b[0;32m/opt/conda/envs/qiime2-2022.11/lib/python3.8/site-packages/q2_diversity_lib/_util.py:69\u001b[0m, in \u001b[0;36m_disallow_empty_tables\u001b[0;34m(wrapped_function, *args, **kwargs)\u001b[0m\n\u001b[1;32m     66\u001b[0m     \u001b[38;5;28;01mif\u001b[39;00m tab_obj\u001b[38;5;241m.\u001b[39mis_empty():\n\u001b[1;32m     67\u001b[0m         \u001b[38;5;28;01mraise\u001b[39;00m \u001b[38;5;167;01mValueError\u001b[39;00m(\u001b[38;5;124m\"\u001b[39m\u001b[38;5;124mThe provided table is empty\u001b[39m\u001b[38;5;124m\"\u001b[39m)\n\u001b[0;32m---> 69\u001b[0m \u001b[38;5;28;01mreturn\u001b[39;00m \u001b[43mwrapped_function\u001b[49m\u001b[43m(\u001b[49m\u001b[38;5;241;43m*\u001b[39;49m\u001b[43margs\u001b[49m\u001b[43m,\u001b[49m\u001b[43m \u001b[49m\u001b[38;5;241;43m*\u001b[39;49m\u001b[38;5;241;43m*\u001b[39;49m\u001b[43mkwargs\u001b[49m\u001b[43m)\u001b[49m\n",
      "File \u001b[0;32m<decorator-gen-98>:2\u001b[0m, in \u001b[0;36munweighted_unifrac\u001b[0;34m(table, phylogeny, threads, bypass_tips)\u001b[0m\n",
      "File \u001b[0;32m/opt/conda/envs/qiime2-2022.11/lib/python3.8/site-packages/q2_diversity_lib/_util.py:112\u001b[0m, in \u001b[0;36m_validate_requested_cpus\u001b[0;34m(wrapped_function, *args, **kwargs)\u001b[0m\n\u001b[1;32m    107\u001b[0m \u001b[38;5;28;01mif\u001b[39;00m cpus_requested \u001b[38;5;241m>\u001b[39m cpus_available:\n\u001b[1;32m    108\u001b[0m     \u001b[38;5;28;01mraise\u001b[39;00m \u001b[38;5;167;01mValueError\u001b[39;00m(\u001b[38;5;124mf\u001b[39m\u001b[38;5;124m\"\u001b[39m\u001b[38;5;124mThe value passed to \u001b[39m\u001b[38;5;124m'\u001b[39m\u001b[38;5;132;01m{\u001b[39;00mparam_name\u001b[38;5;132;01m}\u001b[39;00m\u001b[38;5;124m'\u001b[39m\u001b[38;5;124m cannot exceed \u001b[39m\u001b[38;5;124m\"\u001b[39m\n\u001b[1;32m    109\u001b[0m                      \u001b[38;5;124mf\u001b[39m\u001b[38;5;124m\"\u001b[39m\u001b[38;5;124mthe number of processors (\u001b[39m\u001b[38;5;132;01m{\u001b[39;00mcpus_available\u001b[38;5;132;01m}\u001b[39;00m\u001b[38;5;124m) \u001b[39m\u001b[38;5;124m\"\u001b[39m\n\u001b[1;32m    110\u001b[0m                      \u001b[38;5;124m\"\u001b[39m\u001b[38;5;124mavailable to the system.\u001b[39m\u001b[38;5;124m\"\u001b[39m)\n\u001b[0;32m--> 112\u001b[0m \u001b[38;5;28;01mreturn\u001b[39;00m \u001b[43mwrapped_function\u001b[49m\u001b[43m(\u001b[49m\u001b[38;5;241;43m*\u001b[39;49m\u001b[43mbound_arguments\u001b[49m\u001b[38;5;241;43m.\u001b[39;49m\u001b[43margs\u001b[49m\u001b[43m,\u001b[49m\u001b[43m \u001b[49m\u001b[38;5;241;43m*\u001b[39;49m\u001b[38;5;241;43m*\u001b[39;49m\u001b[43mbound_arguments\u001b[49m\u001b[38;5;241;43m.\u001b[39;49m\u001b[43mkwargs\u001b[49m\u001b[43m)\u001b[49m\n",
      "File \u001b[0;32m/opt/conda/envs/qiime2-2022.11/lib/python3.8/site-packages/q2_diversity_lib/beta.py:221\u001b[0m, in \u001b[0;36munweighted_unifrac\u001b[0;34m(table, phylogeny, threads, bypass_tips)\u001b[0m\n\u001b[1;32m    218\u001b[0m \u001b[38;5;28;01mif\u001b[39;00m bypass_tips:\n\u001b[1;32m    219\u001b[0m     cmd \u001b[38;5;241m+\u001b[39m\u001b[38;5;241m=\u001b[39m [\u001b[38;5;124m'\u001b[39m\u001b[38;5;124m-f\u001b[39m\u001b[38;5;124m'\u001b[39m]\n\u001b[0;32m--> 221\u001b[0m \u001b[43m_omp_cmd_wrapper\u001b[49m\u001b[43m(\u001b[49m\u001b[43mthreads\u001b[49m\u001b[43m,\u001b[49m\u001b[43m \u001b[49m\u001b[43mcmd\u001b[49m\u001b[43m)\u001b[49m\n\u001b[1;32m    223\u001b[0m \u001b[38;5;28;01mreturn\u001b[39;00m result\n",
      "File \u001b[0;32m/opt/conda/envs/qiime2-2022.11/lib/python3.8/site-packages/q2_diversity_lib/_util.py:128\u001b[0m, in \u001b[0;36m_omp_cmd_wrapper\u001b[0;34m(threads, cmd, verbose)\u001b[0m\n\u001b[1;32m    126\u001b[0m env \u001b[38;5;241m=\u001b[39m environ\u001b[38;5;241m.\u001b[39mcopy()\n\u001b[1;32m    127\u001b[0m env\u001b[38;5;241m.\u001b[39mupdate({\u001b[38;5;124m'\u001b[39m\u001b[38;5;124mOMP_NUM_THREADS\u001b[39m\u001b[38;5;124m'\u001b[39m: \u001b[38;5;28mstr\u001b[39m(threads)})\n\u001b[0;32m--> 128\u001b[0m \u001b[38;5;28;01mreturn\u001b[39;00m \u001b[43m_run_external_cmd\u001b[49m\u001b[43m(\u001b[49m\u001b[43mcmd\u001b[49m\u001b[43m,\u001b[49m\u001b[43m \u001b[49m\u001b[43mverbose\u001b[49m\u001b[38;5;241;43m=\u001b[39;49m\u001b[43mverbose\u001b[49m\u001b[43m,\u001b[49m\u001b[43m \u001b[49m\u001b[43menv\u001b[49m\u001b[38;5;241;43m=\u001b[39;49m\u001b[43menv\u001b[49m\u001b[43m)\u001b[49m\n",
      "File \u001b[0;32m/opt/conda/envs/qiime2-2022.11/lib/python3.8/site-packages/q2_diversity_lib/_util.py:122\u001b[0m, in \u001b[0;36m_run_external_cmd\u001b[0;34m(cmd, verbose, env)\u001b[0m\n\u001b[1;32m    117\u001b[0m     \u001b[38;5;28mprint\u001b[39m(\u001b[38;5;124m\"\u001b[39m\u001b[38;5;124mRunning external command line application. This may print\u001b[39m\u001b[38;5;124m\"\u001b[39m\n\u001b[1;32m    118\u001b[0m           \u001b[38;5;124m\"\u001b[39m\u001b[38;5;124m messages to stdout and/or stderr.\u001b[39m\u001b[38;5;130;01m\\n\u001b[39;00m\u001b[38;5;124mThe command being run is\u001b[39m\u001b[38;5;124m\"\u001b[39m\n\u001b[1;32m    119\u001b[0m           \u001b[38;5;124m\"\u001b[39m\u001b[38;5;124m below. This command cannot be manually re-run as it will\u001b[39m\u001b[38;5;124m\"\u001b[39m\n\u001b[1;32m    120\u001b[0m           \u001b[38;5;124m\"\u001b[39m\u001b[38;5;124m depend on temporary files that no longer exist.\u001b[39m\u001b[38;5;130;01m\\n\u001b[39;00m\u001b[38;5;130;01m\\n\u001b[39;00m\u001b[38;5;124mCommand:\u001b[39m\u001b[38;5;130;01m\\n\u001b[39;00m\u001b[38;5;124m\"\u001b[39m)\n\u001b[1;32m    121\u001b[0m     \u001b[38;5;28mprint\u001b[39m(\u001b[38;5;124m\"\u001b[39m\u001b[38;5;124m \u001b[39m\u001b[38;5;124m\"\u001b[39m\u001b[38;5;241m.\u001b[39mjoin(cmd), end\u001b[38;5;241m=\u001b[39m\u001b[38;5;124m'\u001b[39m\u001b[38;5;130;01m\\n\u001b[39;00m\u001b[38;5;130;01m\\n\u001b[39;00m\u001b[38;5;124m'\u001b[39m)\n\u001b[0;32m--> 122\u001b[0m \u001b[38;5;28;01mreturn\u001b[39;00m \u001b[43msubprocess\u001b[49m\u001b[38;5;241;43m.\u001b[39;49m\u001b[43mrun\u001b[49m\u001b[43m(\u001b[49m\u001b[43mcmd\u001b[49m\u001b[43m,\u001b[49m\u001b[43m \u001b[49m\u001b[43mcheck\u001b[49m\u001b[38;5;241;43m=\u001b[39;49m\u001b[38;5;28;43;01mTrue\u001b[39;49;00m\u001b[43m,\u001b[49m\u001b[43m \u001b[49m\u001b[43menv\u001b[49m\u001b[38;5;241;43m=\u001b[39;49m\u001b[43menv\u001b[49m\u001b[43m)\u001b[49m\n",
      "File \u001b[0;32m/opt/conda/envs/qiime2-2022.11/lib/python3.8/subprocess.py:493\u001b[0m, in \u001b[0;36mrun\u001b[0;34m(input, capture_output, timeout, check, *popenargs, **kwargs)\u001b[0m\n\u001b[1;32m    490\u001b[0m     kwargs[\u001b[38;5;124m'\u001b[39m\u001b[38;5;124mstdout\u001b[39m\u001b[38;5;124m'\u001b[39m] \u001b[38;5;241m=\u001b[39m PIPE\n\u001b[1;32m    491\u001b[0m     kwargs[\u001b[38;5;124m'\u001b[39m\u001b[38;5;124mstderr\u001b[39m\u001b[38;5;124m'\u001b[39m] \u001b[38;5;241m=\u001b[39m PIPE\n\u001b[0;32m--> 493\u001b[0m \u001b[38;5;28;01mwith\u001b[39;00m \u001b[43mPopen\u001b[49m\u001b[43m(\u001b[49m\u001b[38;5;241;43m*\u001b[39;49m\u001b[43mpopenargs\u001b[49m\u001b[43m,\u001b[49m\u001b[43m \u001b[49m\u001b[38;5;241;43m*\u001b[39;49m\u001b[38;5;241;43m*\u001b[39;49m\u001b[43mkwargs\u001b[49m\u001b[43m)\u001b[49m \u001b[38;5;28;01mas\u001b[39;00m process:\n\u001b[1;32m    494\u001b[0m     \u001b[38;5;28;01mtry\u001b[39;00m:\n\u001b[1;32m    495\u001b[0m         stdout, stderr \u001b[38;5;241m=\u001b[39m process\u001b[38;5;241m.\u001b[39mcommunicate(\u001b[38;5;28minput\u001b[39m, timeout\u001b[38;5;241m=\u001b[39mtimeout)\n",
      "File \u001b[0;32m/opt/conda/envs/qiime2-2022.11/lib/python3.8/subprocess.py:858\u001b[0m, in \u001b[0;36mPopen.__init__\u001b[0;34m(self, args, bufsize, executable, stdin, stdout, stderr, preexec_fn, close_fds, shell, cwd, env, universal_newlines, startupinfo, creationflags, restore_signals, start_new_session, pass_fds, encoding, errors, text)\u001b[0m\n\u001b[1;32m    854\u001b[0m         \u001b[38;5;28;01mif\u001b[39;00m \u001b[38;5;28mself\u001b[39m\u001b[38;5;241m.\u001b[39mtext_mode:\n\u001b[1;32m    855\u001b[0m             \u001b[38;5;28mself\u001b[39m\u001b[38;5;241m.\u001b[39mstderr \u001b[38;5;241m=\u001b[39m io\u001b[38;5;241m.\u001b[39mTextIOWrapper(\u001b[38;5;28mself\u001b[39m\u001b[38;5;241m.\u001b[39mstderr,\n\u001b[1;32m    856\u001b[0m                     encoding\u001b[38;5;241m=\u001b[39mencoding, errors\u001b[38;5;241m=\u001b[39merrors)\n\u001b[0;32m--> 858\u001b[0m     \u001b[38;5;28;43mself\u001b[39;49m\u001b[38;5;241;43m.\u001b[39;49m\u001b[43m_execute_child\u001b[49m\u001b[43m(\u001b[49m\u001b[43margs\u001b[49m\u001b[43m,\u001b[49m\u001b[43m \u001b[49m\u001b[43mexecutable\u001b[49m\u001b[43m,\u001b[49m\u001b[43m \u001b[49m\u001b[43mpreexec_fn\u001b[49m\u001b[43m,\u001b[49m\u001b[43m \u001b[49m\u001b[43mclose_fds\u001b[49m\u001b[43m,\u001b[49m\n\u001b[1;32m    859\u001b[0m \u001b[43m                        \u001b[49m\u001b[43mpass_fds\u001b[49m\u001b[43m,\u001b[49m\u001b[43m \u001b[49m\u001b[43mcwd\u001b[49m\u001b[43m,\u001b[49m\u001b[43m \u001b[49m\u001b[43menv\u001b[49m\u001b[43m,\u001b[49m\n\u001b[1;32m    860\u001b[0m \u001b[43m                        \u001b[49m\u001b[43mstartupinfo\u001b[49m\u001b[43m,\u001b[49m\u001b[43m \u001b[49m\u001b[43mcreationflags\u001b[49m\u001b[43m,\u001b[49m\u001b[43m \u001b[49m\u001b[43mshell\u001b[49m\u001b[43m,\u001b[49m\n\u001b[1;32m    861\u001b[0m \u001b[43m                        \u001b[49m\u001b[43mp2cread\u001b[49m\u001b[43m,\u001b[49m\u001b[43m \u001b[49m\u001b[43mp2cwrite\u001b[49m\u001b[43m,\u001b[49m\n\u001b[1;32m    862\u001b[0m \u001b[43m                        \u001b[49m\u001b[43mc2pread\u001b[49m\u001b[43m,\u001b[49m\u001b[43m \u001b[49m\u001b[43mc2pwrite\u001b[49m\u001b[43m,\u001b[49m\n\u001b[1;32m    863\u001b[0m \u001b[43m                        \u001b[49m\u001b[43merrread\u001b[49m\u001b[43m,\u001b[49m\u001b[43m \u001b[49m\u001b[43merrwrite\u001b[49m\u001b[43m,\u001b[49m\n\u001b[1;32m    864\u001b[0m \u001b[43m                        \u001b[49m\u001b[43mrestore_signals\u001b[49m\u001b[43m,\u001b[49m\u001b[43m \u001b[49m\u001b[43mstart_new_session\u001b[49m\u001b[43m)\u001b[49m\n\u001b[1;32m    865\u001b[0m \u001b[38;5;28;01mexcept\u001b[39;00m:\n\u001b[1;32m    866\u001b[0m     \u001b[38;5;66;03m# Cleanup if the child failed starting.\u001b[39;00m\n\u001b[1;32m    867\u001b[0m     \u001b[38;5;28;01mfor\u001b[39;00m f \u001b[38;5;129;01min\u001b[39;00m \u001b[38;5;28mfilter\u001b[39m(\u001b[38;5;28;01mNone\u001b[39;00m, (\u001b[38;5;28mself\u001b[39m\u001b[38;5;241m.\u001b[39mstdin, \u001b[38;5;28mself\u001b[39m\u001b[38;5;241m.\u001b[39mstdout, \u001b[38;5;28mself\u001b[39m\u001b[38;5;241m.\u001b[39mstderr)):\n",
      "File \u001b[0;32m/opt/conda/envs/qiime2-2022.11/lib/python3.8/subprocess.py:1704\u001b[0m, in \u001b[0;36mPopen._execute_child\u001b[0;34m(self, args, executable, preexec_fn, close_fds, pass_fds, cwd, env, startupinfo, creationflags, shell, p2cread, p2cwrite, c2pread, c2pwrite, errread, errwrite, restore_signals, start_new_session)\u001b[0m\n\u001b[1;32m   1702\u001b[0m     \u001b[38;5;28;01mif\u001b[39;00m errno_num \u001b[38;5;241m!=\u001b[39m \u001b[38;5;241m0\u001b[39m:\n\u001b[1;32m   1703\u001b[0m         err_msg \u001b[38;5;241m=\u001b[39m os\u001b[38;5;241m.\u001b[39mstrerror(errno_num)\n\u001b[0;32m-> 1704\u001b[0m     \u001b[38;5;28;01mraise\u001b[39;00m child_exception_type(errno_num, err_msg, err_filename)\n\u001b[1;32m   1705\u001b[0m \u001b[38;5;28;01mraise\u001b[39;00m child_exception_type(err_msg)\n",
      "\u001b[0;31mFileNotFoundError\u001b[0m: [Errno 2] No such file or directory: 'ssu'"
     ]
    }
   ],
   "source": [
    "from qiime2.plugins.diversity_lib.methods import unweighted_unifrac\n",
    "'''\n",
    "Parameters\n",
    "----------\n",
    "table : FeatureTable[Frequency | RelativeFrequency | PresenceAbsence]\n",
    "    The feature table containing the samples for which Unweighted Unifrac\n",
    "    should be computed.\n",
    "phylogeny : Phylogeny[Rooted]\n",
    "    Phylogenetic tree containing tip identifiers that correspond to the\n",
    "    feature identifiers in the table. This tree can contain tip ids that\n",
    "    are not present in the table, but all feature ids in the table must be\n",
    "    present in this tree.\n",
    "\n",
    "'''\n",
    "u_unifrac = unweighted_unifrac(feat_table, tree)\n",
    "u_unifrac"
   ]
  },
  {
   "cell_type": "code",
   "execution_count": 25,
   "id": "7c700fdc",
   "metadata": {},
   "outputs": [],
   "source": [
    "# from qiime2.plugins.phylogeny.methods import filter_table\n",
    "\n",
    "# filtered_table_ = filter_table(feat_table, tree)\n",
    "# filtered_table_.filtered_table.view(pd.DataFrame)"
   ]
  },
  {
   "cell_type": "code",
   "execution_count": 26,
   "id": "c537f1a9",
   "metadata": {},
   "outputs": [
    {
     "data": {
      "text/plain": [
       "(1535, 2002)"
      ]
     },
     "execution_count": 26,
     "metadata": {},
     "output_type": "execute_result"
    }
   ],
   "source": [
    "#Exploration of the dataset\n",
    "# Print rarefied table\n",
    "rarefied_table = feature_table_metrics.rarefied_table\n",
    "rarefied_df = rarefied_table.view(pd.DataFrame)\n",
    "rarefied_df.shape #Rarefied table dropped some samples that are less than the n=7930 sampling depth"
   ]
  },
  {
   "cell_type": "code",
   "execution_count": 27,
   "id": "d56b9b48",
   "metadata": {},
   "outputs": [
    {
     "data": {
      "text/plain": [
       "(<artifact: DistanceMatrix uuid: 650ae697-3f5d-4408-a141-77f6fbc9e904>,\n",
       " <artifact: DistanceMatrix uuid: 49a30088-877c-4162-baa1-ce4ee84a3071>)"
      ]
     },
     "execution_count": 27,
     "metadata": {},
     "output_type": "execute_result"
    }
   ],
   "source": [
    "#Calculate Distance matrices\n",
    "distance_matrices = metrics_analysis.extract_distance_matrices(feature_table_metrics)\n",
    "distance_matrices"
   ]
  },
  {
   "cell_type": "code",
   "execution_count": 28,
   "id": "8fe0460c",
   "metadata": {},
   "outputs": [
    {
     "data": {
      "text/plain": [
       "(<artifact: PCoAResults uuid: 5abd8b02-9805-44f6-b342-b6fd112c0aa8>,\n",
       " <artifact: PCoAResults uuid: 2007afcc-ced8-4409-80c8-a60f0faffb49>)"
      ]
     },
     "execution_count": 28,
     "metadata": {},
     "output_type": "execute_result"
    }
   ],
   "source": [
    "#Calculate the PCOA matrices\n",
    "pcoa_matrices = metrics_analysis.extract_pcoa_results(feature_table_metrics)\n",
    "pcoa_matrices"
   ]
  },
  {
   "cell_type": "code",
   "execution_count": 29,
   "id": "5b3a221e",
   "metadata": {},
   "outputs": [
    {
     "data": {
      "text/plain": [
       "(<visualization: Visualization uuid: 4b52f916-8923-4bc8-aead-995f052301dd>,\n",
       " <visualization: Visualization uuid: 73ba7806-5421-43a5-92de-c119cf68f33c>)"
      ]
     },
     "execution_count": 29,
     "metadata": {},
     "output_type": "execute_result"
    }
   ],
   "source": [
    "#Calculate the Emperor visualization and output\n",
    "pcoa_emperor_plots = metrics_analysis.extract_pcoa_emperor_vis(feature_table_metrics)\n",
    "pcoa_emperor_plots"
   ]
  },
  {
   "cell_type": "code",
   "execution_count": 30,
   "id": "30ba55d8",
   "metadata": {},
   "outputs": [
    {
     "data": {
      "text/plain": [
       "<artifact: FeatureTable[Frequency] uuid: 237e7e67-50f7-4e57-a2a8-4f7ced24162a>"
      ]
     },
     "execution_count": 30,
     "metadata": {},
     "output_type": "execute_result"
    }
   ],
   "source": [
    "rarefied_table"
   ]
  },
  {
   "cell_type": "code",
   "execution_count": 31,
   "id": "88268684",
   "metadata": {},
   "outputs": [
    {
     "data": {
      "text/plain": [
       "<artifact: PCoAResults uuid: 5abd8b02-9805-44f6-b342-b6fd112c0aa8>"
      ]
     },
     "execution_count": 31,
     "metadata": {},
     "output_type": "execute_result"
    }
   ],
   "source": [
    "feature_table_metrics.jaccard_pcoa_results"
   ]
  },
  {
   "cell_type": "code",
   "execution_count": 32,
   "id": "2a1a4dd1",
   "metadata": {},
   "outputs": [],
   "source": [
    "def save_pcoa_outputs(metrics):\n",
    "    jac_pcoa = metrics.jaccard_pcoa_results\n",
    "    bc_pcoa = metrics.bray_curtis_pcoa_results\n",
    "    \n",
    "    jaccard_emperor = metrics.jaccard_emperor\n",
    "    bray_curtis_emperor = metrics.bray_curtis_emperor\n",
    "    \n",
    "    jac_pcoa.save('data/out/jac_pcoa_matrix')\n",
    "    bc_pcoa.save('data/out/bc_pcoa_matrix')\n",
    "    \n",
    "    jaccard_emperor.save('data/out/jac_pcoa_emp')\n",
    "    bray_curtis_emperor.save('data/out/bc_pcoa_emp')\n",
    "    \n",
    "    return\n",
    "\n",
    "save_pcoa_outputs(feature_table_metrics)"
   ]
  },
  {
   "cell_type": "code",
   "execution_count": 33,
   "id": "25d1651e",
   "metadata": {},
   "outputs": [],
   "source": [
    "#Code for UMAP"
   ]
  },
  {
   "cell_type": "code",
   "execution_count": 35,
   "id": "9d125521",
   "metadata": {},
   "outputs": [],
   "source": [
    "#Code for "
   ]
  },
  {
   "cell_type": "code",
   "execution_count": 37,
   "id": "ee424980",
   "metadata": {},
   "outputs": [],
   "source": [
    "!which pandas"
   ]
  },
  {
   "cell_type": "code",
   "execution_count": null,
   "id": "16588f99",
   "metadata": {},
   "outputs": [],
   "source": []
  }
 ],
 "metadata": {
  "kernelspec": {
   "display_name": "qiime2-2022.11",
   "language": "python",
   "name": "qiime2-2022.11"
  },
  "language_info": {
   "codemirror_mode": {
    "name": "ipython",
    "version": 3
   },
   "file_extension": ".py",
   "mimetype": "text/x-python",
   "name": "python",
   "nbconvert_exporter": "python",
   "pygments_lexer": "ipython3",
   "version": "3.8.15"
  }
 },
 "nbformat": 4,
 "nbformat_minor": 5
}
