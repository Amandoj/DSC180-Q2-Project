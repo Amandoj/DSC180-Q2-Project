{
 "cells": [
  {
   "cell_type": "code",
   "execution_count": 63,
   "id": "a48832d3",
   "metadata": {},
   "outputs": [],
   "source": [
    "import json\n",
    "import os\n",
    "import sys\n",
    "import inspect\n",
    "\n",
    "from src.data import make_dataset\n",
    "from src.features import build_features\n",
    "from src.features import metrics_analysis"
   ]
  },
  {
   "cell_type": "code",
   "execution_count": 64,
   "id": "ab8c4206",
   "metadata": {},
   "outputs": [],
   "source": [
    "## Creating paths to store temp and out data ##\n",
    "if not os.path.exists(\"data/temp\"):\n",
    "    os.makedirs(\"data/temp\")\n",
    "if not os.path.exists(\"data/out\"):\n",
    "    os.makedirs(\"data/out\")"
   ]
  },
  {
   "cell_type": "code",
   "execution_count": 65,
   "id": "1ca66ce5",
   "metadata": {},
   "outputs": [],
   "source": [
    "from qiime2.plugins import feature_table\n",
    "from qiime2 import Artifact\n",
    "from qiime2.plugins.sample_classifier.pipelines import classify_samples\n",
    "from qiime2.plugins.feature_table.methods import filter_samples\n",
    "from qiime2 import Metadata\n",
    "from qiime2.plugins.diversity.pipelines import core_metrics\n",
    "from qiime2.plugins.diversity.pipelines import core_metrics_phylogenetic\n",
    "from qiime2.plugins.feature_table.visualizers import summarize\n",
    "from qiime2.plugins.diversity.methods import umap\n",
    "\n",
    "\n",
    "import pandas as pd\n",
    "import numpy as np\n",
    "import matplotlib.pyplot as plt\n",
    "import biom\n",
    "import skbio\n",
    "\n",
    "import seaborn as sns\n",
    "# %matplotlib inline "
   ]
  },
  {
   "cell_type": "markdown",
   "id": "48925cae",
   "metadata": {},
   "source": [
    "## Loading Data"
   ]
  },
  {
   "cell_type": "code",
   "execution_count": 66,
   "id": "7413dc2c",
   "metadata": {},
   "outputs": [],
   "source": [
    "## Obtaining file paths\n",
    "with open(\"config/data-params.json\") as fh:\n",
    "    file_paths = json.load(fh)"
   ]
  },
  {
   "cell_type": "code",
   "execution_count": 67,
   "id": "18be6564",
   "metadata": {},
   "outputs": [],
   "source": [
    "table = make_dataset.read_feature_table(file_paths[\"feature_table_path\"])\n",
    "tree = make_dataset.read_tree_table(file_paths[\"tree_path\"])"
   ]
  },
  {
   "cell_type": "markdown",
   "id": "2c224977",
   "metadata": {},
   "source": [
    "## Load Metadata"
   ]
  },
  {
   "cell_type": "code",
   "execution_count": 68,
   "id": "1ec903b6",
   "metadata": {},
   "outputs": [],
   "source": [
    "qiime_metadata = Metadata.load(\"data/temp/final_metadata.tsv\") #Cleaned metadata\n",
    "metadata_df = qiime_metadata.to_dataframe()"
   ]
  },
  {
   "attachments": {},
   "cell_type": "markdown",
   "id": "20a33438",
   "metadata": {},
   "source": [
    "## Dividing Metadata based on Hispanic Origin"
   ]
  },
  {
   "attachments": {},
   "cell_type": "markdown",
   "id": "147f6e2f",
   "metadata": {},
   "source": [
    "We are going to divide and group up our data based on the hispanic origin variable to see if there are any patterns we can discover from the groupings\n",
    "\n",
    "Metadata Description: (1=Dominican, 2=Central American, 3=Cuban, 4=Mexican, 5=Puerto Rican, 6=South American, 7=More than one heritage, 8=other)"
   ]
  },
  {
   "cell_type": "code",
   "execution_count": 69,
   "id": "b461b5aa",
   "metadata": {},
   "outputs": [
    {
     "data": {
      "text/plain": [
       "4.0    863\n",
       "5.0    220\n",
       "3.0    216\n",
       "2.0    170\n",
       "1.0    123\n",
       "6.0    117\n",
       "7.0     28\n",
       "8.0     10\n",
       "Name: hispanic_origin, dtype: int64"
      ]
     },
     "execution_count": 69,
     "metadata": {},
     "output_type": "execute_result"
    }
   ],
   "source": [
    "#Describe the hispanic_origin column values\n",
    "metadata_df['hispanic_origin'].value_counts()"
   ]
  },
  {
   "attachments": {},
   "cell_type": "markdown",
   "id": "dfee8860",
   "metadata": {},
   "source": [
    "### Select hispanic origin samples of interest\n",
    "For now, look into the top 3 hispanic origin categories: Mexican, Puerto Rican, and Cuban origin"
   ]
  },
  {
   "cell_type": "code",
   "execution_count": 70,
   "id": "8aa26ab3",
   "metadata": {},
   "outputs": [],
   "source": [
    "metadata_df_m = metadata_df.loc[(metadata_df['hispanic_origin'] == 4)] #Mexico\n",
    "metadata_df_pr = metadata_df.loc[(metadata_df['hispanic_origin'] == 5)] #Puerto Rico\n",
    "metadata_df_c = metadata_df.loc[(metadata_df['hispanic_origin'] == 3)] #Cuba    \n"
   ]
  },
  {
   "cell_type": "code",
   "execution_count": 71,
   "id": "bd472f22",
   "metadata": {},
   "outputs": [],
   "source": [
    "\n",
    "metadata_df_m.to_csv('data/temp/final_metadata_m.tsv', sep=\"\\t\")\n",
    "metadata_df_pr.to_csv('data/temp/final_metadata_pr.tsv', sep=\"\\t\")\n",
    "metadata_df_c.to_csv('data/temp/final_metadata_c.tsv', sep=\"\\t\")"
   ]
  },
  {
   "cell_type": "code",
   "execution_count": 72,
   "id": "8a440117",
   "metadata": {},
   "outputs": [],
   "source": [
    "metadata_m = Metadata.load(\"data/temp/final_metadata_m.tsv\") \n",
    "metadata_pr = Metadata.load(\"data/temp/final_metadata_pr.tsv\") \n",
    "metadata_c = Metadata.load(\"data/temp/final_metadata_c.tsv\") "
   ]
  },
  {
   "attachments": {},
   "cell_type": "markdown",
   "id": "bee9ce82",
   "metadata": {},
   "source": [
    "Create the 3 filtered feature tables for the 3 hispanic origins"
   ]
  },
  {
   "cell_type": "code",
   "execution_count": 73,
   "id": "0d1d7fd3",
   "metadata": {},
   "outputs": [],
   "source": [
    "feature_table_m = filter_samples(table, metadata = metadata_m).filtered_table\n",
    "df_feature_table_m = feature_table_m.view(pd.DataFrame)\n",
    "\n",
    "feature_table_pr = filter_samples(table, metadata = metadata_pr).filtered_table\n",
    "df_feature_table_pr = feature_table_pr.view(pd.DataFrame)\n",
    "\n",
    "feature_table_c = filter_samples(table, metadata = metadata_c).filtered_table\n",
    "df_feature_table_c = feature_table_c.view(pd.DataFrame)"
   ]
  },
  {
   "cell_type": "code",
   "execution_count": 74,
   "id": "76dabce0",
   "metadata": {},
   "outputs": [
    {
     "name": "stdout",
     "output_type": "stream",
     "text": [
      "(863, 31600)\n",
      "(220, 9465)\n",
      "(216, 9567)\n"
     ]
    }
   ],
   "source": [
    "print(df_feature_table_m.shape)\n",
    "print(df_feature_table_pr.shape)\n",
    "print(df_feature_table_c.shape)"
   ]
  },
  {
   "cell_type": "markdown",
   "id": "04bbd6de",
   "metadata": {},
   "source": [
    "## Feature Table Exploration"
   ]
  },
  {
   "cell_type": "code",
   "execution_count": 75,
   "id": "40834341",
   "metadata": {},
   "outputs": [
    {
     "data": {
      "text/plain": [
       "57181 x 1747 <class 'biom.table.Table'> with 342969 nonzero entries (0% dense)"
      ]
     },
     "execution_count": 75,
     "metadata": {},
     "output_type": "execute_result"
    }
   ],
   "source": [
    "#Filter feature table based on cleaned metadata\n",
    "updated_feature_table = filter_samples(table, metadata = qiime_metadata).filtered_table\n",
    "biom_table = updated_feature_table.view(biom.Table)\n",
    "biom_table #around 4000 rows was removed"
   ]
  },
  {
   "cell_type": "code",
   "execution_count": 76,
   "id": "ca1f352e",
   "metadata": {},
   "outputs": [
    {
     "data": {
      "text/plain": [
       "'data/out/ft_summary.qzv'"
      ]
     },
     "execution_count": 76,
     "metadata": {},
     "output_type": "execute_result"
    }
   ],
   "source": [
    "summary = summarize(updated_feature_table, qiime_metadata)\n",
    "summary.visualization.save('data/out/ft_summary')"
   ]
  },
  {
   "cell_type": "markdown",
   "id": "1f20af0a",
   "metadata": {},
   "source": [
    "From the summary visualizations and statistics, we see that most features only appear in less than 3 samples, therefore we are going to drop the features that appear less than 3 times in order to reduce noise."
   ]
  },
  {
   "cell_type": "code",
   "execution_count": 77,
   "id": "a3b1b6be",
   "metadata": {},
   "outputs": [
    {
     "data": {
      "text/plain": [
       "(1747, 57181)"
      ]
     },
     "execution_count": 77,
     "metadata": {},
     "output_type": "execute_result"
    }
   ],
   "source": [
    "feat_table = updated_feature_table.view(pd.DataFrame)\n",
    "feat_table.shape"
   ]
  },
  {
   "cell_type": "code",
   "execution_count": 78,
   "id": "859fcf2d",
   "metadata": {},
   "outputs": [
    {
     "data": {
      "text/plain": [
       "'data/out/ft_summary_3.qzv'"
      ]
     },
     "execution_count": 78,
     "metadata": {},
     "output_type": "execute_result"
    }
   ],
   "source": [
    "#Drop the feature columns that appear in less than 3 samples\n",
    "feat_table_3 = feat_table[feat_table.columns[((feat_table > 0).sum() > 3)]]\n",
    "\n",
    "#Import DataFrame back into FeatureTable artifact and export the summary\n",
    "cleaned_feature_table = Artifact.import_data(\"FeatureTable[Frequency]\", feat_table_3)\n",
    "\n",
    "summary_cleaned = summarize(cleaned_feature_table, qiime_metadata)\n",
    "summary_cleaned.visualization.save('data/out/ft_summary_3')"
   ]
  },
  {
   "cell_type": "code",
   "execution_count": 79,
   "id": "99d4531b",
   "metadata": {},
   "outputs": [
    {
     "data": {
      "text/plain": [
       "(1747, 3985)"
      ]
     },
     "execution_count": 79,
     "metadata": {},
     "output_type": "execute_result"
    }
   ],
   "source": [
    "feat_table_3.shape"
   ]
  },
  {
   "attachments": {},
   "cell_type": "markdown",
   "id": "728fba6c",
   "metadata": {},
   "source": [
    "### Perform Feature Table Cleaning on hispanic_origin groups"
   ]
  },
  {
   "cell_type": "code",
   "execution_count": 80,
   "id": "f14c5187",
   "metadata": {},
   "outputs": [],
   "source": [
    "#Drop the feature columns that appear in less than 3 samples\n",
    "df_feature_table_m = df_feature_table_m[df_feature_table_m.columns[((df_feature_table_m > 0).sum() > 3)]]\n",
    "df_feature_table_pr = df_feature_table_pr[df_feature_table_pr.columns[((df_feature_table_pr > 0).sum() > 3)]]\n",
    "df_feature_table_c = df_feature_table_c[df_feature_table_c.columns[((df_feature_table_c > 0).sum() > 3)]]\n",
    "\n",
    "#Import DataFrame back into FeatureTable artifact and export the summary\n",
    "cleaned_feature_table_m = Artifact.import_data(\"FeatureTable[Frequency]\", df_feature_table_m)\n",
    "cleaned_feature_table_pr = Artifact.import_data(\"FeatureTable[Frequency]\", df_feature_table_pr)\n",
    "cleaned_feature_table_c = Artifact.import_data(\"FeatureTable[Frequency]\", df_feature_table_c)\n"
   ]
  },
  {
   "cell_type": "code",
   "execution_count": 81,
   "id": "a01ac559",
   "metadata": {},
   "outputs": [
    {
     "data": {
      "text/plain": [
       "'data/out/ft_summary_c.qzv'"
      ]
     },
     "execution_count": 81,
     "metadata": {},
     "output_type": "execute_result"
    }
   ],
   "source": [
    "#Create the summary visualizations and export the files to view\n",
    "\n",
    "summary_m = summarize(cleaned_feature_table_m, metadata_m)\n",
    "summary_m.visualization.save('data/out/ft_summary_m')\n",
    "\n",
    "summary_pr = summarize(cleaned_feature_table_pr, metadata_pr)\n",
    "summary_pr.visualization.save('data/out/ft_summary_pr')\n",
    "\n",
    "summary_c = summarize(cleaned_feature_table_c, metadata_c)\n",
    "summary_c.visualization.save('data/out/ft_summary_c')"
   ]
  },
  {
   "cell_type": "markdown",
   "id": "91c32db5",
   "metadata": {},
   "source": [
    "# Feature Table Metrics Analysis\n",
    "\n",
    "First figure out the feature table rarefication, save the plots generated by Qiime2 core_metrics, then create the following:\n",
    "1. Distance matrices: Unifrac distance matrix, Jaccard distance matrix, Bray Curtis distance matrix\n",
    "2. PCOA plots with the different distance matrices\n",
    "    - save the plots for visualization\n",
    "    \n",
    "    \n",
    "3. UMAP plots with the different distance matrices\n",
    "    - save the plots for visualization\n",
    "    \n",
    "    \n",
    "4. Finally follow up with a statistical test or regression\n",
    "    - Ex) PERMANOVA test on PCOA results\n",
    "    - Ex) Use the reduced dimension embeddings to feed into the regression model"
   ]
  },
  {
   "cell_type": "markdown",
   "id": "9e31d222",
   "metadata": {},
   "source": [
    "With the information we gained from the summary, we decided to rarefy the table with a sampling depth of _7930_ we retained _12,489,750 (52.48%) features in 1575 (90.00%) samples_ at the specifed sampling depth. We made this decision to maximize the amount of features while preserving the amount of samples in our data."
   ]
  },
  {
   "cell_type": "code",
   "execution_count": 82,
   "id": "c5930c12",
   "metadata": {},
   "outputs": [],
   "source": [
    "# # Create the feature table metrics object\n",
    "\n",
    "# feat_table = cleaned_feature_table\n",
    "# depth = 7930\n",
    "# metadata = qiime_metadata\n",
    "# feature_table_metrics = metrics_analysis.extract_core_metrics(feat_table, depth, metadata)\n"
   ]
  },
  {
   "cell_type": "code",
   "execution_count": 83,
   "id": "e0b4934e",
   "metadata": {},
   "outputs": [
    {
     "name": "stderr",
     "output_type": "stream",
     "text": [
      "/home/renaldy/miniconda3/envs/qiime2-2022.11/lib/python3.8/site-packages/sklearn/metrics/pairwise.py:1776: DataConversionWarning: Data was converted to boolean for metric jaccard\n",
      "  warnings.warn(msg, DataConversionWarning)\n",
      "/home/renaldy/miniconda3/envs/qiime2-2022.11/lib/python3.8/site-packages/skbio/stats/ordination/_principal_coordinate_analysis.py:143: RuntimeWarning: The result contains negative eigenvalues. Please compare their magnitude with the magnitude of some of the largest positive eigenvalues. If the negative ones are smaller, it's probably safe to ignore them, but if they are large in magnitude, the results won't be useful. See the Notes section for more details. The smallest eigenvalue is -0.05834027375794446 and the largest is 34.06313182852818.\n",
      "  warn(\n",
      "/home/renaldy/miniconda3/envs/qiime2-2022.11/lib/python3.8/site-packages/skbio/stats/ordination/_principal_coordinate_analysis.py:143: RuntimeWarning: The result contains negative eigenvalues. Please compare their magnitude with the magnitude of some of the largest positive eigenvalues. If the negative ones are smaller, it's probably safe to ignore them, but if they are large in magnitude, the results won't be useful. See the Notes section for more details. The smallest eigenvalue is -2.1510652237540917 and the largest is 125.04899502948646.\n",
      "  warn(\n"
     ]
    },
    {
     "name": "stdout",
     "output_type": "stream",
     "text": [
      "Running external command line application. This may print messages to stdout and/or stderr.\n",
      "The command being run is below. This command cannot be manually re-run as it will depend on temporary files that no longer exist.\n",
      "\n",
      "Command:\n",
      "\n",
      "faithpd -i /tmp/qiime2/renaldy/data/38c483c9-3966-476f-b636-7ba8bbe4eb62/data/feature-table.biom -t /tmp/qiime2/renaldy/data/89eb2cfa-9e8c-462a-a9a7-93e7812fa767/data/tree.nwk -o /tmp/q2-AlphaDiversityFormat-2wwhzx4b\n",
      "\n",
      "Running external command line application. This may print messages to stdout and/or stderr.\n",
      "The command being run is below. This command cannot be manually re-run as it will depend on temporary files that no longer exist.\n",
      "\n",
      "Command:\n",
      "\n",
      "ssu -i /tmp/qiime2/renaldy/data/38c483c9-3966-476f-b636-7ba8bbe4eb62/data/feature-table.biom -t /tmp/qiime2/renaldy/data/89eb2cfa-9e8c-462a-a9a7-93e7812fa767/data/tree.nwk -m unweighted -o /tmp/q2-LSMatFormat-4euho9ut\n",
      "\n",
      "Running external command line application. This may print messages to stdout and/or stderr.\n",
      "The command being run is below. This command cannot be manually re-run as it will depend on temporary files that no longer exist.\n",
      "\n",
      "Command:\n",
      "\n",
      "ssu -i /tmp/qiime2/renaldy/data/38c483c9-3966-476f-b636-7ba8bbe4eb62/data/feature-table.biom -t /tmp/qiime2/renaldy/data/89eb2cfa-9e8c-462a-a9a7-93e7812fa767/data/tree.nwk -m weighted_unnormalized -o /tmp/q2-LSMatFormat-nm2wsre7\n",
      "\n"
     ]
    },
    {
     "name": "stderr",
     "output_type": "stream",
     "text": [
      "/home/renaldy/miniconda3/envs/qiime2-2022.11/lib/python3.8/site-packages/skbio/stats/ordination/_principal_coordinate_analysis.py:143: RuntimeWarning: The result contains negative eigenvalues. Please compare their magnitude with the magnitude of some of the largest positive eigenvalues. If the negative ones are smaller, it's probably safe to ignore them, but if they are large in magnitude, the results won't be useful. See the Notes section for more details. The smallest eigenvalue is -0.09421391161380219 and the largest is 37.90000641414089.\n",
      "  warn(\n",
      "/home/renaldy/miniconda3/envs/qiime2-2022.11/lib/python3.8/site-packages/skbio/stats/ordination/_principal_coordinate_analysis.py:143: RuntimeWarning: The result contains negative eigenvalues. Please compare their magnitude with the magnitude of some of the largest positive eigenvalues. If the negative ones are smaller, it's probably safe to ignore them, but if they are large in magnitude, the results won't be useful. See the Notes section for more details. The smallest eigenvalue is -3.5150646255455893 and the largest is 129.5718281170833.\n",
      "  warn(\n"
     ]
    },
    {
     "data": {
      "text/plain": [
       "Results (name = value)\n",
       "----------------------------------------------------------------------------------------------------------------------\n",
       "rarefied_table                     = <artifact: FeatureTable[Frequency] uuid: c6bd94f0-bfa4-444d-bd37-679c0b622152>\n",
       "faith_pd_vector                    = <artifact: SampleData[AlphaDiversity] uuid: 52520710-97f1-4060-ad64-27732ce2299f>\n",
       "observed_features_vector           = <artifact: SampleData[AlphaDiversity] uuid: 2801fbfb-eb64-4d04-9a6c-2ad972aaaa7b>\n",
       "shannon_vector                     = <artifact: SampleData[AlphaDiversity] uuid: 10d4f644-f932-4765-9091-7647b2cca9ef>\n",
       "evenness_vector                    = <artifact: SampleData[AlphaDiversity] uuid: 18e15796-d8a3-4953-bec9-c338b04a11e2>\n",
       "unweighted_unifrac_distance_matrix = <artifact: DistanceMatrix uuid: 4c9093d5-a1d3-4058-bc49-02e974876d19>\n",
       "weighted_unifrac_distance_matrix   = <artifact: DistanceMatrix uuid: 8e425c42-6413-45b6-8157-8b8d8f13df39>\n",
       "jaccard_distance_matrix            = <artifact: DistanceMatrix uuid: 1cf60c86-4291-44b4-8f88-ad9548aee8e7>\n",
       "bray_curtis_distance_matrix        = <artifact: DistanceMatrix uuid: 7be10ecb-f48d-4f5e-831a-06dc3ffe6403>\n",
       "unweighted_unifrac_pcoa_results    = <artifact: PCoAResults uuid: b2ebae44-ed60-482b-8515-805e283d4062>\n",
       "weighted_unifrac_pcoa_results      = <artifact: PCoAResults uuid: 7ddf4ea5-04fb-4609-9378-92c2548c3980>\n",
       "jaccard_pcoa_results               = <artifact: PCoAResults uuid: 361ab81f-27e3-4543-9cc1-29ed03b0273b>\n",
       "bray_curtis_pcoa_results           = <artifact: PCoAResults uuid: 0712fa53-89df-4150-912e-ed755fdf50ea>\n",
       "unweighted_unifrac_emperor         = <visualization: Visualization uuid: fddda2f6-511c-4205-85fc-da29d230e6ee>\n",
       "weighted_unifrac_emperor           = <visualization: Visualization uuid: 6825b006-3355-4b20-88ca-85beba1dd2a9>\n",
       "jaccard_emperor                    = <visualization: Visualization uuid: bd7bd89a-4cfe-4969-9f5e-8840004482a8>\n",
       "bray_curtis_emperor                = <visualization: Visualization uuid: 8ac65961-ec7b-48b2-8996-2141ebb07c77>"
      ]
     },
     "execution_count": 83,
     "metadata": {},
     "output_type": "execute_result"
    }
   ],
   "source": [
    "# Create the feature table metrics object with tree\n",
    "feat_table = cleaned_feature_table\n",
    "depth = 7930\n",
    "metadata = qiime_metadata\n",
    "feature_table_metrics_phy = core_metrics_phylogenetic(feat_table, tree, depth, metadata)\n",
    "\n",
    "feature_table_metrics_phy"
   ]
  },
  {
   "cell_type": "code",
   "execution_count": 84,
   "id": "343d9c65",
   "metadata": {},
   "outputs": [
    {
     "name": "stderr",
     "output_type": "stream",
     "text": [
      "/home/renaldy/miniconda3/envs/qiime2-2022.11/lib/python3.8/site-packages/sklearn/metrics/pairwise.py:1776: DataConversionWarning: Data was converted to boolean for metric jaccard\n",
      "  warnings.warn(msg, DataConversionWarning)\n",
      "/home/renaldy/miniconda3/envs/qiime2-2022.11/lib/python3.8/site-packages/skbio/stats/ordination/_principal_coordinate_analysis.py:143: RuntimeWarning: The result contains negative eigenvalues. Please compare their magnitude with the magnitude of some of the largest positive eigenvalues. If the negative ones are smaller, it's probably safe to ignore them, but if they are large in magnitude, the results won't be useful. See the Notes section for more details. The smallest eigenvalue is -0.04936025372116822 and the largest is 18.342019707110428.\n",
      "  warn(\n",
      "/home/renaldy/miniconda3/envs/qiime2-2022.11/lib/python3.8/site-packages/skbio/stats/ordination/_principal_coordinate_analysis.py:143: RuntimeWarning: The result contains negative eigenvalues. Please compare their magnitude with the magnitude of some of the largest positive eigenvalues. If the negative ones are smaller, it's probably safe to ignore them, but if they are large in magnitude, the results won't be useful. See the Notes section for more details. The smallest eigenvalue is -1.0706049541082507 and the largest is 66.56719726531075.\n",
      "  warn(\n"
     ]
    },
    {
     "name": "stdout",
     "output_type": "stream",
     "text": [
      "Running external command line application. This may print messages to stdout and/or stderr.\n",
      "The command being run is below. This command cannot be manually re-run as it will depend on temporary files that no longer exist.\n",
      "\n",
      "Command:\n",
      "\n",
      "faithpd -i /tmp/qiime2/renaldy/data/1d1192cd-3e6c-4f6a-b346-4d0d250a97fd/data/feature-table.biom -t /tmp/qiime2/renaldy/data/89eb2cfa-9e8c-462a-a9a7-93e7812fa767/data/tree.nwk -o /tmp/q2-AlphaDiversityFormat-5me1g1k4\n",
      "\n",
      "Running external command line application. This may print messages to stdout and/or stderr.\n",
      "The command being run is below. This command cannot be manually re-run as it will depend on temporary files that no longer exist.\n",
      "\n",
      "Command:\n",
      "\n",
      "ssu -i /tmp/qiime2/renaldy/data/1d1192cd-3e6c-4f6a-b346-4d0d250a97fd/data/feature-table.biom -t /tmp/qiime2/renaldy/data/89eb2cfa-9e8c-462a-a9a7-93e7812fa767/data/tree.nwk -m unweighted -o /tmp/q2-LSMatFormat-0r329_08\n",
      "\n",
      "Running external command line application. This may print messages to stdout and/or stderr.\n",
      "The command being run is below. This command cannot be manually re-run as it will depend on temporary files that no longer exist.\n",
      "\n",
      "Command:\n",
      "\n",
      "ssu -i /tmp/qiime2/renaldy/data/1d1192cd-3e6c-4f6a-b346-4d0d250a97fd/data/feature-table.biom -t /tmp/qiime2/renaldy/data/89eb2cfa-9e8c-462a-a9a7-93e7812fa767/data/tree.nwk -m weighted_unnormalized -o /tmp/q2-LSMatFormat-9rd82i_g\n",
      "\n"
     ]
    },
    {
     "name": "stderr",
     "output_type": "stream",
     "text": [
      "/home/renaldy/miniconda3/envs/qiime2-2022.11/lib/python3.8/site-packages/skbio/stats/ordination/_principal_coordinate_analysis.py:143: RuntimeWarning: The result contains negative eigenvalues. Please compare their magnitude with the magnitude of some of the largest positive eigenvalues. If the negative ones are smaller, it's probably safe to ignore them, but if they are large in magnitude, the results won't be useful. See the Notes section for more details. The smallest eigenvalue is -0.06728722851041266 and the largest is 20.67073825634418.\n",
      "  warn(\n",
      "/home/renaldy/miniconda3/envs/qiime2-2022.11/lib/python3.8/site-packages/skbio/stats/ordination/_principal_coordinate_analysis.py:143: RuntimeWarning: The result contains negative eigenvalues. Please compare their magnitude with the magnitude of some of the largest positive eigenvalues. If the negative ones are smaller, it's probably safe to ignore them, but if they are large in magnitude, the results won't be useful. See the Notes section for more details. The smallest eigenvalue is -1.8974814002488705 and the largest is 68.94339567943575.\n",
      "  warn(\n"
     ]
    }
   ],
   "source": [
    "# Create the feature table metrics object with tree for Mexico\n",
    "feat_table = cleaned_feature_table_m\n",
    "depth = 7000\n",
    "metadata = metadata_m\n",
    "feature_table_metrics_m = core_metrics_phylogenetic(feat_table, tree, depth, metadata)"
   ]
  },
  {
   "cell_type": "code",
   "execution_count": 85,
   "id": "58d18408",
   "metadata": {},
   "outputs": [
    {
     "name": "stderr",
     "output_type": "stream",
     "text": [
      "/home/renaldy/miniconda3/envs/qiime2-2022.11/lib/python3.8/site-packages/sklearn/metrics/pairwise.py:1776: DataConversionWarning: Data was converted to boolean for metric jaccard\n",
      "  warnings.warn(msg, DataConversionWarning)\n",
      "/home/renaldy/miniconda3/envs/qiime2-2022.11/lib/python3.8/site-packages/skbio/stats/ordination/_principal_coordinate_analysis.py:143: RuntimeWarning: The result contains negative eigenvalues. Please compare their magnitude with the magnitude of some of the largest positive eigenvalues. If the negative ones are smaller, it's probably safe to ignore them, but if they are large in magnitude, the results won't be useful. See the Notes section for more details. The smallest eigenvalue is -0.001854844314110109 and the largest is 5.074042599869747.\n",
      "  warn(\n",
      "/home/renaldy/miniconda3/envs/qiime2-2022.11/lib/python3.8/site-packages/skbio/stats/ordination/_principal_coordinate_analysis.py:143: RuntimeWarning: The result contains negative eigenvalues. Please compare their magnitude with the magnitude of some of the largest positive eigenvalues. If the negative ones are smaller, it's probably safe to ignore them, but if they are large in magnitude, the results won't be useful. See the Notes section for more details. The smallest eigenvalue is -0.26094891595076153 and the largest is 13.290653040742658.\n",
      "  warn(\n"
     ]
    },
    {
     "name": "stdout",
     "output_type": "stream",
     "text": [
      "Running external command line application. This may print messages to stdout and/or stderr.\n",
      "The command being run is below. This command cannot be manually re-run as it will depend on temporary files that no longer exist.\n",
      "\n",
      "Command:\n",
      "\n",
      "faithpd -i /tmp/qiime2/renaldy/data/854d7816-31d5-41bb-9b92-272b96ef290a/data/feature-table.biom -t /tmp/qiime2/renaldy/data/89eb2cfa-9e8c-462a-a9a7-93e7812fa767/data/tree.nwk -o /tmp/q2-AlphaDiversityFormat-edpb3cit\n",
      "\n",
      "Running external command line application. This may print messages to stdout and/or stderr.\n",
      "The command being run is below. This command cannot be manually re-run as it will depend on temporary files that no longer exist.\n",
      "\n",
      "Command:\n",
      "\n",
      "ssu -i /tmp/qiime2/renaldy/data/854d7816-31d5-41bb-9b92-272b96ef290a/data/feature-table.biom -t /tmp/qiime2/renaldy/data/89eb2cfa-9e8c-462a-a9a7-93e7812fa767/data/tree.nwk -m unweighted -o /tmp/q2-LSMatFormat-4xe_jgz1\n",
      "\n",
      "Running external command line application. This may print messages to stdout and/or stderr.\n",
      "The command being run is below. This command cannot be manually re-run as it will depend on temporary files that no longer exist.\n",
      "\n",
      "Command:\n",
      "\n",
      "ssu -i /tmp/qiime2/renaldy/data/854d7816-31d5-41bb-9b92-272b96ef290a/data/feature-table.biom -t /tmp/qiime2/renaldy/data/89eb2cfa-9e8c-462a-a9a7-93e7812fa767/data/tree.nwk -m weighted_unnormalized -o /tmp/q2-LSMatFormat-kbk2oeo3\n",
      "\n"
     ]
    },
    {
     "name": "stderr",
     "output_type": "stream",
     "text": [
      "/home/renaldy/miniconda3/envs/qiime2-2022.11/lib/python3.8/site-packages/skbio/stats/ordination/_principal_coordinate_analysis.py:143: RuntimeWarning: The result contains negative eigenvalues. Please compare their magnitude with the magnitude of some of the largest positive eigenvalues. If the negative ones are smaller, it's probably safe to ignore them, but if they are large in magnitude, the results won't be useful. See the Notes section for more details. The smallest eigenvalue is -0.041587443974489345 and the largest is 4.644538342298988.\n",
      "  warn(\n",
      "/home/renaldy/miniconda3/envs/qiime2-2022.11/lib/python3.8/site-packages/skbio/stats/ordination/_principal_coordinate_analysis.py:143: RuntimeWarning: The result contains negative eigenvalues. Please compare their magnitude with the magnitude of some of the largest positive eigenvalues. If the negative ones are smaller, it's probably safe to ignore them, but if they are large in magnitude, the results won't be useful. See the Notes section for more details. The smallest eigenvalue is -0.4569705269880842 and the largest is 14.898778885673595.\n",
      "  warn(\n"
     ]
    }
   ],
   "source": [
    "# Create the feature table metrics object with tree for Mexico\n",
    "feat_table = cleaned_feature_table_pr\n",
    "depth = 7000\n",
    "metadata = metadata_pr\n",
    "feature_table_metrics_pr = core_metrics_phylogenetic(feat_table, tree, depth, metadata)"
   ]
  },
  {
   "cell_type": "code",
   "execution_count": 86,
   "id": "ae7ad518",
   "metadata": {},
   "outputs": [
    {
     "name": "stderr",
     "output_type": "stream",
     "text": [
      "/home/renaldy/miniconda3/envs/qiime2-2022.11/lib/python3.8/site-packages/sklearn/metrics/pairwise.py:1776: DataConversionWarning: Data was converted to boolean for metric jaccard\n",
      "  warnings.warn(msg, DataConversionWarning)\n",
      "/home/renaldy/miniconda3/envs/qiime2-2022.11/lib/python3.8/site-packages/skbio/stats/ordination/_principal_coordinate_analysis.py:143: RuntimeWarning: The result contains negative eigenvalues. Please compare their magnitude with the magnitude of some of the largest positive eigenvalues. If the negative ones are smaller, it's probably safe to ignore them, but if they are large in magnitude, the results won't be useful. See the Notes section for more details. The smallest eigenvalue is -0.3044572224339407 and the largest is 17.485365785092966.\n",
      "  warn(\n"
     ]
    },
    {
     "name": "stdout",
     "output_type": "stream",
     "text": [
      "Running external command line application. This may print messages to stdout and/or stderr.\n",
      "The command being run is below. This command cannot be manually re-run as it will depend on temporary files that no longer exist.\n",
      "\n",
      "Command:\n",
      "\n",
      "faithpd -i /tmp/qiime2/renaldy/data/30ebdf98-8c5a-4cd3-906e-2e4e7cb6f2ee/data/feature-table.biom -t /tmp/qiime2/renaldy/data/89eb2cfa-9e8c-462a-a9a7-93e7812fa767/data/tree.nwk -o /tmp/q2-AlphaDiversityFormat-x_f6ul8a\n",
      "\n",
      "Running external command line application. This may print messages to stdout and/or stderr.\n",
      "The command being run is below. This command cannot be manually re-run as it will depend on temporary files that no longer exist.\n",
      "\n",
      "Command:\n",
      "\n",
      "ssu -i /tmp/qiime2/renaldy/data/30ebdf98-8c5a-4cd3-906e-2e4e7cb6f2ee/data/feature-table.biom -t /tmp/qiime2/renaldy/data/89eb2cfa-9e8c-462a-a9a7-93e7812fa767/data/tree.nwk -m unweighted -o /tmp/q2-LSMatFormat-exe0a6vf\n",
      "\n",
      "Running external command line application. This may print messages to stdout and/or stderr.\n",
      "The command being run is below. This command cannot be manually re-run as it will depend on temporary files that no longer exist.\n",
      "\n",
      "Command:\n",
      "\n",
      "ssu -i /tmp/qiime2/renaldy/data/30ebdf98-8c5a-4cd3-906e-2e4e7cb6f2ee/data/feature-table.biom -t /tmp/qiime2/renaldy/data/89eb2cfa-9e8c-462a-a9a7-93e7812fa767/data/tree.nwk -m weighted_unnormalized -o /tmp/q2-LSMatFormat-pg8gi7hz\n",
      "\n"
     ]
    },
    {
     "name": "stderr",
     "output_type": "stream",
     "text": [
      "/home/renaldy/miniconda3/envs/qiime2-2022.11/lib/python3.8/site-packages/skbio/stats/ordination/_principal_coordinate_analysis.py:143: RuntimeWarning: The result contains negative eigenvalues. Please compare their magnitude with the magnitude of some of the largest positive eigenvalues. If the negative ones are smaller, it's probably safe to ignore them, but if they are large in magnitude, the results won't be useful. See the Notes section for more details. The smallest eigenvalue is -0.03375287984502647 and the largest is 5.4218673516432645.\n",
      "  warn(\n",
      "/home/renaldy/miniconda3/envs/qiime2-2022.11/lib/python3.8/site-packages/skbio/stats/ordination/_principal_coordinate_analysis.py:143: RuntimeWarning: The result contains negative eigenvalues. Please compare their magnitude with the magnitude of some of the largest positive eigenvalues. If the negative ones are smaller, it's probably safe to ignore them, but if they are large in magnitude, the results won't be useful. See the Notes section for more details. The smallest eigenvalue is -0.5362923685806738 and the largest is 16.605041490480243.\n",
      "  warn(\n"
     ]
    }
   ],
   "source": [
    "# Create the feature table metrics object with tree for Mexico\n",
    "feat_table = cleaned_feature_table_c\n",
    "depth = 7000\n",
    "metadata = metadata_c\n",
    "feature_table_metrics_c = core_metrics_phylogenetic(feat_table, tree, depth, metadata)"
   ]
  },
  {
   "cell_type": "code",
   "execution_count": 87,
   "id": "4179556a",
   "metadata": {},
   "outputs": [
    {
     "data": {
      "text/plain": [
       "'data/out/w_unifrac_pcoa_pr.qzv'"
      ]
     },
     "execution_count": 87,
     "metadata": {},
     "output_type": "execute_result"
    }
   ],
   "source": [
    "feature_table_metrics_m.weighted_unifrac_emperor.save('data/out/w_unifrac_pcoa_m')\n",
    "feature_table_metrics_c.weighted_unifrac_emperor.save('data/out/w_unifrac_pcoa_c')\n",
    "feature_table_metrics_pr.weighted_unifrac_emperor.save('data/out/w_unifrac_pcoa_pr')"
   ]
  },
  {
   "cell_type": "code",
   "execution_count": 88,
   "id": "c537f1a9",
   "metadata": {},
   "outputs": [
    {
     "ename": "NameError",
     "evalue": "name 'feature_table_metrics' is not defined",
     "output_type": "error",
     "traceback": [
      "\u001b[0;31m---------------------------------------------------------------------------\u001b[0m",
      "\u001b[0;31mNameError\u001b[0m                                 Traceback (most recent call last)",
      "Cell \u001b[0;32mIn[88], line 3\u001b[0m\n\u001b[1;32m      1\u001b[0m \u001b[39m#Exploration of the dataset\u001b[39;00m\n\u001b[1;32m      2\u001b[0m \u001b[39m# Print rarefied table\u001b[39;00m\n\u001b[0;32m----> 3\u001b[0m rarefied_table \u001b[39m=\u001b[39m feature_table_metrics\u001b[39m.\u001b[39mrarefied_table\n\u001b[1;32m      4\u001b[0m rarefied_df \u001b[39m=\u001b[39m rarefied_table\u001b[39m.\u001b[39mview(pd\u001b[39m.\u001b[39mDataFrame)\n\u001b[1;32m      5\u001b[0m rarefied_df\u001b[39m.\u001b[39mshape \u001b[39m#Rarefied table dropped some samples that are less than the n=7930 sampling depth\u001b[39;00m\n",
      "\u001b[0;31mNameError\u001b[0m: name 'feature_table_metrics' is not defined"
     ]
    }
   ],
   "source": [
    "#Exploration of the dataset\n",
    "# Print rarefied table\n",
    "rarefied_table = feature_table_metrics.rarefied_table\n",
    "rarefied_df = rarefied_table.view(pd.DataFrame)\n",
    "rarefied_df.shape #Rarefied table dropped some samples that are less than the n=7930 sampling depth"
   ]
  },
  {
   "cell_type": "code",
   "execution_count": null,
   "id": "d56b9b48",
   "metadata": {},
   "outputs": [
    {
     "data": {
      "text/plain": [
       "(<artifact: DistanceMatrix uuid: a4110a9a-66d9-4502-a7b4-2b83f069231c>,\n",
       " <artifact: DistanceMatrix uuid: 4d96891d-81c6-419e-b18e-e16ff60cf05c>)"
      ]
     },
     "execution_count": 21,
     "metadata": {},
     "output_type": "execute_result"
    }
   ],
   "source": [
    "#Calculate Distance matrices\n",
    "distance_matrices = metrics_analysis.extract_distance_matrices(feature_table_metrics)\n",
    "jac_dis_matrix = distance_matrices[0]\n",
    "bc_dis_matrix = distance_matrices[1]"
   ]
  },
  {
   "cell_type": "code",
   "execution_count": null,
   "id": "8fe0460c",
   "metadata": {},
   "outputs": [
    {
     "data": {
      "text/plain": [
       "(<artifact: PCoAResults uuid: 947398a7-d746-4a29-a56f-d5a053a9952c>,\n",
       " <artifact: PCoAResults uuid: e017dac0-fdb3-43c2-a56d-22365d255e76>)"
      ]
     },
     "execution_count": 22,
     "metadata": {},
     "output_type": "execute_result"
    }
   ],
   "source": [
    "#Calculate the PCOA matrices\n",
    "pcoa_matrices = metrics_analysis.extract_pcoa_results(feature_table_metrics)\n",
    "pcoa_matrices"
   ]
  },
  {
   "cell_type": "code",
   "execution_count": null,
   "id": "5b3a221e",
   "metadata": {},
   "outputs": [
    {
     "data": {
      "text/plain": [
       "(<visualization: Visualization uuid: 316ac20e-25fc-4203-af63-ecf93aa9a5a8>,\n",
       " <visualization: Visualization uuid: df780e27-f64b-4698-b748-c03af026898f>)"
      ]
     },
     "execution_count": 23,
     "metadata": {},
     "output_type": "execute_result"
    }
   ],
   "source": [
    "#Calculate the Emperor visualization and output\n",
    "pcoa_emperor_plots = metrics_analysis.extract_pcoa_emperor_vis(feature_table_metrics)\n",
    "pcoa_emperor_plots"
   ]
  },
  {
   "cell_type": "code",
   "execution_count": null,
   "id": "2a1a4dd1",
   "metadata": {},
   "outputs": [],
   "source": [
    "def save_pcoa_outputs(metrics):\n",
    "    jac_pcoa = metrics.jaccard_pcoa_results\n",
    "    bc_pcoa = metrics.bray_curtis_pcoa_results\n",
    "    \n",
    "    jaccard_emperor = metrics.jaccard_emperor\n",
    "    bray_curtis_emperor = metrics.bray_curtis_emperor\n",
    "    \n",
    "    jac_pcoa.save('data/out/jac_pcoa_matrix')\n",
    "    bc_pcoa.save('data/out/bc_pcoa_matrix')\n",
    "    \n",
    "    jaccard_emperor.save('data/out/jac_pcoa_emp')\n",
    "    bray_curtis_emperor.save('data/out/bc_pcoa_emp')\n",
    "    \n",
    "    return\n",
    "\n",
    "save_pcoa_outputs(feature_table_metrics)"
   ]
  },
  {
   "attachments": {},
   "cell_type": "markdown",
   "id": "407ee222",
   "metadata": {},
   "source": [
    "### UMAP Dimensionality Reduction\n",
    "Perform some tasks using the UMAP artifact in Qiime2 as well as the Supervised UMAP from UMAP library"
   ]
  },
  {
   "cell_type": "code",
   "execution_count": null,
   "id": "25d1651e",
   "metadata": {},
   "outputs": [
    {
     "name": "stderr",
     "output_type": "stream",
     "text": [
      "/home/renaldy/miniconda3/envs/qiime2-2022.11/lib/python3.8/site-packages/q2_diversity/_ordination.py:96: FutureWarning: The default dtype for empty Series will be 'object' instead of 'float64' in a future version. Specify a dtype explicitly to silence this warning.\n",
      "  proportion_explained=pd.Series(None, index=axis_labels),\n",
      "/home/renaldy/miniconda3/envs/qiime2-2022.11/lib/python3.8/site-packages/q2_diversity/_ordination.py:96: FutureWarning: The default dtype for empty Series will be 'object' instead of 'float64' in a future version. Specify a dtype explicitly to silence this warning.\n",
      "  proportion_explained=pd.Series(None, index=axis_labels),\n",
      "/home/renaldy/miniconda3/envs/qiime2-2022.11/lib/python3.8/site-packages/q2_diversity/_ordination.py:96: FutureWarning: The default dtype for empty Series will be 'object' instead of 'float64' in a future version. Specify a dtype explicitly to silence this warning.\n",
      "  proportion_explained=pd.Series(None, index=axis_labels),\n",
      "/home/renaldy/miniconda3/envs/qiime2-2022.11/lib/python3.8/site-packages/q2_diversity/_ordination.py:96: FutureWarning: The default dtype for empty Series will be 'object' instead of 'float64' in a future version. Specify a dtype explicitly to silence this warning.\n",
      "  proportion_explained=pd.Series(None, index=axis_labels),\n",
      "/home/renaldy/miniconda3/envs/qiime2-2022.11/lib/python3.8/site-packages/q2_diversity/_ordination.py:96: FutureWarning: The default dtype for empty Series will be 'object' instead of 'float64' in a future version. Specify a dtype explicitly to silence this warning.\n",
      "  proportion_explained=pd.Series(None, index=axis_labels),\n",
      "/home/renaldy/miniconda3/envs/qiime2-2022.11/lib/python3.8/site-packages/q2_diversity/_ordination.py:96: FutureWarning: The default dtype for empty Series will be 'object' instead of 'float64' in a future version. Specify a dtype explicitly to silence this warning.\n",
      "  proportion_explained=pd.Series(None, index=axis_labels),\n"
     ]
    }
   ],
   "source": [
    "#Code for UMAP using qiime2\n",
    "for n in (2, 5, 10, 15, 20, 50):\n",
    "    dim = 3\n",
    "    umap_results = metrics_analysis.extract_umap_results(u_unifrac[0], dim, n)[0]\n",
    "    umap_vis = metrics_analysis.extract_umap_vis(umap_results, metadata)[0]\n",
    "    file_path = \"data/out/umap_vis_u_unifrac_3_\" + str(n)\n",
    "    umap_vis.save(file_path)"
   ]
  },
  {
   "attachments": {},
   "cell_type": "markdown",
   "id": "532886c4",
   "metadata": {},
   "source": [
    "### Supervised UMAP\n",
    "First i'm going to try to use supervised UMAP with 'disease_type' as the target on samples that only have 1 disease. Then try to apply this to the whole dataset and see if we can still get good results.\n",
    "Going to attempt to visualize in the 2D space first, then 3D space using emperor. 2D plots code will be taken from UMAP documentation.\n"
   ]
  },
  {
   "cell_type": "code",
   "execution_count": 104,
   "id": "84551893",
   "metadata": {},
   "outputs": [
    {
     "data": {
      "text/html": [
       "<div>\n",
       "<style scoped>\n",
       "    .dataframe tbody tr th:only-of-type {\n",
       "        vertical-align: middle;\n",
       "    }\n",
       "\n",
       "    .dataframe tbody tr th {\n",
       "        vertical-align: top;\n",
       "    }\n",
       "\n",
       "    .dataframe thead th {\n",
       "        text-align: right;\n",
       "    }\n",
       "</style>\n",
       "<table border=\"1\" class=\"dataframe\">\n",
       "  <thead>\n",
       "    <tr style=\"text-align: right;\">\n",
       "      <th></th>\n",
       "      <th>abdominal_obesity_ncep_v2</th>\n",
       "      <th>ckd_v2</th>\n",
       "      <th>diabetes2_v2</th>\n",
       "      <th>hypertension2_v2</th>\n",
       "      <th>precvd_v2</th>\n",
       "      <th>elevated_bp_selfmeds_v2</th>\n",
       "      <th>dyslipidemia_v2</th>\n",
       "    </tr>\n",
       "    <tr>\n",
       "      <th>sample_name</th>\n",
       "      <th></th>\n",
       "      <th></th>\n",
       "      <th></th>\n",
       "      <th></th>\n",
       "      <th></th>\n",
       "      <th></th>\n",
       "      <th></th>\n",
       "    </tr>\n",
       "  </thead>\n",
       "  <tbody>\n",
       "    <tr>\n",
       "      <th>11666.G0003A</th>\n",
       "      <td>1.0</td>\n",
       "      <td>0.0</td>\n",
       "      <td>0.0</td>\n",
       "      <td>0.0</td>\n",
       "      <td>0.0</td>\n",
       "      <td>0.0</td>\n",
       "      <td>0.0</td>\n",
       "    </tr>\n",
       "    <tr>\n",
       "      <th>11666.G0009A</th>\n",
       "      <td>1.0</td>\n",
       "      <td>0.0</td>\n",
       "      <td>0.0</td>\n",
       "      <td>0.0</td>\n",
       "      <td>0.0</td>\n",
       "      <td>0.0</td>\n",
       "      <td>0.0</td>\n",
       "    </tr>\n",
       "    <tr>\n",
       "      <th>11666.G0014A</th>\n",
       "      <td>0.0</td>\n",
       "      <td>1.0</td>\n",
       "      <td>0.0</td>\n",
       "      <td>0.0</td>\n",
       "      <td>0.0</td>\n",
       "      <td>0.0</td>\n",
       "      <td>0.0</td>\n",
       "    </tr>\n",
       "    <tr>\n",
       "      <th>11666.G0034A</th>\n",
       "      <td>0.0</td>\n",
       "      <td>0.0</td>\n",
       "      <td>0.0</td>\n",
       "      <td>0.0</td>\n",
       "      <td>0.0</td>\n",
       "      <td>0.0</td>\n",
       "      <td>1.0</td>\n",
       "    </tr>\n",
       "    <tr>\n",
       "      <th>11666.G0037A</th>\n",
       "      <td>1.0</td>\n",
       "      <td>0.0</td>\n",
       "      <td>0.0</td>\n",
       "      <td>0.0</td>\n",
       "      <td>0.0</td>\n",
       "      <td>0.0</td>\n",
       "      <td>0.0</td>\n",
       "    </tr>\n",
       "    <tr>\n",
       "      <th>...</th>\n",
       "      <td>...</td>\n",
       "      <td>...</td>\n",
       "      <td>...</td>\n",
       "      <td>...</td>\n",
       "      <td>...</td>\n",
       "      <td>...</td>\n",
       "      <td>...</td>\n",
       "    </tr>\n",
       "    <tr>\n",
       "      <th>11666.G1696A</th>\n",
       "      <td>0.0</td>\n",
       "      <td>1.0</td>\n",
       "      <td>0.0</td>\n",
       "      <td>0.0</td>\n",
       "      <td>0.0</td>\n",
       "      <td>0.0</td>\n",
       "      <td>0.0</td>\n",
       "    </tr>\n",
       "    <tr>\n",
       "      <th>11666.G1716A</th>\n",
       "      <td>1.0</td>\n",
       "      <td>0.0</td>\n",
       "      <td>0.0</td>\n",
       "      <td>0.0</td>\n",
       "      <td>0.0</td>\n",
       "      <td>0.0</td>\n",
       "      <td>0.0</td>\n",
       "    </tr>\n",
       "    <tr>\n",
       "      <th>11666.G1745A</th>\n",
       "      <td>0.0</td>\n",
       "      <td>1.0</td>\n",
       "      <td>0.0</td>\n",
       "      <td>0.0</td>\n",
       "      <td>0.0</td>\n",
       "      <td>0.0</td>\n",
       "      <td>0.0</td>\n",
       "    </tr>\n",
       "    <tr>\n",
       "      <th>11666.G1760A</th>\n",
       "      <td>0.0</td>\n",
       "      <td>1.0</td>\n",
       "      <td>0.0</td>\n",
       "      <td>0.0</td>\n",
       "      <td>0.0</td>\n",
       "      <td>0.0</td>\n",
       "      <td>0.0</td>\n",
       "    </tr>\n",
       "    <tr>\n",
       "      <th>11666.G1772A</th>\n",
       "      <td>0.0</td>\n",
       "      <td>0.0</td>\n",
       "      <td>0.0</td>\n",
       "      <td>0.0</td>\n",
       "      <td>0.0</td>\n",
       "      <td>0.0</td>\n",
       "      <td>1.0</td>\n",
       "    </tr>\n",
       "  </tbody>\n",
       "</table>\n",
       "<p>295 rows × 7 columns</p>\n",
       "</div>"
      ],
      "text/plain": [
       "              abdominal_obesity_ncep_v2  ckd_v2  diabetes2_v2  \\\n",
       "sample_name                                                     \n",
       "11666.G0003A                        1.0     0.0           0.0   \n",
       "11666.G0009A                        1.0     0.0           0.0   \n",
       "11666.G0014A                        0.0     1.0           0.0   \n",
       "11666.G0034A                        0.0     0.0           0.0   \n",
       "11666.G0037A                        1.0     0.0           0.0   \n",
       "...                                 ...     ...           ...   \n",
       "11666.G1696A                        0.0     1.0           0.0   \n",
       "11666.G1716A                        1.0     0.0           0.0   \n",
       "11666.G1745A                        0.0     1.0           0.0   \n",
       "11666.G1760A                        0.0     1.0           0.0   \n",
       "11666.G1772A                        0.0     0.0           0.0   \n",
       "\n",
       "              hypertension2_v2  precvd_v2  elevated_bp_selfmeds_v2  \\\n",
       "sample_name                                                          \n",
       "11666.G0003A               0.0        0.0                      0.0   \n",
       "11666.G0009A               0.0        0.0                      0.0   \n",
       "11666.G0014A               0.0        0.0                      0.0   \n",
       "11666.G0034A               0.0        0.0                      0.0   \n",
       "11666.G0037A               0.0        0.0                      0.0   \n",
       "...                        ...        ...                      ...   \n",
       "11666.G1696A               0.0        0.0                      0.0   \n",
       "11666.G1716A               0.0        0.0                      0.0   \n",
       "11666.G1745A               0.0        0.0                      0.0   \n",
       "11666.G1760A               0.0        0.0                      0.0   \n",
       "11666.G1772A               0.0        0.0                      0.0   \n",
       "\n",
       "              dyslipidemia_v2  \n",
       "sample_name                    \n",
       "11666.G0003A              0.0  \n",
       "11666.G0009A              0.0  \n",
       "11666.G0014A              0.0  \n",
       "11666.G0034A              1.0  \n",
       "11666.G0037A              0.0  \n",
       "...                       ...  \n",
       "11666.G1696A              0.0  \n",
       "11666.G1716A              0.0  \n",
       "11666.G1745A              0.0  \n",
       "11666.G1760A              0.0  \n",
       "11666.G1772A              1.0  \n",
       "\n",
       "[295 rows x 7 columns]"
      ]
     },
     "execution_count": 104,
     "metadata": {},
     "output_type": "execute_result"
    }
   ],
   "source": [
    "#Filtering metadata to only get samples with 1 disease type, to remove disease ambiguity\n",
    "filtered_metadata_df = metadata_df.drop('hispanic_origin', axis=1)\n",
    "\n",
    "filtered_metadata_df = filtered_metadata_df[(filtered_metadata_df.sum(axis=1) == 1)] #We have around 300 samples left\n",
    "filtered_metadata_df"
   ]
  },
  {
   "cell_type": "code",
   "execution_count": 105,
   "id": "af57660e",
   "metadata": {},
   "outputs": [],
   "source": [
    "#Convert binary columns into a single categorical target column for disease type\n",
    "filtered_metadata_df[\"target_disease\"] = filtered_metadata_df.idxmax(axis=1)\n",
    "\n",
    "#Get the target disease and sample name,then create the metadata and filterd feature table\n",
    "target_disease = filtered_metadata_df['target_disease']\n",
    "target_disease.to_csv('data/temp/target_disease.tsv', sep=\"\\t\")\n",
    "metadata_target_disease = Metadata.load(\"data/temp/target_disease.tsv\") \n",
    "feature_table_target_disease = filter_samples(table, metadata = metadata_target_disease).filtered_table"
   ]
  },
  {
   "cell_type": "code",
   "execution_count": 107,
   "id": "e6ad4849",
   "metadata": {},
   "outputs": [
    {
     "data": {
      "text/html": [
       "<div>\n",
       "<style scoped>\n",
       "    .dataframe tbody tr th:only-of-type {\n",
       "        vertical-align: middle;\n",
       "    }\n",
       "\n",
       "    .dataframe tbody tr th {\n",
       "        vertical-align: top;\n",
       "    }\n",
       "\n",
       "    .dataframe thead th {\n",
       "        text-align: right;\n",
       "    }\n",
       "</style>\n",
       "<table border=\"1\" class=\"dataframe\">\n",
       "  <thead>\n",
       "    <tr style=\"text-align: right;\">\n",
       "      <th></th>\n",
       "      <th>AACATAGGGGGCAAGCGTTGTCCGGAATCACTGGGCGTAAAGGGCGCGTAGGTGGTCTGTTAAGTCAGATGTGAAATGTAAGGGCTCAACCCTTAACGTGCATCTGATACTGGCAGACTTGAGTGCGGAAGAGGCAAGTGGAATTCCTAG</th>\n",
       "      <th>AACGTAGGGTGCAAGCGTTGTCCGGAATTACTGGGTGTAAAGGGAGCGCAGGCGGACCGGCAAGTTGGAAGTGAAAACCATAGGCTCAACCTATGGATTGCTTTCAAAACTGCTGGCCTTGAGTAGTGCAGAGGTAGGTGGAATTCCCGG</th>\n",
       "      <th>AACGTAGGGTGCAAGCGTTGTCCGGAATTACTGGGTGTAAAGGGAGCGCAGGCGGACCGGCAAGTTGGAAGTGAAAACCATGGGCTCAACCCATGAATTGCTTTCAAAACTGCTGGCCTTGAGTAGTGCAGAGGTAGGTGGAATTCCCGG</th>\n",
       "      <th>AACGTAGGGTGCAAGCGTTGTCCGGAATTACTGGGTGTAAAGGGAGCGCAGGCGGACCGGCAAGTTGGAAGTGAAAACCATGGGCTCAACCCGTGAATTGCTTTCAAAACTGCTGGCCTTGAGTAGTGCAGAGGTAGGTGGAATTCCCGG</th>\n",
       "      <th>AACGTAGGGTGCAAGCGTTGTCCGGAATTACTGGGTGTAAAGGGAGCGCAGGCGGACCGGCAAGTTGGAAGTGAAAACTATGGGCTCAACCCATAAATTGCTTTCAAAACTGCTGGCCTTGAGTAGTGCAGAGGTAGGTGGAATTCCCGG</th>\n",
       "      <th>AACGTAGGGTGCAAGCGTTGTCCGGAATTACTGGGTGTAAAGGGAGCGCAGGCGGACCGGCAAGTTGGAAGTGAAAACTATGGGCTCAACTCATAAATTGCTTTCAAAACTGCTGGCCTTGAGTAGTGCAGAGGTAGGTGGAATTCCCGG</th>\n",
       "      <th>AACGTAGGGTGCAAGCGTTGTCCGGAATTACTGGGTGTAAAGGGAGCGCAGGCGGACCGGCAAGTTGGAAGTGAAAACTATGGGCTTAACCCATAAATTGCTTTCAAAACTGCTGGCCTTGAGTAGTGCAGAGGTAGGTGGAATTCCCGG</th>\n",
       "      <th>AACGTAGGGTGCAAGCGTTGTCCGGAATTACTGGGTGTAAAGGGAGCGCAGGCGGACCGGCAAGTTGGAAGTGAAATCCATGGGCTCAACCCGTGAATTGCTTTCAAAACTGCTGGCCTTGAGTAGTGCAGAGGTAGGTGGAATTCCCGG</th>\n",
       "      <th>AACGTAGGGTGCAAGCGTTGTCCGGAATTACTGGGTGTAAAGGGAGCGCAGGCGGACCGGCAAGTTGGAAGTGAAATCCATGGGCTTAACCCGTGAATTGCTTTCAAAACTGCTGGCCTTGAGTAGTGCAGAGGTAGGTGGAATTCCCGG</th>\n",
       "      <th>AACGTAGGGTGCAAGCGTTGTCCGGAATTACTGGGTGTAAAGGGAGCGCAGGCGGACCGGCAAGTTGGGAGTGAAATCCATGGGCTCAACCCGTGAATTGCTTTCAAAACTGCTGGCCTTGAGTAGTGCAGAGGTAGGTGGAATTCCCGG</th>\n",
       "      <th>...</th>\n",
       "      <th>TACGTATGGTGCAAGCGTTATCCGGATTTACTGGGTGTAAAGGGTGCGTAGGTGGTATGGCAAGTCAGAAGTGAAAGGCTGGGGCTCAACCCCGGGACTGCTTTTGAAACTGTCAAACTAGAGTACAGGAGAGGAAAGCGGAATTCCTAG</th>\n",
       "      <th>TACGTATGGTGCAAGCGTTATCCGGATTTACTGGGTGTAAAGGGTGCGTAGGTGGTGAGACAAGTCTGAAGTGAAAATCCGGGGCTTAACCCCGGAACTGCTTTGGAAACTGCCTGACTAGAGTACAGGAGAGGTAAGTGGAATTCCTAG</th>\n",
       "      <th>TACGTATGTCCCGAGCGTTATCCGGATTTATTGGGCGTAAAGCGAGCGCAGACGGTTGATTAAGTCTGATGTGAAAGCCCGGAGCTCAACTCCGGAATGGCATTGGAAACTGGTTAACTTGAGTGTTGTAGAGGTAAGTGGAACTCCATG</th>\n",
       "      <th>TACGTATGTCGCAAGCGTTATCCGGATTTATTGGGCGTAAAGCGCGTCTAGGCGGCTTAGTAAGTCTGATGTGAAAATGCGGGGCTCAACCCCGTATTGCGTTGGAAACTGCTAAACTAGAGTACTGGAGAGGTAGGCGGAACTACAAGT</th>\n",
       "      <th>TACGTATGTCGCAAGCGTTATCCGGATTTATTGGGCGTAAAGCGCGTCTAGGCGGTTTAGTAAGTCTGATGTGAAAATGCGGGGCTCAACCCCGTATTGCGTTGGAAACTGCTAAACTAGAGTACTGGAGAGGTAGGCGGAACTACAAGT</th>\n",
       "      <th>TACGTATGTCGCAAGCGTTATCCGGATTTATTGGGCGTAAAGCGCGTCTAGGCGGTTTGGTAAGTCTGATGTGAAAATGCGGGGCTCAACTCCGTATTGCGTTGGAAACTGCCAAACTAGAGTACTGGAGAGGTGGGCGGAACTACAAGT</th>\n",
       "      <th>TACGTATGTCGCGAGCGTTATCCGGAATTATTGGGCATAAAGGGCATCTAGGCGGATATACAAGTCAGGGGTGAAAACTTAGGGCTCAACTCAAAGCTTGCCTTTGAAACTGTATATCTAGAGTGCTGGAGAGGTGGACGGAACTACACG</th>\n",
       "      <th>TACGTATGTTCCAAGCGTTATCCGGATTTATTGGGCGTAAAGCGAGCGCAGACGGTTATTTAAGTCTGAAGTGAAAGCCCTCAGCTCAACTGAGGAATTGCTTTGGAAACTGGATGACTTGAGTGCAGTAGAGGAAAGTGGAACTCCATG</th>\n",
       "      <th>TACGTGGGTCGCAAGCGTTATCCGGAATCATTGGGCGTAAAGAGTGAGCAGGCGGTCCGGGAAGTCCGCGGTGAAATGCGGGGGCTCAACCCCCGCAGGCCGCGGATACTTCCGGTCTGGGGTGCGGGAGAGGCGGACGGAACTCCGCGG</th>\n",
       "      <th>TACGTGGGTCGCAAGCGTTATCCGGAATCATTGGGCGTAAAGAGTGAGCAGGCGGTCCGGGAAGTCCGCGGTGAAATGCGGGGGCTCAACCCCCGCAGGCCGCGGATACTTCCGGTCTGGGGTGCGGGAGAGGCGGACGGAACTCCGCGT</th>\n",
       "    </tr>\n",
       "  </thead>\n",
       "  <tbody>\n",
       "    <tr>\n",
       "      <th>11666.G0394A</th>\n",
       "      <td>0.0</td>\n",
       "      <td>0.0</td>\n",
       "      <td>0.0</td>\n",
       "      <td>0.0</td>\n",
       "      <td>0.0</td>\n",
       "      <td>0.0</td>\n",
       "      <td>0.0</td>\n",
       "      <td>0.0</td>\n",
       "      <td>0.0</td>\n",
       "      <td>0.0</td>\n",
       "      <td>...</td>\n",
       "      <td>0.0</td>\n",
       "      <td>0.0</td>\n",
       "      <td>0.0</td>\n",
       "      <td>0.0</td>\n",
       "      <td>0.0</td>\n",
       "      <td>0.0</td>\n",
       "      <td>0.0</td>\n",
       "      <td>0.0</td>\n",
       "      <td>0.0</td>\n",
       "      <td>0.0</td>\n",
       "    </tr>\n",
       "    <tr>\n",
       "      <th>11666.G0156A</th>\n",
       "      <td>0.0</td>\n",
       "      <td>0.0</td>\n",
       "      <td>0.0</td>\n",
       "      <td>0.0</td>\n",
       "      <td>5.0</td>\n",
       "      <td>0.0</td>\n",
       "      <td>0.0</td>\n",
       "      <td>2.0</td>\n",
       "      <td>0.0</td>\n",
       "      <td>0.0</td>\n",
       "      <td>...</td>\n",
       "      <td>0.0</td>\n",
       "      <td>2.0</td>\n",
       "      <td>0.0</td>\n",
       "      <td>0.0</td>\n",
       "      <td>0.0</td>\n",
       "      <td>0.0</td>\n",
       "      <td>0.0</td>\n",
       "      <td>0.0</td>\n",
       "      <td>0.0</td>\n",
       "      <td>0.0</td>\n",
       "    </tr>\n",
       "    <tr>\n",
       "      <th>11666.G0343A</th>\n",
       "      <td>0.0</td>\n",
       "      <td>0.0</td>\n",
       "      <td>0.0</td>\n",
       "      <td>0.0</td>\n",
       "      <td>84.0</td>\n",
       "      <td>0.0</td>\n",
       "      <td>0.0</td>\n",
       "      <td>0.0</td>\n",
       "      <td>0.0</td>\n",
       "      <td>0.0</td>\n",
       "      <td>...</td>\n",
       "      <td>465.0</td>\n",
       "      <td>0.0</td>\n",
       "      <td>0.0</td>\n",
       "      <td>0.0</td>\n",
       "      <td>0.0</td>\n",
       "      <td>0.0</td>\n",
       "      <td>0.0</td>\n",
       "      <td>0.0</td>\n",
       "      <td>0.0</td>\n",
       "      <td>0.0</td>\n",
       "    </tr>\n",
       "    <tr>\n",
       "      <th>11666.G0103A</th>\n",
       "      <td>3.0</td>\n",
       "      <td>0.0</td>\n",
       "      <td>0.0</td>\n",
       "      <td>0.0</td>\n",
       "      <td>44.0</td>\n",
       "      <td>0.0</td>\n",
       "      <td>0.0</td>\n",
       "      <td>2.0</td>\n",
       "      <td>0.0</td>\n",
       "      <td>0.0</td>\n",
       "      <td>...</td>\n",
       "      <td>768.0</td>\n",
       "      <td>0.0</td>\n",
       "      <td>0.0</td>\n",
       "      <td>0.0</td>\n",
       "      <td>0.0</td>\n",
       "      <td>0.0</td>\n",
       "      <td>0.0</td>\n",
       "      <td>7.0</td>\n",
       "      <td>0.0</td>\n",
       "      <td>0.0</td>\n",
       "    </tr>\n",
       "    <tr>\n",
       "      <th>11666.G0366A</th>\n",
       "      <td>0.0</td>\n",
       "      <td>0.0</td>\n",
       "      <td>0.0</td>\n",
       "      <td>0.0</td>\n",
       "      <td>0.0</td>\n",
       "      <td>0.0</td>\n",
       "      <td>0.0</td>\n",
       "      <td>0.0</td>\n",
       "      <td>0.0</td>\n",
       "      <td>0.0</td>\n",
       "      <td>...</td>\n",
       "      <td>0.0</td>\n",
       "      <td>0.0</td>\n",
       "      <td>0.0</td>\n",
       "      <td>0.0</td>\n",
       "      <td>0.0</td>\n",
       "      <td>0.0</td>\n",
       "      <td>0.0</td>\n",
       "      <td>0.0</td>\n",
       "      <td>0.0</td>\n",
       "      <td>0.0</td>\n",
       "    </tr>\n",
       "    <tr>\n",
       "      <th>...</th>\n",
       "      <td>...</td>\n",
       "      <td>...</td>\n",
       "      <td>...</td>\n",
       "      <td>...</td>\n",
       "      <td>...</td>\n",
       "      <td>...</td>\n",
       "      <td>...</td>\n",
       "      <td>...</td>\n",
       "      <td>...</td>\n",
       "      <td>...</td>\n",
       "      <td>...</td>\n",
       "      <td>...</td>\n",
       "      <td>...</td>\n",
       "      <td>...</td>\n",
       "      <td>...</td>\n",
       "      <td>...</td>\n",
       "      <td>...</td>\n",
       "      <td>...</td>\n",
       "      <td>...</td>\n",
       "      <td>...</td>\n",
       "      <td>...</td>\n",
       "    </tr>\n",
       "    <tr>\n",
       "      <th>11666.G1477A</th>\n",
       "      <td>0.0</td>\n",
       "      <td>0.0</td>\n",
       "      <td>0.0</td>\n",
       "      <td>0.0</td>\n",
       "      <td>45.0</td>\n",
       "      <td>0.0</td>\n",
       "      <td>9.0</td>\n",
       "      <td>0.0</td>\n",
       "      <td>0.0</td>\n",
       "      <td>0.0</td>\n",
       "      <td>...</td>\n",
       "      <td>3.0</td>\n",
       "      <td>0.0</td>\n",
       "      <td>0.0</td>\n",
       "      <td>0.0</td>\n",
       "      <td>0.0</td>\n",
       "      <td>0.0</td>\n",
       "      <td>0.0</td>\n",
       "      <td>0.0</td>\n",
       "      <td>0.0</td>\n",
       "      <td>0.0</td>\n",
       "    </tr>\n",
       "    <tr>\n",
       "      <th>11666.G1494A</th>\n",
       "      <td>0.0</td>\n",
       "      <td>0.0</td>\n",
       "      <td>0.0</td>\n",
       "      <td>0.0</td>\n",
       "      <td>0.0</td>\n",
       "      <td>0.0</td>\n",
       "      <td>0.0</td>\n",
       "      <td>0.0</td>\n",
       "      <td>0.0</td>\n",
       "      <td>0.0</td>\n",
       "      <td>...</td>\n",
       "      <td>0.0</td>\n",
       "      <td>0.0</td>\n",
       "      <td>0.0</td>\n",
       "      <td>0.0</td>\n",
       "      <td>0.0</td>\n",
       "      <td>0.0</td>\n",
       "      <td>0.0</td>\n",
       "      <td>0.0</td>\n",
       "      <td>0.0</td>\n",
       "      <td>0.0</td>\n",
       "    </tr>\n",
       "    <tr>\n",
       "      <th>11666.G1648A</th>\n",
       "      <td>0.0</td>\n",
       "      <td>0.0</td>\n",
       "      <td>0.0</td>\n",
       "      <td>4.0</td>\n",
       "      <td>4.0</td>\n",
       "      <td>0.0</td>\n",
       "      <td>0.0</td>\n",
       "      <td>1.0</td>\n",
       "      <td>0.0</td>\n",
       "      <td>0.0</td>\n",
       "      <td>...</td>\n",
       "      <td>134.0</td>\n",
       "      <td>50.0</td>\n",
       "      <td>0.0</td>\n",
       "      <td>0.0</td>\n",
       "      <td>0.0</td>\n",
       "      <td>0.0</td>\n",
       "      <td>0.0</td>\n",
       "      <td>0.0</td>\n",
       "      <td>0.0</td>\n",
       "      <td>0.0</td>\n",
       "    </tr>\n",
       "    <tr>\n",
       "      <th>11666.G1650A</th>\n",
       "      <td>2.0</td>\n",
       "      <td>0.0</td>\n",
       "      <td>0.0</td>\n",
       "      <td>4.0</td>\n",
       "      <td>14.0</td>\n",
       "      <td>0.0</td>\n",
       "      <td>0.0</td>\n",
       "      <td>0.0</td>\n",
       "      <td>0.0</td>\n",
       "      <td>0.0</td>\n",
       "      <td>...</td>\n",
       "      <td>2.0</td>\n",
       "      <td>78.0</td>\n",
       "      <td>0.0</td>\n",
       "      <td>0.0</td>\n",
       "      <td>0.0</td>\n",
       "      <td>0.0</td>\n",
       "      <td>0.0</td>\n",
       "      <td>0.0</td>\n",
       "      <td>0.0</td>\n",
       "      <td>0.0</td>\n",
       "    </tr>\n",
       "    <tr>\n",
       "      <th>11666.G1685A</th>\n",
       "      <td>0.0</td>\n",
       "      <td>0.0</td>\n",
       "      <td>0.0</td>\n",
       "      <td>0.0</td>\n",
       "      <td>18.0</td>\n",
       "      <td>0.0</td>\n",
       "      <td>0.0</td>\n",
       "      <td>5.0</td>\n",
       "      <td>0.0</td>\n",
       "      <td>1.0</td>\n",
       "      <td>...</td>\n",
       "      <td>0.0</td>\n",
       "      <td>0.0</td>\n",
       "      <td>0.0</td>\n",
       "      <td>0.0</td>\n",
       "      <td>0.0</td>\n",
       "      <td>0.0</td>\n",
       "      <td>0.0</td>\n",
       "      <td>0.0</td>\n",
       "      <td>0.0</td>\n",
       "      <td>0.0</td>\n",
       "    </tr>\n",
       "  </tbody>\n",
       "</table>\n",
       "<p>295 rows × 1430 columns</p>\n",
       "</div>"
      ],
      "text/plain": [
       "              AACATAGGGGGCAAGCGTTGTCCGGAATCACTGGGCGTAAAGGGCGCGTAGGTGGTCTGTTAAGTCAGATGTGAAATGTAAGGGCTCAACCCTTAACGTGCATCTGATACTGGCAGACTTGAGTGCGGAAGAGGCAAGTGGAATTCCTAG  \\\n",
       "11666.G0394A                                                0.0                                                                                                        \n",
       "11666.G0156A                                                0.0                                                                                                        \n",
       "11666.G0343A                                                0.0                                                                                                        \n",
       "11666.G0103A                                                3.0                                                                                                        \n",
       "11666.G0366A                                                0.0                                                                                                        \n",
       "...                                                         ...                                                                                                        \n",
       "11666.G1477A                                                0.0                                                                                                        \n",
       "11666.G1494A                                                0.0                                                                                                        \n",
       "11666.G1648A                                                0.0                                                                                                        \n",
       "11666.G1650A                                                2.0                                                                                                        \n",
       "11666.G1685A                                                0.0                                                                                                        \n",
       "\n",
       "              AACGTAGGGTGCAAGCGTTGTCCGGAATTACTGGGTGTAAAGGGAGCGCAGGCGGACCGGCAAGTTGGAAGTGAAAACCATAGGCTCAACCTATGGATTGCTTTCAAAACTGCTGGCCTTGAGTAGTGCAGAGGTAGGTGGAATTCCCGG  \\\n",
       "11666.G0394A                                                0.0                                                                                                        \n",
       "11666.G0156A                                                0.0                                                                                                        \n",
       "11666.G0343A                                                0.0                                                                                                        \n",
       "11666.G0103A                                                0.0                                                                                                        \n",
       "11666.G0366A                                                0.0                                                                                                        \n",
       "...                                                         ...                                                                                                        \n",
       "11666.G1477A                                                0.0                                                                                                        \n",
       "11666.G1494A                                                0.0                                                                                                        \n",
       "11666.G1648A                                                0.0                                                                                                        \n",
       "11666.G1650A                                                0.0                                                                                                        \n",
       "11666.G1685A                                                0.0                                                                                                        \n",
       "\n",
       "              AACGTAGGGTGCAAGCGTTGTCCGGAATTACTGGGTGTAAAGGGAGCGCAGGCGGACCGGCAAGTTGGAAGTGAAAACCATGGGCTCAACCCATGAATTGCTTTCAAAACTGCTGGCCTTGAGTAGTGCAGAGGTAGGTGGAATTCCCGG  \\\n",
       "11666.G0394A                                                0.0                                                                                                        \n",
       "11666.G0156A                                                0.0                                                                                                        \n",
       "11666.G0343A                                                0.0                                                                                                        \n",
       "11666.G0103A                                                0.0                                                                                                        \n",
       "11666.G0366A                                                0.0                                                                                                        \n",
       "...                                                         ...                                                                                                        \n",
       "11666.G1477A                                                0.0                                                                                                        \n",
       "11666.G1494A                                                0.0                                                                                                        \n",
       "11666.G1648A                                                0.0                                                                                                        \n",
       "11666.G1650A                                                0.0                                                                                                        \n",
       "11666.G1685A                                                0.0                                                                                                        \n",
       "\n",
       "              AACGTAGGGTGCAAGCGTTGTCCGGAATTACTGGGTGTAAAGGGAGCGCAGGCGGACCGGCAAGTTGGAAGTGAAAACCATGGGCTCAACCCGTGAATTGCTTTCAAAACTGCTGGCCTTGAGTAGTGCAGAGGTAGGTGGAATTCCCGG  \\\n",
       "11666.G0394A                                                0.0                                                                                                        \n",
       "11666.G0156A                                                0.0                                                                                                        \n",
       "11666.G0343A                                                0.0                                                                                                        \n",
       "11666.G0103A                                                0.0                                                                                                        \n",
       "11666.G0366A                                                0.0                                                                                                        \n",
       "...                                                         ...                                                                                                        \n",
       "11666.G1477A                                                0.0                                                                                                        \n",
       "11666.G1494A                                                0.0                                                                                                        \n",
       "11666.G1648A                                                4.0                                                                                                        \n",
       "11666.G1650A                                                4.0                                                                                                        \n",
       "11666.G1685A                                                0.0                                                                                                        \n",
       "\n",
       "              AACGTAGGGTGCAAGCGTTGTCCGGAATTACTGGGTGTAAAGGGAGCGCAGGCGGACCGGCAAGTTGGAAGTGAAAACTATGGGCTCAACCCATAAATTGCTTTCAAAACTGCTGGCCTTGAGTAGTGCAGAGGTAGGTGGAATTCCCGG  \\\n",
       "11666.G0394A                                                0.0                                                                                                        \n",
       "11666.G0156A                                                5.0                                                                                                        \n",
       "11666.G0343A                                               84.0                                                                                                        \n",
       "11666.G0103A                                               44.0                                                                                                        \n",
       "11666.G0366A                                                0.0                                                                                                        \n",
       "...                                                         ...                                                                                                        \n",
       "11666.G1477A                                               45.0                                                                                                        \n",
       "11666.G1494A                                                0.0                                                                                                        \n",
       "11666.G1648A                                                4.0                                                                                                        \n",
       "11666.G1650A                                               14.0                                                                                                        \n",
       "11666.G1685A                                               18.0                                                                                                        \n",
       "\n",
       "              AACGTAGGGTGCAAGCGTTGTCCGGAATTACTGGGTGTAAAGGGAGCGCAGGCGGACCGGCAAGTTGGAAGTGAAAACTATGGGCTCAACTCATAAATTGCTTTCAAAACTGCTGGCCTTGAGTAGTGCAGAGGTAGGTGGAATTCCCGG  \\\n",
       "11666.G0394A                                                0.0                                                                                                        \n",
       "11666.G0156A                                                0.0                                                                                                        \n",
       "11666.G0343A                                                0.0                                                                                                        \n",
       "11666.G0103A                                                0.0                                                                                                        \n",
       "11666.G0366A                                                0.0                                                                                                        \n",
       "...                                                         ...                                                                                                        \n",
       "11666.G1477A                                                0.0                                                                                                        \n",
       "11666.G1494A                                                0.0                                                                                                        \n",
       "11666.G1648A                                                0.0                                                                                                        \n",
       "11666.G1650A                                                0.0                                                                                                        \n",
       "11666.G1685A                                                0.0                                                                                                        \n",
       "\n",
       "              AACGTAGGGTGCAAGCGTTGTCCGGAATTACTGGGTGTAAAGGGAGCGCAGGCGGACCGGCAAGTTGGAAGTGAAAACTATGGGCTTAACCCATAAATTGCTTTCAAAACTGCTGGCCTTGAGTAGTGCAGAGGTAGGTGGAATTCCCGG  \\\n",
       "11666.G0394A                                                0.0                                                                                                        \n",
       "11666.G0156A                                                0.0                                                                                                        \n",
       "11666.G0343A                                                0.0                                                                                                        \n",
       "11666.G0103A                                                0.0                                                                                                        \n",
       "11666.G0366A                                                0.0                                                                                                        \n",
       "...                                                         ...                                                                                                        \n",
       "11666.G1477A                                                9.0                                                                                                        \n",
       "11666.G1494A                                                0.0                                                                                                        \n",
       "11666.G1648A                                                0.0                                                                                                        \n",
       "11666.G1650A                                                0.0                                                                                                        \n",
       "11666.G1685A                                                0.0                                                                                                        \n",
       "\n",
       "              AACGTAGGGTGCAAGCGTTGTCCGGAATTACTGGGTGTAAAGGGAGCGCAGGCGGACCGGCAAGTTGGAAGTGAAATCCATGGGCTCAACCCGTGAATTGCTTTCAAAACTGCTGGCCTTGAGTAGTGCAGAGGTAGGTGGAATTCCCGG  \\\n",
       "11666.G0394A                                                0.0                                                                                                        \n",
       "11666.G0156A                                                2.0                                                                                                        \n",
       "11666.G0343A                                                0.0                                                                                                        \n",
       "11666.G0103A                                                2.0                                                                                                        \n",
       "11666.G0366A                                                0.0                                                                                                        \n",
       "...                                                         ...                                                                                                        \n",
       "11666.G1477A                                                0.0                                                                                                        \n",
       "11666.G1494A                                                0.0                                                                                                        \n",
       "11666.G1648A                                                1.0                                                                                                        \n",
       "11666.G1650A                                                0.0                                                                                                        \n",
       "11666.G1685A                                                5.0                                                                                                        \n",
       "\n",
       "              AACGTAGGGTGCAAGCGTTGTCCGGAATTACTGGGTGTAAAGGGAGCGCAGGCGGACCGGCAAGTTGGAAGTGAAATCCATGGGCTTAACCCGTGAATTGCTTTCAAAACTGCTGGCCTTGAGTAGTGCAGAGGTAGGTGGAATTCCCGG  \\\n",
       "11666.G0394A                                                0.0                                                                                                        \n",
       "11666.G0156A                                                0.0                                                                                                        \n",
       "11666.G0343A                                                0.0                                                                                                        \n",
       "11666.G0103A                                                0.0                                                                                                        \n",
       "11666.G0366A                                                0.0                                                                                                        \n",
       "...                                                         ...                                                                                                        \n",
       "11666.G1477A                                                0.0                                                                                                        \n",
       "11666.G1494A                                                0.0                                                                                                        \n",
       "11666.G1648A                                                0.0                                                                                                        \n",
       "11666.G1650A                                                0.0                                                                                                        \n",
       "11666.G1685A                                                0.0                                                                                                        \n",
       "\n",
       "              AACGTAGGGTGCAAGCGTTGTCCGGAATTACTGGGTGTAAAGGGAGCGCAGGCGGACCGGCAAGTTGGGAGTGAAATCCATGGGCTCAACCCGTGAATTGCTTTCAAAACTGCTGGCCTTGAGTAGTGCAGAGGTAGGTGGAATTCCCGG  \\\n",
       "11666.G0394A                                                0.0                                                                                                        \n",
       "11666.G0156A                                                0.0                                                                                                        \n",
       "11666.G0343A                                                0.0                                                                                                        \n",
       "11666.G0103A                                                0.0                                                                                                        \n",
       "11666.G0366A                                                0.0                                                                                                        \n",
       "...                                                         ...                                                                                                        \n",
       "11666.G1477A                                                0.0                                                                                                        \n",
       "11666.G1494A                                                0.0                                                                                                        \n",
       "11666.G1648A                                                0.0                                                                                                        \n",
       "11666.G1650A                                                0.0                                                                                                        \n",
       "11666.G1685A                                                1.0                                                                                                        \n",
       "\n",
       "              ...  \\\n",
       "11666.G0394A  ...   \n",
       "11666.G0156A  ...   \n",
       "11666.G0343A  ...   \n",
       "11666.G0103A  ...   \n",
       "11666.G0366A  ...   \n",
       "...           ...   \n",
       "11666.G1477A  ...   \n",
       "11666.G1494A  ...   \n",
       "11666.G1648A  ...   \n",
       "11666.G1650A  ...   \n",
       "11666.G1685A  ...   \n",
       "\n",
       "              TACGTATGGTGCAAGCGTTATCCGGATTTACTGGGTGTAAAGGGTGCGTAGGTGGTATGGCAAGTCAGAAGTGAAAGGCTGGGGCTCAACCCCGGGACTGCTTTTGAAACTGTCAAACTAGAGTACAGGAGAGGAAAGCGGAATTCCTAG  \\\n",
       "11666.G0394A                                                0.0                                                                                                        \n",
       "11666.G0156A                                                0.0                                                                                                        \n",
       "11666.G0343A                                              465.0                                                                                                        \n",
       "11666.G0103A                                              768.0                                                                                                        \n",
       "11666.G0366A                                                0.0                                                                                                        \n",
       "...                                                         ...                                                                                                        \n",
       "11666.G1477A                                                3.0                                                                                                        \n",
       "11666.G1494A                                                0.0                                                                                                        \n",
       "11666.G1648A                                              134.0                                                                                                        \n",
       "11666.G1650A                                                2.0                                                                                                        \n",
       "11666.G1685A                                                0.0                                                                                                        \n",
       "\n",
       "              TACGTATGGTGCAAGCGTTATCCGGATTTACTGGGTGTAAAGGGTGCGTAGGTGGTGAGACAAGTCTGAAGTGAAAATCCGGGGCTTAACCCCGGAACTGCTTTGGAAACTGCCTGACTAGAGTACAGGAGAGGTAAGTGGAATTCCTAG  \\\n",
       "11666.G0394A                                                0.0                                                                                                        \n",
       "11666.G0156A                                                2.0                                                                                                        \n",
       "11666.G0343A                                                0.0                                                                                                        \n",
       "11666.G0103A                                                0.0                                                                                                        \n",
       "11666.G0366A                                                0.0                                                                                                        \n",
       "...                                                         ...                                                                                                        \n",
       "11666.G1477A                                                0.0                                                                                                        \n",
       "11666.G1494A                                                0.0                                                                                                        \n",
       "11666.G1648A                                               50.0                                                                                                        \n",
       "11666.G1650A                                               78.0                                                                                                        \n",
       "11666.G1685A                                                0.0                                                                                                        \n",
       "\n",
       "              TACGTATGTCCCGAGCGTTATCCGGATTTATTGGGCGTAAAGCGAGCGCAGACGGTTGATTAAGTCTGATGTGAAAGCCCGGAGCTCAACTCCGGAATGGCATTGGAAACTGGTTAACTTGAGTGTTGTAGAGGTAAGTGGAACTCCATG  \\\n",
       "11666.G0394A                                                0.0                                                                                                        \n",
       "11666.G0156A                                                0.0                                                                                                        \n",
       "11666.G0343A                                                0.0                                                                                                        \n",
       "11666.G0103A                                                0.0                                                                                                        \n",
       "11666.G0366A                                                0.0                                                                                                        \n",
       "...                                                         ...                                                                                                        \n",
       "11666.G1477A                                                0.0                                                                                                        \n",
       "11666.G1494A                                                0.0                                                                                                        \n",
       "11666.G1648A                                                0.0                                                                                                        \n",
       "11666.G1650A                                                0.0                                                                                                        \n",
       "11666.G1685A                                                0.0                                                                                                        \n",
       "\n",
       "              TACGTATGTCGCAAGCGTTATCCGGATTTATTGGGCGTAAAGCGCGTCTAGGCGGCTTAGTAAGTCTGATGTGAAAATGCGGGGCTCAACCCCGTATTGCGTTGGAAACTGCTAAACTAGAGTACTGGAGAGGTAGGCGGAACTACAAGT  \\\n",
       "11666.G0394A                                                0.0                                                                                                        \n",
       "11666.G0156A                                                0.0                                                                                                        \n",
       "11666.G0343A                                                0.0                                                                                                        \n",
       "11666.G0103A                                                0.0                                                                                                        \n",
       "11666.G0366A                                                0.0                                                                                                        \n",
       "...                                                         ...                                                                                                        \n",
       "11666.G1477A                                                0.0                                                                                                        \n",
       "11666.G1494A                                                0.0                                                                                                        \n",
       "11666.G1648A                                                0.0                                                                                                        \n",
       "11666.G1650A                                                0.0                                                                                                        \n",
       "11666.G1685A                                                0.0                                                                                                        \n",
       "\n",
       "              TACGTATGTCGCAAGCGTTATCCGGATTTATTGGGCGTAAAGCGCGTCTAGGCGGTTTAGTAAGTCTGATGTGAAAATGCGGGGCTCAACCCCGTATTGCGTTGGAAACTGCTAAACTAGAGTACTGGAGAGGTAGGCGGAACTACAAGT  \\\n",
       "11666.G0394A                                                0.0                                                                                                        \n",
       "11666.G0156A                                                0.0                                                                                                        \n",
       "11666.G0343A                                                0.0                                                                                                        \n",
       "11666.G0103A                                                0.0                                                                                                        \n",
       "11666.G0366A                                                0.0                                                                                                        \n",
       "...                                                         ...                                                                                                        \n",
       "11666.G1477A                                                0.0                                                                                                        \n",
       "11666.G1494A                                                0.0                                                                                                        \n",
       "11666.G1648A                                                0.0                                                                                                        \n",
       "11666.G1650A                                                0.0                                                                                                        \n",
       "11666.G1685A                                                0.0                                                                                                        \n",
       "\n",
       "              TACGTATGTCGCAAGCGTTATCCGGATTTATTGGGCGTAAAGCGCGTCTAGGCGGTTTGGTAAGTCTGATGTGAAAATGCGGGGCTCAACTCCGTATTGCGTTGGAAACTGCCAAACTAGAGTACTGGAGAGGTGGGCGGAACTACAAGT  \\\n",
       "11666.G0394A                                                0.0                                                                                                        \n",
       "11666.G0156A                                                0.0                                                                                                        \n",
       "11666.G0343A                                                0.0                                                                                                        \n",
       "11666.G0103A                                                0.0                                                                                                        \n",
       "11666.G0366A                                                0.0                                                                                                        \n",
       "...                                                         ...                                                                                                        \n",
       "11666.G1477A                                                0.0                                                                                                        \n",
       "11666.G1494A                                                0.0                                                                                                        \n",
       "11666.G1648A                                                0.0                                                                                                        \n",
       "11666.G1650A                                                0.0                                                                                                        \n",
       "11666.G1685A                                                0.0                                                                                                        \n",
       "\n",
       "              TACGTATGTCGCGAGCGTTATCCGGAATTATTGGGCATAAAGGGCATCTAGGCGGATATACAAGTCAGGGGTGAAAACTTAGGGCTCAACTCAAAGCTTGCCTTTGAAACTGTATATCTAGAGTGCTGGAGAGGTGGACGGAACTACACG  \\\n",
       "11666.G0394A                                                0.0                                                                                                        \n",
       "11666.G0156A                                                0.0                                                                                                        \n",
       "11666.G0343A                                                0.0                                                                                                        \n",
       "11666.G0103A                                                0.0                                                                                                        \n",
       "11666.G0366A                                                0.0                                                                                                        \n",
       "...                                                         ...                                                                                                        \n",
       "11666.G1477A                                                0.0                                                                                                        \n",
       "11666.G1494A                                                0.0                                                                                                        \n",
       "11666.G1648A                                                0.0                                                                                                        \n",
       "11666.G1650A                                                0.0                                                                                                        \n",
       "11666.G1685A                                                0.0                                                                                                        \n",
       "\n",
       "              TACGTATGTTCCAAGCGTTATCCGGATTTATTGGGCGTAAAGCGAGCGCAGACGGTTATTTAAGTCTGAAGTGAAAGCCCTCAGCTCAACTGAGGAATTGCTTTGGAAACTGGATGACTTGAGTGCAGTAGAGGAAAGTGGAACTCCATG  \\\n",
       "11666.G0394A                                                0.0                                                                                                        \n",
       "11666.G0156A                                                0.0                                                                                                        \n",
       "11666.G0343A                                                0.0                                                                                                        \n",
       "11666.G0103A                                                7.0                                                                                                        \n",
       "11666.G0366A                                                0.0                                                                                                        \n",
       "...                                                         ...                                                                                                        \n",
       "11666.G1477A                                                0.0                                                                                                        \n",
       "11666.G1494A                                                0.0                                                                                                        \n",
       "11666.G1648A                                                0.0                                                                                                        \n",
       "11666.G1650A                                                0.0                                                                                                        \n",
       "11666.G1685A                                                0.0                                                                                                        \n",
       "\n",
       "              TACGTGGGTCGCAAGCGTTATCCGGAATCATTGGGCGTAAAGAGTGAGCAGGCGGTCCGGGAAGTCCGCGGTGAAATGCGGGGGCTCAACCCCCGCAGGCCGCGGATACTTCCGGTCTGGGGTGCGGGAGAGGCGGACGGAACTCCGCGG  \\\n",
       "11666.G0394A                                                0.0                                                                                                        \n",
       "11666.G0156A                                                0.0                                                                                                        \n",
       "11666.G0343A                                                0.0                                                                                                        \n",
       "11666.G0103A                                                0.0                                                                                                        \n",
       "11666.G0366A                                                0.0                                                                                                        \n",
       "...                                                         ...                                                                                                        \n",
       "11666.G1477A                                                0.0                                                                                                        \n",
       "11666.G1494A                                                0.0                                                                                                        \n",
       "11666.G1648A                                                0.0                                                                                                        \n",
       "11666.G1650A                                                0.0                                                                                                        \n",
       "11666.G1685A                                                0.0                                                                                                        \n",
       "\n",
       "              TACGTGGGTCGCAAGCGTTATCCGGAATCATTGGGCGTAAAGAGTGAGCAGGCGGTCCGGGAAGTCCGCGGTGAAATGCGGGGGCTCAACCCCCGCAGGCCGCGGATACTTCCGGTCTGGGGTGCGGGAGAGGCGGACGGAACTCCGCGT  \n",
       "11666.G0394A                                                0.0                                                                                                       \n",
       "11666.G0156A                                                0.0                                                                                                       \n",
       "11666.G0343A                                                0.0                                                                                                       \n",
       "11666.G0103A                                                0.0                                                                                                       \n",
       "11666.G0366A                                                0.0                                                                                                       \n",
       "...                                                         ...                                                                                                       \n",
       "11666.G1477A                                                0.0                                                                                                       \n",
       "11666.G1494A                                                0.0                                                                                                       \n",
       "11666.G1648A                                                0.0                                                                                                       \n",
       "11666.G1650A                                                0.0                                                                                                       \n",
       "11666.G1685A                                                0.0                                                                                                       \n",
       "\n",
       "[295 rows x 1430 columns]"
      ]
     },
     "execution_count": 107,
     "metadata": {},
     "output_type": "execute_result"
    }
   ],
   "source": [
    "#View as a DF to perform cleaning\n",
    "feature_df_target_disease = feature_table_target_disease.view(pd.DataFrame)\n",
    "feature_df_target_disease = feature_df_target_disease[feature_df_target_disease.columns[((feature_df_target_disease > 0).sum() > 3)]] #Dropping features that appear in less than 3 samples\n",
    "feature_df_target_disease"
   ]
  },
  {
   "cell_type": "code",
   "execution_count": 109,
   "id": "5ab0aeb3",
   "metadata": {},
   "outputs": [
    {
     "name": "stderr",
     "output_type": "stream",
     "text": [
      "UsageError: Line magic function `%%time` not found.\n"
     ]
    }
   ],
   "source": [
    "#Create the UMAP pipeline, first do unsupervised regular UMAP, then compare with supervised UMAP\n",
    "import umap\n",
    "\n",
    "%%time\n",
    "embedding = umap.UMAP(n_neighbors=5).fit_transform(feature_df_target_disease)"
   ]
  },
  {
   "cell_type": "code",
   "execution_count": null,
   "id": "51de48b2",
   "metadata": {},
   "outputs": [],
   "source": [
    "#Plot the UMAP embeddings"
   ]
  }
 ],
 "metadata": {
  "kernelspec": {
   "display_name": "qiime2-2022.11",
   "language": "python",
   "name": "python3"
  },
  "language_info": {
   "codemirror_mode": {
    "name": "ipython",
    "version": 3
   },
   "file_extension": ".py",
   "mimetype": "text/x-python",
   "name": "python",
   "nbconvert_exporter": "python",
   "pygments_lexer": "ipython3",
   "version": "3.8.15"
  },
  "vscode": {
   "interpreter": {
    "hash": "17da5112c5eca88a97a0259aa019e16bb1088d19c7d7cc9cd3229166ce0859f4"
   }
  }
 },
 "nbformat": 4,
 "nbformat_minor": 5
}
