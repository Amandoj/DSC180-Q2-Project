{
 "cells": [
  {
   "cell_type": "code",
   "execution_count": 1,
   "id": "a48832d3",
   "metadata": {},
   "outputs": [],
   "source": [
    "import json\n",
    "import os\n",
    "import sys\n",
    "import inspect\n",
    "\n",
    "from src.data import make_dataset\n",
    "from src.features import build_features\n",
    "from src.features import metrics_analysis"
   ]
  },
  {
   "cell_type": "code",
   "execution_count": 2,
   "id": "ab8c4206",
   "metadata": {},
   "outputs": [],
   "source": [
    "## Creating paths to store temp and out data ##\n",
    "if not os.path.exists(\"data/temp\"):\n",
    "    os.makedirs(\"data/temp\")\n",
    "if not os.path.exists(\"data/out\"):\n",
    "    os.makedirs(\"data/out\")"
   ]
  },
  {
   "cell_type": "code",
   "execution_count": 3,
   "id": "1ca66ce5",
   "metadata": {},
   "outputs": [],
   "source": [
    "from qiime2.plugins import feature_table\n",
    "from qiime2 import Artifact\n",
    "from qiime2.plugins.sample_classifier.pipelines import classify_samples\n",
    "from qiime2.plugins.feature_table.methods import filter_samples\n",
    "from qiime2 import Metadata\n",
    "from qiime2.plugins.diversity.pipelines import core_metrics\n",
    "from qiime2.plugins.diversity.pipelines import core_metrics_phylogenetic\n",
    "from qiime2.plugins.feature_table.visualizers import summarize\n",
    "from qiime2.plugins.diversity.methods import umap\n",
    "\n",
    "\n",
    "import pandas as pd\n",
    "import numpy as np\n",
    "import matplotlib.pyplot as plt\n",
    "import biom\n",
    "import skbio\n",
    "\n",
    "import seaborn as sns\n",
    "# %matplotlib inline "
   ]
  },
  {
   "cell_type": "markdown",
   "id": "48925cae",
   "metadata": {},
   "source": [
    "## Loading Data"
   ]
  },
  {
   "cell_type": "code",
   "execution_count": 4,
   "id": "7413dc2c",
   "metadata": {},
   "outputs": [],
   "source": [
    "## Obtaining file paths\n",
    "with open(\"config/data-params.json\") as fh:\n",
    "    file_paths = json.load(fh)"
   ]
  },
  {
   "cell_type": "code",
   "execution_count": 6,
   "id": "18be6564",
   "metadata": {},
   "outputs": [
    {
     "name": "stderr",
     "output_type": "stream",
     "text": [
      "/home/rherlim/DSC180-Q2-Project/src/data/make_dataset.py:29: DtypeWarning: Columns (1,2,3,4,6,7,8,10,11,12,13,14,17,18,19,20,25,26,27,29,30,31,32,33,34,35,36,37,38,40,41,42,43,44,45,46,55,56,57,61,62,63,64,65,66,67,69,70,71,72,73,75,76,78,80,82,83,84,85,86,87,88,89,90,91,92,95,98,99,102,103,104,105,106,107,108,109,111,119,121,122,123,124,125,126,127,128,129,130,131,132,133,134,136,138,139,141,142,143,144,145,146,147,148,152,153,155,156,157,160,164,165,168,169,170,172,173,174,175) have mixed types. Specify dtype option on import or set low_memory=False.\n",
      "  metadata = pd.read_csv(path, sep='\\t', index_col=0)\n"
     ]
    }
   ],
   "source": [
    "table = make_dataset.read_feature_table(file_paths[\"feature_table_path\"])\n",
    "metadata = make_dataset.read_metadata(file_paths[\"metadata_path\"])\n",
    "tree = make_dataset.read_tree_table(file_paths[\"tree_path\"])"
   ]
  },
  {
   "cell_type": "code",
   "execution_count": 7,
   "id": "b5d0213c",
   "metadata": {},
   "outputs": [
    {
     "name": "stdout",
     "output_type": "stream",
     "text": [
      "# Constructed from biom file\n",
      "#OTU ID\t11666.BLANK7.7B\t11666.BLANK5.5B\t11666.G0341A\t11666.BLANK3.3A\t11666.BLANK5.5E\n",
      "AACATAAGGGGCAAGCGTTGTCCGGAATCACTGGGCGTAAAGGGCGCGTAGGTGGTCTGTTAAGTCAGATGTGAAATGTAAGGGCTCAACCCTTAACGTGCATCTGATACTGGCAGACTTGAGTGCGGAAGAGGCAAGTGGAATTCCTAG\t0.0\t0.0\t0.0\t0.0\t0.0\n",
      "AACATAGGGGGCAAGCGTTGCCCGGAATCACTGGGCGTAAAGGGCGCGTAGGTGGTCTGTTAAGTCAGATGTGAAATGTAAGGGCTCAACCCTTAACGTGCATCTGATACTGGCAGACTTGAGTGCGGAAGAGGCAAGTGGAATTCCTAG\t0.0\t0.0\t0.0\t0.0\t0.0\n",
      "AACATAGGGGGCAAGCGTTGTCCGGAAACACTGGGCGTAAAGGGCGCGTAGGCGGTCTGTTAAGTCGGATGTGAAATGTAAGGGCTCAACCCTTAACGTGCATCTGATACTGGCAGACTTGAGTGCGGAAGAGGCAAGTGGAATTCCTAG\t0.0\t0.0\t0.0\t0.0\t0.0\n",
      "AACATAGGGGGCAAGCGTTGTCCGGAATCACTGGGCATAAAGGGCGCGTAGGTGGTTTGTTAAGTCAGATGTGAAATGTAGGGGCTCAACCCCTAACGTGCATCTGATACTGGCAGACTTGAGTGCGGAAGAGGCAAGTGGAATTCCTAG\t0.0\t0.0\t0.0\t0.0\t0.0\n",
      "AACATAGGGGGCAAGCGTTGTCCGGAATCACTGGGCGTAAAGAGCGCGTAGGTGGTCTGTTAAGTCAGATGTGAAATGTAAGGGCTCAACCCTTAACGTGCATCTGATACTGGCAGACTTGAGTGCGGAAGAGGCAAGTGGAATTCCTAG\t0.0\t0.0\t0.0\t0.0\t0.0\n"
     ]
    }
   ],
   "source": [
    "biom_table = table.view(biom.Table)\n",
    "print(biom_table.head())"
   ]
  },
  {
   "cell_type": "markdown",
   "id": "2c224977",
   "metadata": {},
   "source": [
    "## Load Metadata"
   ]
  },
  {
   "cell_type": "code",
   "execution_count": 11,
   "id": "1ec903b6",
   "metadata": {},
   "outputs": [
    {
     "data": {
      "text/html": [
       "<div>\n",
       "<style scoped>\n",
       "    .dataframe tbody tr th:only-of-type {\n",
       "        vertical-align: middle;\n",
       "    }\n",
       "\n",
       "    .dataframe tbody tr th {\n",
       "        vertical-align: top;\n",
       "    }\n",
       "\n",
       "    .dataframe thead th {\n",
       "        text-align: right;\n",
       "    }\n",
       "</style>\n",
       "<table border=\"1\" class=\"dataframe\">\n",
       "  <thead>\n",
       "    <tr style=\"text-align: right;\">\n",
       "      <th></th>\n",
       "      <th>abdominal_obesity_ncep_v2</th>\n",
       "      <th>ckd_v2</th>\n",
       "      <th>diabetes2_v2</th>\n",
       "      <th>hypertension2_v2</th>\n",
       "      <th>precvd_v2</th>\n",
       "      <th>elevated_bp_selfmeds_v2</th>\n",
       "      <th>dyslipidemia_v2</th>\n",
       "    </tr>\n",
       "    <tr>\n",
       "      <th>sample_name</th>\n",
       "      <th></th>\n",
       "      <th></th>\n",
       "      <th></th>\n",
       "      <th></th>\n",
       "      <th></th>\n",
       "      <th></th>\n",
       "      <th></th>\n",
       "    </tr>\n",
       "  </thead>\n",
       "  <tbody>\n",
       "    <tr>\n",
       "      <th>11666.G0001A</th>\n",
       "      <td>1.0</td>\n",
       "      <td>0.0</td>\n",
       "      <td>0.0</td>\n",
       "      <td>1.0</td>\n",
       "      <td>0.0</td>\n",
       "      <td>1.0</td>\n",
       "      <td>0.0</td>\n",
       "    </tr>\n",
       "    <tr>\n",
       "      <th>11666.G0002A</th>\n",
       "      <td>1.0</td>\n",
       "      <td>0.0</td>\n",
       "      <td>1.0</td>\n",
       "      <td>1.0</td>\n",
       "      <td>1.0</td>\n",
       "      <td>1.0</td>\n",
       "      <td>0.0</td>\n",
       "    </tr>\n",
       "    <tr>\n",
       "      <th>11666.G0003A</th>\n",
       "      <td>1.0</td>\n",
       "      <td>0.0</td>\n",
       "      <td>0.0</td>\n",
       "      <td>0.0</td>\n",
       "      <td>0.0</td>\n",
       "      <td>0.0</td>\n",
       "      <td>0.0</td>\n",
       "    </tr>\n",
       "    <tr>\n",
       "      <th>11666.G0004A</th>\n",
       "      <td>0.0</td>\n",
       "      <td>1.0</td>\n",
       "      <td>0.0</td>\n",
       "      <td>1.0</td>\n",
       "      <td>0.0</td>\n",
       "      <td>1.0</td>\n",
       "      <td>0.0</td>\n",
       "    </tr>\n",
       "    <tr>\n",
       "      <th>11666.G0005A</th>\n",
       "      <td>1.0</td>\n",
       "      <td>0.0</td>\n",
       "      <td>0.0</td>\n",
       "      <td>1.0</td>\n",
       "      <td>0.0</td>\n",
       "      <td>1.0</td>\n",
       "      <td>0.0</td>\n",
       "    </tr>\n",
       "    <tr>\n",
       "      <th>...</th>\n",
       "      <td>...</td>\n",
       "      <td>...</td>\n",
       "      <td>...</td>\n",
       "      <td>...</td>\n",
       "      <td>...</td>\n",
       "      <td>...</td>\n",
       "      <td>...</td>\n",
       "    </tr>\n",
       "    <tr>\n",
       "      <th>11666.G1777A</th>\n",
       "      <td>0.0</td>\n",
       "      <td>1.0</td>\n",
       "      <td>0.0</td>\n",
       "      <td>1.0</td>\n",
       "      <td>0.0</td>\n",
       "      <td>1.0</td>\n",
       "      <td>1.0</td>\n",
       "    </tr>\n",
       "    <tr>\n",
       "      <th>11666.G1778A</th>\n",
       "      <td>1.0</td>\n",
       "      <td>1.0</td>\n",
       "      <td>0.0</td>\n",
       "      <td>1.0</td>\n",
       "      <td>1.0</td>\n",
       "      <td>1.0</td>\n",
       "      <td>0.0</td>\n",
       "    </tr>\n",
       "    <tr>\n",
       "      <th>11666.G1779A</th>\n",
       "      <td>1.0</td>\n",
       "      <td>0.0</td>\n",
       "      <td>1.0</td>\n",
       "      <td>1.0</td>\n",
       "      <td>0.0</td>\n",
       "      <td>1.0</td>\n",
       "      <td>0.0</td>\n",
       "    </tr>\n",
       "    <tr>\n",
       "      <th>11666.G1780A</th>\n",
       "      <td>1.0</td>\n",
       "      <td>1.0</td>\n",
       "      <td>1.0</td>\n",
       "      <td>1.0</td>\n",
       "      <td>0.0</td>\n",
       "      <td>1.0</td>\n",
       "      <td>1.0</td>\n",
       "    </tr>\n",
       "    <tr>\n",
       "      <th>11666.G1781A</th>\n",
       "      <td>1.0</td>\n",
       "      <td>1.0</td>\n",
       "      <td>0.0</td>\n",
       "      <td>1.0</td>\n",
       "      <td>0.0</td>\n",
       "      <td>1.0</td>\n",
       "      <td>0.0</td>\n",
       "    </tr>\n",
       "  </tbody>\n",
       "</table>\n",
       "<p>1750 rows × 7 columns</p>\n",
       "</div>"
      ],
      "text/plain": [
       "              abdominal_obesity_ncep_v2  ckd_v2  diabetes2_v2  \\\n",
       "sample_name                                                     \n",
       "11666.G0001A                        1.0     0.0           0.0   \n",
       "11666.G0002A                        1.0     0.0           1.0   \n",
       "11666.G0003A                        1.0     0.0           0.0   \n",
       "11666.G0004A                        0.0     1.0           0.0   \n",
       "11666.G0005A                        1.0     0.0           0.0   \n",
       "...                                 ...     ...           ...   \n",
       "11666.G1777A                        0.0     1.0           0.0   \n",
       "11666.G1778A                        1.0     1.0           0.0   \n",
       "11666.G1779A                        1.0     0.0           1.0   \n",
       "11666.G1780A                        1.0     1.0           1.0   \n",
       "11666.G1781A                        1.0     1.0           0.0   \n",
       "\n",
       "              hypertension2_v2  precvd_v2  elevated_bp_selfmeds_v2  \\\n",
       "sample_name                                                          \n",
       "11666.G0001A               1.0        0.0                      1.0   \n",
       "11666.G0002A               1.0        1.0                      1.0   \n",
       "11666.G0003A               0.0        0.0                      0.0   \n",
       "11666.G0004A               1.0        0.0                      1.0   \n",
       "11666.G0005A               1.0        0.0                      1.0   \n",
       "...                        ...        ...                      ...   \n",
       "11666.G1777A               1.0        0.0                      1.0   \n",
       "11666.G1778A               1.0        1.0                      1.0   \n",
       "11666.G1779A               1.0        0.0                      1.0   \n",
       "11666.G1780A               1.0        0.0                      1.0   \n",
       "11666.G1781A               1.0        0.0                      1.0   \n",
       "\n",
       "              dyslipidemia_v2  \n",
       "sample_name                    \n",
       "11666.G0001A              0.0  \n",
       "11666.G0002A              0.0  \n",
       "11666.G0003A              0.0  \n",
       "11666.G0004A              0.0  \n",
       "11666.G0005A              0.0  \n",
       "...                       ...  \n",
       "11666.G1777A              1.0  \n",
       "11666.G1778A              0.0  \n",
       "11666.G1779A              0.0  \n",
       "11666.G1780A              1.0  \n",
       "11666.G1781A              0.0  \n",
       "\n",
       "[1750 rows x 7 columns]"
      ]
     },
     "execution_count": 11,
     "metadata": {},
     "output_type": "execute_result"
    }
   ],
   "source": [
    "qiime_metadata = Metadata.load(\"data/temp/final_metadata.tsv\") #Cleaned metadata\n",
    "qiime_metadata.to_dataframe()"
   ]
  },
  {
   "cell_type": "code",
   "execution_count": 12,
   "id": "0d1d7fd3",
   "metadata": {},
   "outputs": [
    {
     "data": {
      "text/plain": [
       "57241 x 1750 <class 'biom.table.Table'> with 343411 nonzero entries (0% dense)"
      ]
     },
     "execution_count": 12,
     "metadata": {},
     "output_type": "execute_result"
    }
   ],
   "source": [
    "#Filter feature table based on cleaned metadata\n",
    "updated_feature_table = filter_samples(table, metadata = qiime_metadata).filtered_table\n",
    "biom_table = updated_feature_table.view(biom.Table)\n",
    "biom_table #around 4000 rows was removed"
   ]
  },
  {
   "cell_type": "markdown",
   "id": "04bbd6de",
   "metadata": {},
   "source": [
    "## Feature Table Exploration"
   ]
  },
  {
   "cell_type": "markdown",
   "id": "ffa1778d",
   "metadata": {},
   "source": [
    "### The analyses below does NOT incorporate a phylogenetic tree for now"
   ]
  },
  {
   "cell_type": "code",
   "execution_count": 14,
   "id": "ca1f352e",
   "metadata": {},
   "outputs": [
    {
     "data": {
      "text/plain": [
       "'data/out/ft_summary.qzv'"
      ]
     },
     "execution_count": 14,
     "metadata": {},
     "output_type": "execute_result"
    }
   ],
   "source": [
    "summary = summarize(updated_feature_table, qiime_metadata)\n",
    "summary.visualization.save('data/out/ft_summary')"
   ]
  },
  {
   "cell_type": "markdown",
   "id": "1f20af0a",
   "metadata": {},
   "source": [
    "From the summary visualizations and statistics, we see that most features only appear in less than 3 samples, therefore we are going to drop the features that appear less than 3 times in order to reduce noise."
   ]
  },
  {
   "cell_type": "code",
   "execution_count": 15,
   "id": "a3b1b6be",
   "metadata": {},
   "outputs": [
    {
     "data": {
      "text/plain": [
       "(1750, 57241)"
      ]
     },
     "execution_count": 15,
     "metadata": {},
     "output_type": "execute_result"
    }
   ],
   "source": [
    "feat_table = updated_feature_table.view(pd.DataFrame)\n",
    "feat_table.shape"
   ]
  },
  {
   "cell_type": "code",
   "execution_count": 16,
   "id": "859fcf2d",
   "metadata": {},
   "outputs": [
    {
     "data": {
      "text/plain": [
       "'data/out/ft_summary_3.qzv'"
      ]
     },
     "execution_count": 16,
     "metadata": {},
     "output_type": "execute_result"
    }
   ],
   "source": [
    "#Drop the feature columns that appear in less than 3 samples\n",
    "feat_table_3 = feat_table[feat_table.columns[((feat_table > 0).sum() > 3)]]\n",
    "\n",
    "#Import DataFrame back into FeatureTable artifact and export the summary\n",
    "cleaned_feature_table = Artifact.import_data(\"FeatureTable[Frequency]\", feat_table_3)\n",
    "\n",
    "summary_cleaned = summarize(cleaned_feature_table, qiime_metadata)\n",
    "summary_cleaned.visualization.save('data/out/ft_summary_3')"
   ]
  },
  {
   "cell_type": "code",
   "execution_count": 17,
   "id": "99d4531b",
   "metadata": {},
   "outputs": [
    {
     "data": {
      "text/plain": [
       "(1750, 3988)"
      ]
     },
     "execution_count": 17,
     "metadata": {},
     "output_type": "execute_result"
    }
   ],
   "source": [
    "feat_table_3.shape\n"
   ]
  },
  {
   "cell_type": "code",
   "execution_count": 18,
   "id": "560ce95f",
   "metadata": {},
   "outputs": [
    {
     "data": {
      "text/plain": [
       "'data/out/ft_summary_10.qzv'"
      ]
     },
     "execution_count": 18,
     "metadata": {},
     "output_type": "execute_result"
    }
   ],
   "source": [
    "#Drop the feature columns that appear in less than 10 samples\n",
    "feat_table_10 = feat_table[feat_table.columns[((feat_table > 0).sum() > 10)]]\n",
    "\n",
    "#Import DataFrame back into FeatureTable artifact and export the summary\n",
    "cleaned_feature_table = Artifact.import_data(\"FeatureTable[Frequency]\", feat_table_10)\n",
    "\n",
    "summary_cleaned = summarize(cleaned_feature_table, qiime_metadata)\n",
    "summary_cleaned.visualization.save('data/out/ft_summary_10')"
   ]
  },
  {
   "cell_type": "code",
   "execution_count": 19,
   "id": "7d78a3b7",
   "metadata": {},
   "outputs": [
    {
     "data": {
      "text/plain": [
       "(1750, 2003)"
      ]
     },
     "execution_count": 19,
     "metadata": {},
     "output_type": "execute_result"
    }
   ],
   "source": [
    "feat_table_10.shape\n"
   ]
  },
  {
   "cell_type": "markdown",
   "id": "91c32db5",
   "metadata": {},
   "source": [
    "# Feature Table Metrics Analysis\n",
    "\n",
    "First figure out the feature table rarefication, save the plots generated by Qiime2 core_metrics, then create the following:\n",
    "1. Distance matrices: Unifrac distance matrix, Jaccard distance matrix, Bray Curtis distance matrix\n",
    "2. PCOA plots with the different distance matrices\n",
    "    - save the plots for visualization\n",
    "    \n",
    "    \n",
    "3. UMAP plots with the different distance matrices\n",
    "    - save the plots for visualization\n",
    "    \n",
    "    \n",
    "4. Finally follow up with a statistical test or regression\n",
    "    - Ex) PERMANOVA test on PCOA results\n",
    "    - Ex) Use the reduced dimension embeddings to feed into the regression model"
   ]
  },
  {
   "cell_type": "markdown",
   "id": "9e31d222",
   "metadata": {},
   "source": [
    "With the information we gained from the summary, we decided to rarefy the table with a sampling depth of _7930_ we retained _12,489,750 (52.48%) features in 1575 (90.00%) samples_ at the specifed sampling depth. We made this decision to maximize the amount of features while preserving the amount of samples in our data."
   ]
  },
  {
   "cell_type": "code",
   "execution_count": 38,
   "id": "c5930c12",
   "metadata": {},
   "outputs": [
    {
     "name": "stderr",
     "output_type": "stream",
     "text": [
      "/home/rherlim/.local/lib/python3.8/site-packages/sklearn/metrics/pairwise.py:1765: DataConversionWarning: Data was converted to boolean for metric jaccard\n",
      "  warnings.warn(msg, DataConversionWarning)\n",
      "/opt/conda/envs/qiime2-2022.11/lib/python3.8/site-packages/skbio/stats/ordination/_principal_coordinate_analysis.py:143: RuntimeWarning: The result contains negative eigenvalues. Please compare their magnitude with the magnitude of some of the largest positive eigenvalues. If the negative ones are smaller, it's probably safe to ignore them, but if they are large in magnitude, the results won't be useful. See the Notes section for more details. The smallest eigenvalue is -0.06791122381142238 and the largest is 35.272230559808776.\n",
      "  warn(\n",
      "/opt/conda/envs/qiime2-2022.11/lib/python3.8/site-packages/skbio/stats/ordination/_principal_coordinate_analysis.py:143: RuntimeWarning: The result contains negative eigenvalues. Please compare their magnitude with the magnitude of some of the largest positive eigenvalues. If the negative ones are smaller, it's probably safe to ignore them, but if they are large in magnitude, the results won't be useful. See the Notes section for more details. The smallest eigenvalue is -2.177492209496474 and the largest is 125.24060675502388.\n",
      "  warn(\n"
     ]
    }
   ],
   "source": [
    "# Create the feature table metrics object\n",
    "\n",
    "feat_table = cleaned_feature_table\n",
    "depth = 7930\n",
    "metadata = qiime_metadata\n",
    "feature_table_metrics = metrics_analysis.extract_core_metrics(feat_table, depth, metadata)\n"
   ]
  },
  {
   "cell_type": "code",
   "execution_count": 39,
   "id": "e0b4934e",
   "metadata": {},
   "outputs": [],
   "source": [
    "# # Create the feature table metrics object with tree\n",
    "# feat_table = cleaned_feature_table\n",
    "# depth = 7930\n",
    "# metadata = qiime_metadata\n",
    "# # feature_table_metrics = core_metrics_phylogenetic(feat_table, tree, depth, metadata)\n",
    "\n"
   ]
  },
  {
   "cell_type": "code",
   "execution_count": 40,
   "id": "e874318d",
   "metadata": {},
   "outputs": [],
   "source": [
    "# from qiime2.plugins.diversity_lib.methods import unweighted_unifrac\n",
    "# '''\n",
    "# Parameters\n",
    "# ----------\n",
    "# table : FeatureTable[Frequency | RelativeFrequency | PresenceAbsence]\n",
    "#     The feature table containing the samples for which Unweighted Unifrac\n",
    "#     should be computed.\n",
    "# phylogeny : Phylogeny[Rooted]\n",
    "#     Phylogenetic tree containing tip identifiers that correspond to the\n",
    "#     feature identifiers in the table. This tree can contain tip ids that\n",
    "#     are not present in the table, but all feature ids in the table must be\n",
    "#     present in this tree.\n",
    "\n",
    "# '''\n",
    "# u_unifrac = unweighted_unifrac(feat_table, tree)\n",
    "# u_unifrac"
   ]
  },
  {
   "cell_type": "code",
   "execution_count": 41,
   "id": "7c700fdc",
   "metadata": {},
   "outputs": [],
   "source": [
    "# from qiime2.plugins.phylogeny.methods import filter_table\n",
    "\n",
    "# filtered_table_ = filter_table(feat_table, tree)\n",
    "# filtered_table_.filtered_table.view(pd.DataFrame)"
   ]
  },
  {
   "cell_type": "code",
   "execution_count": 42,
   "id": "c537f1a9",
   "metadata": {},
   "outputs": [
    {
     "data": {
      "text/plain": [
       "(1537, 2003)"
      ]
     },
     "execution_count": 42,
     "metadata": {},
     "output_type": "execute_result"
    }
   ],
   "source": [
    "#Exploration of the dataset\n",
    "# Print rarefied table\n",
    "rarefied_table = feature_table_metrics.rarefied_table\n",
    "rarefied_df = rarefied_table.view(pd.DataFrame)\n",
    "rarefied_df.shape #Rarefied table dropped some samples that are less than the n=7930 sampling depth"
   ]
  },
  {
   "cell_type": "code",
   "execution_count": 45,
   "id": "d56b9b48",
   "metadata": {},
   "outputs": [
    {
     "ename": "AttributeError",
     "evalue": "'Results' object has no attribute 'unweighted_unifrac_distance_matrix'",
     "output_type": "error",
     "traceback": [
      "\u001b[0;31m---------------------------------------------------------------------------\u001b[0m",
      "\u001b[0;31mAttributeError\u001b[0m                            Traceback (most recent call last)",
      "Cell \u001b[0;32mIn[45], line 2\u001b[0m\n\u001b[1;32m      1\u001b[0m \u001b[38;5;66;03m#Calculate Distance matrices\u001b[39;00m\n\u001b[0;32m----> 2\u001b[0m distance_matrices \u001b[38;5;241m=\u001b[39m \u001b[43mmetrics_analysis\u001b[49m\u001b[38;5;241;43m.\u001b[39;49m\u001b[43mextract_distance_matrices\u001b[49m\u001b[43m(\u001b[49m\u001b[43mfeature_table_metrics\u001b[49m\u001b[43m)\u001b[49m\n\u001b[1;32m      3\u001b[0m distance_matrices\n",
      "File \u001b[0;32m~/DSC180-Q2-Project/src/features/metrics_analysis.py:65\u001b[0m, in \u001b[0;36mextract_distance_matrices\u001b[0;34m(metrics)\u001b[0m\n\u001b[1;32m     63\u001b[0m jaccard_dis_matrix \u001b[38;5;241m=\u001b[39m metrics\u001b[38;5;241m.\u001b[39mjaccard_distance_matrix\n\u001b[1;32m     64\u001b[0m bc_dis_matrix \u001b[38;5;241m=\u001b[39m metrics\u001b[38;5;241m.\u001b[39mbray_curtis_distance_matrix\n\u001b[0;32m---> 65\u001b[0m u_unifrac_dis_matrix \u001b[38;5;241m=\u001b[39m \u001b[43mmetrics\u001b[49m\u001b[38;5;241;43m.\u001b[39;49m\u001b[43munweighted_unifrac_distance_matrix\u001b[49m\n\u001b[1;32m     66\u001b[0m w_unifrac_dis_matrix \u001b[38;5;241m=\u001b[39m metrics\u001b[38;5;241m.\u001b[39mweighted_unifrac_distance_matrix\n\u001b[1;32m     68\u001b[0m \u001b[38;5;28;01mreturn\u001b[39;00m u_unifrac_dis_matrix, w_unifrac_dis_matrix, jaccard_dis_matrix, bc_dis_matrix\n",
      "\u001b[0;31mAttributeError\u001b[0m: 'Results' object has no attribute 'unweighted_unifrac_distance_matrix'"
     ]
    }
   ],
   "source": [
    "#Calculate Distance matrices\n",
    "distance_matrices = metrics_analysis.extract_distance_matrices(feature_table_metrics)\n",
    "distance_matrices"
   ]
  },
  {
   "cell_type": "code",
   "execution_count": null,
   "id": "8fe0460c",
   "metadata": {},
   "outputs": [],
   "source": [
    "#Calculate the PCOA matrices\n",
    "pcoa_matrices = metrics_analysis.extract_pcoa_results(feature_table_metrics)\n",
    "pcoa_matrices"
   ]
  },
  {
   "cell_type": "code",
   "execution_count": null,
   "id": "5b3a221e",
   "metadata": {},
   "outputs": [],
   "source": [
    "#Calculate the Emperor visualization and output\n",
    "pcoa_emperor_plots = metrics_analysis.extract_pcoa_emperor_vis(feature_table_metrics)\n",
    "pcoa_emperor_plots"
   ]
  },
  {
   "cell_type": "code",
   "execution_count": 33,
   "id": "30ba55d8",
   "metadata": {},
   "outputs": [
    {
     "data": {
      "text/plain": [
       "<artifact: FeatureTable[Frequency] uuid: b84b901e-d02b-43c6-a6ea-5e05b363a478>"
      ]
     },
     "execution_count": 33,
     "metadata": {},
     "output_type": "execute_result"
    }
   ],
   "source": [
    "rarefied_table"
   ]
  },
  {
   "cell_type": "code",
   "execution_count": 48,
   "id": "88268684",
   "metadata": {},
   "outputs": [
    {
     "data": {
      "text/plain": [
       "'jc_pcoa_matrix.qza'"
      ]
     },
     "execution_count": 48,
     "metadata": {},
     "output_type": "execute_result"
    }
   ],
   "source": [
    "feature_table_metrics.jaccard_pcoa_results"
   ]
  },
  {
   "cell_type": "code",
   "execution_count": 53,
   "id": "2a1a4dd1",
   "metadata": {},
   "outputs": [],
   "source": [
    "def save_pcoa_outputs(metrics):\n",
    "    jac_pcoa = metrics.jaccard_pcoa_results\n",
    "    bc_pcoa = metrics.bray_curtis_pcoa_results\n",
    "    \n",
    "    jaccard_emperor = metrics.jaccard_emperor\n",
    "    bray_curtis_emperor = metrics.bray_curtis_emperor\n",
    "    \n",
    "    jac_pcoa.save('data/out/jac_pcoa_matrix')\n",
    "    bc_pcoa.save('data/out/bc_pcoa_matrix')\n",
    "    \n",
    "    jaccard_emperor.save('data/out/jac_pcoa_emp')\n",
    "    bray_curtis_emperor.save('data/out/bc_pcoa_emp')\n",
    "    \n",
    "    return\n",
    "\n",
    "save_pcoa_outputs(feature_table_metrics)"
   ]
  },
  {
   "cell_type": "code",
   "execution_count": null,
   "id": "25d1651e",
   "metadata": {},
   "outputs": [],
   "source": []
  }
 ],
 "metadata": {
  "kernelspec": {
   "display_name": "qiime2-2022.11",
   "language": "python",
   "name": "qiime2-2022.11"
  },
  "language_info": {
   "codemirror_mode": {
    "name": "ipython",
    "version": 3
   },
   "file_extension": ".py",
   "mimetype": "text/x-python",
   "name": "python",
   "nbconvert_exporter": "python",
   "pygments_lexer": "ipython3",
   "version": "3.8.15"
  }
 },
 "nbformat": 4,
 "nbformat_minor": 5
}
